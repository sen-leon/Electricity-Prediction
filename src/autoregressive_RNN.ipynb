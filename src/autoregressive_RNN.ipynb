{
 "cells": [
  {
   "cell_type": "markdown",
   "metadata": {},
   "source": [
    "# Autoregressive RNN with continuous input\n",
    "- This model is autoregressive, which means that the prediction of the last time step is the input of the current time step. This way the model can predict a varying number of steps into the future without retraining\n",
    "- Some features, like time and weather, are fed into the model from outside even during prediction phase so the model does not have to predict those by itself\n",
    "\n",
    "Based on: https://www.tensorflow.org/tutorials/structured_data/time_series"
   ]
  },
  {
   "cell_type": "code",
   "execution_count": 1,
   "metadata": {},
   "outputs": [],
   "source": [
    "import os\n",
    "import datetime\n",
    "\n",
    "import numpy as np\n",
    "import pandas as pd\n",
    "import seaborn as sns\n",
    "import matplotlib as mpl\n",
    "import matplotlib.pyplot as plt\n",
    "import tensorflow as tf\n",
    "import IPython\n",
    "import IPython.display\n",
    "\n",
    "sns.set_theme()"
   ]
  },
  {
   "cell_type": "markdown",
   "metadata": {},
   "source": [
    "### Import data"
   ]
  },
  {
   "cell_type": "code",
   "execution_count": 2,
   "metadata": {},
   "outputs": [
    {
     "data": {
      "text/html": [
       "<div>\n",
       "<style scoped>\n",
       "    .dataframe tbody tr th:only-of-type {\n",
       "        vertical-align: middle;\n",
       "    }\n",
       "\n",
       "    .dataframe tbody tr th {\n",
       "        vertical-align: top;\n",
       "    }\n",
       "\n",
       "    .dataframe thead th {\n",
       "        text-align: right;\n",
       "    }\n",
       "</style>\n",
       "<table border=\"1\" class=\"dataframe\">\n",
       "  <thead>\n",
       "    <tr style=\"text-align: right;\">\n",
       "      <th></th>\n",
       "      <th>prod_wind</th>\n",
       "      <th>prod_solar</th>\n",
       "      <th>day_sin</th>\n",
       "      <th>day_cos</th>\n",
       "      <th>year_sin</th>\n",
       "      <th>year_cos</th>\n",
       "      <th>solar_el</th>\n",
       "      <th>solar_el_clip</th>\n",
       "    </tr>\n",
       "    <tr>\n",
       "      <th>datetime</th>\n",
       "      <th></th>\n",
       "      <th></th>\n",
       "      <th></th>\n",
       "      <th></th>\n",
       "      <th></th>\n",
       "      <th></th>\n",
       "      <th></th>\n",
       "      <th></th>\n",
       "    </tr>\n",
       "  </thead>\n",
       "  <tbody>\n",
       "    <tr>\n",
       "      <th>2017-01-01 00:00:00+00:00</th>\n",
       "      <td>15498.0</td>\n",
       "      <td>0.0</td>\n",
       "      <td>2.504006e-13</td>\n",
       "      <td>1.000000</td>\n",
       "      <td>0.010364</td>\n",
       "      <td>0.999946</td>\n",
       "      <td>-60.908284</td>\n",
       "      <td>0.0</td>\n",
       "    </tr>\n",
       "    <tr>\n",
       "      <th>2017-01-01 01:00:00+00:00</th>\n",
       "      <td>15406.9</td>\n",
       "      <td>0.0</td>\n",
       "      <td>2.588190e-01</td>\n",
       "      <td>0.965926</td>\n",
       "      <td>0.011081</td>\n",
       "      <td>0.999939</td>\n",
       "      <td>-56.058615</td>\n",
       "      <td>0.0</td>\n",
       "    </tr>\n",
       "    <tr>\n",
       "      <th>2017-01-01 02:00:00+00:00</th>\n",
       "      <td>14922.3</td>\n",
       "      <td>0.0</td>\n",
       "      <td>5.000000e-01</td>\n",
       "      <td>0.866025</td>\n",
       "      <td>0.011798</td>\n",
       "      <td>0.999930</td>\n",
       "      <td>-48.554986</td>\n",
       "      <td>0.0</td>\n",
       "    </tr>\n",
       "    <tr>\n",
       "      <th>2017-01-01 03:00:00+00:00</th>\n",
       "      <td>15022.0</td>\n",
       "      <td>0.0</td>\n",
       "      <td>7.071068e-01</td>\n",
       "      <td>0.707107</td>\n",
       "      <td>0.012515</td>\n",
       "      <td>0.999922</td>\n",
       "      <td>-39.734647</td>\n",
       "      <td>0.0</td>\n",
       "    </tr>\n",
       "    <tr>\n",
       "      <th>2017-01-01 04:00:00+00:00</th>\n",
       "      <td>15234.0</td>\n",
       "      <td>0.0</td>\n",
       "      <td>8.660254e-01</td>\n",
       "      <td>0.500000</td>\n",
       "      <td>0.013231</td>\n",
       "      <td>0.999912</td>\n",
       "      <td>-30.400744</td>\n",
       "      <td>0.0</td>\n",
       "    </tr>\n",
       "  </tbody>\n",
       "</table>\n",
       "</div>"
      ],
      "text/plain": [
       "                           prod_wind  prod_solar       day_sin   day_cos  \\\n",
       "datetime                                                                   \n",
       "2017-01-01 00:00:00+00:00    15498.0         0.0  2.504006e-13  1.000000   \n",
       "2017-01-01 01:00:00+00:00    15406.9         0.0  2.588190e-01  0.965926   \n",
       "2017-01-01 02:00:00+00:00    14922.3         0.0  5.000000e-01  0.866025   \n",
       "2017-01-01 03:00:00+00:00    15022.0         0.0  7.071068e-01  0.707107   \n",
       "2017-01-01 04:00:00+00:00    15234.0         0.0  8.660254e-01  0.500000   \n",
       "\n",
       "                           year_sin  year_cos   solar_el  solar_el_clip  \n",
       "datetime                                                                 \n",
       "2017-01-01 00:00:00+00:00  0.010364  0.999946 -60.908284            0.0  \n",
       "2017-01-01 01:00:00+00:00  0.011081  0.999939 -56.058615            0.0  \n",
       "2017-01-01 02:00:00+00:00  0.011798  0.999930 -48.554986            0.0  \n",
       "2017-01-01 03:00:00+00:00  0.012515  0.999922 -39.734647            0.0  \n",
       "2017-01-01 04:00:00+00:00  0.013231  0.999912 -30.400744            0.0  "
      ]
     },
     "execution_count": 2,
     "metadata": {},
     "output_type": "execute_result"
    }
   ],
   "source": [
    "# df = pd.read_pickle(\"..\\data\\data_prepared.pkl\")\n",
    "df = pd.read_pickle(\"..\\data\\prepared\\electricity+time_2017-2021.pkl\")\n",
    "df.head()"
   ]
  },
  {
   "cell_type": "markdown",
   "metadata": {},
   "source": [
    "### Split the data\n",
    "- 70% training\n",
    "- 20% validation\n",
    "- 10% test"
   ]
  },
  {
   "cell_type": "code",
   "execution_count": 3,
   "metadata": {},
   "outputs": [],
   "source": [
    "n = len(df)\n",
    "df_train = df[0:int(n*0.7)]\n",
    "df_val = df[int(n*0.7):int(n*0.9)]\n",
    "df_test = df[int(n*0.9):]"
   ]
  },
  {
   "cell_type": "markdown",
   "metadata": {},
   "source": [
    "### Normalize the data"
   ]
  },
  {
   "cell_type": "code",
   "execution_count": 4,
   "metadata": {},
   "outputs": [],
   "source": [
    "from sklearn.preprocessing import RobustScaler, MinMaxScaler\n",
    "\n",
    "scaler = MinMaxScaler()\n",
    "# fit scaler to training data\n",
    "scaler.fit(df_train)\n",
    "# scale all sets according to train set, preserve data frames\n",
    "df_train = pd.DataFrame(scaler.transform(df_train),\n",
    "                        columns=df.columns, index=df_train.index)\n",
    "df_val = pd.DataFrame(scaler.transform(df_val),\n",
    "                        columns=df.columns, index=df_val.index)\n",
    "df_test = pd.DataFrame(scaler.transform(df_test),\n",
    "                        columns=df.columns, index=df_test.index)"
   ]
  },
  {
   "cell_type": "code",
   "execution_count": 5,
   "metadata": {},
   "outputs": [
    {
     "data": {
      "text/plain": [
       "8"
      ]
     },
     "execution_count": 5,
     "metadata": {},
     "output_type": "execute_result"
    }
   ],
   "source": [
    "len(df_train.columns)"
   ]
  },
  {
   "cell_type": "markdown",
   "metadata": {},
   "source": [
    "### Data Windowing\n",
    "#### 1. Indexes and offsets\n",
    "\n",
    "- Windows Generator that can create multiple inputs, one for the inputs that are only known in the past (power production) and one for inputs that are also known in the future (time and weather)"
   ]
  },
  {
   "cell_type": "code",
   "execution_count": 6,
   "metadata": {},
   "outputs": [],
   "source": [
    "class WindowGenerator():\n",
    "    def __init__(self, past_width, future_width,\n",
    "                 label_columns, precise_columns=None, forecast_columns=None,\n",
    "                 train_df=df_train, val_df=df_val, test_df=df_test):\n",
    "\n",
    "        # Store the raw data.\n",
    "        self.train_df = train_df\n",
    "        self.val_df = val_df\n",
    "        self.test_df = test_df\n",
    "\n",
    "        # Check if length of provided features match with data frame\n",
    "        num_columns = 0\n",
    "        num_columns += len(label_columns)\n",
    "        if precise_columns is not None:\n",
    "            num_columns += len(precise_columns)\n",
    "        if forecast_columns is not None:\n",
    "            num_columns += len(forecast_columns)\n",
    "        assert num_columns == len(train_df.columns), \\\n",
    "            \"Length of provided label, precise, and forecast features do not match data frame\"\n",
    "\n",
    "        # Work out the column indices\n",
    "        self.columns_indices = {name: i for i, name in\n",
    "                                enumerate(train_df.columns)}\n",
    "        self.label_columns = label_columns\n",
    "        self.label_columns_indices = {name: i for i, name in\n",
    "                                      enumerate(label_columns)}\n",
    "        self.precise_columns = precise_columns\n",
    "        self.forecast_columns = forecast_columns\n",
    "\n",
    "        # Work out the window parameters.\n",
    "        self.past_width = past_width\n",
    "        self.future_width = future_width\n",
    "\n",
    "        self.total_window_size = past_width + future_width\n",
    "\n",
    "        self.input_past_slice = slice(0, past_width)\n",
    "        self.input_past_indices = np.arange(self.total_window_size)[\n",
    "            self.input_past_slice]\n",
    "\n",
    "        self.input_future_slice = slice(self.past_width, -1)\n",
    "        self.input_future_indices = np.arange(self.total_window_size)[\n",
    "            self.input_future_slice]\n",
    "\n",
    "        self.label_slice = slice(self.past_width, None)\n",
    "        self.label_indices = np.arange(self.total_window_size)[\n",
    "            self.label_slice]\n",
    "\n",
    "    def __repr__(self):\n",
    "        return '\\n'.join([\n",
    "            f'Total window size:    {self.total_window_size}',\n",
    "            f'Input past indices:   {self.input_past_indices}',\n",
    "            f'Input future indices: {self.input_future_indices}',\n",
    "            f'Label indices:        {self.label_indices}',\n",
    "            f'Label column name(s): {self.label_columns}'])\n",
    "        # f'Precise column name(s):  {self.precise_columns}',\n",
    "        # f'Forecast column name(s): {self.forecast_columns}'])\n"
   ]
  },
  {
   "cell_type": "markdown",
   "metadata": {},
   "source": [
    "#### 2. Split"
   ]
  },
  {
   "cell_type": "code",
   "execution_count": 7,
   "metadata": {},
   "outputs": [],
   "source": [
    "def split_window(self, features):\n",
    "    # Past: All inputs are known\n",
    "    inputs_past = features[:, self.input_past_slice, :]\n",
    "\n",
    "    # Future: Only precise and forecast inputs are known\n",
    "    if self.precise_columns is None:\n",
    "        self.precise_columns = []\n",
    "    if self.forecast_columns is None:\n",
    "        self.forecast_columns = []\n",
    "    self.input_future_columns = self.precise_columns + self.forecast_columns\n",
    "\n",
    "    inputs_future = tf.stack(\n",
    "        [features[:, self.input_future_slice, self.columns_indices[name]]\n",
    "            for name in self.input_future_columns],\n",
    "        axis=-1)\n",
    "\n",
    "    labels = tf.stack(\n",
    "        [features[:, self.label_slice, self.columns_indices[name]]\n",
    "            for name in self.label_columns],\n",
    "        axis=-1)\n",
    "\n",
    "    # Slicing doesn't preserve static shape information, so set the shapes\n",
    "    # manually. This way the `tf.data.Datasets` are easier to inspect.\n",
    "    inputs_past.set_shape([None, self.past_width, None])\n",
    "    inputs_future.set_shape([None, self.future_width-1, None])\n",
    "    labels.set_shape([None, self.future_width, None])\n",
    "\n",
    "    # Return inputs and labels\n",
    "    # The past and future input tuple will be unpacked in the model.call() method\n",
    "    return (inputs_past, inputs_future), labels\n",
    "\n",
    "\n",
    "WindowGenerator.split_window = split_window\n"
   ]
  },
  {
   "cell_type": "markdown",
   "metadata": {},
   "source": [
    "#### 3. Plot"
   ]
  },
  {
   "cell_type": "code",
   "execution_count": 8,
   "metadata": {},
   "outputs": [],
   "source": [
    "def plot(self, model=None, plot_col=\"prod_solar\", max_subplots=3):\n",
    "    inputs, labels = self.example\n",
    "    (inputs_past, inputs_future) = inputs\n",
    "    plt.figure(figsize=(12, 8))\n",
    "    plot_col_index = self.columns_indices[plot_col]\n",
    "    max_n = min(max_subplots, len(inputs_past))\n",
    "    for n in range(max_n):\n",
    "        plt.subplot(max_n, 1, n+1)\n",
    "\n",
    "        # Plot past inputs\n",
    "        plt.plot(self.input_past_indices, inputs_past[n, :, plot_col_index],\n",
    "                 label='Inputs', marker='.', zorder=3)\n",
    "\n",
    "        label_col_index = self.label_columns_indices.get(plot_col, None)\n",
    "\n",
    "        # Add last point of past array to future arrays to connect lines\n",
    "        label_indices_plot = np.insert(\n",
    "            self.label_indices, 0, self.input_past_indices[-1])\n",
    "        labels_plot = np.insert(\n",
    "            labels[n, :, label_col_index], 0, inputs_past[n, :, plot_col_index][-1])\n",
    "\n",
    "        # Plot labels\n",
    "        plt.plot(label_indices_plot, labels_plot,\n",
    "                 'C2', label='Labels', marker='.', zorder=1)\n",
    "\n",
    "        # Plot prediction\n",
    "        if model is not None:\n",
    "            predictions_plot = (model(inputs))[n, :, label_col_index]\n",
    "            predictions_plot = np.insert(\n",
    "                predictions_plot, 0, inputs_past[n, :, plot_col_index][-1])\n",
    "            plt.plot(label_indices_plot, predictions_plot,\n",
    "                     'C1', label='Predictions', marker='.', zorder=2)\n",
    "\n",
    "        # x Ticks every 6 hours\n",
    "        plt.xticks(np.arange(self.input_past_indices[0], self.label_indices[-1]+2, 6))\n",
    "\n",
    "        plt.ylabel(f'{plot_col} [normed]')\n",
    "        if n == 0:\n",
    "            plt.legend()\n",
    "\n",
    "    plt.xlabel('Time [h]')\n",
    "\n",
    "\n",
    "WindowGenerator.plot = plot\n"
   ]
  },
  {
   "cell_type": "markdown",
   "metadata": {},
   "source": [
    "#### 4. Create `tf.data.Datasets`"
   ]
  },
  {
   "cell_type": "code",
   "execution_count": 9,
   "metadata": {},
   "outputs": [],
   "source": [
    "def make_dataset(self, data, shuffle=True):\n",
    "    data = np.array(data, dtype=np.float32)\n",
    "    ds = tf.keras.utils.timeseries_dataset_from_array(\n",
    "        data=data,\n",
    "        targets=None,\n",
    "        sequence_length=self.total_window_size,\n",
    "        sequence_stride=1,\n",
    "        shuffle=shuffle,\n",
    "        batch_size=32,)\n",
    "\n",
    "    ds = ds.map(self.split_window)\n",
    "\n",
    "    return ds\n",
    "\n",
    "\n",
    "WindowGenerator.make_dataset = make_dataset\n"
   ]
  },
  {
   "cell_type": "code",
   "execution_count": 10,
   "metadata": {},
   "outputs": [],
   "source": [
    "@property\n",
    "def train(self):\n",
    "    self._train = self.make_dataset(self.train_df)\n",
    "    return self._train\n",
    "\n",
    "# @train.setter\n",
    "# def train(self, value):\n",
    "#     self._train = value\n",
    "\n",
    "\n",
    "@property\n",
    "def val(self):\n",
    "    self._val = self.make_dataset(self.val_df)\n",
    "    return self._val\n",
    "\n",
    "# @val.setter\n",
    "# def val(self, value):\n",
    "#     self._val = value\n",
    "\n",
    "\n",
    "@property\n",
    "def test(self):\n",
    "    self._test = self.make_dataset(self.test_df)\n",
    "    return self._test\n",
    "\n",
    "# Setting of test property not allowed\n",
    "\n",
    "\n",
    "@property\n",
    "def example(self):\n",
    "    \"\"\"Get and cache an example batch of `inputs, labels` for plotting.\"\"\"\n",
    "    result = getattr(self, '_example', None)\n",
    "    if result is None:\n",
    "        # No example batch was found, so get one from the `.test` dataset\n",
    "        result = next(iter(self.test))\n",
    "        # And cache it for next time\n",
    "        self._example = result\n",
    "    return result\n",
    "\n",
    "WindowGenerator.train = train\n",
    "WindowGenerator.val = val\n",
    "WindowGenerator.test = test\n",
    "WindowGenerator.example = example\n"
   ]
  },
  {
   "cell_type": "markdown",
   "metadata": {},
   "source": [
    "## Window creation"
   ]
  },
  {
   "cell_type": "code",
   "execution_count": 11,
   "metadata": {},
   "outputs": [
    {
     "data": {
      "text/plain": [
       "Total window size:    36\n",
       "Input past indices:   [ 0  1  2  3  4  5  6  7  8  9 10 11 12 13 14 15 16 17 18 19 20 21 22 23]\n",
       "Input future indices: [24 25 26 27 28 29 30 31 32 33 34]\n",
       "Label indices:        [24 25 26 27 28 29 30 31 32 33 34 35]\n",
       "Label column name(s): ['prod_wind', 'prod_solar']"
      ]
     },
     "execution_count": 11,
     "metadata": {},
     "output_type": "execute_result"
    }
   ],
   "source": [
    "# Choose which features are only known for the past. These features will be predicted.\n",
    "prediction_features = ['prod_wind', 'prod_solar']\n",
    "num_predictions = len(prediction_features)\n",
    "\n",
    "# Choose which features are precisely known to the model at all time steps\n",
    "precise_features = ['day_sin', 'day_cos', 'year_sin',\n",
    "                    'year_cos', 'solar_el', 'solar_el_clip']\n",
    "\n",
    "# Choose which features are only imprecisely known to the model at future time steps\n",
    "# NOISE NOT YET IMPLEMENTED\n",
    "forecast_features = None\n",
    "\n",
    "PAST_STEPS = 24\n",
    "PREDICTION_STEPS = 12\n",
    "\n",
    "multi_window = WindowGenerator(\n",
    "    past_width=PAST_STEPS, future_width=PREDICTION_STEPS,\n",
    "    label_columns=prediction_features,\n",
    "    precise_columns=precise_features,\n",
    "    forecast_columns=forecast_features\n",
    ")\n",
    "\n",
    "multi_window\n"
   ]
  },
  {
   "cell_type": "markdown",
   "metadata": {},
   "source": [
    "Now, the `WindowGenerator` object gives access to the tf.data.Dataset objects, to easily iterate over the data.\n",
    "\n",
    "The `Dataset.element_spec` property tells the structure, data types, and shapes of the dataset elements."
   ]
  },
  {
   "cell_type": "code",
   "execution_count": 12,
   "metadata": {},
   "outputs": [
    {
     "data": {
      "text/plain": [
       "((TensorSpec(shape=(None, 24, 8), dtype=tf.float32, name=None),\n",
       "  TensorSpec(shape=(None, 11, 6), dtype=tf.float32, name=None)),\n",
       " TensorSpec(shape=(None, 12, 2), dtype=tf.float32, name=None))"
      ]
     },
     "execution_count": 12,
     "metadata": {},
     "output_type": "execute_result"
    }
   ],
   "source": [
    "multi_window.train.element_spec"
   ]
  },
  {
   "cell_type": "markdown",
   "metadata": {},
   "source": [
    "Iterating over a `Dataset` yields concrete batches:"
   ]
  },
  {
   "cell_type": "code",
   "execution_count": 13,
   "metadata": {},
   "outputs": [
    {
     "name": "stdout",
     "output_type": "stream",
     "text": [
      "Inputs past shape (batch, time, features): (32, 24, 8)\n",
      "Inputs fut. shape (batch, time, features): (32, 11, 6)\n",
      "Labels shape      (batch, time, features): (32, 12, 2)\n"
     ]
    }
   ],
   "source": [
    "for (example_inputs_past, example_inputs_future), example_labels in multi_window.train.take(1):\n",
    "  print(f'Inputs past shape (batch, time, features): {example_inputs_past.shape}')\n",
    "  print(f'Inputs fut. shape (batch, time, features): {example_inputs_future.shape}')\n",
    "  print(f'Labels shape      (batch, time, features): {example_labels.shape}')"
   ]
  },
  {
   "cell_type": "markdown",
   "metadata": {},
   "source": [
    "Plot an example window:"
   ]
  },
  {
   "cell_type": "code",
   "execution_count": 14,
   "metadata": {},
   "outputs": [
    {
     "data": {
      "image/png": "[encoded data removed]",
      "text/plain": [
       "<Figure size 864x576 with 3 Axes>"
      ]
     },
     "metadata": {
      "needs_background": "light"
     },
     "output_type": "display_data"
    }
   ],
   "source": [
    "multi_window.plot(plot_col=\"prod_solar\")\n",
    "# multi_window.plot(plot_col=\"prod_wind\")"
   ]
  },
  {
   "cell_type": "markdown",
   "metadata": {},
   "source": [
    "## Autoregressive LSTM\n",
    "The model predicts individual time steps that are fed back into itself, so that the model can produce output with a varying length.\n",
    "This is implemented in the custom model class `AutoRegressiveRNN`."
   ]
  },
  {
   "cell_type": "code",
   "execution_count": 15,
   "metadata": {},
   "outputs": [],
   "source": [
    "class AutoRegressiveRNN(tf.keras.Model):\n",
    "    def __init__(self, units: list, out_steps: int, rnn_type=\"LSTM\"):\n",
    "        super().__init__()\n",
    "        self.out_steps = out_steps\n",
    "        self.units = units\n",
    "        self.type = rnn_type\n",
    "        self.rnn_cells = []\n",
    "        self.rnn_layers = []\n",
    "        match rnn_type:\n",
    "            case \"LSTM\":\n",
    "                for unit in self.units:\n",
    "                    self.rnn_cells.append(tf.keras.layers.LSTMCell(unit))\n",
    "            case \"GRU\":\n",
    "                for unit in self.units:\n",
    "                    self.rnn_cells.append(tf.keras.layers.GRUCell(unit))\n",
    "            case other:\n",
    "                raise AssertionError(\"Unknown type\")\n",
    "        # Wrap the cells in an RNN to simplify the `warmup` method.\n",
    "        for i, rnn_cell in enumerate(self.rnn_cells):\n",
    "            # If last layer: Do not return sequences\n",
    "            if i == len(self.rnn_cells)-1:\n",
    "                self.rnn_layers.append(tf.keras.layers.RNN(\n",
    "                    rnn_cell, return_sequences=False, return_state=True))\n",
    "            else:\n",
    "                self.rnn_layers.append(tf.keras.layers.RNN(\n",
    "                    rnn_cell, return_sequences=True, return_state=True))\n",
    "        self.dense = tf.keras.layers.Dense(num_predictions)\n"
   ]
  },
  {
   "cell_type": "code",
   "execution_count": 16,
   "metadata": {},
   "outputs": [],
   "source": [
    "arlstm_model = AutoRegressiveRNN(units=[32], out_steps=PREDICTION_STEPS, rnn_type=\"LSTM\")\n"
   ]
  },
  {
   "cell_type": "markdown",
   "metadata": {},
   "source": [
    "#### Model warmup\n",
    "The warmup method initializes the model's internal state based on the full input from the past (power data, time and weather)"
   ]
  },
  {
   "cell_type": "code",
   "execution_count": 17,
   "metadata": {},
   "outputs": [],
   "source": [
    "def warmup(self, x):\n",
    "    # inputs.shape => (batch, time, features)\n",
    "    # x.shape => (batch, lstm_units)\n",
    "    states = []\n",
    "    for rnn_layer in self.rnn_layers:\n",
    "        x, *state = rnn_layer(x)\n",
    "        states.append(state)\n",
    "    # predictions.shape => (batch, features)\n",
    "    prediction = self.dense(x)\n",
    "    return prediction, states\n",
    "\n",
    "\n",
    "AutoRegressiveRNN.warmup = warmup\n"
   ]
  },
  {
   "cell_type": "markdown",
   "metadata": {},
   "source": [
    "This method returns a single time-step prediction and the internal state of the `LSTM`:"
   ]
  },
  {
   "cell_type": "code",
   "execution_count": 18,
   "metadata": {},
   "outputs": [
    {
     "data": {
      "text/plain": [
       "TensorShape([32, 2])"
      ]
     },
     "execution_count": 18,
     "metadata": {},
     "output_type": "execute_result"
    }
   ],
   "source": [
    "prediction, states = arlstm_model.warmup(multi_window.example[0][0])\n",
    "prediction.shape\n"
   ]
  },
  {
   "cell_type": "markdown",
   "metadata": {},
   "source": [
    "#### Model call\n",
    "A custom call is used to feed the model the full input from the past during warmup and then only the time and weather forecast during the prediction phase, where the model takes the prediction from the last time step to substitute the missing input."
   ]
  },
  {
   "cell_type": "code",
   "execution_count": 19,
   "metadata": {},
   "outputs": [],
   "source": [
    "def call(self, inputs, training=None):\n",
    "    # unpack the past and future inputs\n",
    "    inputs_past, inputs_future = inputs\n",
    "    # Use a TensorArray to capture dynamically unrolled outputs.\n",
    "    predictions = []\n",
    "    # Past phase: Initialize the RNN state\n",
    "    prediction, states = self.warmup(inputs_past)\n",
    "    # Insert the first prediction.\n",
    "    predictions.append(prediction)\n",
    "\n",
    "    # Future phase: Run the rest of the prediction steps\n",
    "    for n in range(self.out_steps-1):\n",
    "        # Select the known input at the current time step\n",
    "        input_future = inputs_future[:, n, :]\n",
    "        # Use the last prediction as unknown input and combine it with the known input\n",
    "        # x.shape => (batch, features)\n",
    "        x = tf.concat([prediction, input_future], axis=1)\n",
    "        # Execute one RNN step.\n",
    "        for i, rnn_cell in enumerate(self.rnn_cells):\n",
    "            x, states[i] = rnn_cell(x, states=states[i],\n",
    "                                    training=training)\n",
    "        # Convert the RNN output to a prediction.\n",
    "        prediction = self.dense(x)\n",
    "        # Add the prediction to the output.\n",
    "        predictions.append(prediction)\n",
    "\n",
    "    # predictions.shape => (time, batch, features)\n",
    "    predictions = tf.stack(predictions)\n",
    "    # predictions.shape => (batch, time, features)\n",
    "    predictions = tf.transpose(predictions, [1, 0, 2])\n",
    "    return predictions\n",
    "\n",
    "\n",
    "AutoRegressiveRNN.call = call\n"
   ]
  },
  {
   "cell_type": "markdown",
   "metadata": {},
   "source": [
    "Run on example input:"
   ]
  },
  {
   "cell_type": "code",
   "execution_count": 20,
   "metadata": {},
   "outputs": [
    {
     "name": "stdout",
     "output_type": "stream",
     "text": [
      "Output shape (batch, time, features):  (32, 12, 2)\n"
     ]
    }
   ],
   "source": [
    "print('Output shape (batch, time, features): ',\n",
    "      arlstm_model(multi_window.example[0]).shape)\n"
   ]
  },
  {
   "cell_type": "code",
   "execution_count": 21,
   "metadata": {},
   "outputs": [
    {
     "name": "stdout",
     "output_type": "stream",
     "text": [
      "Model: \"auto_regressive_rnn\"\n",
      "_________________________________________________________________\n",
      " Layer (type)                Output Shape              Param #   \n",
      "=================================================================\n",
      " lstm_cell (LSTMCell)        multiple                  5248      \n",
      "                                                                 \n",
      " rnn (RNN)                   multiple                  5248      \n",
      "                                                                 \n",
      " dense (Dense)               multiple                  66        \n",
      "                                                                 \n",
      "=================================================================\n",
      "Total params: 5,314\n",
      "Trainable params: 5,314\n",
      "Non-trainable params: 0\n",
      "_________________________________________________________________\n"
     ]
    }
   ],
   "source": [
    "arlstm_model.call(multi_window.example[0])\n",
    "arlstm_model.summary()\n"
   ]
  },
  {
   "cell_type": "markdown",
   "metadata": {},
   "source": [
    "#### Training procedure"
   ]
  },
  {
   "cell_type": "code",
   "execution_count": 22,
   "metadata": {},
   "outputs": [],
   "source": [
    "from tensorflow_addons.metrics.r_square import RSquare\n",
    "import os\n",
    "\n",
    "\n",
    "def check_for_weights(model, checkpoint_dir):\n",
    "    # Restore latest model weights, if available\n",
    "    checkpoints = [checkpoint_dir + \"/\" +\n",
    "                   name for name in os.listdir(checkpoint_dir)]\n",
    "    if checkpoints:\n",
    "        latest_checkpoint = max(checkpoints, key=os.path.getctime)\n",
    "        print(\"Restoring weights from\", latest_checkpoint)\n",
    "        model.load_weights(latest_checkpoint)\n",
    "        return\n",
    "    print(\"No saved weights found\")\n",
    "    return\n",
    "\n",
    "\n",
    "def compile_and_fit(model, window, epochs=100, save=False, stop_early=True, model_name=None, patience=10, verbose='auto'):\n",
    "    callbacks = []\n",
    "    if save:\n",
    "        assert model_name is not None, \"No model name provided\"\n",
    "        # Prepare directory to save model\n",
    "        checkpoint_dir = '../models/'+model_name\n",
    "        if not os.path.exists(checkpoint_dir):\n",
    "            os.makedirs(checkpoint_dir)\n",
    "        # Load weights\n",
    "        check_for_weights(model, checkpoint_dir)\n",
    "        model_checkpoint = tf.keras.callbacks.ModelCheckpoint(\n",
    "            filepath=checkpoint_dir + '/' + model_name + '_weights.ckpt',\n",
    "            save_weights_only=True,\n",
    "            monitor='val_loss',\n",
    "            mode='min',\n",
    "            save_best_only=True)\n",
    "        callbacks.append(model_checkpoint)\n",
    "\n",
    "    if stop_early:\n",
    "        early_stopping = tf.keras.callbacks.EarlyStopping(monitor='val_loss',\n",
    "                                                          patience=patience,\n",
    "                                                          mode='min',\n",
    "                                                          verbose=1,\n",
    "                                                          restore_best_weights=True)\n",
    "        callbacks.append(early_stopping)\n",
    "\n",
    "    model.compile(loss='mse', optimizer=tf.keras.optimizers.Adam(\n",
    "        learning_rate=5e-4), metrics=['mae', tf.keras.metrics.RootMeanSquaredError(name='rmse'), RSquare()])\n",
    "\n",
    "    history = model.fit(window.train, epochs=epochs,\n",
    "                        validation_data=window.val,\n",
    "                        callbacks=callbacks,\n",
    "                        verbose=verbose)\n",
    "    return history\n",
    "\n",
    "\n",
    "val_performance = {}\n",
    "test_performance = {}\n",
    "history = {}\n"
   ]
  },
  {
   "cell_type": "code",
   "execution_count": 23,
   "metadata": {},
   "outputs": [
    {
     "name": "stdout",
     "output_type": "stream",
     "text": [
      "Restoring weights from ../models/ARLSTM32/ARLSTM32_weights.h5\n",
      "Epoch 1/100\n",
      "958/958 - 7s - loss: 0.0052 - mae: 0.0447 - rmse: 0.0721 - r_square: 0.8866 - val_loss: 0.0062 - val_mae: 0.0482 - val_rmse: 0.0790 - val_r_square: 0.8693 - 7s/epoch - 7ms/step\n",
      "Epoch 2/100\n",
      "958/958 - 5s - loss: 0.0052 - mae: 0.0446 - rmse: 0.0720 - r_square: 0.8867 - val_loss: 0.0061 - val_mae: 0.0490 - val_rmse: 0.0779 - val_r_square: 0.8723 - 5s/epoch - 5ms/step\n",
      "Epoch 3/100\n",
      "958/958 - 5s - loss: 0.0052 - mae: 0.0445 - rmse: 0.0721 - r_square: 0.8866 - val_loss: 0.0063 - val_mae: 0.0505 - val_rmse: 0.0796 - val_r_square: 0.8668 - 5s/epoch - 5ms/step\n",
      "Epoch 4/100\n",
      "958/958 - 5s - loss: 0.0051 - mae: 0.0443 - rmse: 0.0717 - r_square: 0.8878 - val_loss: 0.0058 - val_mae: 0.0471 - val_rmse: 0.0763 - val_r_square: 0.8771 - 5s/epoch - 5ms/step\n",
      "Epoch 5/100\n",
      "958/958 - 5s - loss: 0.0051 - mae: 0.0443 - rmse: 0.0716 - r_square: 0.8882 - val_loss: 0.0059 - val_mae: 0.0466 - val_rmse: 0.0768 - val_r_square: 0.8756 - 5s/epoch - 5ms/step\n",
      "Epoch 6/100\n",
      "958/958 - 5s - loss: 0.0051 - mae: 0.0440 - rmse: 0.0713 - r_square: 0.8891 - val_loss: 0.0063 - val_mae: 0.0499 - val_rmse: 0.0792 - val_r_square: 0.8675 - 5s/epoch - 5ms/step\n",
      "Epoch 7/100\n",
      "958/958 - 5s - loss: 0.0051 - mae: 0.0440 - rmse: 0.0711 - r_square: 0.8895 - val_loss: 0.0062 - val_mae: 0.0477 - val_rmse: 0.0790 - val_r_square: 0.8682 - 5s/epoch - 5ms/step\n",
      "Epoch 8/100\n",
      "958/958 - 4s - loss: 0.0051 - mae: 0.0440 - rmse: 0.0713 - r_square: 0.8891 - val_loss: 0.0058 - val_mae: 0.0459 - val_rmse: 0.0760 - val_r_square: 0.8782 - 4s/epoch - 5ms/step\n",
      "Epoch 9/100\n",
      "958/958 - 5s - loss: 0.0051 - mae: 0.0439 - rmse: 0.0712 - r_square: 0.8892 - val_loss: 0.0058 - val_mae: 0.0464 - val_rmse: 0.0763 - val_r_square: 0.8779 - 5s/epoch - 5ms/step\n",
      "Epoch 10/100\n",
      "958/958 - 4s - loss: 0.0051 - mae: 0.0440 - rmse: 0.0713 - r_square: 0.8890 - val_loss: 0.0060 - val_mae: 0.0488 - val_rmse: 0.0774 - val_r_square: 0.8733 - 4s/epoch - 5ms/step\n",
      "Epoch 11/100\n",
      "958/958 - 4s - loss: 0.0050 - mae: 0.0438 - rmse: 0.0711 - r_square: 0.8898 - val_loss: 0.0057 - val_mae: 0.0457 - val_rmse: 0.0753 - val_r_square: 0.8806 - 4s/epoch - 5ms/step\n",
      "Epoch 12/100\n",
      "958/958 - 5s - loss: 0.0050 - mae: 0.0437 - rmse: 0.0709 - r_square: 0.8901 - val_loss: 0.0059 - val_mae: 0.0463 - val_rmse: 0.0765 - val_r_square: 0.8765 - 5s/epoch - 5ms/step\n",
      "Epoch 13/100\n",
      "958/958 - 4s - loss: 0.0051 - mae: 0.0438 - rmse: 0.0711 - r_square: 0.8896 - val_loss: 0.0058 - val_mae: 0.0466 - val_rmse: 0.0765 - val_r_square: 0.8767 - 4s/epoch - 5ms/step\n",
      "Epoch 14/100\n",
      "958/958 - 4s - loss: 0.0050 - mae: 0.0437 - rmse: 0.0708 - r_square: 0.8905 - val_loss: 0.0056 - val_mae: 0.0458 - val_rmse: 0.0747 - val_r_square: 0.8827 - 4s/epoch - 5ms/step\n",
      "Epoch 15/100\n",
      "958/958 - 5s - loss: 0.0050 - mae: 0.0436 - rmse: 0.0708 - r_square: 0.8905 - val_loss: 0.0070 - val_mae: 0.0526 - val_rmse: 0.0837 - val_r_square: 0.8517 - 5s/epoch - 5ms/step\n",
      "Epoch 16/100\n",
      "958/958 - 5s - loss: 0.0050 - mae: 0.0435 - rmse: 0.0706 - r_square: 0.8911 - val_loss: 0.0059 - val_mae: 0.0481 - val_rmse: 0.0767 - val_r_square: 0.8760 - 5s/epoch - 5ms/step\n",
      "Epoch 17/100\n",
      "958/958 - 5s - loss: 0.0050 - mae: 0.0435 - rmse: 0.0707 - r_square: 0.8908 - val_loss: 0.0056 - val_mae: 0.0458 - val_rmse: 0.0752 - val_r_square: 0.8810 - 5s/epoch - 5ms/step\n",
      "Epoch 18/100\n",
      "958/958 - 4s - loss: 0.0050 - mae: 0.0434 - rmse: 0.0706 - r_square: 0.8912 - val_loss: 0.0058 - val_mae: 0.0462 - val_rmse: 0.0759 - val_r_square: 0.8793 - 4s/epoch - 5ms/step\n",
      "Epoch 19/100\n",
      "958/958 - 4s - loss: 0.0050 - mae: 0.0433 - rmse: 0.0705 - r_square: 0.8915 - val_loss: 0.0057 - val_mae: 0.0466 - val_rmse: 0.0757 - val_r_square: 0.8792 - 4s/epoch - 5ms/step\n",
      "Epoch 20/100\n",
      "958/958 - 4s - loss: 0.0050 - mae: 0.0436 - rmse: 0.0708 - r_square: 0.8905 - val_loss: 0.0057 - val_mae: 0.0456 - val_rmse: 0.0754 - val_r_square: 0.8801 - 4s/epoch - 5ms/step\n",
      "Epoch 21/100\n",
      "958/958 - 4s - loss: 0.0049 - mae: 0.0432 - rmse: 0.0703 - r_square: 0.8920 - val_loss: 0.0056 - val_mae: 0.0460 - val_rmse: 0.0749 - val_r_square: 0.8819 - 4s/epoch - 5ms/step\n",
      "Epoch 22/100\n",
      "958/958 - 4s - loss: 0.0049 - mae: 0.0431 - rmse: 0.0701 - r_square: 0.8926 - val_loss: 0.0058 - val_mae: 0.0463 - val_rmse: 0.0763 - val_r_square: 0.8775 - 4s/epoch - 5ms/step\n",
      "Epoch 23/100\n",
      "958/958 - 4s - loss: 0.0049 - mae: 0.0432 - rmse: 0.0702 - r_square: 0.8923 - val_loss: 0.0058 - val_mae: 0.0475 - val_rmse: 0.0761 - val_r_square: 0.8778 - 4s/epoch - 5ms/step\n",
      "Epoch 24/100\n",
      "Restoring model weights from the end of the best epoch: 14.\n",
      "958/958 - 5s - loss: 0.0049 - mae: 0.0432 - rmse: 0.0703 - r_square: 0.8921 - val_loss: 0.0056 - val_mae: 0.0457 - val_rmse: 0.0748 - val_r_square: 0.8822 - 5s/epoch - 5ms/step\n",
      "Epoch 24: early stopping\n",
      "136/136 [==============================] - 0s 2ms/step - loss: 0.0055 - mae: 0.0443 - rmse: 0.0740 - r_square: 0.8734\n"
     ]
    }
   ],
   "source": [
    "model_name = 'ARLSTM 32'\n",
    "history[model_name] = compile_and_fit(arlstm_model, multi_window, save=True, model_name='ARLSTM32', verbose=2)\n",
    "# IPython.display.clear_output()\n",
    "\n",
    "val_performance[model_name] = arlstm_model.evaluate(multi_window.val, verbose=0)\n",
    "test_performance[model_name] = arlstm_model.evaluate(multi_window.test, verbose=1)\n"
   ]
  },
  {
   "cell_type": "code",
   "execution_count": 24,
   "metadata": {},
   "outputs": [
    {
     "data": {
      "image/png": "[encoded data removed]",
      "text/plain": [
       "<Figure size 864x576 with 3 Axes>"
      ]
     },
     "metadata": {
      "needs_background": "light"
     },
     "output_type": "display_data"
    }
   ],
   "source": [
    "multi_window.plot(arlstm_model, plot_col=\"prod_wind\")"
   ]
  },
  {
   "cell_type": "markdown",
   "metadata": {},
   "source": [
    "#### Plot Training Losses"
   ]
  },
  {
   "cell_type": "code",
   "execution_count": 25,
   "metadata": {},
   "outputs": [
    {
     "data": {
      "text/plain": [
       "dict_keys(['loss', 'mae', 'rmse', 'r_square', 'val_loss', 'val_mae', 'val_rmse', 'val_r_square'])"
      ]
     },
     "execution_count": 25,
     "metadata": {},
     "output_type": "execute_result"
    }
   ],
   "source": [
    "history['ARLSTM 32'].history.keys()"
   ]
  },
  {
   "cell_type": "code",
   "execution_count": 26,
   "metadata": {},
   "outputs": [],
   "source": [
    "def model_loss(history):\n",
    "    plt.figure(figsize=(8, 4))\n",
    "    plt.plot(history.history['loss'], label='Training loss (MSE)')\n",
    "    plt.plot(history.history['val_loss'], label='Validation loss (MSE)')\n",
    "    plt.plot(history.history['val_mae'], label='Validation MAE')\n",
    "    plt.xlabel('epochs')\n",
    "    plt.legend(loc='upper left')\n"
   ]
  },
  {
   "cell_type": "code",
   "execution_count": 27,
   "metadata": {},
   "outputs": [
    {
     "data": {
      "image/png": "[encoded data removed]",
      "text/plain": [
       "<Figure size 576x288 with 1 Axes>"
      ]
     },
     "metadata": {
      "needs_background": "light"
     },
     "output_type": "display_data"
    }
   ],
   "source": [
    "model_loss(history['ARLSTM 32'])"
   ]
  },
  {
   "cell_type": "markdown",
   "metadata": {},
   "source": [
    "## Autoregressive LSTM with Weather Data\n",
    "- RNN with one LSTM layer with 32 units\n",
    "\n",
    "Import weather data and add to data frame. Each pickle contains one weather parameter measured at multiple stations."
   ]
  },
  {
   "cell_type": "code",
   "execution_count": 28,
   "metadata": {},
   "outputs": [
    {
     "data": {
      "text/html": [
       "<div>\n",
       "<style scoped>\n",
       "    .dataframe tbody tr th:only-of-type {\n",
       "        vertical-align: middle;\n",
       "    }\n",
       "\n",
       "    .dataframe tbody tr th {\n",
       "        vertical-align: top;\n",
       "    }\n",
       "\n",
       "    .dataframe thead th {\n",
       "        text-align: right;\n",
       "    }\n",
       "</style>\n",
       "<table border=\"1\" class=\"dataframe\">\n",
       "  <thead>\n",
       "    <tr style=\"text-align: right;\">\n",
       "      <th></th>\n",
       "      <th>temp_00183</th>\n",
       "      <th>temp_00701</th>\n",
       "      <th>temp_00856</th>\n",
       "      <th>temp_00953</th>\n",
       "      <th>temp_00963</th>\n",
       "      <th>temp_01443</th>\n",
       "      <th>temp_01605</th>\n",
       "      <th>temp_01694</th>\n",
       "      <th>temp_03032</th>\n",
       "      <th>temp_03231</th>\n",
       "      <th>...</th>\n",
       "      <th>sun_00856</th>\n",
       "      <th>sun_00953</th>\n",
       "      <th>sun_00963</th>\n",
       "      <th>sun_01443</th>\n",
       "      <th>sun_01605</th>\n",
       "      <th>sun_01694</th>\n",
       "      <th>sun_03032</th>\n",
       "      <th>sun_03231</th>\n",
       "      <th>sun_04104</th>\n",
       "      <th>sun_04177</th>\n",
       "    </tr>\n",
       "  </thead>\n",
       "  <tbody>\n",
       "    <tr>\n",
       "      <th>2017-01-01 00:00:00+00:00</th>\n",
       "      <td>277.45</td>\n",
       "      <td>276.95</td>\n",
       "      <td>269.15</td>\n",
       "      <td>266.15</td>\n",
       "      <td>275.95</td>\n",
       "      <td>268.65</td>\n",
       "      <td>276.75</td>\n",
       "      <td>275.95</td>\n",
       "      <td>280.85</td>\n",
       "      <td>268.15</td>\n",
       "      <td>...</td>\n",
       "      <td>0.0</td>\n",
       "      <td>0.0</td>\n",
       "      <td>0.0</td>\n",
       "      <td>0.0</td>\n",
       "      <td>0.0</td>\n",
       "      <td>0.0</td>\n",
       "      <td>0.0</td>\n",
       "      <td>0.0</td>\n",
       "      <td>0.0</td>\n",
       "      <td>0.0</td>\n",
       "    </tr>\n",
       "    <tr>\n",
       "      <th>2017-01-01 01:00:00+00:00</th>\n",
       "      <td>277.65</td>\n",
       "      <td>277.05</td>\n",
       "      <td>268.85</td>\n",
       "      <td>265.45</td>\n",
       "      <td>276.15</td>\n",
       "      <td>268.25</td>\n",
       "      <td>276.45</td>\n",
       "      <td>276.15</td>\n",
       "      <td>280.95</td>\n",
       "      <td>267.95</td>\n",
       "      <td>...</td>\n",
       "      <td>0.0</td>\n",
       "      <td>0.0</td>\n",
       "      <td>0.0</td>\n",
       "      <td>0.0</td>\n",
       "      <td>0.0</td>\n",
       "      <td>0.0</td>\n",
       "      <td>0.0</td>\n",
       "      <td>0.0</td>\n",
       "      <td>0.0</td>\n",
       "      <td>0.0</td>\n",
       "    </tr>\n",
       "    <tr>\n",
       "      <th>2017-01-01 02:00:00+00:00</th>\n",
       "      <td>277.85</td>\n",
       "      <td>277.15</td>\n",
       "      <td>269.95</td>\n",
       "      <td>266.95</td>\n",
       "      <td>275.65</td>\n",
       "      <td>268.65</td>\n",
       "      <td>275.95</td>\n",
       "      <td>276.25</td>\n",
       "      <td>281.05</td>\n",
       "      <td>267.35</td>\n",
       "      <td>...</td>\n",
       "      <td>0.0</td>\n",
       "      <td>0.0</td>\n",
       "      <td>0.0</td>\n",
       "      <td>0.0</td>\n",
       "      <td>0.0</td>\n",
       "      <td>0.0</td>\n",
       "      <td>0.0</td>\n",
       "      <td>0.0</td>\n",
       "      <td>0.0</td>\n",
       "      <td>0.0</td>\n",
       "    </tr>\n",
       "    <tr>\n",
       "      <th>2017-01-01 03:00:00+00:00</th>\n",
       "      <td>277.85</td>\n",
       "      <td>277.25</td>\n",
       "      <td>269.25</td>\n",
       "      <td>266.35</td>\n",
       "      <td>274.55</td>\n",
       "      <td>268.55</td>\n",
       "      <td>276.45</td>\n",
       "      <td>276.35</td>\n",
       "      <td>281.05</td>\n",
       "      <td>266.95</td>\n",
       "      <td>...</td>\n",
       "      <td>0.0</td>\n",
       "      <td>0.0</td>\n",
       "      <td>0.0</td>\n",
       "      <td>0.0</td>\n",
       "      <td>0.0</td>\n",
       "      <td>0.0</td>\n",
       "      <td>0.0</td>\n",
       "      <td>0.0</td>\n",
       "      <td>0.0</td>\n",
       "      <td>0.0</td>\n",
       "    </tr>\n",
       "    <tr>\n",
       "      <th>2017-01-01 04:00:00+00:00</th>\n",
       "      <td>277.95</td>\n",
       "      <td>277.25</td>\n",
       "      <td>268.85</td>\n",
       "      <td>266.35</td>\n",
       "      <td>275.15</td>\n",
       "      <td>268.05</td>\n",
       "      <td>276.75</td>\n",
       "      <td>276.55</td>\n",
       "      <td>280.75</td>\n",
       "      <td>266.75</td>\n",
       "      <td>...</td>\n",
       "      <td>0.0</td>\n",
       "      <td>0.0</td>\n",
       "      <td>0.0</td>\n",
       "      <td>0.0</td>\n",
       "      <td>0.0</td>\n",
       "      <td>0.0</td>\n",
       "      <td>0.0</td>\n",
       "      <td>0.0</td>\n",
       "      <td>0.0</td>\n",
       "      <td>0.0</td>\n",
       "    </tr>\n",
       "  </tbody>\n",
       "</table>\n",
       "<p>5 rows × 60 columns</p>\n",
       "</div>"
      ],
      "text/plain": [
       "                           temp_00183  temp_00701  temp_00856  temp_00953  \\\n",
       "2017-01-01 00:00:00+00:00      277.45      276.95      269.15      266.15   \n",
       "2017-01-01 01:00:00+00:00      277.65      277.05      268.85      265.45   \n",
       "2017-01-01 02:00:00+00:00      277.85      277.15      269.95      266.95   \n",
       "2017-01-01 03:00:00+00:00      277.85      277.25      269.25      266.35   \n",
       "2017-01-01 04:00:00+00:00      277.95      277.25      268.85      266.35   \n",
       "\n",
       "                           temp_00963  temp_01443  temp_01605  temp_01694  \\\n",
       "2017-01-01 00:00:00+00:00      275.95      268.65      276.75      275.95   \n",
       "2017-01-01 01:00:00+00:00      276.15      268.25      276.45      276.15   \n",
       "2017-01-01 02:00:00+00:00      275.65      268.65      275.95      276.25   \n",
       "2017-01-01 03:00:00+00:00      274.55      268.55      276.45      276.35   \n",
       "2017-01-01 04:00:00+00:00      275.15      268.05      276.75      276.55   \n",
       "\n",
       "                           temp_03032  temp_03231  ...  sun_00856  sun_00953  \\\n",
       "2017-01-01 00:00:00+00:00      280.85      268.15  ...        0.0        0.0   \n",
       "2017-01-01 01:00:00+00:00      280.95      267.95  ...        0.0        0.0   \n",
       "2017-01-01 02:00:00+00:00      281.05      267.35  ...        0.0        0.0   \n",
       "2017-01-01 03:00:00+00:00      281.05      266.95  ...        0.0        0.0   \n",
       "2017-01-01 04:00:00+00:00      280.75      266.75  ...        0.0        0.0   \n",
       "\n",
       "                           sun_00963  sun_01443  sun_01605  sun_01694  \\\n",
       "2017-01-01 00:00:00+00:00        0.0        0.0        0.0        0.0   \n",
       "2017-01-01 01:00:00+00:00        0.0        0.0        0.0        0.0   \n",
       "2017-01-01 02:00:00+00:00        0.0        0.0        0.0        0.0   \n",
       "2017-01-01 03:00:00+00:00        0.0        0.0        0.0        0.0   \n",
       "2017-01-01 04:00:00+00:00        0.0        0.0        0.0        0.0   \n",
       "\n",
       "                           sun_03032  sun_03231  sun_04104  sun_04177  \n",
       "2017-01-01 00:00:00+00:00        0.0        0.0        0.0        0.0  \n",
       "2017-01-01 01:00:00+00:00        0.0        0.0        0.0        0.0  \n",
       "2017-01-01 02:00:00+00:00        0.0        0.0        0.0        0.0  \n",
       "2017-01-01 03:00:00+00:00        0.0        0.0        0.0        0.0  \n",
       "2017-01-01 04:00:00+00:00        0.0        0.0        0.0        0.0  \n",
       "\n",
       "[5 rows x 60 columns]"
      ]
     },
     "execution_count": 28,
     "metadata": {},
     "output_type": "execute_result"
    }
   ],
   "source": [
    "# Features that will be extracted from the weather data and their shorter handle\n",
    "wx_params = {\n",
    "    \"temperature_air_mean_200\": \"temp\",\n",
    "    \"wind_speed\": \"wind\",\n",
    "    \"pressure_air_site\": \"press\",\n",
    "    \"precipitation_height\": \"precip\",\n",
    "    \"sunshine_duration\": \"sun\"\n",
    "}\n",
    "\n",
    "# Concatenate all weather parameters into one data frame\n",
    "wx_list = []\n",
    "for name, handle in wx_params.items():\n",
    "    wx_list.append(pd.read_pickle(\"../data/weather/cleaned/\"+name+\".pkl\").add_prefix(handle+\"_\"))\n",
    "\n",
    "wx = pd.concat(wx_list, axis=1, ignore_index=False, verify_integrity=True)\n",
    "wx.head()\n"
   ]
  },
  {
   "cell_type": "markdown",
   "metadata": {},
   "source": [
    "Combine weather data with previous Electricity Map and Time data frame, split and normalize:"
   ]
  },
  {
   "cell_type": "code",
   "execution_count": 29,
   "metadata": {},
   "outputs": [
    {
     "data": {
      "text/plain": [
       "68"
      ]
     },
     "execution_count": 29,
     "metadata": {},
     "output_type": "execute_result"
    }
   ],
   "source": [
    "df2 = pd.concat([df, wx], axis=1, ignore_index=False, verify_integrity=True)\n",
    "\n",
    "n = len(df2)\n",
    "df2_train = df2[0:int(n*0.7)]\n",
    "df2_val = df2[int(n*0.7):int(n*0.9)]\n",
    "df2_test = df2[int(n*0.9):]\n",
    "\n",
    "scaler2 = MinMaxScaler()\n",
    "# fit scaler to training data\n",
    "scaler2.fit(df2_train)\n",
    "# scale all sets according to train set, preserve data frames\n",
    "df2_train = pd.DataFrame(scaler2.transform(df2_train),\n",
    "                        columns=df2.columns, index=df2_train.index)\n",
    "df2_val = pd.DataFrame(scaler2.transform(df2_val),\n",
    "                        columns=df2.columns, index=df2_val.index)\n",
    "df2_test = pd.DataFrame(scaler2.transform(df2_test),\n",
    "                        columns=df2.columns, index=df2_test.index)\n",
    "\n",
    "len(df2_train.columns)"
   ]
  },
  {
   "cell_type": "markdown",
   "metadata": {},
   "source": [
    "Creating a new window that includes weather data:"
   ]
  },
  {
   "cell_type": "code",
   "execution_count": 30,
   "metadata": {},
   "outputs": [
    {
     "data": {
      "text/plain": [
       "Total window size:    36\n",
       "Input past indices:   [ 0  1  2  3  4  5  6  7  8  9 10 11 12 13 14 15 16 17 18 19 20 21 22 23]\n",
       "Input future indices: [24 25 26 27 28 29 30 31 32 33 34]\n",
       "Label indices:        [24 25 26 27 28 29 30 31 32 33 34 35]\n",
       "Label column name(s): ['prod_wind', 'prod_solar']"
      ]
     },
     "execution_count": 30,
     "metadata": {},
     "output_type": "execute_result"
    }
   ],
   "source": [
    "# Choose which features are only imprecisely known to the model at future time steps\n",
    "# NOISE NOT YET IMPLEMENTED\n",
    "forecast_features = list(wx.columns)\n",
    "# precise_features same as before\n",
    "# prediction_features same as before\n",
    "\n",
    "\n",
    "weather_window = WindowGenerator(\n",
    "    past_width=PAST_STEPS, future_width=PREDICTION_STEPS,\n",
    "    label_columns=prediction_features,\n",
    "    precise_columns=precise_features,\n",
    "    forecast_columns=forecast_features,\n",
    "    train_df=df2_train, val_df=df2_val, test_df=df2_test\n",
    ")\n",
    "\n",
    "weather_window\n"
   ]
  },
  {
   "cell_type": "markdown",
   "metadata": {},
   "source": [
    "Inspect the structure of the newly created `weather_window`:"
   ]
  },
  {
   "cell_type": "code",
   "execution_count": 31,
   "metadata": {},
   "outputs": [
    {
     "data": {
      "text/plain": [
       "((TensorSpec(shape=(None, 24, 68), dtype=tf.float32, name=None),\n",
       "  TensorSpec(shape=(None, 11, 66), dtype=tf.float32, name=None)),\n",
       " TensorSpec(shape=(None, 12, 2), dtype=tf.float32, name=None))"
      ]
     },
     "execution_count": 31,
     "metadata": {},
     "output_type": "execute_result"
    }
   ],
   "source": [
    "weather_window.train.element_spec"
   ]
  },
  {
   "cell_type": "markdown",
   "metadata": {},
   "source": [
    "Build model:"
   ]
  },
  {
   "cell_type": "code",
   "execution_count": 44,
   "metadata": {},
   "outputs": [
    {
     "name": "stdout",
     "output_type": "stream",
     "text": [
      "Output shape (batch, time, features):  (32, 12, 2)\n"
     ]
    }
   ],
   "source": [
    "arlstm32_wx_model = AutoRegressiveRNN(units=[32], out_steps=PREDICTION_STEPS, rnn_type=\"LSTM\")\n",
    "\n",
    "# Run on example input\n",
    "print('Output shape (batch, time, features): ',\n",
    "      arlstm_wx_model(weather_window.example[0]).shape)"
   ]
  },
  {
   "cell_type": "markdown",
   "metadata": {},
   "source": [
    "Train the model:"
   ]
  },
  {
   "cell_type": "code",
   "execution_count": 46,
   "metadata": {},
   "outputs": [
    {
     "name": "stdout",
     "output_type": "stream",
     "text": [
      "Restoring weights from ../models/ARLSTM32+wx/ARLSTM32+wx_weights.h5\n"
     ]
    },
    {
     "ename": "ValueError",
     "evalue": "Unable to load weights saved in HDF5 format into a subclassed Model which has not created its variables yet. Call the Model first, then load the weights.",
     "output_type": "error",
     "traceback": [
      "\u001b[1;31m---------------------------------------------------------------------------\u001b[0m",
      "\u001b[1;31mValueError\u001b[0m                                Traceback (most recent call last)",
      "\u001b[1;32mc:\\Users\\luisg\\OneDrive\\Dokumente\\02 Master LRT\\3. Semester MA\\Machine Learning\\ML Group Project\\Electricity-Prediction\\src\\autoregressive_RNN.ipynb Zelle 58\u001b[0m in \u001b[0;36m<cell line: 3>\u001b[1;34m()\u001b[0m\n\u001b[0;32m      <a href='vscode-notebook-cell:/c%3A/Users/luisg/OneDrive/Dokumente/02%20Master%20LRT/3.%20Semester%20MA/Machine%20Learning/ML%20Group%20Project/Electricity-Prediction/src/autoregressive_RNN.ipynb#Y514sZmlsZQ%3D%3D?line=0'>1</a>\u001b[0m model_name \u001b[39m=\u001b[39m \u001b[39m'\u001b[39m\u001b[39mARLSTM 32 + wx\u001b[39m\u001b[39m'\u001b[39m\n\u001b[1;32m----> <a href='vscode-notebook-cell:/c%3A/Users/luisg/OneDrive/Dokumente/02%20Master%20LRT/3.%20Semester%20MA/Machine%20Learning/ML%20Group%20Project/Electricity-Prediction/src/autoregressive_RNN.ipynb#Y514sZmlsZQ%3D%3D?line=2'>3</a>\u001b[0m history[model_name] \u001b[39m=\u001b[39m compile_and_fit(arlstm32_wx_model, weather_window,\n\u001b[0;32m      <a href='vscode-notebook-cell:/c%3A/Users/luisg/OneDrive/Dokumente/02%20Master%20LRT/3.%20Semester%20MA/Machine%20Learning/ML%20Group%20Project/Electricity-Prediction/src/autoregressive_RNN.ipynb#Y514sZmlsZQ%3D%3D?line=3'>4</a>\u001b[0m                                       save\u001b[39m=\u001b[39;49m\u001b[39mTrue\u001b[39;49;00m, model_name\u001b[39m=\u001b[39;49m\u001b[39m'\u001b[39;49m\u001b[39mARLSTM32+wx\u001b[39;49m\u001b[39m'\u001b[39;49m, verbose\u001b[39m=\u001b[39;49m\u001b[39m2\u001b[39;49m)\n\u001b[0;32m      <a href='vscode-notebook-cell:/c%3A/Users/luisg/OneDrive/Dokumente/02%20Master%20LRT/3.%20Semester%20MA/Machine%20Learning/ML%20Group%20Project/Electricity-Prediction/src/autoregressive_RNN.ipynb#Y514sZmlsZQ%3D%3D?line=4'>5</a>\u001b[0m \u001b[39m# IPython.display.clear_output()\u001b[39;00m\n\u001b[0;32m      <a href='vscode-notebook-cell:/c%3A/Users/luisg/OneDrive/Dokumente/02%20Master%20LRT/3.%20Semester%20MA/Machine%20Learning/ML%20Group%20Project/Electricity-Prediction/src/autoregressive_RNN.ipynb#Y514sZmlsZQ%3D%3D?line=6'>7</a>\u001b[0m val_performance[model_name] \u001b[39m=\u001b[39m arlstm32_wx_model\u001b[39m.\u001b[39mevaluate(\n\u001b[0;32m      <a href='vscode-notebook-cell:/c%3A/Users/luisg/OneDrive/Dokumente/02%20Master%20LRT/3.%20Semester%20MA/Machine%20Learning/ML%20Group%20Project/Electricity-Prediction/src/autoregressive_RNN.ipynb#Y514sZmlsZQ%3D%3D?line=7'>8</a>\u001b[0m     weather_window\u001b[39m.\u001b[39mval, verbose\u001b[39m=\u001b[39m\u001b[39m0\u001b[39m)\n",
      "\u001b[1;32mc:\\Users\\luisg\\OneDrive\\Dokumente\\02 Master LRT\\3. Semester MA\\Machine Learning\\ML Group Project\\Electricity-Prediction\\src\\autoregressive_RNN.ipynb Zelle 58\u001b[0m in \u001b[0;36mcompile_and_fit\u001b[1;34m(model, window, epochs, save, stop_early, model_name, patience, verbose)\u001b[0m\n\u001b[0;32m     <a href='vscode-notebook-cell:/c%3A/Users/luisg/OneDrive/Dokumente/02%20Master%20LRT/3.%20Semester%20MA/Machine%20Learning/ML%20Group%20Project/Electricity-Prediction/src/autoregressive_RNN.ipynb#Y514sZmlsZQ%3D%3D?line=24'>25</a>\u001b[0m     os\u001b[39m.\u001b[39mmakedirs(checkpoint_dir)\n\u001b[0;32m     <a href='vscode-notebook-cell:/c%3A/Users/luisg/OneDrive/Dokumente/02%20Master%20LRT/3.%20Semester%20MA/Machine%20Learning/ML%20Group%20Project/Electricity-Prediction/src/autoregressive_RNN.ipynb#Y514sZmlsZQ%3D%3D?line=25'>26</a>\u001b[0m \u001b[39m# Load weights\u001b[39;00m\n\u001b[1;32m---> <a href='vscode-notebook-cell:/c%3A/Users/luisg/OneDrive/Dokumente/02%20Master%20LRT/3.%20Semester%20MA/Machine%20Learning/ML%20Group%20Project/Electricity-Prediction/src/autoregressive_RNN.ipynb#Y514sZmlsZQ%3D%3D?line=26'>27</a>\u001b[0m check_for_weights(model, checkpoint_dir)\n\u001b[0;32m     <a href='vscode-notebook-cell:/c%3A/Users/luisg/OneDrive/Dokumente/02%20Master%20LRT/3.%20Semester%20MA/Machine%20Learning/ML%20Group%20Project/Electricity-Prediction/src/autoregressive_RNN.ipynb#Y514sZmlsZQ%3D%3D?line=27'>28</a>\u001b[0m model_checkpoint \u001b[39m=\u001b[39m tf\u001b[39m.\u001b[39mkeras\u001b[39m.\u001b[39mcallbacks\u001b[39m.\u001b[39mModelCheckpoint(\n\u001b[0;32m     <a href='vscode-notebook-cell:/c%3A/Users/luisg/OneDrive/Dokumente/02%20Master%20LRT/3.%20Semester%20MA/Machine%20Learning/ML%20Group%20Project/Electricity-Prediction/src/autoregressive_RNN.ipynb#Y514sZmlsZQ%3D%3D?line=28'>29</a>\u001b[0m     filepath\u001b[39m=\u001b[39mcheckpoint_dir \u001b[39m+\u001b[39m \u001b[39m'\u001b[39m\u001b[39m/\u001b[39m\u001b[39m'\u001b[39m \u001b[39m+\u001b[39m model_name \u001b[39m+\u001b[39m \u001b[39m'\u001b[39m\u001b[39m_weights.h5\u001b[39m\u001b[39m'\u001b[39m,\n\u001b[0;32m     <a href='vscode-notebook-cell:/c%3A/Users/luisg/OneDrive/Dokumente/02%20Master%20LRT/3.%20Semester%20MA/Machine%20Learning/ML%20Group%20Project/Electricity-Prediction/src/autoregressive_RNN.ipynb#Y514sZmlsZQ%3D%3D?line=29'>30</a>\u001b[0m     save_weights_only\u001b[39m=\u001b[39m\u001b[39mTrue\u001b[39;00m,\n\u001b[0;32m     <a href='vscode-notebook-cell:/c%3A/Users/luisg/OneDrive/Dokumente/02%20Master%20LRT/3.%20Semester%20MA/Machine%20Learning/ML%20Group%20Project/Electricity-Prediction/src/autoregressive_RNN.ipynb#Y514sZmlsZQ%3D%3D?line=30'>31</a>\u001b[0m     monitor\u001b[39m=\u001b[39m\u001b[39m'\u001b[39m\u001b[39mval_loss\u001b[39m\u001b[39m'\u001b[39m,\n\u001b[0;32m     <a href='vscode-notebook-cell:/c%3A/Users/luisg/OneDrive/Dokumente/02%20Master%20LRT/3.%20Semester%20MA/Machine%20Learning/ML%20Group%20Project/Electricity-Prediction/src/autoregressive_RNN.ipynb#Y514sZmlsZQ%3D%3D?line=31'>32</a>\u001b[0m     mode\u001b[39m=\u001b[39m\u001b[39m'\u001b[39m\u001b[39mmin\u001b[39m\u001b[39m'\u001b[39m,\n\u001b[0;32m     <a href='vscode-notebook-cell:/c%3A/Users/luisg/OneDrive/Dokumente/02%20Master%20LRT/3.%20Semester%20MA/Machine%20Learning/ML%20Group%20Project/Electricity-Prediction/src/autoregressive_RNN.ipynb#Y514sZmlsZQ%3D%3D?line=32'>33</a>\u001b[0m     save_best_only\u001b[39m=\u001b[39m\u001b[39mTrue\u001b[39;00m)\n\u001b[0;32m     <a href='vscode-notebook-cell:/c%3A/Users/luisg/OneDrive/Dokumente/02%20Master%20LRT/3.%20Semester%20MA/Machine%20Learning/ML%20Group%20Project/Electricity-Prediction/src/autoregressive_RNN.ipynb#Y514sZmlsZQ%3D%3D?line=33'>34</a>\u001b[0m callbacks\u001b[39m.\u001b[39mappend(model_checkpoint)\n",
      "\u001b[1;32mc:\\Users\\luisg\\OneDrive\\Dokumente\\02 Master LRT\\3. Semester MA\\Machine Learning\\ML Group Project\\Electricity-Prediction\\src\\autoregressive_RNN.ipynb Zelle 58\u001b[0m in \u001b[0;36mcheck_for_weights\u001b[1;34m(model, checkpoint_dir)\u001b[0m\n\u001b[0;32m     <a href='vscode-notebook-cell:/c%3A/Users/luisg/OneDrive/Dokumente/02%20Master%20LRT/3.%20Semester%20MA/Machine%20Learning/ML%20Group%20Project/Electricity-Prediction/src/autoregressive_RNN.ipynb#Y514sZmlsZQ%3D%3D?line=9'>10</a>\u001b[0m     latest_checkpoint \u001b[39m=\u001b[39m \u001b[39mmax\u001b[39m(checkpoints, key\u001b[39m=\u001b[39mos\u001b[39m.\u001b[39mpath\u001b[39m.\u001b[39mgetctime)\n\u001b[0;32m     <a href='vscode-notebook-cell:/c%3A/Users/luisg/OneDrive/Dokumente/02%20Master%20LRT/3.%20Semester%20MA/Machine%20Learning/ML%20Group%20Project/Electricity-Prediction/src/autoregressive_RNN.ipynb#Y514sZmlsZQ%3D%3D?line=10'>11</a>\u001b[0m     \u001b[39mprint\u001b[39m(\u001b[39m\"\u001b[39m\u001b[39mRestoring weights from\u001b[39m\u001b[39m\"\u001b[39m, latest_checkpoint)\n\u001b[1;32m---> <a href='vscode-notebook-cell:/c%3A/Users/luisg/OneDrive/Dokumente/02%20Master%20LRT/3.%20Semester%20MA/Machine%20Learning/ML%20Group%20Project/Electricity-Prediction/src/autoregressive_RNN.ipynb#Y514sZmlsZQ%3D%3D?line=11'>12</a>\u001b[0m     model\u001b[39m.\u001b[39;49mload_weights(latest_checkpoint)\n\u001b[0;32m     <a href='vscode-notebook-cell:/c%3A/Users/luisg/OneDrive/Dokumente/02%20Master%20LRT/3.%20Semester%20MA/Machine%20Learning/ML%20Group%20Project/Electricity-Prediction/src/autoregressive_RNN.ipynb#Y514sZmlsZQ%3D%3D?line=12'>13</a>\u001b[0m     \u001b[39mreturn\u001b[39;00m\n\u001b[0;32m     <a href='vscode-notebook-cell:/c%3A/Users/luisg/OneDrive/Dokumente/02%20Master%20LRT/3.%20Semester%20MA/Machine%20Learning/ML%20Group%20Project/Electricity-Prediction/src/autoregressive_RNN.ipynb#Y514sZmlsZQ%3D%3D?line=13'>14</a>\u001b[0m \u001b[39mprint\u001b[39m(\u001b[39m\"\u001b[39m\u001b[39mNo saved weights found\u001b[39m\u001b[39m\"\u001b[39m)\n",
      "File \u001b[1;32m~\\AppData\\Local\\Packages\\PythonSoftwareFoundation.Python.3.10_qbz5n2kfra8p0\\LocalCache\\local-packages\\Python310\\site-packages\\keras\\utils\\traceback_utils.py:67\u001b[0m, in \u001b[0;36mfilter_traceback.<locals>.error_handler\u001b[1;34m(*args, **kwargs)\u001b[0m\n\u001b[0;32m     65\u001b[0m \u001b[39mexcept\u001b[39;00m \u001b[39mException\u001b[39;00m \u001b[39mas\u001b[39;00m e:  \u001b[39m# pylint: disable=broad-except\u001b[39;00m\n\u001b[0;32m     66\u001b[0m   filtered_tb \u001b[39m=\u001b[39m _process_traceback_frames(e\u001b[39m.\u001b[39m__traceback__)\n\u001b[1;32m---> 67\u001b[0m   \u001b[39mraise\u001b[39;00m e\u001b[39m.\u001b[39mwith_traceback(filtered_tb) \u001b[39mfrom\u001b[39;00m \u001b[39mNone\u001b[39m\n\u001b[0;32m     68\u001b[0m \u001b[39mfinally\u001b[39;00m:\n\u001b[0;32m     69\u001b[0m   \u001b[39mdel\u001b[39;00m filtered_tb\n",
      "File \u001b[1;32m~\\AppData\\Local\\Packages\\PythonSoftwareFoundation.Python.3.10_qbz5n2kfra8p0\\LocalCache\\local-packages\\Python310\\site-packages\\keras\\engine\\training.py:2593\u001b[0m, in \u001b[0;36mModel.load_weights\u001b[1;34m(self, filepath, by_name, skip_mismatch, options)\u001b[0m\n\u001b[0;32m   2589\u001b[0m   \u001b[39mraise\u001b[39;00m \u001b[39mImportError\u001b[39;00m(\n\u001b[0;32m   2590\u001b[0m       \u001b[39m'\u001b[39m\u001b[39m`load_weights` requires h5py package when loading weights from \u001b[39m\u001b[39m'\u001b[39m\n\u001b[0;32m   2591\u001b[0m       \u001b[39m'\u001b[39m\u001b[39mHDF5. Try installing h5py.\u001b[39m\u001b[39m'\u001b[39m)\n\u001b[0;32m   2592\u001b[0m \u001b[39mif\u001b[39;00m \u001b[39mnot\u001b[39;00m \u001b[39mself\u001b[39m\u001b[39m.\u001b[39m_is_graph_network \u001b[39mand\u001b[39;00m \u001b[39mnot\u001b[39;00m \u001b[39mself\u001b[39m\u001b[39m.\u001b[39mbuilt:\n\u001b[1;32m-> 2593\u001b[0m   \u001b[39mraise\u001b[39;00m \u001b[39mValueError\u001b[39;00m(\n\u001b[0;32m   2594\u001b[0m       \u001b[39m'\u001b[39m\u001b[39mUnable to load weights saved in HDF5 format into a subclassed \u001b[39m\u001b[39m'\u001b[39m\n\u001b[0;32m   2595\u001b[0m       \u001b[39m'\u001b[39m\u001b[39mModel which has not created its variables yet. Call the Model \u001b[39m\u001b[39m'\u001b[39m\n\u001b[0;32m   2596\u001b[0m       \u001b[39m'\u001b[39m\u001b[39mfirst, then load the weights.\u001b[39m\u001b[39m'\u001b[39m)\n\u001b[0;32m   2597\u001b[0m \u001b[39mself\u001b[39m\u001b[39m.\u001b[39m_assert_weights_created()\n\u001b[0;32m   2598\u001b[0m \u001b[39mwith\u001b[39;00m h5py\u001b[39m.\u001b[39mFile(filepath, \u001b[39m'\u001b[39m\u001b[39mr\u001b[39m\u001b[39m'\u001b[39m) \u001b[39mas\u001b[39;00m f:\n",
      "\u001b[1;31mValueError\u001b[0m: Unable to load weights saved in HDF5 format into a subclassed Model which has not created its variables yet. Call the Model first, then load the weights."
     ]
    }
   ],
   "source": [
    "model_name = 'ARLSTM 32 + wx'\n",
    "\n",
    "history[model_name] = compile_and_fit(arlstm32_wx_model, weather_window,\n",
    "                                      save=True, model_name='ARLSTM32+wx', verbose=2)\n",
    "# IPython.display.clear_output()\n",
    "\n",
    "val_performance[model_name] = arlstm32_wx_model.evaluate(\n",
    "    weather_window.val, verbose=0)\n",
    "test_performance[model_name] = arlstm32_wx_model.evaluate(\n",
    "    weather_window.test, verbose=1)\n",
    "\n",
    "model_loss(history[model_name])\n"
   ]
  },
  {
   "cell_type": "code",
   "execution_count": null,
   "metadata": {},
   "outputs": [
    {
     "data": {
      "image/png": "[encoded data removed]",
      "text/plain": [
       "<Figure size 864x576 with 3 Axes>"
      ]
     },
     "metadata": {
      "needs_background": "light"
     },
     "output_type": "display_data"
    }
   ],
   "source": [
    "weather_window.plot(arlstm32_wx_model, plot_col=\"prod_wind\")"
   ]
  },
  {
   "cell_type": "markdown",
   "metadata": {},
   "source": [
    "## Autoregressive GRU with Weather Data\n",
    "- RNN with one GRU layer with 32 units\n",
    "\n",
    "Modify the `FeedBack` class:"
   ]
  },
  {
   "cell_type": "code",
   "execution_count": null,
   "metadata": {},
   "outputs": [
    {
     "name": "stdout",
     "output_type": "stream",
     "text": [
      "Restoring weights from ../models/ARGRU32+wx/ARGRU32+wx_weights.h5\n"
     ]
    },
    {
     "ename": "ValueError",
     "evalue": "Unable to load weights saved in HDF5 format into a subclassed Model which has not created its variables yet. Call the Model first, then load the weights.",
     "output_type": "error",
     "traceback": [
      "\u001b[1;31m---------------------------------------------------------------------------\u001b[0m",
      "\u001b[1;31mValueError\u001b[0m                                Traceback (most recent call last)",
      "\u001b[1;32mc:\\Users\\luisg\\OneDrive\\Dokumente\\02 Master LRT\\3. Semester MA\\Machine Learning\\ML Group Project\\Electricity-Prediction\\src\\autoregressive_RNN.ipynb Zelle 61\u001b[0m in \u001b[0;36m<cell line: 6>\u001b[1;34m()\u001b[0m\n\u001b[0;32m      <a href='vscode-notebook-cell:/c%3A/Users/luisg/OneDrive/Dokumente/02%20Master%20LRT/3.%20Semester%20MA/Machine%20Learning/ML%20Group%20Project/Electricity-Prediction/src/autoregressive_RNN.ipynb#Y521sZmlsZQ%3D%3D?line=0'>1</a>\u001b[0m model_name \u001b[39m=\u001b[39m \u001b[39m'\u001b[39m\u001b[39mARGRU 32 + wx\u001b[39m\u001b[39m'\u001b[39m\n\u001b[0;32m      <a href='vscode-notebook-cell:/c%3A/Users/luisg/OneDrive/Dokumente/02%20Master%20LRT/3.%20Semester%20MA/Machine%20Learning/ML%20Group%20Project/Electricity-Prediction/src/autoregressive_RNN.ipynb#Y521sZmlsZQ%3D%3D?line=2'>3</a>\u001b[0m argru32_wx_model \u001b[39m=\u001b[39m AutoRegressiveRNN(\n\u001b[0;32m      <a href='vscode-notebook-cell:/c%3A/Users/luisg/OneDrive/Dokumente/02%20Master%20LRT/3.%20Semester%20MA/Machine%20Learning/ML%20Group%20Project/Electricity-Prediction/src/autoregressive_RNN.ipynb#Y521sZmlsZQ%3D%3D?line=3'>4</a>\u001b[0m     units\u001b[39m=\u001b[39m[\u001b[39m32\u001b[39m], out_steps\u001b[39m=\u001b[39mPREDICTION_STEPS, rnn_type\u001b[39m=\u001b[39m\u001b[39m\"\u001b[39m\u001b[39mGRU\u001b[39m\u001b[39m\"\u001b[39m)\n\u001b[1;32m----> <a href='vscode-notebook-cell:/c%3A/Users/luisg/OneDrive/Dokumente/02%20Master%20LRT/3.%20Semester%20MA/Machine%20Learning/ML%20Group%20Project/Electricity-Prediction/src/autoregressive_RNN.ipynb#Y521sZmlsZQ%3D%3D?line=5'>6</a>\u001b[0m history[model_name] \u001b[39m=\u001b[39m compile_and_fit(argru32_wx_model, weather_window,\n\u001b[0;32m      <a href='vscode-notebook-cell:/c%3A/Users/luisg/OneDrive/Dokumente/02%20Master%20LRT/3.%20Semester%20MA/Machine%20Learning/ML%20Group%20Project/Electricity-Prediction/src/autoregressive_RNN.ipynb#Y521sZmlsZQ%3D%3D?line=6'>7</a>\u001b[0m                                       save\u001b[39m=\u001b[39;49m\u001b[39mTrue\u001b[39;49;00m, model_name\u001b[39m=\u001b[39;49m\u001b[39m'\u001b[39;49m\u001b[39mARGRU32+wx\u001b[39;49m\u001b[39m'\u001b[39;49m, verbose\u001b[39m=\u001b[39;49m\u001b[39m2\u001b[39;49m)\n\u001b[0;32m      <a href='vscode-notebook-cell:/c%3A/Users/luisg/OneDrive/Dokumente/02%20Master%20LRT/3.%20Semester%20MA/Machine%20Learning/ML%20Group%20Project/Electricity-Prediction/src/autoregressive_RNN.ipynb#Y521sZmlsZQ%3D%3D?line=7'>8</a>\u001b[0m \u001b[39m# IPython.display.clear_output()\u001b[39;00m\n\u001b[0;32m     <a href='vscode-notebook-cell:/c%3A/Users/luisg/OneDrive/Dokumente/02%20Master%20LRT/3.%20Semester%20MA/Machine%20Learning/ML%20Group%20Project/Electricity-Prediction/src/autoregressive_RNN.ipynb#Y521sZmlsZQ%3D%3D?line=9'>10</a>\u001b[0m val_performance[model_name] \u001b[39m=\u001b[39m argru32_wx_model\u001b[39m.\u001b[39mevaluate(\n\u001b[0;32m     <a href='vscode-notebook-cell:/c%3A/Users/luisg/OneDrive/Dokumente/02%20Master%20LRT/3.%20Semester%20MA/Machine%20Learning/ML%20Group%20Project/Electricity-Prediction/src/autoregressive_RNN.ipynb#Y521sZmlsZQ%3D%3D?line=10'>11</a>\u001b[0m     weather_window\u001b[39m.\u001b[39mval, verbose\u001b[39m=\u001b[39m\u001b[39m0\u001b[39m)\n",
      "\u001b[1;32mc:\\Users\\luisg\\OneDrive\\Dokumente\\02 Master LRT\\3. Semester MA\\Machine Learning\\ML Group Project\\Electricity-Prediction\\src\\autoregressive_RNN.ipynb Zelle 61\u001b[0m in \u001b[0;36mcompile_and_fit\u001b[1;34m(model, window, epochs, save, stop_early, model_name, patience, verbose)\u001b[0m\n\u001b[0;32m     <a href='vscode-notebook-cell:/c%3A/Users/luisg/OneDrive/Dokumente/02%20Master%20LRT/3.%20Semester%20MA/Machine%20Learning/ML%20Group%20Project/Electricity-Prediction/src/autoregressive_RNN.ipynb#Y521sZmlsZQ%3D%3D?line=24'>25</a>\u001b[0m     os\u001b[39m.\u001b[39mmakedirs(checkpoint_dir)\n\u001b[0;32m     <a href='vscode-notebook-cell:/c%3A/Users/luisg/OneDrive/Dokumente/02%20Master%20LRT/3.%20Semester%20MA/Machine%20Learning/ML%20Group%20Project/Electricity-Prediction/src/autoregressive_RNN.ipynb#Y521sZmlsZQ%3D%3D?line=25'>26</a>\u001b[0m \u001b[39m# Load weights\u001b[39;00m\n\u001b[1;32m---> <a href='vscode-notebook-cell:/c%3A/Users/luisg/OneDrive/Dokumente/02%20Master%20LRT/3.%20Semester%20MA/Machine%20Learning/ML%20Group%20Project/Electricity-Prediction/src/autoregressive_RNN.ipynb#Y521sZmlsZQ%3D%3D?line=26'>27</a>\u001b[0m check_for_weights(model, checkpoint_dir)\n\u001b[0;32m     <a href='vscode-notebook-cell:/c%3A/Users/luisg/OneDrive/Dokumente/02%20Master%20LRT/3.%20Semester%20MA/Machine%20Learning/ML%20Group%20Project/Electricity-Prediction/src/autoregressive_RNN.ipynb#Y521sZmlsZQ%3D%3D?line=27'>28</a>\u001b[0m model_checkpoint \u001b[39m=\u001b[39m tf\u001b[39m.\u001b[39mkeras\u001b[39m.\u001b[39mcallbacks\u001b[39m.\u001b[39mModelCheckpoint(\n\u001b[0;32m     <a href='vscode-notebook-cell:/c%3A/Users/luisg/OneDrive/Dokumente/02%20Master%20LRT/3.%20Semester%20MA/Machine%20Learning/ML%20Group%20Project/Electricity-Prediction/src/autoregressive_RNN.ipynb#Y521sZmlsZQ%3D%3D?line=28'>29</a>\u001b[0m     filepath\u001b[39m=\u001b[39mcheckpoint_dir \u001b[39m+\u001b[39m \u001b[39m'\u001b[39m\u001b[39m/\u001b[39m\u001b[39m'\u001b[39m \u001b[39m+\u001b[39m model_name \u001b[39m+\u001b[39m \u001b[39m'\u001b[39m\u001b[39m_weights.h5\u001b[39m\u001b[39m'\u001b[39m,\n\u001b[0;32m     <a href='vscode-notebook-cell:/c%3A/Users/luisg/OneDrive/Dokumente/02%20Master%20LRT/3.%20Semester%20MA/Machine%20Learning/ML%20Group%20Project/Electricity-Prediction/src/autoregressive_RNN.ipynb#Y521sZmlsZQ%3D%3D?line=29'>30</a>\u001b[0m     save_weights_only\u001b[39m=\u001b[39m\u001b[39mTrue\u001b[39;00m,\n\u001b[0;32m     <a href='vscode-notebook-cell:/c%3A/Users/luisg/OneDrive/Dokumente/02%20Master%20LRT/3.%20Semester%20MA/Machine%20Learning/ML%20Group%20Project/Electricity-Prediction/src/autoregressive_RNN.ipynb#Y521sZmlsZQ%3D%3D?line=30'>31</a>\u001b[0m     monitor\u001b[39m=\u001b[39m\u001b[39m'\u001b[39m\u001b[39mval_loss\u001b[39m\u001b[39m'\u001b[39m,\n\u001b[0;32m     <a href='vscode-notebook-cell:/c%3A/Users/luisg/OneDrive/Dokumente/02%20Master%20LRT/3.%20Semester%20MA/Machine%20Learning/ML%20Group%20Project/Electricity-Prediction/src/autoregressive_RNN.ipynb#Y521sZmlsZQ%3D%3D?line=31'>32</a>\u001b[0m     mode\u001b[39m=\u001b[39m\u001b[39m'\u001b[39m\u001b[39mmin\u001b[39m\u001b[39m'\u001b[39m,\n\u001b[0;32m     <a href='vscode-notebook-cell:/c%3A/Users/luisg/OneDrive/Dokumente/02%20Master%20LRT/3.%20Semester%20MA/Machine%20Learning/ML%20Group%20Project/Electricity-Prediction/src/autoregressive_RNN.ipynb#Y521sZmlsZQ%3D%3D?line=32'>33</a>\u001b[0m     save_best_only\u001b[39m=\u001b[39m\u001b[39mTrue\u001b[39;00m)\n\u001b[0;32m     <a href='vscode-notebook-cell:/c%3A/Users/luisg/OneDrive/Dokumente/02%20Master%20LRT/3.%20Semester%20MA/Machine%20Learning/ML%20Group%20Project/Electricity-Prediction/src/autoregressive_RNN.ipynb#Y521sZmlsZQ%3D%3D?line=33'>34</a>\u001b[0m callbacks\u001b[39m.\u001b[39mappend(model_checkpoint)\n",
      "\u001b[1;32mc:\\Users\\luisg\\OneDrive\\Dokumente\\02 Master LRT\\3. Semester MA\\Machine Learning\\ML Group Project\\Electricity-Prediction\\src\\autoregressive_RNN.ipynb Zelle 61\u001b[0m in \u001b[0;36mcheck_for_weights\u001b[1;34m(model, checkpoint_dir)\u001b[0m\n\u001b[0;32m     <a href='vscode-notebook-cell:/c%3A/Users/luisg/OneDrive/Dokumente/02%20Master%20LRT/3.%20Semester%20MA/Machine%20Learning/ML%20Group%20Project/Electricity-Prediction/src/autoregressive_RNN.ipynb#Y521sZmlsZQ%3D%3D?line=9'>10</a>\u001b[0m     latest_checkpoint \u001b[39m=\u001b[39m \u001b[39mmax\u001b[39m(checkpoints, key\u001b[39m=\u001b[39mos\u001b[39m.\u001b[39mpath\u001b[39m.\u001b[39mgetctime)\n\u001b[0;32m     <a href='vscode-notebook-cell:/c%3A/Users/luisg/OneDrive/Dokumente/02%20Master%20LRT/3.%20Semester%20MA/Machine%20Learning/ML%20Group%20Project/Electricity-Prediction/src/autoregressive_RNN.ipynb#Y521sZmlsZQ%3D%3D?line=10'>11</a>\u001b[0m     \u001b[39mprint\u001b[39m(\u001b[39m\"\u001b[39m\u001b[39mRestoring weights from\u001b[39m\u001b[39m\"\u001b[39m, latest_checkpoint)\n\u001b[1;32m---> <a href='vscode-notebook-cell:/c%3A/Users/luisg/OneDrive/Dokumente/02%20Master%20LRT/3.%20Semester%20MA/Machine%20Learning/ML%20Group%20Project/Electricity-Prediction/src/autoregressive_RNN.ipynb#Y521sZmlsZQ%3D%3D?line=11'>12</a>\u001b[0m     model\u001b[39m.\u001b[39;49mload_weights(latest_checkpoint)\n\u001b[0;32m     <a href='vscode-notebook-cell:/c%3A/Users/luisg/OneDrive/Dokumente/02%20Master%20LRT/3.%20Semester%20MA/Machine%20Learning/ML%20Group%20Project/Electricity-Prediction/src/autoregressive_RNN.ipynb#Y521sZmlsZQ%3D%3D?line=12'>13</a>\u001b[0m     \u001b[39mreturn\u001b[39;00m\n\u001b[0;32m     <a href='vscode-notebook-cell:/c%3A/Users/luisg/OneDrive/Dokumente/02%20Master%20LRT/3.%20Semester%20MA/Machine%20Learning/ML%20Group%20Project/Electricity-Prediction/src/autoregressive_RNN.ipynb#Y521sZmlsZQ%3D%3D?line=13'>14</a>\u001b[0m \u001b[39mprint\u001b[39m(\u001b[39m\"\u001b[39m\u001b[39mNo saved weights found\u001b[39m\u001b[39m\"\u001b[39m)\n",
      "File \u001b[1;32m~\\AppData\\Local\\Packages\\PythonSoftwareFoundation.Python.3.10_qbz5n2kfra8p0\\LocalCache\\local-packages\\Python310\\site-packages\\keras\\utils\\traceback_utils.py:67\u001b[0m, in \u001b[0;36mfilter_traceback.<locals>.error_handler\u001b[1;34m(*args, **kwargs)\u001b[0m\n\u001b[0;32m     65\u001b[0m \u001b[39mexcept\u001b[39;00m \u001b[39mException\u001b[39;00m \u001b[39mas\u001b[39;00m e:  \u001b[39m# pylint: disable=broad-except\u001b[39;00m\n\u001b[0;32m     66\u001b[0m   filtered_tb \u001b[39m=\u001b[39m _process_traceback_frames(e\u001b[39m.\u001b[39m__traceback__)\n\u001b[1;32m---> 67\u001b[0m   \u001b[39mraise\u001b[39;00m e\u001b[39m.\u001b[39mwith_traceback(filtered_tb) \u001b[39mfrom\u001b[39;00m \u001b[39mNone\u001b[39m\n\u001b[0;32m     68\u001b[0m \u001b[39mfinally\u001b[39;00m:\n\u001b[0;32m     69\u001b[0m   \u001b[39mdel\u001b[39;00m filtered_tb\n",
      "File \u001b[1;32m~\\AppData\\Local\\Packages\\PythonSoftwareFoundation.Python.3.10_qbz5n2kfra8p0\\LocalCache\\local-packages\\Python310\\site-packages\\keras\\engine\\training.py:2593\u001b[0m, in \u001b[0;36mModel.load_weights\u001b[1;34m(self, filepath, by_name, skip_mismatch, options)\u001b[0m\n\u001b[0;32m   2589\u001b[0m   \u001b[39mraise\u001b[39;00m \u001b[39mImportError\u001b[39;00m(\n\u001b[0;32m   2590\u001b[0m       \u001b[39m'\u001b[39m\u001b[39m`load_weights` requires h5py package when loading weights from \u001b[39m\u001b[39m'\u001b[39m\n\u001b[0;32m   2591\u001b[0m       \u001b[39m'\u001b[39m\u001b[39mHDF5. Try installing h5py.\u001b[39m\u001b[39m'\u001b[39m)\n\u001b[0;32m   2592\u001b[0m \u001b[39mif\u001b[39;00m \u001b[39mnot\u001b[39;00m \u001b[39mself\u001b[39m\u001b[39m.\u001b[39m_is_graph_network \u001b[39mand\u001b[39;00m \u001b[39mnot\u001b[39;00m \u001b[39mself\u001b[39m\u001b[39m.\u001b[39mbuilt:\n\u001b[1;32m-> 2593\u001b[0m   \u001b[39mraise\u001b[39;00m \u001b[39mValueError\u001b[39;00m(\n\u001b[0;32m   2594\u001b[0m       \u001b[39m'\u001b[39m\u001b[39mUnable to load weights saved in HDF5 format into a subclassed \u001b[39m\u001b[39m'\u001b[39m\n\u001b[0;32m   2595\u001b[0m       \u001b[39m'\u001b[39m\u001b[39mModel which has not created its variables yet. Call the Model \u001b[39m\u001b[39m'\u001b[39m\n\u001b[0;32m   2596\u001b[0m       \u001b[39m'\u001b[39m\u001b[39mfirst, then load the weights.\u001b[39m\u001b[39m'\u001b[39m)\n\u001b[0;32m   2597\u001b[0m \u001b[39mself\u001b[39m\u001b[39m.\u001b[39m_assert_weights_created()\n\u001b[0;32m   2598\u001b[0m \u001b[39mwith\u001b[39;00m h5py\u001b[39m.\u001b[39mFile(filepath, \u001b[39m'\u001b[39m\u001b[39mr\u001b[39m\u001b[39m'\u001b[39m) \u001b[39mas\u001b[39;00m f:\n",
      "\u001b[1;31mValueError\u001b[0m: Unable to load weights saved in HDF5 format into a subclassed Model which has not created its variables yet. Call the Model first, then load the weights."
     ]
    }
   ],
   "source": [
    "model_name = 'ARGRU 32 + wx'\n",
    "\n",
    "argru32_wx_model = AutoRegressiveRNN(\n",
    "    units=[32], out_steps=PREDICTION_STEPS, rnn_type=\"GRU\")\n",
    "\n",
    "history[model_name] = compile_and_fit(argru32_wx_model, weather_window,\n",
    "                                      save=True, model_name='ARGRU32+wx', verbose=2)\n",
    "# IPython.display.clear_output()\n",
    "\n",
    "val_performance[model_name] = argru32_wx_model.evaluate(\n",
    "    weather_window.val, verbose=0)\n",
    "test_performance[model_name] = argru32_wx_model.evaluate(\n",
    "    weather_window.test, verbose=1)\n",
    "\n",
    "model_loss(history[model_name])\n"
   ]
  },
  {
   "cell_type": "code",
   "execution_count": null,
   "metadata": {},
   "outputs": [
    {
     "data": {
      "image/png": "[encoded data removed]",
      "text/plain": [
       "<Figure size 864x576 with 3 Axes>"
      ]
     },
     "metadata": {
      "needs_background": "light"
     },
     "output_type": "display_data"
    }
   ],
   "source": [
    "weather_window.plot(argru_wx_model, plot_col=\"prod_wind\")"
   ]
  },
  {
   "cell_type": "markdown",
   "metadata": {},
   "source": [
    "## Bigger AR GRU with Weather Data\n",
    "Same inputs as previous model, more units (96 instead of 32)"
   ]
  },
  {
   "cell_type": "code",
   "execution_count": null,
   "metadata": {},
   "outputs": [
    {
     "name": "stdout",
     "output_type": "stream",
     "text": [
      "Restoring weights from ../models/ARGRU96+wx/ARGRU96+wx_weights.h5\n"
     ]
    },
    {
     "ename": "ValueError",
     "evalue": "Unable to load weights saved in HDF5 format into a subclassed Model which has not created its variables yet. Call the Model first, then load the weights.",
     "output_type": "error",
     "traceback": [
      "\u001b[1;31m---------------------------------------------------------------------------\u001b[0m",
      "\u001b[1;31mValueError\u001b[0m                                Traceback (most recent call last)",
      "\u001b[1;32mc:\\Users\\luisg\\OneDrive\\Dokumente\\02 Master LRT\\3. Semester MA\\Machine Learning\\ML Group Project\\Electricity-Prediction\\src\\autoregressive_RNN.ipynb Zelle 64\u001b[0m in \u001b[0;36m<cell line: 5>\u001b[1;34m()\u001b[0m\n\u001b[0;32m      <a href='vscode-notebook-cell:/c%3A/Users/luisg/OneDrive/Dokumente/02%20Master%20LRT/3.%20Semester%20MA/Machine%20Learning/ML%20Group%20Project/Electricity-Prediction/src/autoregressive_RNN.ipynb#Y524sZmlsZQ%3D%3D?line=0'>1</a>\u001b[0m model_name \u001b[39m=\u001b[39m \u001b[39m'\u001b[39m\u001b[39mARGRU 96 + wx\u001b[39m\u001b[39m'\u001b[39m\n\u001b[0;32m      <a href='vscode-notebook-cell:/c%3A/Users/luisg/OneDrive/Dokumente/02%20Master%20LRT/3.%20Semester%20MA/Machine%20Learning/ML%20Group%20Project/Electricity-Prediction/src/autoregressive_RNN.ipynb#Y524sZmlsZQ%3D%3D?line=2'>3</a>\u001b[0m argru96_wx_model \u001b[39m=\u001b[39m AutoRegressiveRNN(units\u001b[39m=\u001b[39m[\u001b[39m96\u001b[39m], out_steps\u001b[39m=\u001b[39mPREDICTION_STEPS, rnn_type\u001b[39m=\u001b[39m\u001b[39m\"\u001b[39m\u001b[39mGRU\u001b[39m\u001b[39m\"\u001b[39m)\n\u001b[1;32m----> <a href='vscode-notebook-cell:/c%3A/Users/luisg/OneDrive/Dokumente/02%20Master%20LRT/3.%20Semester%20MA/Machine%20Learning/ML%20Group%20Project/Electricity-Prediction/src/autoregressive_RNN.ipynb#Y524sZmlsZQ%3D%3D?line=4'>5</a>\u001b[0m history[model_name] \u001b[39m=\u001b[39m compile_and_fit(argru96_wx_model, weather_window,\n\u001b[0;32m      <a href='vscode-notebook-cell:/c%3A/Users/luisg/OneDrive/Dokumente/02%20Master%20LRT/3.%20Semester%20MA/Machine%20Learning/ML%20Group%20Project/Electricity-Prediction/src/autoregressive_RNN.ipynb#Y524sZmlsZQ%3D%3D?line=5'>6</a>\u001b[0m                                       save\u001b[39m=\u001b[39;49m\u001b[39mTrue\u001b[39;49;00m, model_name\u001b[39m=\u001b[39;49m\u001b[39m'\u001b[39;49m\u001b[39mARGRU96+wx\u001b[39;49m\u001b[39m'\u001b[39;49m, verbose\u001b[39m=\u001b[39;49m\u001b[39m2\u001b[39;49m)\n\u001b[0;32m      <a href='vscode-notebook-cell:/c%3A/Users/luisg/OneDrive/Dokumente/02%20Master%20LRT/3.%20Semester%20MA/Machine%20Learning/ML%20Group%20Project/Electricity-Prediction/src/autoregressive_RNN.ipynb#Y524sZmlsZQ%3D%3D?line=6'>7</a>\u001b[0m \u001b[39m# IPython.display.clear_output()\u001b[39;00m\n\u001b[0;32m      <a href='vscode-notebook-cell:/c%3A/Users/luisg/OneDrive/Dokumente/02%20Master%20LRT/3.%20Semester%20MA/Machine%20Learning/ML%20Group%20Project/Electricity-Prediction/src/autoregressive_RNN.ipynb#Y524sZmlsZQ%3D%3D?line=8'>9</a>\u001b[0m val_performance[model_name] \u001b[39m=\u001b[39m argru96_wx_model\u001b[39m.\u001b[39mevaluate(\n\u001b[0;32m     <a href='vscode-notebook-cell:/c%3A/Users/luisg/OneDrive/Dokumente/02%20Master%20LRT/3.%20Semester%20MA/Machine%20Learning/ML%20Group%20Project/Electricity-Prediction/src/autoregressive_RNN.ipynb#Y524sZmlsZQ%3D%3D?line=9'>10</a>\u001b[0m     weather_window\u001b[39m.\u001b[39mval, verbose\u001b[39m=\u001b[39m\u001b[39m0\u001b[39m)\n",
      "\u001b[1;32mc:\\Users\\luisg\\OneDrive\\Dokumente\\02 Master LRT\\3. Semester MA\\Machine Learning\\ML Group Project\\Electricity-Prediction\\src\\autoregressive_RNN.ipynb Zelle 64\u001b[0m in \u001b[0;36mcompile_and_fit\u001b[1;34m(model, window, epochs, save, stop_early, model_name, patience, verbose)\u001b[0m\n\u001b[0;32m     <a href='vscode-notebook-cell:/c%3A/Users/luisg/OneDrive/Dokumente/02%20Master%20LRT/3.%20Semester%20MA/Machine%20Learning/ML%20Group%20Project/Electricity-Prediction/src/autoregressive_RNN.ipynb#Y524sZmlsZQ%3D%3D?line=24'>25</a>\u001b[0m     os\u001b[39m.\u001b[39mmakedirs(checkpoint_dir)\n\u001b[0;32m     <a href='vscode-notebook-cell:/c%3A/Users/luisg/OneDrive/Dokumente/02%20Master%20LRT/3.%20Semester%20MA/Machine%20Learning/ML%20Group%20Project/Electricity-Prediction/src/autoregressive_RNN.ipynb#Y524sZmlsZQ%3D%3D?line=25'>26</a>\u001b[0m \u001b[39m# Load weights\u001b[39;00m\n\u001b[1;32m---> <a href='vscode-notebook-cell:/c%3A/Users/luisg/OneDrive/Dokumente/02%20Master%20LRT/3.%20Semester%20MA/Machine%20Learning/ML%20Group%20Project/Electricity-Prediction/src/autoregressive_RNN.ipynb#Y524sZmlsZQ%3D%3D?line=26'>27</a>\u001b[0m check_for_weights(model, checkpoint_dir)\n\u001b[0;32m     <a href='vscode-notebook-cell:/c%3A/Users/luisg/OneDrive/Dokumente/02%20Master%20LRT/3.%20Semester%20MA/Machine%20Learning/ML%20Group%20Project/Electricity-Prediction/src/autoregressive_RNN.ipynb#Y524sZmlsZQ%3D%3D?line=27'>28</a>\u001b[0m model_checkpoint \u001b[39m=\u001b[39m tf\u001b[39m.\u001b[39mkeras\u001b[39m.\u001b[39mcallbacks\u001b[39m.\u001b[39mModelCheckpoint(\n\u001b[0;32m     <a href='vscode-notebook-cell:/c%3A/Users/luisg/OneDrive/Dokumente/02%20Master%20LRT/3.%20Semester%20MA/Machine%20Learning/ML%20Group%20Project/Electricity-Prediction/src/autoregressive_RNN.ipynb#Y524sZmlsZQ%3D%3D?line=28'>29</a>\u001b[0m     filepath\u001b[39m=\u001b[39mcheckpoint_dir \u001b[39m+\u001b[39m \u001b[39m'\u001b[39m\u001b[39m/\u001b[39m\u001b[39m'\u001b[39m \u001b[39m+\u001b[39m model_name \u001b[39m+\u001b[39m \u001b[39m'\u001b[39m\u001b[39m_weights.h5\u001b[39m\u001b[39m'\u001b[39m,\n\u001b[0;32m     <a href='vscode-notebook-cell:/c%3A/Users/luisg/OneDrive/Dokumente/02%20Master%20LRT/3.%20Semester%20MA/Machine%20Learning/ML%20Group%20Project/Electricity-Prediction/src/autoregressive_RNN.ipynb#Y524sZmlsZQ%3D%3D?line=29'>30</a>\u001b[0m     save_weights_only\u001b[39m=\u001b[39m\u001b[39mTrue\u001b[39;00m,\n\u001b[0;32m     <a href='vscode-notebook-cell:/c%3A/Users/luisg/OneDrive/Dokumente/02%20Master%20LRT/3.%20Semester%20MA/Machine%20Learning/ML%20Group%20Project/Electricity-Prediction/src/autoregressive_RNN.ipynb#Y524sZmlsZQ%3D%3D?line=30'>31</a>\u001b[0m     monitor\u001b[39m=\u001b[39m\u001b[39m'\u001b[39m\u001b[39mval_loss\u001b[39m\u001b[39m'\u001b[39m,\n\u001b[0;32m     <a href='vscode-notebook-cell:/c%3A/Users/luisg/OneDrive/Dokumente/02%20Master%20LRT/3.%20Semester%20MA/Machine%20Learning/ML%20Group%20Project/Electricity-Prediction/src/autoregressive_RNN.ipynb#Y524sZmlsZQ%3D%3D?line=31'>32</a>\u001b[0m     mode\u001b[39m=\u001b[39m\u001b[39m'\u001b[39m\u001b[39mmin\u001b[39m\u001b[39m'\u001b[39m,\n\u001b[0;32m     <a href='vscode-notebook-cell:/c%3A/Users/luisg/OneDrive/Dokumente/02%20Master%20LRT/3.%20Semester%20MA/Machine%20Learning/ML%20Group%20Project/Electricity-Prediction/src/autoregressive_RNN.ipynb#Y524sZmlsZQ%3D%3D?line=32'>33</a>\u001b[0m     save_best_only\u001b[39m=\u001b[39m\u001b[39mTrue\u001b[39;00m)\n\u001b[0;32m     <a href='vscode-notebook-cell:/c%3A/Users/luisg/OneDrive/Dokumente/02%20Master%20LRT/3.%20Semester%20MA/Machine%20Learning/ML%20Group%20Project/Electricity-Prediction/src/autoregressive_RNN.ipynb#Y524sZmlsZQ%3D%3D?line=33'>34</a>\u001b[0m callbacks\u001b[39m.\u001b[39mappend(model_checkpoint)\n",
      "\u001b[1;32mc:\\Users\\luisg\\OneDrive\\Dokumente\\02 Master LRT\\3. Semester MA\\Machine Learning\\ML Group Project\\Electricity-Prediction\\src\\autoregressive_RNN.ipynb Zelle 64\u001b[0m in \u001b[0;36mcheck_for_weights\u001b[1;34m(model, checkpoint_dir)\u001b[0m\n\u001b[0;32m     <a href='vscode-notebook-cell:/c%3A/Users/luisg/OneDrive/Dokumente/02%20Master%20LRT/3.%20Semester%20MA/Machine%20Learning/ML%20Group%20Project/Electricity-Prediction/src/autoregressive_RNN.ipynb#Y524sZmlsZQ%3D%3D?line=9'>10</a>\u001b[0m     latest_checkpoint \u001b[39m=\u001b[39m \u001b[39mmax\u001b[39m(checkpoints, key\u001b[39m=\u001b[39mos\u001b[39m.\u001b[39mpath\u001b[39m.\u001b[39mgetctime)\n\u001b[0;32m     <a href='vscode-notebook-cell:/c%3A/Users/luisg/OneDrive/Dokumente/02%20Master%20LRT/3.%20Semester%20MA/Machine%20Learning/ML%20Group%20Project/Electricity-Prediction/src/autoregressive_RNN.ipynb#Y524sZmlsZQ%3D%3D?line=10'>11</a>\u001b[0m     \u001b[39mprint\u001b[39m(\u001b[39m\"\u001b[39m\u001b[39mRestoring weights from\u001b[39m\u001b[39m\"\u001b[39m, latest_checkpoint)\n\u001b[1;32m---> <a href='vscode-notebook-cell:/c%3A/Users/luisg/OneDrive/Dokumente/02%20Master%20LRT/3.%20Semester%20MA/Machine%20Learning/ML%20Group%20Project/Electricity-Prediction/src/autoregressive_RNN.ipynb#Y524sZmlsZQ%3D%3D?line=11'>12</a>\u001b[0m     model\u001b[39m.\u001b[39;49mload_weights(latest_checkpoint)\n\u001b[0;32m     <a href='vscode-notebook-cell:/c%3A/Users/luisg/OneDrive/Dokumente/02%20Master%20LRT/3.%20Semester%20MA/Machine%20Learning/ML%20Group%20Project/Electricity-Prediction/src/autoregressive_RNN.ipynb#Y524sZmlsZQ%3D%3D?line=12'>13</a>\u001b[0m     \u001b[39mreturn\u001b[39;00m\n\u001b[0;32m     <a href='vscode-notebook-cell:/c%3A/Users/luisg/OneDrive/Dokumente/02%20Master%20LRT/3.%20Semester%20MA/Machine%20Learning/ML%20Group%20Project/Electricity-Prediction/src/autoregressive_RNN.ipynb#Y524sZmlsZQ%3D%3D?line=13'>14</a>\u001b[0m \u001b[39mprint\u001b[39m(\u001b[39m\"\u001b[39m\u001b[39mNo saved weights found\u001b[39m\u001b[39m\"\u001b[39m)\n",
      "File \u001b[1;32m~\\AppData\\Local\\Packages\\PythonSoftwareFoundation.Python.3.10_qbz5n2kfra8p0\\LocalCache\\local-packages\\Python310\\site-packages\\keras\\utils\\traceback_utils.py:67\u001b[0m, in \u001b[0;36mfilter_traceback.<locals>.error_handler\u001b[1;34m(*args, **kwargs)\u001b[0m\n\u001b[0;32m     65\u001b[0m \u001b[39mexcept\u001b[39;00m \u001b[39mException\u001b[39;00m \u001b[39mas\u001b[39;00m e:  \u001b[39m# pylint: disable=broad-except\u001b[39;00m\n\u001b[0;32m     66\u001b[0m   filtered_tb \u001b[39m=\u001b[39m _process_traceback_frames(e\u001b[39m.\u001b[39m__traceback__)\n\u001b[1;32m---> 67\u001b[0m   \u001b[39mraise\u001b[39;00m e\u001b[39m.\u001b[39mwith_traceback(filtered_tb) \u001b[39mfrom\u001b[39;00m \u001b[39mNone\u001b[39m\n\u001b[0;32m     68\u001b[0m \u001b[39mfinally\u001b[39;00m:\n\u001b[0;32m     69\u001b[0m   \u001b[39mdel\u001b[39;00m filtered_tb\n",
      "File \u001b[1;32m~\\AppData\\Local\\Packages\\PythonSoftwareFoundation.Python.3.10_qbz5n2kfra8p0\\LocalCache\\local-packages\\Python310\\site-packages\\keras\\engine\\training.py:2593\u001b[0m, in \u001b[0;36mModel.load_weights\u001b[1;34m(self, filepath, by_name, skip_mismatch, options)\u001b[0m\n\u001b[0;32m   2589\u001b[0m   \u001b[39mraise\u001b[39;00m \u001b[39mImportError\u001b[39;00m(\n\u001b[0;32m   2590\u001b[0m       \u001b[39m'\u001b[39m\u001b[39m`load_weights` requires h5py package when loading weights from \u001b[39m\u001b[39m'\u001b[39m\n\u001b[0;32m   2591\u001b[0m       \u001b[39m'\u001b[39m\u001b[39mHDF5. Try installing h5py.\u001b[39m\u001b[39m'\u001b[39m)\n\u001b[0;32m   2592\u001b[0m \u001b[39mif\u001b[39;00m \u001b[39mnot\u001b[39;00m \u001b[39mself\u001b[39m\u001b[39m.\u001b[39m_is_graph_network \u001b[39mand\u001b[39;00m \u001b[39mnot\u001b[39;00m \u001b[39mself\u001b[39m\u001b[39m.\u001b[39mbuilt:\n\u001b[1;32m-> 2593\u001b[0m   \u001b[39mraise\u001b[39;00m \u001b[39mValueError\u001b[39;00m(\n\u001b[0;32m   2594\u001b[0m       \u001b[39m'\u001b[39m\u001b[39mUnable to load weights saved in HDF5 format into a subclassed \u001b[39m\u001b[39m'\u001b[39m\n\u001b[0;32m   2595\u001b[0m       \u001b[39m'\u001b[39m\u001b[39mModel which has not created its variables yet. Call the Model \u001b[39m\u001b[39m'\u001b[39m\n\u001b[0;32m   2596\u001b[0m       \u001b[39m'\u001b[39m\u001b[39mfirst, then load the weights.\u001b[39m\u001b[39m'\u001b[39m)\n\u001b[0;32m   2597\u001b[0m \u001b[39mself\u001b[39m\u001b[39m.\u001b[39m_assert_weights_created()\n\u001b[0;32m   2598\u001b[0m \u001b[39mwith\u001b[39;00m h5py\u001b[39m.\u001b[39mFile(filepath, \u001b[39m'\u001b[39m\u001b[39mr\u001b[39m\u001b[39m'\u001b[39m) \u001b[39mas\u001b[39;00m f:\n",
      "\u001b[1;31mValueError\u001b[0m: Unable to load weights saved in HDF5 format into a subclassed Model which has not created its variables yet. Call the Model first, then load the weights."
     ]
    }
   ],
   "source": [
    "model_name = 'ARGRU 96 + wx'\n",
    "\n",
    "argru96_wx_model = AutoRegressiveRNN(units=[96], out_steps=PREDICTION_STEPS, rnn_type=\"GRU\")\n",
    "\n",
    "history[model_name] = compile_and_fit(argru96_wx_model, weather_window,\n",
    "                                      save=True, model_name='ARGRU96+wx', verbose=2)\n",
    "# IPython.display.clear_output()\n",
    "\n",
    "val_performance[model_name] = argru96_wx_model.evaluate(\n",
    "    weather_window.val, verbose=0)\n",
    "test_performance[model_name] = argru96_wx_model.evaluate(\n",
    "    weather_window.test, verbose=1)\n",
    "\n",
    "model_loss(history[model_name])\n"
   ]
  },
  {
   "cell_type": "code",
   "execution_count": null,
   "metadata": {},
   "outputs": [],
   "source": [
    "weather_window.plot(argru96_wx_model, plot_col=\"prod_wind\")"
   ]
  },
  {
   "cell_type": "markdown",
   "metadata": {},
   "source": [
    "## Deep GRU\n",
    "- This GRU consists of three layers with 64 units each"
   ]
  },
  {
   "cell_type": "code",
   "execution_count": null,
   "metadata": {},
   "outputs": [],
   "source": [
    "model_name = 'ARGRU 3x32 + wx'\n",
    "\n",
    "stacked_model = AutoRegressiveRNN(units=[32, 32, 32], out_steps=PREDICTION_STEPS, rnn_type=\"GRU\")\n",
    "\n",
    "history[model_name] = compile_and_fit(stacked_model, weather_window,\n",
    "epochs=150, patience=20, save=True, model_name='ARGRU3x32+wx', verbose=2)\n",
    "# IPython.display.clear_output()\n",
    "\n",
    "val_performance[model_name] = stacked_model.evaluate(weather_window.val, verbose=0)\n",
    "test_performance[model_name] = stacked_model.evaluate(weather_window.test, verbose=1)\n",
    "\n",
    "model_loss(history[model_name])"
   ]
  },
  {
   "cell_type": "code",
   "execution_count": null,
   "metadata": {},
   "outputs": [],
   "source": [
    "weather_window.plot(stacked_model, plot_col=\"prod_wind\")"
   ]
  },
  {
   "cell_type": "markdown",
   "metadata": {},
   "source": [
    "#### Model Performance Comparison"
   ]
  },
  {
   "cell_type": "code",
   "execution_count": null,
   "metadata": {},
   "outputs": [],
   "source": [
    "x = np.arange(len(test_performance))\n",
    "width = 0.3\n",
    "\n",
    "rmse_index = arlstm_model.metrics_names.index('rmse')\n",
    "r2_index = arlstm_model.metrics_names.index('r_square')\n",
    "\n",
    "val_r2 = [v[r2_index] for v in val_performance.values()]\n",
    "test_r2 = [v[r2_index] for v in test_performance.values()]\n",
    "\n",
    "plt.bar(x - 0.17, val_r2, width, label='Validation')\n",
    "plt.bar(x + 0.17, test_r2, width, label='Test')\n",
    "plt.xticks(ticks=x, labels=test_performance.keys(),\n",
    "           rotation=45, ha='right')\n",
    "plt.ylabel('R² score (average over all outputs)')\n",
    "_ = plt.legend()\n"
   ]
  },
  {
   "cell_type": "code",
   "execution_count": null,
   "metadata": {},
   "outputs": [],
   "source": [
    "print(f'{\"Model on test set\":20s}   RMSE     R²')\n",
    "print('-------------------- ------ ------')\n",
    "for name, value in test_performance.items():\n",
    "    print(f'{name+\":\":20s} {value[rmse_index]:0.4f} {value[r2_index]:0.4f}')\n"
   ]
  },
  {
   "cell_type": "markdown",
   "metadata": {},
   "source": [
    "## Cross Validation\n",
    "\n",
    "- Validate the model with K-Folds cross validation: Split the data set into $k$ subsets and train the model $k-1$ times, while taking one subset as validation set and the other subsets as training set. Reset the model after each training and compare the scores afterwards\n",
    "\n",
    "Prototype the K-split on TF `Datasets`:"
   ]
  },
  {
   "cell_type": "code",
   "execution_count": null,
   "metadata": {},
   "outputs": [],
   "source": [
    "# Get indices of train and val data for every fold\n",
    "from sklearn.model_selection import KFold\n",
    "kf = KFold(3)\n",
    "kfold_indices = kf.split(range(20))\n",
    "ds = tf.data.Dataset.range(20)\n",
    "\n",
    "folds = []\n",
    "for i, (train_indices, val_indices) in enumerate(kfold_indices):\n",
    "    # Take val and train datasets\n",
    "    print(\"SK:\", train_indices, val_indices)\n",
    "    ds_val = ds.skip(val_indices[0]).take(len(val_indices))\n",
    "    ds_train = ds.skip(val_indices[-1]+1)\n",
    "    if train_indices[0] == 0:\n",
    "        ds_train = ds.take(val_indices[0]).concatenate(ds_train)\n",
    "    # Drop indices and shuffle\n",
    "    # ds_val = ds_val.map(lambda f, data: data)#.shuffle(buffer_size=1000)\n",
    "    # ds_train = ds_train.map(lambda f, data: data)#.shuffle(buffer_size=1000)\n",
    "    # print(ds_val.cardinality().numpy())\n",
    "    # print(ds_train.cardinality().numpy())\n",
    "    print(\"TF:\", np.array(list(ds_train.as_numpy_iterator())), np.array(list(ds_val.as_numpy_iterator())))\n",
    "    print(\"----------\")\n",
    "\n",
    "    # Map the datasets\n",
    "    folds.append((list(ds_train.as_numpy_iterator()), list(ds_val.as_numpy_iterator())))\n"
   ]
  },
  {
   "cell_type": "markdown",
   "metadata": {},
   "source": [
    "Looks good. Add a `k_fold` method to the `WindowGenerator`:"
   ]
  },
  {
   "cell_type": "code",
   "execution_count": null,
   "metadata": {},
   "outputs": [],
   "source": [
    "from sklearn.model_selection import KFold\n",
    "\n",
    "def k_fold(self, n_splits=5):\n",
    "    # Create chronological tf dataset of train data frame\n",
    "    ds = tf.keras.utils.timeseries_dataset_from_array(\n",
    "        data=np.array(self.train_df, dtype=np.float32),\n",
    "        targets=None,\n",
    "        sequence_length=self.total_window_size,\n",
    "        sequence_stride=1,\n",
    "        shuffle=False,\n",
    "        batch_size=32)\n",
    "\n",
    "    # Get indices of train and val data for every fold\n",
    "    kf = KFold(n_splits)\n",
    "    self.kfold_indices = kf.split(range(ds.cardinality().numpy()))\n",
    "\n",
    "    folds = []\n",
    "    for i, (train_indices, val_indices) in enumerate(self.kfold_indices):\n",
    "        # Take val and train datasets\n",
    "        ds_val = ds.skip(val_indices[0]).take(len(val_indices))\n",
    "        ds_train = ds.skip(val_indices[-1]+1)\n",
    "        if train_indices[0] == 0:\n",
    "            ds_train = ds.take(val_indices[0]).concatenate(ds_train)\n",
    "        # Shuffle\n",
    "        ds_val = ds_val.shuffle(buffer_size=1000)\n",
    "        ds_train = ds_train.shuffle(buffer_size=1000)\n",
    "        # Map the datasets\n",
    "        ds_val = ds_val.map(self.split_window)\n",
    "        ds_train = ds_train.map(self.split_window)\n",
    "        folds.append((ds_train, ds_val))\n",
    "    \n",
    "    return folds\n",
    "\n",
    "WindowGenerator.k_fold = k_fold"
   ]
  },
  {
   "cell_type": "markdown",
   "metadata": {},
   "source": [
    "Create a new dataframe and window:"
   ]
  },
  {
   "cell_type": "code",
   "execution_count": null,
   "metadata": {},
   "outputs": [],
   "source": [
    "# Cut the elec+time+weather data frame into train and test set\n",
    "# The val set will be created in the K-Fold loop\n",
    "n = len(df2)\n",
    "df3_train = df2[0:int(n*0.9)]\n",
    "df3_test = df2[int(n*0.9):]\n",
    "\n",
    "scaler3 = MinMaxScaler()\n",
    "# fit scaler to training data\n",
    "scaler3.fit(df3_train)\n",
    "# scale all sets according to train set, preserve data frames\n",
    "df3_train = pd.DataFrame(scaler3.transform(df3_train),\n",
    "                        columns=df2.columns, index=df3_train.index)\n",
    "df3_test = pd.DataFrame(scaler3.transform(df3_test),\n",
    "                        columns=df2.columns, index=df3_test.index)\n",
    "\n",
    "len(df3_train.columns)\n",
    "\n",
    "kf_window = WindowGenerator(\n",
    "    past_width=PAST_STEPS, future_width=PREDICTION_STEPS,\n",
    "    label_columns=prediction_features,\n",
    "    precise_columns=precise_features,\n",
    "    forecast_columns=forecast_features,\n",
    "    train_df=df3_train, val_df=None, test_df=df3_test\n",
    ")\n",
    "\n",
    "kf_window.train.element_spec"
   ]
  },
  {
   "cell_type": "markdown",
   "metadata": {},
   "source": [
    "Cross validate the model"
   ]
  },
  {
   "cell_type": "code",
   "execution_count": null,
   "metadata": {},
   "outputs": [],
   "source": [
    "NUM_FOLDS = 5\n",
    "\n",
    "# Metrics\n",
    "cv_val_metrics = []\n",
    "cv_test_metrics = []\n",
    "\n",
    "# K-fold cross validation model evaluation\n",
    "for fold_no, (kf_train, kf_val) in enumerate(kf_window.k_fold(n_splits=NUM_FOLDS)):\n",
    "\n",
    "    # Create the model to be evaluated (with freshly initialized weights)\n",
    "    kf_model = AutoRegressiveRNN(\n",
    "        units=[32, 32, 32], out_steps=PREDICTION_STEPS, rnn_type=\"GRU\")\n",
    "\n",
    "    # Generate a print\n",
    "    print(f'Training for fold {fold_no+1}/{NUM_FOLDS}...')\n",
    "\n",
    "    # Compile and fit model\n",
    "    kf_model.compile(loss='mse', optimizer=tf.keras.optimizers.Adam(\n",
    "        learning_rate=5e-4),\n",
    "        metrics=['mae', tf.keras.metrics.RootMeanSquaredError(name='rmse'), RSquare()])\n",
    "\n",
    "    early_stopping = tf.keras.callbacks.EarlyStopping(monitor='val_loss',\n",
    "                                                      patience=8,\n",
    "                                                      mode='min',\n",
    "                                                      verbose=1,\n",
    "                                                      restore_best_weights=True)\n",
    "    kf_model.fit(kf_train, epochs=50, validation_data=kf_val,\n",
    "                 callbacks=[early_stopping])\n",
    "\n",
    "    # Evaluate model\n",
    "    print(f'Evaluate model for fold {fold_no+1} on validation set:')\n",
    "    cv_val_metrics.append(kf_model.evaluate(kf_val, verbose=2))\n",
    "    print(f'Evaluate model for fold {fold_no+1} on test set:')\n",
    "    cv_test_metrics.append(kf_model.evaluate(kf_window.test, verbose=2))\n",
    "    print('------------------------------------------------------------------------')\n"
   ]
  },
  {
   "cell_type": "markdown",
   "metadata": {},
   "source": [
    "Visualize the chosen cross validation method:"
   ]
  },
  {
   "cell_type": "code",
   "execution_count": null,
   "metadata": {},
   "outputs": [],
   "source": [
    "print(*weather_window.kfold_indices)"
   ]
  },
  {
   "cell_type": "code",
   "execution_count": null,
   "metadata": {},
   "outputs": [],
   "source": [
    "fig, ax = plt.subplots()\n",
    "for fold_no, (train_index, val_index) in enumerate(KFold(NUM_FOLDS).split(range(len(df2_test)))):\n",
    "    ax.scatter(\n",
    "        train_index,\n",
    "        [fold_no] * len(train_index),\n",
    "        marker=\"|\",\n",
    "        c='C0',\n",
    "        label='Training set' if fold_no == 0 else '')\n",
    "    ax.scatter(\n",
    "        val_index,\n",
    "        [fold_no] * len(val_index),\n",
    "        marker=\"|\",\n",
    "        c='C3',\n",
    "        label='Validation set' if fold_no == 0 else '')\n",
    "# Formatting\n",
    "ax.set(yticks=np.arange(NUM_FOLDS),\n",
    "       yticklabels=np.arange(NUM_FOLDS)+1,\n",
    "       xlabel='Dataset index',\n",
    "       ylabel='CV iteration',\n",
    "       title='Cross Validation')\n",
    "_ = fig.legend()\n"
   ]
  },
  {
   "cell_type": "markdown",
   "metadata": {},
   "source": [
    "Evaluate the folds:"
   ]
  },
  {
   "cell_type": "code",
   "execution_count": null,
   "metadata": {},
   "outputs": [],
   "source": [
    "r2_index = kf_model.metrics_names.index('r_square')\n",
    "print('-------------------')\n",
    "print(f'Fold Val R² Test R²')\n",
    "print('---- ------ -------')\n",
    "for i, test_metric in enumerate(cv_test_metrics):\n",
    "    val_metric = cv_val_metrics[i]\n",
    "    print(f'{i+1} {val_metric[r2_index]: 9.4f} {test_metric[r2_index]: 6.4f}')\n",
    "print('---- ------ -------')\n",
    "print(f'AVG {np.average(cv_val_metrics, axis=0)[r2_index]: 7.4f} {np.average(cv_test_metrics, axis=0)[r2_index]: 6.4f}')\n",
    "print('-------------------')"
   ]
  },
  {
   "cell_type": "code",
   "execution_count": null,
   "metadata": {},
   "outputs": [],
   "source": []
  }
 ],
 "metadata": {
  "kernelspec": {
   "display_name": "Python 3.10.7 64-bit (microsoft store)",
   "language": "python",
   "name": "python3"
  },
  "language_info": {
   "codemirror_mode": {
    "name": "ipython",
    "version": 3
   },
   "file_extension": ".py",
   "mimetype": "text/x-python",
   "name": "python",
   "nbconvert_exporter": "python",
   "pygments_lexer": "ipython3",
   "version": "3.10.7"
  },
  "orig_nbformat": 4,
  "vscode": {
   "interpreter": {
    "hash": "18e9655652794916721c836f64f0f2c40614fd3025e6f3f5246a082aecd982be"
   }
  }
 },
 "nbformat": 4,
 "nbformat_minor": 2
}
