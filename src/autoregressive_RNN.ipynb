{
 "cells": [
  {
   "cell_type": "markdown",
   "metadata": {},
   "source": [
    "# Autoregressive RNN with continuous input\n",
    "- This model is autoregressive, which means that the prediction of the last time step is the input of the current time step. This way the model can predict a varying number of steps into the future without retraining\n",
    "- Some features, like time and weather, are fed into the model from outside even during prediction phase so the model does not have to predict those by itself\n",
    "\n",
    "Based on: https://www.tensorflow.org/tutorials/structured_data/time_series"
   ]
  },
  {
   "cell_type": "code",
   "execution_count": 1,
   "metadata": {},
   "outputs": [],
   "source": [
    "import os\n",
    "import datetime\n",
    "\n",
    "import numpy as np\n",
    "import pandas as pd\n",
    "import seaborn as sns\n",
    "import matplotlib as mpl\n",
    "import matplotlib.pyplot as plt\n",
    "import tensorflow as tf\n",
    "import IPython\n",
    "import IPython.display\n",
    "\n",
    "sns.set_theme()"
   ]
  },
  {
   "cell_type": "markdown",
   "metadata": {},
   "source": [
    "### Import data"
   ]
  },
  {
   "cell_type": "code",
   "execution_count": 2,
   "metadata": {},
   "outputs": [
    {
     "data": {
      "text/html": [
       "<div>\n",
       "<style scoped>\n",
       "    .dataframe tbody tr th:only-of-type {\n",
       "        vertical-align: middle;\n",
       "    }\n",
       "\n",
       "    .dataframe tbody tr th {\n",
       "        vertical-align: top;\n",
       "    }\n",
       "\n",
       "    .dataframe thead th {\n",
       "        text-align: right;\n",
       "    }\n",
       "</style>\n",
       "<table border=\"1\" class=\"dataframe\">\n",
       "  <thead>\n",
       "    <tr style=\"text-align: right;\">\n",
       "      <th></th>\n",
       "      <th>prod_wind</th>\n",
       "      <th>prod_solar</th>\n",
       "      <th>day_sin</th>\n",
       "      <th>day_cos</th>\n",
       "      <th>year_sin</th>\n",
       "      <th>year_cos</th>\n",
       "      <th>solar_el</th>\n",
       "      <th>solar_el_clip</th>\n",
       "    </tr>\n",
       "    <tr>\n",
       "      <th>datetime</th>\n",
       "      <th></th>\n",
       "      <th></th>\n",
       "      <th></th>\n",
       "      <th></th>\n",
       "      <th></th>\n",
       "      <th></th>\n",
       "      <th></th>\n",
       "      <th></th>\n",
       "    </tr>\n",
       "  </thead>\n",
       "  <tbody>\n",
       "    <tr>\n",
       "      <th>2020-01-01 00:00:00+00:00</th>\n",
       "      <td>6989.50</td>\n",
       "      <td>0.0</td>\n",
       "      <td>-7.670342e-12</td>\n",
       "      <td>1.000000</td>\n",
       "      <td>-2.150345e-03</td>\n",
       "      <td>0.999998</td>\n",
       "      <td>-60.949049</td>\n",
       "      <td>0.0</td>\n",
       "    </tr>\n",
       "    <tr>\n",
       "      <th>2020-01-01 01:00:00+00:00</th>\n",
       "      <td>7371.25</td>\n",
       "      <td>0.0</td>\n",
       "      <td>2.588190e-01</td>\n",
       "      <td>0.965926</td>\n",
       "      <td>-1.433564e-03</td>\n",
       "      <td>0.999999</td>\n",
       "      <td>-56.073363</td>\n",
       "      <td>0.0</td>\n",
       "    </tr>\n",
       "    <tr>\n",
       "      <th>2020-01-01 02:00:00+00:00</th>\n",
       "      <td>7447.75</td>\n",
       "      <td>0.0</td>\n",
       "      <td>5.000000e-01</td>\n",
       "      <td>0.866025</td>\n",
       "      <td>-7.167823e-04</td>\n",
       "      <td>1.000000</td>\n",
       "      <td>-48.553549</td>\n",
       "      <td>0.0</td>\n",
       "    </tr>\n",
       "    <tr>\n",
       "      <th>2020-01-01 03:00:00+00:00</th>\n",
       "      <td>7699.25</td>\n",
       "      <td>0.0</td>\n",
       "      <td>7.071068e-01</td>\n",
       "      <td>0.707107</td>\n",
       "      <td>1.964387e-15</td>\n",
       "      <td>1.000000</td>\n",
       "      <td>-39.725411</td>\n",
       "      <td>0.0</td>\n",
       "    </tr>\n",
       "    <tr>\n",
       "      <th>2020-01-01 04:00:00+00:00</th>\n",
       "      <td>7703.00</td>\n",
       "      <td>0.0</td>\n",
       "      <td>8.660254e-01</td>\n",
       "      <td>0.500000</td>\n",
       "      <td>7.167823e-04</td>\n",
       "      <td>1.000000</td>\n",
       "      <td>-30.389395</td>\n",
       "      <td>0.0</td>\n",
       "    </tr>\n",
       "  </tbody>\n",
       "</table>\n",
       "</div>"
      ],
      "text/plain": [
       "                           prod_wind  prod_solar       day_sin   day_cos  \\\n",
       "datetime                                                                   \n",
       "2020-01-01 00:00:00+00:00    6989.50         0.0 -7.670342e-12  1.000000   \n",
       "2020-01-01 01:00:00+00:00    7371.25         0.0  2.588190e-01  0.965926   \n",
       "2020-01-01 02:00:00+00:00    7447.75         0.0  5.000000e-01  0.866025   \n",
       "2020-01-01 03:00:00+00:00    7699.25         0.0  7.071068e-01  0.707107   \n",
       "2020-01-01 04:00:00+00:00    7703.00         0.0  8.660254e-01  0.500000   \n",
       "\n",
       "                               year_sin  year_cos   solar_el  solar_el_clip  \n",
       "datetime                                                                     \n",
       "2020-01-01 00:00:00+00:00 -2.150345e-03  0.999998 -60.949049            0.0  \n",
       "2020-01-01 01:00:00+00:00 -1.433564e-03  0.999999 -56.073363            0.0  \n",
       "2020-01-01 02:00:00+00:00 -7.167823e-04  1.000000 -48.553549            0.0  \n",
       "2020-01-01 03:00:00+00:00  1.964387e-15  1.000000 -39.725411            0.0  \n",
       "2020-01-01 04:00:00+00:00  7.167823e-04  1.000000 -30.389395            0.0  "
      ]
     },
     "execution_count": 2,
     "metadata": {},
     "output_type": "execute_result"
    }
   ],
   "source": [
    "df = pd.read_pickle(\"..\\data\\data_prepared.pkl\")\n",
    "df.head()"
   ]
  },
  {
   "cell_type": "markdown",
   "metadata": {},
   "source": [
    "### Split the data\n",
    "- 70% training\n",
    "- 20% validation\n",
    "- 10% test"
   ]
  },
  {
   "cell_type": "code",
   "execution_count": 3,
   "metadata": {},
   "outputs": [],
   "source": [
    "column_indices = {name: i for i, name in enumerate(df.columns)}\n",
    "\n",
    "n = len(df)\n",
    "df_train = df[0:int(n*0.7)]\n",
    "df_val = df[int(n*0.7):int(n*0.9)]\n",
    "df_test = df[int(n*0.9):]"
   ]
  },
  {
   "cell_type": "markdown",
   "metadata": {},
   "source": [
    "### Normalize the data"
   ]
  },
  {
   "cell_type": "code",
   "execution_count": 4,
   "metadata": {},
   "outputs": [],
   "source": [
    "from sklearn.preprocessing import RobustScaler\n",
    "\n",
    "scaler = RobustScaler()\n",
    "# fit scaler to training data\n",
    "scaler.fit(df_train)\n",
    "# scale all sets according to train set, preserve data frames\n",
    "df_train = pd.DataFrame(scaler.transform(df_train),\n",
    "                        columns=df.columns, index=df_train.index)\n",
    "df_val = pd.DataFrame(scaler.transform(df_val),\n",
    "                        columns=df.columns, index=df_val.index)\n",
    "df_test = pd.DataFrame(scaler.transform(df_test),\n",
    "                        columns=df.columns, index=df_test.index)"
   ]
  },
  {
   "cell_type": "code",
   "execution_count": 5,
   "metadata": {},
   "outputs": [
    {
     "data": {
      "text/plain": [
       "8"
      ]
     },
     "execution_count": 5,
     "metadata": {},
     "output_type": "execute_result"
    }
   ],
   "source": [
    "len(df_train.columns)"
   ]
  },
  {
   "cell_type": "markdown",
   "metadata": {},
   "source": [
    "### Data Windowing\n",
    "#### 1. Indexes and offsets\n",
    "\n",
    "- Windows Generator that can create multiple inputs, one for the inputs that are only known in the past (power production) and one for inputs that are also known in the future (time and weather)"
   ]
  },
  {
   "cell_type": "code",
   "execution_count": 6,
   "metadata": {},
   "outputs": [],
   "source": [
    "class WindowGenerator():\n",
    "    def __init__(self, past_width, future_width,\n",
    "                 label_columns, precise_columns=None, forecast_columns=None,\n",
    "                 train_df=df_train, val_df=df_val, test_df=df_test):\n",
    "\n",
    "        # Store the raw data.\n",
    "        self.train_df = train_df\n",
    "        self.val_df = val_df\n",
    "        self.test_df = test_df\n",
    "\n",
    "        # Check if length of provided features match with data frame\n",
    "        num_columns = 0\n",
    "        num_columns += len(label_columns)\n",
    "        if precise_columns is not None:\n",
    "            num_columns += len(precise_columns)\n",
    "        if forecast_columns is not None:\n",
    "            num_columns += len(forecast_columns)\n",
    "        assert num_columns == len(df_train.columns), \\\n",
    "            \"Length of provided label, precise, and forecast features do not match data frame\"\n",
    "\n",
    "        # Work out the column indices\n",
    "        self.columns_indices = {name: i for i, name in\n",
    "                                enumerate(train_df.columns)}\n",
    "        self.label_columns = label_columns\n",
    "        self.label_columns_indices = {name: i for i, name in\n",
    "                                      enumerate(label_columns)}\n",
    "        self.precise_columns = precise_columns\n",
    "        if precise_columns is not None:\n",
    "            self.precise_columns_indices = {name: i for i, name in\n",
    "                                            enumerate(precise_columns)}\n",
    "        self.forecast_columns = forecast_columns\n",
    "        if forecast_columns is not None:\n",
    "            self.forecast_columns_indices = {name: i for i, name in\n",
    "                                             enumerate(forecast_columns)}\n",
    "\n",
    "        # Work out the window parameters.\n",
    "        self.past_width = past_width\n",
    "        self.future_width = future_width\n",
    "\n",
    "        self.total_window_size = past_width + future_width\n",
    "\n",
    "        self.past_slice = slice(0, past_width)\n",
    "        self.past_indices = np.arange(self.total_window_size)[self.past_slice]\n",
    "\n",
    "        self.future_slice = slice(self.past_width, None)\n",
    "        self.future_indices = np.arange(self.total_window_size)[\n",
    "            self.future_slice]\n",
    "\n",
    "    def __repr__(self):\n",
    "        return '\\n'.join([\n",
    "            f'Total window size:       {self.total_window_size}',\n",
    "            f'Past indices:            {self.past_indices}',\n",
    "            f'Future indices:          {self.future_indices}',\n",
    "            f'Label column name(s):    {self.label_columns}',\n",
    "            f'Precise column name(s):  {self.precise_columns}',\n",
    "            f'Forecast column name(s): {self.forecast_columns}'])\n"
   ]
  },
  {
   "cell_type": "markdown",
   "metadata": {},
   "source": [
    "#### 2. Split"
   ]
  },
  {
   "cell_type": "code",
   "execution_count": 7,
   "metadata": {},
   "outputs": [],
   "source": [
    "def split_window(self, features):\n",
    "    # Past: All inputs are known\n",
    "    inputs_past = features[:, self.past_slice, :]\n",
    "\n",
    "    # Future: Only precise and forecast inputs are known\n",
    "    if self.precise_columns is None:\n",
    "        self.precise_columns = []\n",
    "    if self.forecast_columns is None:\n",
    "        self.forecast_columns = []\n",
    "    self.inputs_future_columns = self.precise_columns + self.forecast_columns\n",
    "\n",
    "    inputs_future = tf.stack(\n",
    "        [features[:, self.future_slice, self.columns_indices[name]]\n",
    "            for name in self.inputs_future_columns],\n",
    "        axis=-1)\n",
    "\n",
    "    labels = tf.stack(\n",
    "        [features[:, self.future_slice, self.columns_indices[name]]\n",
    "            for name in self.label_columns],\n",
    "        axis=-1)\n",
    "\n",
    "    # Slicing doesn't preserve static shape information, so set the shapes\n",
    "    # manually. This way the `tf.data.Datasets` are easier to inspect.\n",
    "    inputs_past.set_shape([None, self.past_width, None])\n",
    "    inputs_future.set_shape([None, self.future_width, None])\n",
    "    labels.set_shape([None, self.future_width, None])\n",
    "\n",
    "    # Return inputs and labels\n",
    "    # The past and future input tuple will be unpacked in the model.call() method\n",
    "    return (inputs_past, inputs_future), labels\n",
    "\n",
    "\n",
    "WindowGenerator.split_window = split_window\n"
   ]
  },
  {
   "cell_type": "markdown",
   "metadata": {},
   "source": [
    "Creating a window:"
   ]
  },
  {
   "cell_type": "code",
   "execution_count": 8,
   "metadata": {},
   "outputs": [
    {
     "data": {
      "text/plain": [
       "Total window size:       48\n",
       "Past indices:            [ 0  1  2  3  4  5  6  7  8  9 10 11 12 13 14 15 16 17 18 19 20 21 22 23]\n",
       "Future indices:          [24 25 26 27 28 29 30 31 32 33 34 35 36 37 38 39 40 41 42 43 44 45 46 47]\n",
       "Label column name(s):    ['prod_wind', 'prod_solar']\n",
       "Precise column name(s):  ['day_sin', 'day_cos', 'year_sin', 'year_cos', 'solar_el', 'solar_el_clip']\n",
       "Forecast column name(s): None"
      ]
     },
     "execution_count": 8,
     "metadata": {},
     "output_type": "execute_result"
    }
   ],
   "source": [
    "# Choose which features are only known for the past. These features will be predicted.\n",
    "prediction_features = ['prod_wind', 'prod_solar']\n",
    "num_predictions = len(prediction_features)\n",
    "\n",
    "# Choose which features are precisely known to the model at all time steps\n",
    "precise_features = ['day_sin', 'day_cos', 'year_sin',\n",
    "                    'year_cos', 'solar_el', 'solar_el_clip']\n",
    "\n",
    "# Choose which features are only imprecisely known to the model at future time steps\n",
    "# NOISE NOT YET IMPLEMENTED\n",
    "forecast_features = None\n",
    "\n",
    "PAST_STEPS = 24\n",
    "PREDICTION_STEPS = 24\n",
    "\n",
    "multi_window = WindowGenerator(\n",
    "    # `WindowGenerator` returns all features as labels if you\n",
    "    # don't set the `label_columns` argument.\n",
    "    past_width=PAST_STEPS, future_width=PREDICTION_STEPS,\n",
    "    label_columns=prediction_features,\n",
    "    precise_columns=precise_features,\n",
    "    forecast_columns=forecast_features\n",
    ")\n",
    "\n",
    "multi_window\n"
   ]
  },
  {
   "cell_type": "markdown",
   "metadata": {},
   "source": [
    "#### 3. Plot"
   ]
  },
  {
   "cell_type": "code",
   "execution_count": 9,
   "metadata": {},
   "outputs": [],
   "source": [
    "def plot(self, model=None, plot_col=\"prod_solar\", max_subplots=3):\n",
    "    inputs, labels = self.example\n",
    "    (inputs_past, inputs_future) = inputs\n",
    "    plt.figure(figsize=(12, 8))\n",
    "    plot_col_index = self.columns_indices[plot_col]\n",
    "    max_n = min(max_subplots, len(inputs_past))\n",
    "    for n in range(max_n):\n",
    "        plt.subplot(max_n, 1, n+1)\n",
    "\n",
    "        # Plot past inputs\n",
    "        plt.plot(self.past_indices, inputs_past[n, :, plot_col_index],\n",
    "                 label='Inputs', marker='.', zorder=3)\n",
    "\n",
    "        label_col_index = self.label_columns_indices.get(plot_col, None)\n",
    "\n",
    "        # if label_col_index is None:\n",
    "        #     continue\n",
    "\n",
    "        # Add last point of past array to future arrays to connect lines\n",
    "        future_indices_plot = np.insert(\n",
    "            self.future_indices, 0, self.past_indices[-1])\n",
    "        labels_plot = np.insert(\n",
    "            labels[n, :, label_col_index], 0, inputs_past[n, :, plot_col_index][-1])\n",
    "\n",
    "        # Plot labels\n",
    "        plt.plot(future_indices_plot, labels_plot,\n",
    "                 'C2', label='Labels', marker='.', zorder=1)\n",
    "\n",
    "        # Plot prediction\n",
    "        if model is not None:\n",
    "            predictions_plot = (model(inputs))[n, :, label_col_index]\n",
    "            predictions_plot = np.insert(\n",
    "                predictions_plot, 0, inputs_past[n, :, plot_col_index][-1])\n",
    "            plt.plot(future_indices_plot, predictions_plot,\n",
    "                     'C1', label='Predictions', marker='.', zorder=2)\n",
    "\n",
    "        # x Ticks every 6 hours\n",
    "        plt.xticks(np.arange(self.past_indices[0], self.future_indices[-1]+2, 6))\n",
    "\n",
    "        plt.ylabel(f'{plot_col} [normed]')\n",
    "        if n == 0:\n",
    "            plt.legend()\n",
    "\n",
    "    plt.xlabel('Time [h]')\n",
    "\n",
    "\n",
    "WindowGenerator.plot = plot\n"
   ]
  },
  {
   "cell_type": "markdown",
   "metadata": {},
   "source": [
    "#### 4. Create `tf.data.Datasets`"
   ]
  },
  {
   "cell_type": "code",
   "execution_count": 10,
   "metadata": {},
   "outputs": [],
   "source": [
    "def make_dataset(self, data):\n",
    "    data = np.array(data, dtype=np.float32)\n",
    "    ds = tf.keras.utils.timeseries_dataset_from_array(\n",
    "        data=data,\n",
    "        targets=None,\n",
    "        sequence_length=self.total_window_size,\n",
    "        sequence_stride=1,\n",
    "        shuffle=True,\n",
    "        batch_size=32,)\n",
    "\n",
    "    ds = ds.map(self.split_window)\n",
    "\n",
    "    return ds\n",
    "\n",
    "\n",
    "WindowGenerator.make_dataset = make_dataset\n"
   ]
  },
  {
   "cell_type": "code",
   "execution_count": 11,
   "metadata": {},
   "outputs": [],
   "source": [
    "@property\n",
    "def train(self):\n",
    "    return self.make_dataset(self.train_df)\n",
    "\n",
    "\n",
    "@property\n",
    "def val(self):\n",
    "    return self.make_dataset(self.val_df)\n",
    "\n",
    "\n",
    "@property\n",
    "def test(self):\n",
    "    return self.make_dataset(self.test_df)\n",
    "\n",
    "\n",
    "@property\n",
    "def example(self):\n",
    "    \"\"\"Get and cache an example batch of `inputs, labels` for plotting.\"\"\"\n",
    "    result = getattr(self, '_example', None)\n",
    "    if result is None:\n",
    "        # No example batch was found, so get one from the `.train` dataset\n",
    "        result = next(iter(self.train))\n",
    "        # And cache it for next time\n",
    "        self._example = result\n",
    "    return result\n",
    "\n",
    "\n",
    "WindowGenerator.train = train\n",
    "WindowGenerator.val = val\n",
    "WindowGenerator.test = test\n",
    "WindowGenerator.example = example\n"
   ]
  },
  {
   "cell_type": "markdown",
   "metadata": {},
   "source": [
    "Now, the `WindowGenerator` object gives access to the tf.data.Dataset objects, to easily iterate over the data.\n",
    "\n",
    "The `Dataset.element_spec` property tells the structure, data types, and shapes of the dataset elements."
   ]
  },
  {
   "cell_type": "code",
   "execution_count": 12,
   "metadata": {},
   "outputs": [
    {
     "data": {
      "text/plain": [
       "((TensorSpec(shape=(None, 24, 8), dtype=tf.float32, name=None),\n",
       "  TensorSpec(shape=(None, 24, 6), dtype=tf.float32, name=None)),\n",
       " TensorSpec(shape=(None, 24, 2), dtype=tf.float32, name=None))"
      ]
     },
     "execution_count": 12,
     "metadata": {},
     "output_type": "execute_result"
    }
   ],
   "source": [
    "multi_window.train.element_spec"
   ]
  },
  {
   "cell_type": "markdown",
   "metadata": {},
   "source": [
    "Iterating over a `Dataset` yields concrete batches:"
   ]
  },
  {
   "cell_type": "code",
   "execution_count": 13,
   "metadata": {},
   "outputs": [
    {
     "name": "stdout",
     "output_type": "stream",
     "text": [
      "Inputs past shape (batch, time, features): (32, 24, 8)\n",
      "Inputs fut. shape (batch, time, features): (32, 24, 6)\n",
      "Labels shape      (batch, time, features): (32, 24, 2)\n"
     ]
    }
   ],
   "source": [
    "for (example_inputs_past, example_inputs_future), example_labels in multi_window.train.take(1):\n",
    "  print(f'Inputs past shape (batch, time, features): {example_inputs_past.shape}')\n",
    "  print(f'Inputs fut. shape (batch, time, features): {example_inputs_future.shape}')\n",
    "  print(f'Labels shape      (batch, time, features): {example_labels.shape}')"
   ]
  },
  {
   "cell_type": "markdown",
   "metadata": {},
   "source": [
    "Plot an example window:"
   ]
  },
  {
   "cell_type": "code",
   "execution_count": 14,
   "metadata": {},
   "outputs": [
    {
     "data": {
      "image/png": "[encoded data removed]",
      "text/plain": [
       "<Figure size 864x576 with 3 Axes>"
      ]
     },
     "metadata": {
      "needs_background": "light"
     },
     "output_type": "display_data"
    }
   ],
   "source": [
    "multi_window.plot(plot_col=\"prod_solar\")\n",
    "# multi_window.plot(plot_col=\"prod_wind\")"
   ]
  },
  {
   "cell_type": "markdown",
   "metadata": {},
   "source": [
    "## Autoregressive LSTM\n",
    "The model predicts individual time steps that are fed back into itself, so that the model can produce output with a varying length.\n",
    "This is implemented in the custom model class `FeedBack`."
   ]
  },
  {
   "cell_type": "code",
   "execution_count": 15,
   "metadata": {},
   "outputs": [],
   "source": [
    "class FeedBack(tf.keras.Model):\n",
    "    def __init__(self, units, out_steps):\n",
    "        super().__init__()\n",
    "        self.out_steps = out_steps\n",
    "        self.units = units\n",
    "        self.lstm_cell = tf.keras.layers.LSTMCell(units)\n",
    "        # Also wrap the LSTMCell in an RNN to simplify the `warmup` method.\n",
    "        self.lstm_rnn = tf.keras.layers.RNN(self.lstm_cell, return_state=True)\n",
    "        self.dense = tf.keras.layers.Dense(num_predictions)\n"
   ]
  },
  {
   "cell_type": "code",
   "execution_count": 16,
   "metadata": {},
   "outputs": [],
   "source": [
    "arlstm_model = FeedBack(units=32, out_steps=PREDICTION_STEPS)\n"
   ]
  },
  {
   "cell_type": "markdown",
   "metadata": {},
   "source": [
    "#### Model warmup\n",
    "The warmup method initializes the model's internal state based on the full input from the past (power data, time and weather)"
   ]
  },
  {
   "cell_type": "code",
   "execution_count": 17,
   "metadata": {},
   "outputs": [],
   "source": [
    "def warmup(self, inputs_past):\n",
    "    # inputs.shape => (batch, time, features)\n",
    "    # x.shape => (batch, lstm_units)\n",
    "    x, *state = self.lstm_rnn(inputs_past)\n",
    "\n",
    "    # predictions.shape => (batch, features)\n",
    "    prediction = self.dense(x)\n",
    "    return prediction, state\n",
    "\n",
    "\n",
    "FeedBack.warmup = warmup\n"
   ]
  },
  {
   "cell_type": "markdown",
   "metadata": {},
   "source": [
    "This method returns a single time-step prediction and the internal state of the `LSTM`:"
   ]
  },
  {
   "cell_type": "code",
   "execution_count": 18,
   "metadata": {},
   "outputs": [
    {
     "data": {
      "text/plain": [
       "TensorShape([32, 2])"
      ]
     },
     "execution_count": 18,
     "metadata": {},
     "output_type": "execute_result"
    }
   ],
   "source": [
    "prediction, state = arlstm_model.warmup(multi_window.example[0][0])\n",
    "prediction.shape\n"
   ]
  },
  {
   "cell_type": "markdown",
   "metadata": {},
   "source": [
    "#### Model call\n",
    "A custom call is used to feed the model the full input from the past during warmup and then only the time and weather forecast during the prediction phase, where the model takes the prediction from the last time step to substitute the missing input."
   ]
  },
  {
   "cell_type": "code",
   "execution_count": 19,
   "metadata": {},
   "outputs": [],
   "source": [
    "def call(self, inputs, training=None):\n",
    "    # unpack the past and future inputs\n",
    "    inputs_past, inputs_future = inputs\n",
    "    # Use a TensorArray to capture dynamically unrolled outputs.\n",
    "    predictions = []\n",
    "    # Past phase: Initialize the LSTM state\n",
    "    prediction, state = self.warmup(inputs_past)\n",
    "    # Insert the first prediction.\n",
    "    predictions.append(prediction)\n",
    "\n",
    "    # Future phase: Run the rest of the prediction steps\n",
    "    for n in range(1, self.out_steps):\n",
    "        # Select the known input at the current time step\n",
    "        input = inputs_future[:, n-1, :]\n",
    "        # Use the last prediction as unknown input and combine it with the known input\n",
    "        # x.shape => (batch, features)\n",
    "        x = tf.concat([prediction, input], axis=1)\n",
    "        # Execute one lstm step.\n",
    "        x, state = self.lstm_cell(x, states=state,\n",
    "                                  training=training)\n",
    "        # Convert the lstm output to a prediction.\n",
    "        prediction = self.dense(x)\n",
    "        # Add the prediction to the output.\n",
    "        predictions.append(prediction)\n",
    "\n",
    "    # predictions.shape => (time, batch, features)\n",
    "    predictions = tf.stack(predictions)\n",
    "    # predictions.shape => (batch, time, features)\n",
    "    predictions = tf.transpose(predictions, [1, 0, 2])\n",
    "    return predictions\n",
    "\n",
    "\n",
    "FeedBack.call = call\n"
   ]
  },
  {
   "cell_type": "markdown",
   "metadata": {},
   "source": [
    "Run on example input:"
   ]
  },
  {
   "cell_type": "code",
   "execution_count": 20,
   "metadata": {},
   "outputs": [
    {
     "name": "stdout",
     "output_type": "stream",
     "text": [
      "Output shape (batch, time, features):  (32, 24, 2)\n"
     ]
    }
   ],
   "source": [
    "print('Output shape (batch, time, features): ',\n",
    "      arlstm_model(multi_window.example[0]).shape)\n"
   ]
  },
  {
   "cell_type": "code",
   "execution_count": 21,
   "metadata": {},
   "outputs": [
    {
     "name": "stdout",
     "output_type": "stream",
     "text": [
      "Model: \"feed_back\"\n",
      "_________________________________________________________________\n",
      " Layer (type)                Output Shape              Param #   \n",
      "=================================================================\n",
      " lstm_cell (LSTMCell)        multiple                  5248      \n",
      "                                                                 \n",
      " rnn (RNN)                   multiple                  5248      \n",
      "                                                                 \n",
      " dense (Dense)               multiple                  66        \n",
      "                                                                 \n",
      "=================================================================\n",
      "Total params: 5,314\n",
      "Trainable params: 5,314\n",
      "Non-trainable params: 0\n",
      "_________________________________________________________________\n"
     ]
    }
   ],
   "source": [
    "arlstm_model.call(multi_window.example[0])\n",
    "arlstm_model.summary()\n"
   ]
  },
  {
   "cell_type": "markdown",
   "metadata": {},
   "source": [
    "#### Training procedure"
   ]
  },
  {
   "cell_type": "code",
   "execution_count": 22,
   "metadata": {},
   "outputs": [],
   "source": [
    "from tensorflow_addons.metrics.r_square import RSquare\n",
    "\n",
    "MAX_EPOCHS = 50\n",
    "\n",
    "\n",
    "def compile_and_fit(model, window, patience=10):\n",
    "    early_stopping = tf.keras.callbacks.EarlyStopping(monitor='val_loss',\n",
    "                                                      patience=patience,\n",
    "                                                      mode='min',\n",
    "                                                      verbose=1)\n",
    "\n",
    "    model.compile(loss='mse', optimizer='adam', metrics=['mae', RSquare()])\n",
    "\n",
    "    history = model.fit(window.train, epochs=MAX_EPOCHS,\n",
    "                        validation_data=window.val,\n",
    "                        callbacks=[early_stopping])\n",
    "    return history\n",
    "\n",
    "\n",
    "val_performance = {}\n",
    "test_performance = {}\n",
    "history = {}\n"
   ]
  },
  {
   "cell_type": "code",
   "execution_count": 23,
   "metadata": {},
   "outputs": [
    {
     "name": "stdout",
     "output_type": "stream",
     "text": [
      "Epoch 1/50\n",
      "383/383 [==============================] - 6s 8ms/step - loss: 0.2014 - mae: 0.3158 - r_square: 0.6569 - val_loss: 0.1148 - val_mae: 0.2368 - val_r_square: 0.6741\n",
      "Epoch 2/50\n",
      "383/383 [==============================] - 2s 6ms/step - loss: 0.1341 - mae: 0.2480 - r_square: 0.7492 - val_loss: 0.1067 - val_mae: 0.2206 - val_r_square: 0.6924\n",
      "Epoch 3/50\n",
      "383/383 [==============================] - 2s 6ms/step - loss: 0.1302 - mae: 0.2417 - r_square: 0.7549 - val_loss: 0.1069 - val_mae: 0.2155 - val_r_square: 0.6920\n",
      "Epoch 4/50\n",
      "383/383 [==============================] - 2s 6ms/step - loss: 0.1264 - mae: 0.2366 - r_square: 0.7621 - val_loss: 0.1018 - val_mae: 0.2085 - val_r_square: 0.6993\n",
      "Epoch 5/50\n",
      "383/383 [==============================] - 2s 6ms/step - loss: 0.1236 - mae: 0.2326 - r_square: 0.7673 - val_loss: 0.1044 - val_mae: 0.2054 - val_r_square: 0.6860\n",
      "Epoch 6/50\n",
      "383/383 [==============================] - 2s 6ms/step - loss: 0.1212 - mae: 0.2295 - r_square: 0.7711 - val_loss: 0.1000 - val_mae: 0.2031 - val_r_square: 0.7013\n",
      "Epoch 7/50\n",
      "383/383 [==============================] - 2s 6ms/step - loss: 0.1199 - mae: 0.2276 - r_square: 0.7737 - val_loss: 0.0993 - val_mae: 0.2064 - val_r_square: 0.6991\n",
      "Epoch 8/50\n",
      "383/383 [==============================] - 2s 6ms/step - loss: 0.1176 - mae: 0.2254 - r_square: 0.7787 - val_loss: 0.0982 - val_mae: 0.2007 - val_r_square: 0.7047\n",
      "Epoch 9/50\n",
      "383/383 [==============================] - 2s 6ms/step - loss: 0.1164 - mae: 0.2237 - r_square: 0.7808 - val_loss: 0.0976 - val_mae: 0.2068 - val_r_square: 0.7112\n",
      "Epoch 10/50\n",
      "383/383 [==============================] - 2s 6ms/step - loss: 0.1145 - mae: 0.2215 - r_square: 0.7843 - val_loss: 0.0995 - val_mae: 0.2015 - val_r_square: 0.6996\n",
      "Epoch 11/50\n",
      "383/383 [==============================] - 2s 6ms/step - loss: 0.1121 - mae: 0.2191 - r_square: 0.7893 - val_loss: 0.1022 - val_mae: 0.2042 - val_r_square: 0.6988\n",
      "Epoch 12/50\n",
      "383/383 [==============================] - 3s 7ms/step - loss: 0.1125 - mae: 0.2192 - r_square: 0.7881 - val_loss: 0.1029 - val_mae: 0.2016 - val_r_square: 0.6877\n",
      "Epoch 13/50\n",
      "383/383 [==============================] - 2s 6ms/step - loss: 0.1097 - mae: 0.2161 - r_square: 0.7937 - val_loss: 0.1017 - val_mae: 0.2030 - val_r_square: 0.6940\n",
      "Epoch 14/50\n",
      "383/383 [==============================] - 3s 7ms/step - loss: 0.1074 - mae: 0.2138 - r_square: 0.7983 - val_loss: 0.0994 - val_mae: 0.2029 - val_r_square: 0.6972\n",
      "Epoch 15/50\n",
      "383/383 [==============================] - 2s 6ms/step - loss: 0.1063 - mae: 0.2123 - r_square: 0.8002 - val_loss: 0.1032 - val_mae: 0.2089 - val_r_square: 0.6869\n",
      "Epoch 16/50\n",
      "383/383 [==============================] - 2s 6ms/step - loss: 0.1044 - mae: 0.2105 - r_square: 0.8040 - val_loss: 0.1034 - val_mae: 0.2149 - val_r_square: 0.6799\n",
      "Epoch 17/50\n",
      "383/383 [==============================] - 2s 6ms/step - loss: 0.1042 - mae: 0.2100 - r_square: 0.8044 - val_loss: 0.0994 - val_mae: 0.2038 - val_r_square: 0.6982\n",
      "Epoch 18/50\n",
      "383/383 [==============================] - 2s 6ms/step - loss: 0.1026 - mae: 0.2083 - r_square: 0.8080 - val_loss: 0.1030 - val_mae: 0.2020 - val_r_square: 0.6829\n",
      "Epoch 19/50\n",
      "383/383 [==============================] - 3s 7ms/step - loss: 0.1014 - mae: 0.2066 - r_square: 0.8098 - val_loss: 0.1067 - val_mae: 0.2059 - val_r_square: 0.6702\n",
      "Epoch 19: early stopping\n",
      "109/109 [==============================] - 0s 2ms/step - loss: 0.1067 - mae: 0.2059 - r_square: 0.6702\n"
     ]
    }
   ],
   "source": [
    "history['ARLSTM'] = compile_and_fit(arlstm_model, multi_window)\n",
    "# IPython.display.clear_output()\n",
    "\n",
    "val_performance['ARLSTM'] = arlstm_model.evaluate(multi_window.val)\n",
    "test_performance['ARLSTM'] = arlstm_model.evaluate(multi_window.test, verbose=0)\n"
   ]
  },
  {
   "cell_type": "code",
   "execution_count": 24,
   "metadata": {},
   "outputs": [
    {
     "data": {
      "image/png": "[encoded data removed]",
      "text/plain": [
       "<Figure size 864x576 with 3 Axes>"
      ]
     },
     "metadata": {
      "needs_background": "light"
     },
     "output_type": "display_data"
    }
   ],
   "source": [
    "multi_window.plot(arlstm_model, plot_col=\"prod_wind\")"
   ]
  },
  {
   "cell_type": "markdown",
   "metadata": {},
   "source": [
    "#### Performance"
   ]
  },
  {
   "cell_type": "code",
   "execution_count": 25,
   "metadata": {},
   "outputs": [],
   "source": [
    "def model_loss(history):\n",
    "    plt.figure(figsize=(8, 4))\n",
    "    plt.plot(history.history['loss'], label='Train Loss')\n",
    "    plt.plot(history.history['val_loss'], label='Test Loss')\n",
    "    # plt.title('Model loss')\n",
    "    plt.ylabel('loss')\n",
    "    plt.xlabel('epochs')\n",
    "    plt.legend(loc='upper right')\n"
   ]
  },
  {
   "cell_type": "code",
   "execution_count": 26,
   "metadata": {},
   "outputs": [
    {
     "data": {
      "image/png": "[encoded data removed]",
      "text/plain": [
       "<Figure size 576x288 with 1 Axes>"
      ]
     },
     "metadata": {
      "needs_background": "light"
     },
     "output_type": "display_data"
    }
   ],
   "source": [
    "model_loss(history['ARLSTM'])"
   ]
  },
  {
   "cell_type": "code",
   "execution_count": 27,
   "metadata": {},
   "outputs": [
    {
     "data": {
      "image/png": "[encoded data removed]",
      "text/plain": [
       "<Figure size 432x288 with 1 Axes>"
      ]
     },
     "metadata": {
      "needs_background": "light"
     },
     "output_type": "display_data"
    }
   ],
   "source": [
    "x = np.arange(len(test_performance))\n",
    "width = 0.3\n",
    "\n",
    "mae_index = arlstm_model.metrics_names.index('mae')\n",
    "r2_index = arlstm_model.metrics_names.index('r_square')\n",
    "\n",
    "val_mae = [v[mae_index] for v in val_performance.values()]\n",
    "test_mae = [v[mae_index] for v in test_performance.values()]\n",
    "\n",
    "plt.bar(x - 0.17, val_mae, width, label='Validation')\n",
    "plt.bar(x + 0.17, test_mae, width, label='Test')\n",
    "plt.xticks(ticks=x, labels=test_performance.keys(),\n",
    "           rotation=45, ha='right')\n",
    "plt.ylabel('MAE (average over all outputs)')\n",
    "_ = plt.legend()\n"
   ]
  },
  {
   "cell_type": "code",
   "execution_count": 28,
   "metadata": {},
   "outputs": [
    {
     "name": "stdout",
     "output_type": "stream",
     "text": [
      "Model on test set    MAE     R²\n",
      "----------------- ------ ------\n",
      "ARLSTM:           0.2375 0.5064\n"
     ]
    }
   ],
   "source": [
    "print(f'{\"Model on test set\":17s}    MAE     R²')\n",
    "print('----------------- ------ ------')\n",
    "for name, value in test_performance.items():\n",
    "    print(f'{name+\":\":17s} {value[mae_index]:0.4f} {value[r2_index]:0.4f}')\n"
   ]
  },
  {
   "cell_type": "code",
   "execution_count": 29,
   "metadata": {},
   "outputs": [
    {
     "data": {
      "text/plain": [
       "dict_items([('ARLSTM', [0.1786089688539505, 0.2374729961156845, 0.5063579678535461])])"
      ]
     },
     "execution_count": 29,
     "metadata": {},
     "output_type": "execute_result"
    }
   ],
   "source": [
    "test_performance.items()"
   ]
  },
  {
   "cell_type": "code",
   "execution_count": 31,
   "metadata": {},
   "outputs": [
    {
     "data": {
      "text/plain": [
       "['loss', 'mae', 'r_square']"
      ]
     },
     "execution_count": 31,
     "metadata": {},
     "output_type": "execute_result"
    }
   ],
   "source": [
    "arlstm_model.metrics_names"
   ]
  },
  {
   "cell_type": "code",
   "execution_count": null,
   "metadata": {},
   "outputs": [],
   "source": []
  }
 ],
 "metadata": {
  "kernelspec": {
   "display_name": "Python 3.10.7 64-bit (microsoft store)",
   "language": "python",
   "name": "python3"
  },
  "language_info": {
   "codemirror_mode": {
    "name": "ipython",
    "version": 3
   },
   "file_extension": ".py",
   "mimetype": "text/x-python",
   "name": "python",
   "nbconvert_exporter": "python",
   "pygments_lexer": "ipython3",
   "version": "3.10.7"
  },
  "orig_nbformat": 4,
  "vscode": {
   "interpreter": {
    "hash": "18e9655652794916721c836f64f0f2c40614fd3025e6f3f5246a082aecd982be"
   }
  }
 },
 "nbformat": 4,
 "nbformat_minor": 2
}
