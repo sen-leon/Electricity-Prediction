{
 "cells": [
  {
   "cell_type": "code",
<<<<<<< HEAD
   "execution_count": 1,
=======
   "execution_count": 2,
>>>>>>> 075aff81303cbe9c4f16812da7dab24b0c2daffd
   "metadata": {},
   "outputs": [],
   "source": [
    "import matplotlib.pyplot as plt\n",
    "import numpy as np\n",
    "import pandas as pd\n",
    "import tensorflow as tf\n",
    "import seaborn as sns\n",
    "\n",
    "from sklearn.metrics import accuracy_score, precision_score, recall_score\n",
    "from sklearn.model_selection import train_test_split\n",
    "from tensorflow.keras import layers, losses\n",
    "# from tensorflow.keras.datasets import fashion_mnist\n",
    "from tensorflow.keras.models import Model, Sequential\n",
    "from tensorflow.keras.backend import clear_session\n",
    "from tensorflow.keras.layers import Dense, Input"
   ]
  },
  {
   "cell_type": "code",
<<<<<<< HEAD
   "execution_count": 2,
   "metadata": {},
   "outputs": [
    {
     "data": {
      "text/html": [
       "<div>\n",
       "<style scoped>\n",
       "    .dataframe tbody tr th:only-of-type {\n",
       "        vertical-align: middle;\n",
       "    }\n",
       "\n",
       "    .dataframe tbody tr th {\n",
       "        vertical-align: top;\n",
       "    }\n",
       "\n",
       "    .dataframe thead tr th {\n",
       "        text-align: left;\n",
       "    }\n",
       "</style>\n",
       "<table border=\"1\" class=\"dataframe\">\n",
       "  <thead>\n",
       "    <tr>\n",
       "      <th></th>\n",
       "      <th colspan=\"10\" halign=\"left\">temp</th>\n",
       "      <th>...</th>\n",
       "      <th colspan=\"10\" halign=\"left\">sun</th>\n",
       "    </tr>\n",
       "    <tr>\n",
       "      <th></th>\n",
       "      <th>00102</th>\n",
       "      <th>00161</th>\n",
       "      <th>00164</th>\n",
       "      <th>00183</th>\n",
       "      <th>00198</th>\n",
       "      <th>00232</th>\n",
       "      <th>00282</th>\n",
       "      <th>00298</th>\n",
       "      <th>00303</th>\n",
       "      <th>00342</th>\n",
       "      <th>...</th>\n",
       "      <th>04177</th>\n",
       "      <th>04271</th>\n",
       "      <th>04336</th>\n",
       "      <th>04393</th>\n",
       "      <th>04464</th>\n",
       "      <th>04466</th>\n",
       "      <th>04501</th>\n",
       "      <th>04625</th>\n",
       "      <th>04642</th>\n",
       "      <th>04745</th>\n",
       "    </tr>\n",
       "  </thead>\n",
       "  <tbody>\n",
       "    <tr>\n",
       "      <th>2020-01-01 00:00:00+00:00</th>\n",
       "      <td>279.65</td>\n",
       "      <td>272.85</td>\n",
       "      <td>274.85</td>\n",
       "      <td>277.35</td>\n",
       "      <td>271.45</td>\n",
       "      <td>274.85</td>\n",
       "      <td>267.85</td>\n",
       "      <td>275.85</td>\n",
       "      <td>277.15</td>\n",
       "      <td>275.65</td>\n",
       "      <td>...</td>\n",
       "      <td>1027.347777</td>\n",
       "      <td>1040.534392</td>\n",
       "      <td>1048.137931</td>\n",
       "      <td>1021.459521</td>\n",
       "      <td>941.329432</td>\n",
       "      <td>938.997257</td>\n",
       "      <td>812.613654</td>\n",
       "      <td>886.156657</td>\n",
       "      <td>977.988571</td>\n",
       "      <td>839.962897</td>\n",
       "    </tr>\n",
       "    <tr>\n",
       "      <th>2020-01-01 01:00:00+00:00</th>\n",
       "      <td>279.35</td>\n",
       "      <td>272.85</td>\n",
       "      <td>275.35</td>\n",
       "      <td>277.55</td>\n",
       "      <td>271.05</td>\n",
       "      <td>274.35</td>\n",
       "      <td>267.25</td>\n",
       "      <td>276.65</td>\n",
       "      <td>276.55</td>\n",
       "      <td>274.95</td>\n",
       "      <td>...</td>\n",
       "      <td>1027.347777</td>\n",
       "      <td>1040.534392</td>\n",
       "      <td>1048.137931</td>\n",
       "      <td>1021.459521</td>\n",
       "      <td>941.329432</td>\n",
       "      <td>938.997257</td>\n",
       "      <td>812.613654</td>\n",
       "      <td>886.156657</td>\n",
       "      <td>977.988571</td>\n",
       "      <td>839.962897</td>\n",
       "    </tr>\n",
       "    <tr>\n",
       "      <th>2020-01-01 02:00:00+00:00</th>\n",
       "      <td>279.05</td>\n",
       "      <td>271.65</td>\n",
       "      <td>275.35</td>\n",
       "      <td>277.15</td>\n",
       "      <td>270.55</td>\n",
       "      <td>274.75</td>\n",
       "      <td>268.75</td>\n",
       "      <td>276.75</td>\n",
       "      <td>276.75</td>\n",
       "      <td>273.95</td>\n",
       "      <td>...</td>\n",
       "      <td>1027.347777</td>\n",
       "      <td>1040.534392</td>\n",
       "      <td>1048.137931</td>\n",
       "      <td>1021.459521</td>\n",
       "      <td>941.329432</td>\n",
       "      <td>938.997257</td>\n",
       "      <td>812.613654</td>\n",
       "      <td>886.156657</td>\n",
       "      <td>977.988571</td>\n",
       "      <td>839.962897</td>\n",
       "    </tr>\n",
       "    <tr>\n",
       "      <th>2020-01-01 03:00:00+00:00</th>\n",
       "      <td>278.95</td>\n",
       "      <td>272.55</td>\n",
       "      <td>275.25</td>\n",
       "      <td>277.45</td>\n",
       "      <td>269.75</td>\n",
       "      <td>274.65</td>\n",
       "      <td>268.95</td>\n",
       "      <td>276.65</td>\n",
       "      <td>276.35</td>\n",
       "      <td>272.45</td>\n",
       "      <td>...</td>\n",
       "      <td>0.000000</td>\n",
       "      <td>0.000000</td>\n",
       "      <td>0.000000</td>\n",
       "      <td>0.000000</td>\n",
       "      <td>0.000000</td>\n",
       "      <td>0.000000</td>\n",
       "      <td>0.000000</td>\n",
       "      <td>0.000000</td>\n",
       "      <td>0.000000</td>\n",
       "      <td>0.000000</td>\n",
       "    </tr>\n",
       "    <tr>\n",
       "      <th>2020-01-01 04:00:00+00:00</th>\n",
       "      <td>278.15</td>\n",
       "      <td>273.45</td>\n",
       "      <td>275.35</td>\n",
       "      <td>277.45</td>\n",
       "      <td>268.55</td>\n",
       "      <td>274.65</td>\n",
       "      <td>268.85</td>\n",
       "      <td>276.55</td>\n",
       "      <td>276.25</td>\n",
       "      <td>272.05</td>\n",
       "      <td>...</td>\n",
       "      <td>0.000000</td>\n",
       "      <td>0.000000</td>\n",
       "      <td>0.000000</td>\n",
       "      <td>0.000000</td>\n",
       "      <td>0.000000</td>\n",
       "      <td>0.000000</td>\n",
       "      <td>0.000000</td>\n",
       "      <td>0.000000</td>\n",
       "      <td>0.000000</td>\n",
       "      <td>0.000000</td>\n",
       "    </tr>\n",
       "  </tbody>\n",
       "</table>\n",
       "<p>5 rows × 468 columns</p>\n",
       "</div>"
      ],
      "text/plain": [
       "                             temp                                          \\\n",
       "                            00102   00161   00164   00183   00198   00232   \n",
       "2020-01-01 00:00:00+00:00  279.65  272.85  274.85  277.35  271.45  274.85   \n",
       "2020-01-01 01:00:00+00:00  279.35  272.85  275.35  277.55  271.05  274.35   \n",
       "2020-01-01 02:00:00+00:00  279.05  271.65  275.35  277.15  270.55  274.75   \n",
       "2020-01-01 03:00:00+00:00  278.95  272.55  275.25  277.45  269.75  274.65   \n",
       "2020-01-01 04:00:00+00:00  278.15  273.45  275.35  277.45  268.55  274.65   \n",
       "\n",
       "                                                           ...          sun  \\\n",
       "                            00282   00298   00303   00342  ...        04177   \n",
       "2020-01-01 00:00:00+00:00  267.85  275.85  277.15  275.65  ...  1027.347777   \n",
       "2020-01-01 01:00:00+00:00  267.25  276.65  276.55  274.95  ...  1027.347777   \n",
       "2020-01-01 02:00:00+00:00  268.75  276.75  276.75  273.95  ...  1027.347777   \n",
       "2020-01-01 03:00:00+00:00  268.95  276.65  276.35  272.45  ...     0.000000   \n",
       "2020-01-01 04:00:00+00:00  268.85  276.55  276.25  272.05  ...     0.000000   \n",
       "\n",
       "                                                                              \\\n",
       "                                 04271        04336        04393       04464   \n",
       "2020-01-01 00:00:00+00:00  1040.534392  1048.137931  1021.459521  941.329432   \n",
       "2020-01-01 01:00:00+00:00  1040.534392  1048.137931  1021.459521  941.329432   \n",
       "2020-01-01 02:00:00+00:00  1040.534392  1048.137931  1021.459521  941.329432   \n",
       "2020-01-01 03:00:00+00:00     0.000000     0.000000     0.000000    0.000000   \n",
       "2020-01-01 04:00:00+00:00     0.000000     0.000000     0.000000    0.000000   \n",
       "\n",
       "                                                                           \\\n",
       "                                04466       04501       04625       04642   \n",
       "2020-01-01 00:00:00+00:00  938.997257  812.613654  886.156657  977.988571   \n",
       "2020-01-01 01:00:00+00:00  938.997257  812.613654  886.156657  977.988571   \n",
       "2020-01-01 02:00:00+00:00  938.997257  812.613654  886.156657  977.988571   \n",
       "2020-01-01 03:00:00+00:00    0.000000    0.000000    0.000000    0.000000   \n",
       "2020-01-01 04:00:00+00:00    0.000000    0.000000    0.000000    0.000000   \n",
       "\n",
       "                                       \n",
       "                                04745  \n",
       "2020-01-01 00:00:00+00:00  839.962897  \n",
       "2020-01-01 01:00:00+00:00  839.962897  \n",
       "2020-01-01 02:00:00+00:00  839.962897  \n",
       "2020-01-01 03:00:00+00:00    0.000000  \n",
       "2020-01-01 04:00:00+00:00    0.000000  \n",
       "\n",
       "[5 rows x 468 columns]"
      ]
     },
     "execution_count": 2,
     "metadata": {},
     "output_type": "execute_result"
    }
   ],
   "source": [
    "# Features that will be extracted from the EM data and their shorter handle\n",
    "wx_params = {\n",
    "    \"temperature_air_mean_200\": \"temp\",\n",
    "    \"wind_speed\": \"wind\",\n",
    "    \"pressure_air_site\": \"press\",\n",
    "    # \"precipitation_height\": \"precip\",\n",
    "    \"sunshine_duration\": \"sun\"\n",
    "}\n",
    "outlier_columns=[\"01228\", \"02429\", \"04039\", \"00656\", \"00954\", \"03897\", \"03946\", \"00603\"]\n",
    "na_columns = [\"00769\", \"00850\", \"02437\", \"00769\", \"00850\", \"02303\",\t\"02437\", \"02564\", \"03513\", \"04371\"]\n",
    "# Concatenate all weather parameters into one data frame\n",
    "wx_dict = {}\n",
    "for name, handle in wx_params.items():\n",
    "    wx_dict[handle]=(pd.read_pickle(\"../data/weather_all_stations/cleaned/\"+name+\".pkl\")).drop(columns=outlier_columns+na_columns)\n",
    "\n",
    "df = pd.concat(wx_dict.values(), axis=1, ignore_index=False, verify_integrity=True, keys=wx_dict.keys())\n",
    "df.head()"
=======
   "execution_count": 96,
   "metadata": {},
   "outputs": [
    {
     "name": "stdout",
     "output_type": "stream",
     "text": [
      "(17544, 528)\n",
      "(17544, 132)\n",
      "(17544, 4, 132)\n"
     ]
    }
   ],
   "source": [
    "parameters = [\"wind_speed\", \"sunshine_duration\",\n",
    "            \"pressure_air_site\", \"temperature_air_mean_200\", \"precipitation_height\"]\n",
    "# parameter=parameters[0]\n",
    "# print(parameter)\n",
    "# path=\"../data/weather/\"+parameters[0]+\"_2021.pkl\"\n",
    "# weather = pd.read_pickle(path)\n",
    "\n",
    "def load_weatherdata(parameters):\n",
    "    # means = pd.DataFrame()\n",
    "    weather = pd.DataFrame()\n",
    "    # weather_array = []\n",
    "    # scaler_dict={}\n",
    "    for parameter in parameters:\n",
    "        path=\"../data/weather_all_stations/cleaned/\"+parameter+\".pkl\"\n",
    "        import_df = pd.read_pickle(path)\n",
    "        index = import_df.index\n",
    "        # columns = import_df.columns\n",
    "        # column_list=columns.tolist()\n",
    "        # scaled = pd.DataFrame(data = scaler.fit_transform(import_df), index=index, columns=columns)\n",
    "        # means[parameter] = scaled.mean(axis=1)\n",
    "        weather = pd.concat([weather, import_df], axis=1)\n",
    "    # print(weather.head())\n",
    "    import_shape=import_df.shape\n",
    "    return weather, import_shape\n",
    "# w2 = weather.melt(var_name='Column', value_name='Rescaled')\n",
    "\n",
    "df, import_shape = load_weatherdata(parameters[:-1])\n",
    "print(df.to_numpy().shape)\n",
    "print(import_shape)\n",
    "import_shape = (df.shape[0], int(df.shape[-1]/import_shape[-1]), import_shape[-1])\n",
    "print(import_shape)"
>>>>>>> 075aff81303cbe9c4f16812da7dab24b0c2daffd
   ]
  },
  {
   "cell_type": "code",
<<<<<<< HEAD
   "execution_count": 3,
   "metadata": {},
   "outputs": [],
   "source": [
    "# df.clip(upper=df.mean()+5*df.std(), lower=df.mean()-5*df.std(), inplace=True, axis=1)\n",
    "# df.head()"
   ]
  },
  {
   "cell_type": "code",
   "execution_count": 4,
   "metadata": {},
   "outputs": [
    {
     "data": {
      "text/plain": [
       "(4, 117)"
      ]
     },
     "execution_count": 4,
     "metadata": {},
     "output_type": "execute_result"
    }
   ],
   "source": [
    "df.columns.levshape"
   ]
  },
  {
   "cell_type": "code",
   "execution_count": 5,
=======
   "execution_count": 97,
>>>>>>> 075aff81303cbe9c4f16812da7dab24b0c2daffd
   "metadata": {},
   "outputs": [],
   "source": [
    "column_indices = {name: i for i, name in enumerate(df.columns)}\n",
    "\n",
    "n = len(df)\n",
    "df_train = df[0:int(n*0.7)]\n",
    "df_val = df[int(n*0.7):int(n*0.9)]\n",
<<<<<<< HEAD
    "df_test = df[int(n*0.9):]\n"
=======
    "df_test = df[int(n*0.9):]"
>>>>>>> 075aff81303cbe9c4f16812da7dab24b0c2daffd
   ]
  },
  {
   "cell_type": "code",
<<<<<<< HEAD
   "execution_count": 6,
   "metadata": {},
   "outputs": [
    {
     "data": {
      "image/png": "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",
=======
   "execution_count": 98,
   "metadata": {},
   "outputs": [
    {
     "name": "stderr",
     "output_type": "stream",
     "text": [
      "c:\\Users\\Leon1\\AppData\\Local\\Programs\\Python\\Python310\\lib\\site-packages\\numpy\\lib\\nanfunctions.py:1095: RuntimeWarning: All-NaN slice encountered\n",
      "  result = np.apply_along_axis(_nanmedian1d, axis, a, overwrite_input)\n",
      "c:\\Users\\Leon1\\AppData\\Local\\Programs\\Python\\Python310\\lib\\site-packages\\numpy\\lib\\nanfunctions.py:1559: RuntimeWarning: All-NaN slice encountered\n",
      "  r, k = function_base._ureduce(a,\n"
     ]
    },
    {
     "data": {
      "image/png": "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",
>>>>>>> 075aff81303cbe9c4f16812da7dab24b0c2daffd
      "text/plain": [
       "<Figure size 864x432 with 1 Axes>"
      ]
     },
     "metadata": {
      "needs_background": "light"
     },
     "output_type": "display_data"
    }
   ],
   "source": [
    "from sklearn.preprocessing import RobustScaler, MinMaxScaler\n",
    "scaler = RobustScaler()\n",
    "\n",
    "scaler.fit(df_train)\n",
    "# scale all sets according to train set, preserve data frames\n",
    "df_train = pd.DataFrame(scaler.transform(df_train),\n",
    "                        columns=df.columns, index=df_train.index).clip(lower=-3)\n",
    "df_val = pd.DataFrame(scaler.transform(df_val),\n",
    "                        columns=df.columns, index=df_val.index)\n",
    "df_test = pd.DataFrame(scaler.transform(df_test),\n",
    "                        columns=df.columns, index=df_test.index)\n",
    "plt.figure(figsize=(12, 6))\n",
    "\n",
    "ax = sns.violinplot(x=\"Parameter\", y=\"Rescaled\", data=df_train.melt(var_name='Parameter', value_name='Rescaled'))\n",
    "# _ = ax.set_xticklabels(df.keys(), rotation=90)"
   ]
  },
  {
   "cell_type": "code",
<<<<<<< HEAD
   "execution_count": 7,
   "metadata": {},
   "outputs": [
    {
     "data": {
      "text/html": [
       "<div>\n",
       "<style scoped>\n",
       "    .dataframe tbody tr th:only-of-type {\n",
       "        vertical-align: middle;\n",
       "    }\n",
       "\n",
       "    .dataframe tbody tr th {\n",
       "        vertical-align: top;\n",
       "    }\n",
       "\n",
       "    .dataframe thead tr th {\n",
       "        text-align: left;\n",
       "    }\n",
       "</style>\n",
       "<table border=\"1\" class=\"dataframe\">\n",
       "  <thead>\n",
       "  </thead>\n",
       "  <tbody>\n",
       "    <tr>\n",
       "      <th>2020-01-01 00:00:00+00:00</th>\n",
       "    </tr>\n",
       "    <tr>\n",
       "      <th>2020-01-01 01:00:00+00:00</th>\n",
       "    </tr>\n",
       "    <tr>\n",
       "      <th>2020-01-01 02:00:00+00:00</th>\n",
       "    </tr>\n",
       "    <tr>\n",
       "      <th>2020-01-01 03:00:00+00:00</th>\n",
       "    </tr>\n",
       "    <tr>\n",
       "      <th>2020-01-01 04:00:00+00:00</th>\n",
       "    </tr>\n",
       "    <tr>\n",
       "      <th>...</th>\n",
       "    </tr>\n",
       "    <tr>\n",
       "      <th>2021-12-31 19:00:00+00:00</th>\n",
       "    </tr>\n",
       "    <tr>\n",
       "      <th>2021-12-31 20:00:00+00:00</th>\n",
       "    </tr>\n",
       "    <tr>\n",
       "      <th>2021-12-31 21:00:00+00:00</th>\n",
       "    </tr>\n",
       "    <tr>\n",
       "      <th>2021-12-31 22:00:00+00:00</th>\n",
       "    </tr>\n",
       "    <tr>\n",
       "      <th>2021-12-31 23:00:00+00:00</th>\n",
       "    </tr>\n",
       "  </tbody>\n",
       "</table>\n",
       "<p>17544 rows × 0 columns</p>\n",
       "</div>"
      ],
      "text/plain": [
       "Empty DataFrame\n",
       "Columns: []\n",
       "Index: [2020-01-01 00:00:00+00:00, 2020-01-01 01:00:00+00:00, 2020-01-01 02:00:00+00:00, 2020-01-01 03:00:00+00:00, 2020-01-01 04:00:00+00:00, 2020-01-01 05:00:00+00:00, 2020-01-01 06:00:00+00:00, 2020-01-01 07:00:00+00:00, 2020-01-01 08:00:00+00:00, 2020-01-01 09:00:00+00:00, 2020-01-01 10:00:00+00:00, 2020-01-01 11:00:00+00:00, 2020-01-01 12:00:00+00:00, 2020-01-01 13:00:00+00:00, 2020-01-01 14:00:00+00:00, 2020-01-01 15:00:00+00:00, 2020-01-01 16:00:00+00:00, 2020-01-01 17:00:00+00:00, 2020-01-01 18:00:00+00:00, 2020-01-01 19:00:00+00:00, 2020-01-01 20:00:00+00:00, 2020-01-01 21:00:00+00:00, 2020-01-01 22:00:00+00:00, 2020-01-01 23:00:00+00:00, 2020-01-02 00:00:00+00:00, 2020-01-02 01:00:00+00:00, 2020-01-02 02:00:00+00:00, 2020-01-02 03:00:00+00:00, 2020-01-02 04:00:00+00:00, 2020-01-02 05:00:00+00:00, 2020-01-02 06:00:00+00:00, 2020-01-02 07:00:00+00:00, 2020-01-02 08:00:00+00:00, 2020-01-02 09:00:00+00:00, 2020-01-02 10:00:00+00:00, 2020-01-02 11:00:00+00:00, 2020-01-02 12:00:00+00:00, 2020-01-02 13:00:00+00:00, 2020-01-02 14:00:00+00:00, 2020-01-02 15:00:00+00:00, 2020-01-02 16:00:00+00:00, 2020-01-02 17:00:00+00:00, 2020-01-02 18:00:00+00:00, 2020-01-02 19:00:00+00:00, 2020-01-02 20:00:00+00:00, 2020-01-02 21:00:00+00:00, 2020-01-02 22:00:00+00:00, 2020-01-02 23:00:00+00:00, 2020-01-03 00:00:00+00:00, 2020-01-03 01:00:00+00:00, 2020-01-03 02:00:00+00:00, 2020-01-03 03:00:00+00:00, 2020-01-03 04:00:00+00:00, 2020-01-03 05:00:00+00:00, 2020-01-03 06:00:00+00:00, 2020-01-03 07:00:00+00:00, 2020-01-03 08:00:00+00:00, 2020-01-03 09:00:00+00:00, 2020-01-03 10:00:00+00:00, 2020-01-03 11:00:00+00:00, 2020-01-03 12:00:00+00:00, 2020-01-03 13:00:00+00:00, 2020-01-03 14:00:00+00:00, 2020-01-03 15:00:00+00:00, 2020-01-03 16:00:00+00:00, 2020-01-03 17:00:00+00:00, 2020-01-03 18:00:00+00:00, 2020-01-03 19:00:00+00:00, 2020-01-03 20:00:00+00:00, 2020-01-03 21:00:00+00:00, 2020-01-03 22:00:00+00:00, 2020-01-03 23:00:00+00:00, 2020-01-04 00:00:00+00:00, 2020-01-04 01:00:00+00:00, 2020-01-04 02:00:00+00:00, 2020-01-04 03:00:00+00:00, 2020-01-04 04:00:00+00:00, 2020-01-04 05:00:00+00:00, 2020-01-04 06:00:00+00:00, 2020-01-04 07:00:00+00:00, 2020-01-04 08:00:00+00:00, 2020-01-04 09:00:00+00:00, 2020-01-04 10:00:00+00:00, 2020-01-04 11:00:00+00:00, 2020-01-04 12:00:00+00:00, 2020-01-04 13:00:00+00:00, 2020-01-04 14:00:00+00:00, 2020-01-04 15:00:00+00:00, 2020-01-04 16:00:00+00:00, 2020-01-04 17:00:00+00:00, 2020-01-04 18:00:00+00:00, 2020-01-04 19:00:00+00:00, 2020-01-04 20:00:00+00:00, 2020-01-04 21:00:00+00:00, 2020-01-04 22:00:00+00:00, 2020-01-04 23:00:00+00:00, 2020-01-05 00:00:00+00:00, 2020-01-05 01:00:00+00:00, 2020-01-05 02:00:00+00:00, 2020-01-05 03:00:00+00:00, ...]\n",
       "\n",
       "[17544 rows x 0 columns]"
      ]
     },
     "execution_count": 7,
     "metadata": {},
     "output_type": "execute_result"
    }
   ],
   "source": [
    "df.loc[:,df.isna().any()]"
   ]
  },
  {
   "cell_type": "code",
   "execution_count": 8,
   "metadata": {},
   "outputs": [],
   "source": [
    "desc=df_train[\"wind\"].describe().transpose() # .drop(columns=[\"01228\", \"02429\", \"04039\", \"00656\", \"00954\", \"03897\", \"03946\", \"00603\"]\n",
    "desc_orig=df[\"sun\"].describe() #"
   ]
  },
  {
   "cell_type": "code",
   "execution_count": 9,
   "metadata": {},
   "outputs": [],
   "source": [
    "outliers=(df_train[\"sun\"].max()>5)"
   ]
  },
  {
   "cell_type": "code",
   "execution_count": 10,
=======
   "execution_count": 40,
>>>>>>> 075aff81303cbe9c4f16812da7dab24b0c2daffd
   "metadata": {},
   "outputs": [
    {
     "name": "stdout",
     "output_type": "stream",
     "text": [
<<<<<<< HEAD
      "Series([], dtype: bool)\n"
=======
      "48\n",
      "(12280, 48)\n",
      "(12280, 48)\n"
>>>>>>> 075aff81303cbe9c4f16812da7dab24b0c2daffd
     ]
    }
   ],
   "source": [
<<<<<<< HEAD
    "print(outliers[outliers==True])"
   ]
  },
  {
   "cell_type": "code",
   "execution_count": 11,
   "metadata": {},
   "outputs": [
    {
     "data": {
      "text/plain": [
       "(4, 117)"
      ]
     },
     "execution_count": 11,
     "metadata": {},
     "output_type": "execute_result"
    }
   ],
   "source": [
    "df.columns.levshape\n",
    "# df.describe()"
   ]
  },
  {
   "cell_type": "code",
   "execution_count": 12,
   "metadata": {},
   "outputs": [
    {
     "name": "stdout",
     "output_type": "stream",
     "text": [
      "(4, 117)\n",
      "(12280, 4, 117)\n",
      "(12280, 468)\n"
     ]
    }
   ],
   "source": [
    "X_train = df_train.to_numpy().reshape(-1, *df.columns.levshape)\n",
    "X_val = df_val.to_numpy().reshape(-1, *df.columns.levshape)\n",
    "X_test = df_test.to_numpy().reshape(-1, *df.columns.levshape)\n",
    "input_dim=X_train.shape[1:]\n",
    "\n",
    "# this fixes the latent space dimension, feel free to play around with\n",
    "# the values for your own experiments, but leave it at 2 for the assignment\n",
    "latent_dim = 20\n",
=======
    "X_train = df_train.to_numpy()\n",
    "input_dim=df_train.shape[1]\n",
    "\n",
    "# this fixes the latent space dimension, feel free to play around with\n",
    "# the values for your own experiments, but leave it at 2 for the assignment\n",
    "latent_dim = 10\n",
>>>>>>> 075aff81303cbe9c4f16812da7dab24b0c2daffd
    "print(input_dim)\n",
    "print(X_train.shape)\n",
    "print(df_train.shape)"
   ]
  },
  {
   "cell_type": "code",
<<<<<<< HEAD
   "execution_count": 13,
=======
   "execution_count": 45,
>>>>>>> 075aff81303cbe9c4f16812da7dab24b0c2daffd
   "metadata": {},
   "outputs": [
    {
     "name": "stdout",
     "output_type": "stream",
     "text": [
      "Model: \"sequential\"\n",
      "_________________________________________________________________\n",
      " Layer (type)                Output Shape              Param #   \n",
      "=================================================================\n",
<<<<<<< HEAD
      " dense (Dense)               (None, 4, 20)             2360      \n",
      "                                                                 \n",
      " flatten (Flatten)           (None, 80)                0         \n",
      "                                                                 \n",
      " dense_1 (Dense)             (None, 468)               37908     \n",
      "                                                                 \n",
      " reshape (Reshape)           (None, 4, 117)            0         \n",
      "                                                                 \n",
      "=================================================================\n",
      "Total params: 40,268\n",
      "Trainable params: 40,268\n",
=======
      " dense (Dense)               (None, 10)                490       \n",
      "                                                                 \n",
      " dense_1 (Dense)             (None, 48)                528       \n",
      "                                                                 \n",
      "=================================================================\n",
      "Total params: 1,018\n",
      "Trainable params: 1,018\n",
>>>>>>> 075aff81303cbe9c4f16812da7dab24b0c2daffd
      "Non-trainable params: 0\n",
      "_________________________________________________________________\n"
     ]
    }
   ],
   "source": [
    "from tensorflow.keras.backend import clear_session\n",
    "\n",
    "clear_session()\n",
    "\n",
    "# this is very similar to what we've done before. First, instantiate a\n",
    "# \"Sequential()\" model in a variable called \"shallow_ae\". Then, add a\n",
    "# \"Dense()\" layer to shallow_ae with latent_dim neurons, an appropriate \"input_shape\"\n",
    "# and activation \"relu\". Afterwards, add another Dense layer with an appropriate\n",
    "# number of neurons to be able to construct an MNIST image and \"sigmoid\"\n",
    "# activation.\n",
    "# YOUR CODE HERE\n",
    "shallow_ae=Sequential()\n",
<<<<<<< HEAD
    "shallow_ae.add(Dense(latent_dim, input_shape=input_dim,  activation='tanh'))\n",
    "shallow_ae.add(layers.Flatten())\n",
    "shallow_ae.add(Dense(X_train.shape[1]*X_train.shape[2], activation='tanh'))\n",
    "shallow_ae.add(layers.Reshape(df.columns.levshape))\n",
=======
    "shallow_ae.add(Dense(latent_dim, input_shape=[input_dim],  activation='tanh'))\n",
    "shallow_ae.add(Dense(X_train.shape[1], activation='tanh'))\n",
>>>>>>> 075aff81303cbe9c4f16812da7dab24b0c2daffd
    "\n",
    "shallow_ae.summary()\n",
    "\n",
    "# plot_model(shallow_ae)"
   ]
  },
  {
   "cell_type": "code",
<<<<<<< HEAD
   "execution_count": 14,
   "metadata": {},
   "outputs": [
    {
     "ename": "ValueError",
     "evalue": "Exception encountered when calling layer \"reshape\" (type Reshape).\n\ntotal size of new array must be unchanged, input_shape = [20], output_shape = [4, 117]\n\nCall arguments received:\n  • inputs=tf.Tensor(shape=(None, 20), dtype=float32)",
     "output_type": "error",
     "traceback": [
      "\u001b[1;31m---------------------------------------------------------------------------\u001b[0m",
      "\u001b[1;31mValueError\u001b[0m                                Traceback (most recent call last)",
      "\u001b[1;32mc:\\Users\\sengu\\Documents\\GitHub\\Electricity-Prediction\\src\\autoenc_weather_all_stations.ipynb Zelle 14\u001b[0m in \u001b[0;36m<cell line: 11>\u001b[1;34m()\u001b[0m\n\u001b[0;32m      <a href='vscode-notebook-cell:/c%3A/Users/sengu/Documents/GitHub/Electricity-Prediction/src/autoenc_weather_all_stations.ipynb#X20sZmlsZQ%3D%3D?line=8'>9</a>\u001b[0m \u001b[39m# make them addressable models\u001b[39;00m\n\u001b[0;32m     <a href='vscode-notebook-cell:/c%3A/Users/sengu/Documents/GitHub/Electricity-Prediction/src/autoenc_weather_all_stations.ipynb#X20sZmlsZQ%3D%3D?line=9'>10</a>\u001b[0m shallow_encoder \u001b[39m=\u001b[39m Model(input_img, encoder_layer(input_img))\n\u001b[1;32m---> <a href='vscode-notebook-cell:/c%3A/Users/sengu/Documents/GitHub/Electricity-Prediction/src/autoenc_weather_all_stations.ipynb#X20sZmlsZQ%3D%3D?line=10'>11</a>\u001b[0m shallow_decoder \u001b[39m=\u001b[39m Model(input_lat, decoder_layer(input_lat))\n\u001b[0;32m     <a href='vscode-notebook-cell:/c%3A/Users/sengu/Documents/GitHub/Electricity-Prediction/src/autoenc_weather_all_stations.ipynb#X20sZmlsZQ%3D%3D?line=12'>13</a>\u001b[0m shallow_encoder\u001b[39m.\u001b[39msummary()\n\u001b[0;32m     <a href='vscode-notebook-cell:/c%3A/Users/sengu/Documents/GitHub/Electricity-Prediction/src/autoenc_weather_all_stations.ipynb#X20sZmlsZQ%3D%3D?line=13'>14</a>\u001b[0m shallow_decoder\u001b[39m.\u001b[39msummary()\n",
      "File \u001b[1;32mc:\\Users\\sengu\\AppData\\Local\\Programs\\Python\\Python310\\lib\\site-packages\\keras\\utils\\traceback_utils.py:67\u001b[0m, in \u001b[0;36mfilter_traceback.<locals>.error_handler\u001b[1;34m(*args, **kwargs)\u001b[0m\n\u001b[0;32m     65\u001b[0m \u001b[39mexcept\u001b[39;00m \u001b[39mException\u001b[39;00m \u001b[39mas\u001b[39;00m e:  \u001b[39m# pylint: disable=broad-except\u001b[39;00m\n\u001b[0;32m     66\u001b[0m   filtered_tb \u001b[39m=\u001b[39m _process_traceback_frames(e\u001b[39m.\u001b[39m__traceback__)\n\u001b[1;32m---> 67\u001b[0m   \u001b[39mraise\u001b[39;00m e\u001b[39m.\u001b[39mwith_traceback(filtered_tb) \u001b[39mfrom\u001b[39;00m \u001b[39mNone\u001b[39m\n\u001b[0;32m     68\u001b[0m \u001b[39mfinally\u001b[39;00m:\n\u001b[0;32m     69\u001b[0m   \u001b[39mdel\u001b[39;00m filtered_tb\n",
      "File \u001b[1;32mc:\\Users\\sengu\\AppData\\Local\\Programs\\Python\\Python310\\lib\\site-packages\\keras\\layers\\core\\reshape.py:110\u001b[0m, in \u001b[0;36mReshape._fix_unknown_dimension\u001b[1;34m(self, input_shape, output_shape)\u001b[0m\n\u001b[0;32m    108\u001b[0m   output_shape[unknown] \u001b[39m=\u001b[39m original \u001b[39m/\u001b[39m\u001b[39m/\u001b[39m known\n\u001b[0;32m    109\u001b[0m \u001b[39melif\u001b[39;00m original \u001b[39m!=\u001b[39m known:\n\u001b[1;32m--> 110\u001b[0m   \u001b[39mraise\u001b[39;00m \u001b[39mValueError\u001b[39;00m(msg)\n\u001b[0;32m    111\u001b[0m \u001b[39mreturn\u001b[39;00m output_shape\n",
      "\u001b[1;31mValueError\u001b[0m: Exception encountered when calling layer \"reshape\" (type Reshape).\n\ntotal size of new array must be unchanged, input_shape = [20], output_shape = [4, 117]\n\nCall arguments received:\n  • inputs=tf.Tensor(shape=(None, 20), dtype=float32)"
=======
   "execution_count": 46,
   "metadata": {},
   "outputs": [
    {
     "name": "stdout",
     "output_type": "stream",
     "text": [
      "Model: \"model\"\n",
      "_________________________________________________________________\n",
      " Layer (type)                Output Shape              Param #   \n",
      "=================================================================\n",
      " input_1 (InputLayer)        [(None, 48)]              0         \n",
      "                                                                 \n",
      " dense (Dense)               (None, 10)                490       \n",
      "                                                                 \n",
      "=================================================================\n",
      "Total params: 490\n",
      "Trainable params: 490\n",
      "Non-trainable params: 0\n",
      "_________________________________________________________________\n",
      "Model: \"model_1\"\n",
      "_________________________________________________________________\n",
      " Layer (type)                Output Shape              Param #   \n",
      "=================================================================\n",
      " input_2 (InputLayer)        [(None, 10)]              0         \n",
      "                                                                 \n",
      " dense_1 (Dense)             (None, 48)                528       \n",
      "                                                                 \n",
      "=================================================================\n",
      "Total params: 528\n",
      "Trainable params: 528\n",
      "Non-trainable params: 0\n",
      "_________________________________________________________________\n"
>>>>>>> 075aff81303cbe9c4f16812da7dab24b0c2daffd
     ]
    }
   ],
   "source": [
    "# create an input layer with the appropriate shape\n",
<<<<<<< HEAD
    "input_img = Input(shape=(*input_dim,))\n",
=======
    "input_img = Input(shape=(input_dim,))\n",
>>>>>>> 075aff81303cbe9c4f16812da7dab24b0c2daffd
    "input_lat = Input(shape=(latent_dim,))\n",
    "\n",
    "# extract the first shallow_ae layer\n",
    "encoder_layer = shallow_ae.layers[0]\n",
    "decoder_layer = shallow_ae.layers[-1]\n",
    "\n",
    "# make them addressable models\n",
    "shallow_encoder = Model(input_img, encoder_layer(input_img))\n",
    "shallow_decoder = Model(input_lat, decoder_layer(input_lat))\n",
    "\n",
    "shallow_encoder.summary()\n",
    "shallow_decoder.summary()\n",
    "\n",
    "# #plot_model(shallow_encoder)\n",
    "# plot_model(shallow_decoder)"
   ]
  },
  {
   "cell_type": "code",
<<<<<<< HEAD
   "execution_count": 15,
=======
   "execution_count": 47,
>>>>>>> 075aff81303cbe9c4f16812da7dab24b0c2daffd
   "metadata": {},
   "outputs": [
    {
     "name": "stdout",
     "output_type": "stream",
     "text": [
<<<<<<< HEAD
      "Epoch 1/15\n",
      "48/48 [==============================] - 1s 9ms/step - loss: 0.6071 - val_loss: 0.4154\n",
      "Epoch 2/15\n",
      "48/48 [==============================] - 0s 4ms/step - loss: 0.3965 - val_loss: 0.3665\n",
      "Epoch 3/15\n",
      "48/48 [==============================] - 0s 8ms/step - loss: 0.3610 - val_loss: 0.3455\n",
      "Epoch 4/15\n",
      "48/48 [==============================] - 0s 5ms/step - loss: 0.3383 - val_loss: 0.3290\n",
      "Epoch 5/15\n",
      "48/48 [==============================] - 0s 4ms/step - loss: 0.3212 - val_loss: 0.3167\n",
      "Epoch 6/15\n",
      "48/48 [==============================] - 0s 4ms/step - loss: 0.3086 - val_loss: 0.3069\n",
      "Epoch 7/15\n",
      "48/48 [==============================] - 0s 4ms/step - loss: 0.2992 - val_loss: 0.2996\n",
      "Epoch 8/15\n",
      "48/48 [==============================] - 0s 5ms/step - loss: 0.2920 - val_loss: 0.2937\n",
      "Epoch 9/15\n",
      "48/48 [==============================] - 0s 5ms/step - loss: 0.2863 - val_loss: 0.2889\n",
      "Epoch 10/15\n",
      "48/48 [==============================] - 0s 4ms/step - loss: 0.2817 - val_loss: 0.2849\n",
      "Epoch 11/15\n",
      "48/48 [==============================] - 0s 4ms/step - loss: 0.2777 - val_loss: 0.2814\n",
      "Epoch 12/15\n",
      "48/48 [==============================] - 0s 4ms/step - loss: 0.2743 - val_loss: 0.2784\n",
      "Epoch 13/15\n",
      "48/48 [==============================] - 0s 4ms/step - loss: 0.2713 - val_loss: 0.2758\n",
      "Epoch 14/15\n",
      "48/48 [==============================] - 0s 5ms/step - loss: 0.2686 - val_loss: 0.2734\n",
      "Epoch 15/15\n",
      "48/48 [==============================] - 0s 4ms/step - loss: 0.2662 - val_loss: 0.2711\n"
=======
      "Epoch 1/20\n",
      "48/48 [==============================] - 1s 7ms/step - loss: 0.8313 - val_loss: 0.6742\n",
      "Epoch 2/20\n",
      "48/48 [==============================] - 0s 3ms/step - loss: 0.6418 - val_loss: 0.5423\n",
      "Epoch 3/20\n",
      "48/48 [==============================] - 0s 3ms/step - loss: 0.5263 - val_loss: 0.4761\n",
      "Epoch 4/20\n",
      "48/48 [==============================] - 0s 3ms/step - loss: 0.4650 - val_loss: 0.4386\n",
      "Epoch 5/20\n",
      "48/48 [==============================] - 0s 4ms/step - loss: 0.4297 - val_loss: 0.4112\n",
      "Epoch 6/20\n",
      "48/48 [==============================] - 0s 3ms/step - loss: 0.4047 - val_loss: 0.3894\n",
      "Epoch 7/20\n",
      "48/48 [==============================] - 0s 3ms/step - loss: 0.3855 - val_loss: 0.3722\n",
      "Epoch 8/20\n",
      "48/48 [==============================] - 0s 3ms/step - loss: 0.3705 - val_loss: 0.3589\n",
      "Epoch 9/20\n",
      "48/48 [==============================] - 0s 3ms/step - loss: 0.3586 - val_loss: 0.3487\n",
      "Epoch 10/20\n",
      "48/48 [==============================] - 0s 3ms/step - loss: 0.3490 - val_loss: 0.3403\n",
      "Epoch 11/20\n",
      "48/48 [==============================] - 0s 4ms/step - loss: 0.3411 - val_loss: 0.3333\n",
      "Epoch 12/20\n",
      "48/48 [==============================] - 0s 3ms/step - loss: 0.3344 - val_loss: 0.3275\n",
      "Epoch 13/20\n",
      "48/48 [==============================] - 0s 3ms/step - loss: 0.3286 - val_loss: 0.3225\n",
      "Epoch 14/20\n",
      "48/48 [==============================] - 0s 3ms/step - loss: 0.3236 - val_loss: 0.3180\n",
      "Epoch 15/20\n",
      "48/48 [==============================] - 0s 3ms/step - loss: 0.3191 - val_loss: 0.3140\n",
      "Epoch 16/20\n",
      "48/48 [==============================] - 0s 3ms/step - loss: 0.3152 - val_loss: 0.3106\n",
      "Epoch 17/20\n",
      "48/48 [==============================] - 0s 3ms/step - loss: 0.3117 - val_loss: 0.3073\n",
      "Epoch 18/20\n",
      "48/48 [==============================] - 0s 3ms/step - loss: 0.3085 - val_loss: 0.3045\n",
      "Epoch 19/20\n",
      "48/48 [==============================] - 0s 3ms/step - loss: 0.3056 - val_loss: 0.3020\n",
      "Epoch 20/20\n",
      "48/48 [==============================] - 0s 3ms/step - loss: 0.3031 - val_loss: 0.2996\n"
>>>>>>> 075aff81303cbe9c4f16812da7dab24b0c2daffd
     ]
    }
   ],
   "source": [
    "shallow_ae.compile(optimizer=\"adam\", loss=\"mse\")\n",
<<<<<<< HEAD
    "history=shallow_ae.fit(X_train, X_train, epochs=15, batch_size=256, shuffle=True, validation_data=(X_val, X_val))"
=======
    "history=shallow_ae.fit(df_train, df_train, epochs=20, batch_size=256, shuffle=True, validation_data=(df_val, df_val))"
>>>>>>> 075aff81303cbe9c4f16812da7dab24b0c2daffd
   ]
  },
  {
   "cell_type": "code",
<<<<<<< HEAD
   "execution_count": 16,
=======
   "execution_count": 48,
>>>>>>> 075aff81303cbe9c4f16812da7dab24b0c2daffd
   "metadata": {},
   "outputs": [
    {
     "name": "stdout",
     "output_type": "stream",
     "text": [
<<<<<<< HEAD
      "(4, 117)\n"
=======
      "55/55 [==============================] - 0s 1ms/step\n",
      "[[ 0.76473427  0.77863276 -0.04636003 ...  0.50235444  0.4660454\n",
      "   0.3802947 ]\n",
      " [ 0.8033491   0.8059227   0.05471643 ...  0.4730283   0.45214173\n",
      "   0.35928348]\n",
      " [ 0.83455676  0.82647693  0.3353154  ...  0.40764463  0.43276617\n",
      "   0.32077324]\n",
      " ...\n",
      " [ 0.6130189   0.80017143 -0.19364247 ...  0.272279    0.08623426\n",
      "   0.08581538]\n",
      " [ 0.7227117   0.851439    0.6547946  ...  0.16521975  0.22698408\n",
      "   0.20175894]\n",
      " [ 0.7722853   0.8391369   0.69869244 ...  0.11028132  0.2792665\n",
      "   0.23812695]]\n"
     ]
    }
   ],
   "source": [
    "print(shallow_ae.predict(df_test))"
   ]
  },
  {
   "cell_type": "code",
   "execution_count": 55,
   "metadata": {},
   "outputs": [
    {
     "name": "stdout",
     "output_type": "stream",
     "text": [
      "55/55 [==============================] - 0s 1ms/step\n"
>>>>>>> 075aff81303cbe9c4f16812da7dab24b0c2daffd
     ]
    },
    {
     "data": {
<<<<<<< HEAD
      "image/png": "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",
      "text/plain": [
       "<Figure size 1440x720 with 6 Axes>"
=======
      "image/png": "iVBORw0KGgoAAAANSUhEUgAABG0AAAC4CAYAAABZ0hFIAAAAOXRFWHRTb2Z0d2FyZQBNYXRwbG90bGliIHZlcnNpb24zLjYuMCwgaHR0cHM6Ly9tYXRwbG90bGliLm9yZy89olMNAAAACXBIWXMAAAsTAAALEwEAmpwYAAAmSElEQVR4nO3deXRV5f3v8c8jhDBDBsaQhBmZnJa2P1t7xdr2WudetbWiOIEX7bqOLfXa21tsHa6t11WttnbwJ85aRAYRnFCkisqgdUAGA4RRCBkIBAiB8Nw/cugvlx/7+yTkCHsf36+1umr4nOdMn/3svc+TYTvvvQAAAAAAABAvRx3pJwAAAAAAAID/jEUbAAAAAACAGGLRBgAAAAAAIIZYtAEAAAAAAIghFm0AAAAAAABiiEUbAAAAAACAGEr8oo1z7mHn3C/TfdvA/fR1znnnXOuW3hca0GPy0WFmoMfko8PMQI/JR4fJR4eZgR6T76veofPeH+nnkDjOub6SVkvK8t7vPcJPB4eIHpOPDjMDPSYfHWYGekw+Okw+OswM9Jh8ceow0T9p45xrdaSfA1qOHpOPDjMDPSYfHWYGekw+Okw+OswM9Jh8dBjTRRvn3FDn3Fzn3Fbn3BLn3Lmpf5/knPuTc26Wc26HpNNS/3ZHo7ETnHNfOOc2OufGpn6kaWCj8Xek/nuUc269c+4W51xZasyVje7nLOfch865bc65dc65iYf3XUg+ekw+OswM9Jh8dJgZ6DH56DD56DAz0GPy0WHTxW7RxjmXJelFSa9K6i7pf0h6yjk3JHWTSyTdKamTpLcPGHuGpJslfUfSQEmjAg/XU1IXSQWSrpb0kHMuJ5XtkDRGUldJZ0m61jl3/qG/sq8Wekw+OswM9Jh8dJgZ6DH56DD56DAz0GPy0WHzxG7RRtK/Seoo6f947+u8929Iminpx6l8uvf+He/9Pu997QFjfyjpUe/9Eu/9TkkTA4+1R9Kvvfd7vPezJNVIGiJJ3vu53vtPUo/zsaRnJJ2allf41UCPyUeHmYEek48OMwM9Jh8dJh8dZgZ6TD46bIY4Ltr0lrTOe7+v0b+tUcPKmCStC41t9LV1W0mq8P//HxXaqYaNR865rzvn3nTObXHOVUsaLym/KS8AkugxE9BhZqDH5KPDzECPyUeHyUeHmYEek48OmyGOizYbJRU65xo/tyJJG1L/bV3u6gtJfRp9XdiC5/G0pBmSCr33XSQ9LMm14P6+augx+egwM9Bj8tFhZqDH5KPD5KPDzECPyUeHzRDHRZv31bD6NcE5l+WcGyXpHEnPNmHs3yVd6Rr+qFF7SS25PnsnSZXe+1rn3NfU8Ht1aDp6TD46zAz0mHx0mBnoMfnoMPnoMDPQY/LRYTPEbtHGe1+nhsK+L6lc0h8ljfHeL2vC2NmSHpD0pqQSSe+lot2H8FSuk/Rr59x2Sf9bDRsHmogek48OMwM9Jh8dZgZ6TD46TD46zAz0mHx02DzOe+snj5LNOTdU0qeSsg/4PTYkCD0mHx1mBnpMPjrMDPSYfHSYfHSYGegx+b4KHcbuJ21ayjn3A+dctmu4jNc9kl7M1PIyGT0mHx1mBnpMPjrMDPSYfHSYfHSYGegx+b5qHWbcoo2k/y6pTNJKSfWSrj2yTweHiB6Tjw4zAz0mHx1mBnpMPjpMPjrMDPSYfF+pDjP616MAAAAAAACSKhN/0gYAAAAAACDxWLQBAAAAAACIodbNuXGXLl189+7dI/Ps7Gxz/O7d9lW4Qr+q1bZtWzNfuXJlZNa+fXtzbLdu3cy8Y8eOZr569WozDz33jRs3mrn33pk3aKKuXbv63r17R+ah96m6urpFj9+mTRszLykpicw6d+5sjs3Pzzfz0GtbsWKFmYe274qKCjOXVO69tze0JsrJyfEFBQWReei51tfXm/nWrVvNvFOnTmb+2WefRWY9evQwx3bp0sXMO3ToYOalpaVmftRR9lq1tY3v3btX9fX1aZmLeXl5vrCwMDJv3drePYf2Obm5uWYemg9Lly6NzLp27WqODe1P27VrZ+ZVVVVmHtoP7dixw8xra2vTNhe7du3qe/XqFZmHttfQfifUY+jYsnbt2sgs1EPPnj3NPCsry8xDx7U9e/aYeV1dnZnt2bMnLXMxJyfHPC6G3qfly5ebeVFRkZmH9sfW+7R9+3ZzrLWPkSTn7Ldw06ZNZr5v3z4zD83ldM7F3Nxc87gYOse0ziElacCAAWa+c+dOM7e2o9D5g/W6pHCPlZWVLRpfXl4eme3atUt1dXWH5Rw1dPwO7XNCxyZrnyPZ+9vNmze36LFD51VWB1K4wyYcV9M6F/v06ROZh3osKysz89BnslatWpm5JbRPDZ2jho4X69ata9F4ay7X1tambS7m5+d769gVmiuhzxGhc9DQZz7r8Vv6GSb0WbW2ttbMQ9tQTU2NmUfNxWYt2nTv3l33339/ZN6vXz9zfOiAuHev/Qefhw4dauYXXnhhZHbssceaY8ePH2/mp5xyipmPGTPGzAcPHmzmv/zlL808XXr37q3HH388Mj/xxBPN8bNnzzbz0MlncXGxmZ999tmR2fe//31z7OWXX27mJ510kpmfdtppZh46YXvyySfNvL6+fo15g2YoKCjQ5MmTI/PQcw196J0+fbqZf/vb3zbzY445JjK7+uqrzbHWNiBJX//61808tB2EDhQvv/xyZBY6IWyOwsJCvfrqq5G5tUAuSZdccomZX3bZZWZ+/PHHm/kJJ5wQmZ133nnm2Ouuu87MR44caebPP/+8mc+cOdPM33//fTNftmxZ2uZir169NGnSpMg8tL2G5tLo0aPNPHRcvPba6L/LN3z4cHPsz3/+czO3TsolaeLEiWa+fv16M7fm26effmqObY7evXvrueeei8xHjBhhjj/11FPN/MEHHzTz0Icp68PgvHnzzLH33XefmYcW3u6++24zDy1UTJ061cyXLFmS1uOidewKfci44IILzPyFF14w80WLFpm5dVx87LHHzLF33HGHmYe+URM6Pwl9SLH2ce+88445tjlC56ih4/dvfvMbMx87dqyZh/ZJQ4YMicx+//vfm2NDnzNGjRpl5o8++qiZhxZCpkyZYuYvvvhi2uZinz59NGPGjMg89M2M0D7zG9/4hpmHFlasBdy3337bHBv6LBI6Xlx//fVmHjo3e+KJJyKz0D6oOYqKisy5HVp8Cu37rXNMSfrud79r5tZcnTZtmjk2dMwOndtYP2AgSa+//rqZh85Rp0+fftC5yK9HAQAAAAAAxBCLNgAAAAAAADHEog0AAAAAAEAMsWgDAAAAAAAQQyzaAAAAAAAAxBCLNgAAAAAAADHkrMueHah79+7euqx27969zfGhy+WGLhkeYl1+LHTd+3379pl56HrxhYWFZl5aWmrmZWVlkdnzzz+vsrIyZ95BE+Xn53vrksot7XDgwIGH9Lz2s96n0KUeQ5eM79q1q5n37dvXzEOXrLc6lKRJkyYt9t7b11Rvovz8fH/WWWdF5gUFBeb4UI/9+/c/pOe1n9Vj6FKPocvGhy7lGLqs/KpVq8zc6nHmzJkqLy9Py1zs3r27ty4x29K52NIO165dG5mF9qehuZiTk2PmRUVFZh7qcMuWLWb+pz/9Ka1z8ZxzzonMe/ToYY4P7TdCx5YQaztp27atOTY0Fzt16mTmof1Q6JKhFRUVkdmMGTPSNhd79uzpL7300si8V69e5vhNmzaZeWifFGJd2jQ0F1u6P23puU1oLt57771pm4tt2rTx+fn5kXnovWjpXHTO3hw3bNgQmYXmYugcNTQXQ8eTlsxFSfLep2UuZmVl+by8vMg81GF5ebmZh96HUIdffPFFZNbSDjt27GjmPXv2NHNr+5KkqqoqM5eUtrmYlZXVorkY2m+Eji2hHltyXPyyewyd21VWVpp5uuZidna2t55r6H1o6VwM2bx5c2SWnZ1tjg0999DnlJZ2GJqLtbW1B52L/KQNAAAAAABADLFoAwAAAAAAEEMs2gAAAAAAAMQQizYAAAAAAAAxxKINAAAAAABADLFoAwAAAAAAEEMs2gAAAAAAAMRQ6+bcuKamRu+++25k3qZNG3P83Xffbebz588383/84x9mfvnll0dmM2bMMMda13uXpKVLl5r5T3/6UzM/5phjzHzt2rWRWeh6881RXV2t2bNnR+bt27c3xz/wwANmHurw5ZdfNvNrr702Mps8ebI5dtOmTWb+6aefmvnEiRPN/LjjjjPzlStXmnk6VVVVaerUqZF5586dzfH33Xefmb/zzjtmPmfOHDO/9NJLI7NXX33VHLtu3TozLykpMfNf/OIXZj5kyBAzb906ereYlZVljm2OiooKPfXUU5F5p06dzPH333+/mc+bN8/M33zzTTO/4oorIrOXXnrJHLthwwYzX7FihZnfeuutZj5o0CAzr6+vN/N0qqqq0pQpUyLzDh06mONvu+02M1+wYEGL8osuuigye/31182xoeNiaWmpmY8bN87M+/fvb+bbtm2LzJxz5tjmKC8v1yOPPBKZhzq8/fbbzdw6b5LC+9sxY8ZEZrNmzTLHlpWVmXloLt5www1mPnDgQDM/nHNRsvffoePiXXfdZeaLFy8284ULF5r5ddddF5nNnTvXHBs6v1m1apWZn3766Wbet29fM1+zZk1k9sQTT5hjm8N7rz179kTmobl45513mnloew91ePHFF0dm7733njk2tD+13mNJOu+888y8T58+Zh7ahv785z+beXPs27dPO3fujMxbuk8N9Rja595yyy2RWejcqaXHxXPOOcfMi4uLzdzq0ToXaa76+npVV1dH5u3atTPHX3/99WYe2mctWrTIzK+55prILLReUF5ebuahDk877TQz/853vmPmlZWVZv7Xv/71oP/OT9oAAAAAAADEEIs2AAAAAAAAMcSiDQAAAAAAQAyxaAMAAAAAABBDLNoAAAAAAADEEIs2AAAAAAAAMcSiDQAAAAAAQAw5732Tbzxo0CB///33R+ZDhw41xy9ZssTM8/LyzLx79+5mftNNN0Vm48ePN8d27tzZzI8++mgzf/rpp83cuta9JK1ZsyYymz59urZs2eLMO2iiwYMH+4ceeigyHzhwoDk+1GHbtm3NvLCw0MxvvPHGyOy6664zx4a2j8GDB5v5gw8+aOY7d+40888//9zMp0yZsth7f6J5oyYaPHiw/+Mf/xiZFxUVmeNXrFhh5qH9Qs+ePc3cmm8TJkwwx/br18/MQ9uQtX1L0r59+8z8s88+i8zmzp2rrVu3pmUuDhs2zD/55JOReWh7Xr16tZnX1dWZeWh/e+2110Zmt912mzk2tB8JbT+hueicXcHKlSvNfNKkSWmbi0OGDPF/+ctfIvOjjrK/N7Js2TIzD+1TQ9vJHXfcEZldc8015tg+ffqYebdu3cz8b3/7m5mHeiwvL4/MZs2apYqKirTMxZEjR/oZM2ZE5qEOp0+fHrp/M2/Xrp2ZL1++PDLr0aOHObZv375m3rt3bzP/3e9+Z+bZ2dlmXlpaauaPPPJI2ubiscce62fPnh2Zh7a3F1980cwHDBhg5qG5+O6770ZmQ4YMadF9h46LDzzwgJmHtsF169ZFZk899ZQ2b96clrk4fPhw/9xzz0XmO3bsMMe/9tprZl5cXNyifOHChZFZqIPQXO3Vq5eZT5o0yczbtGlj5ps3bzbzhx9+OG1zMdTjtm3bzPFvvfWWmffv39/MBw0adMj3H/osm5uba+ahnh955BEzDx1vNmzYEJlNmzYtbZ8Xhw4d6h9//PHIfPfu3eb4xYsXm3no2BOaT4sWLTrksTk5OWYe2t9OmzbNzEOfF1u1amXmEydOPOhc5CdtAAAAAAAAYohFGwAAAAAAgBhi0QYAAAAAACCGWLQBAAAAAACIIRZtAAAAAAAAYohFGwAAAAAAgBhi0QYAAAAAACCGnPe+6Td2boukNV/e00GEYu99t3TcER0eUfSYfHSYGegx+egwM9Bj8tFhZqDH5KPDzHDQHpu1aAMAAAAAAIDDg1+PAgAAAAAAiCEWbQAAAAAAAGKIRRsAAAAAAIAYYtEGAAAAAAAghli0AQAAAAAAiCEWbQAAAAAAAGKIRRsAAAAAAIAYYtEGAAAAAAAghli0AQAAAAAAiCEWbQAAAAAAAGKIRRsAAAAAAIAYYtEGAAAAAAAghli0AQAAAAAAiCEWbQAAAAAAAGKIRRsAAAAAAIAYYtEGAAAAAAAghli0AQAAAAAAiCEWbQAAAAAAAGKIRRsAAAAAAIAYYtEGAAAAAAAghli0AQAAAAAAiCEWbQAAAAAAAGKIRRsAAAAAAIAYYtEGAAAAAAAghli0AQAAAAAAiCEWbQAAAAAAAGKIRRsAAAAAAIAYYtEGAAAAAAAghli0AQAAAAAAiCEWbQAAAAAAAGKIRRsAAAAAAIAYYtEGAAAAAAAghli0AQAAAAAAiCEWbQAAAAAAAGKIRRsAAAAAAIAYYtEGAAAAAAAghli0AQAAAAAAiCEWbQAAAAAAAGKIRRsAAAAAAIAYYtEGAAAAAAAghli0AQAAAAAAiCEWbQAAAAAAAGKIRRsAAAAAAIAYYtEGAAAAAAAghli0AQAAAAAAiCEWbQAAAAAAAGKIRRsAAAAAAIAYYtEGAAAAAAAghli0AQAAAAAAiCEWbQAAAAAAAGKIRRsAAAAAAIAYYtEGAAAAAAAghli0AQAAAAAAiCEWbQAAAAAAAGKIRRsAAAAAAIAYYtEGAAAAAAAghli0AQAAAAAAiCEWbQAAAAAAAGKIRRsAAAAAAIAYYtEGAAAAAAAghli0AQAAAAAAiCEWbQAAAAAAAGKIRRsAAAAAAIAYYtEGAAAAAAAghli0AQAAAAAAiCEWbQAAAAAAAGKIRRsAAAAAAIAYYtEGAAAAAAAghli0AQAAAAAAiCEWbY4w59xc59zYI/080DL0mHx0mBnoMfnoMDPQY/LRYWagx+Sjw8zQkh4zftHGOeedcwO/pPvum7r/1l/G/eM/0GPy0WFmoMfko8PMQI/JR4eZgR6Tjw4zQyb3mPZFm6RtkEl7vodL0t6XpD3fwyFp70nSnu/hkrT3JWnP93BI2nuStOd7uCTtfUna8z0ckvaeJO35Hi5Je1+S9nwPh6S9J0l7vodL0t6XpD3fxtKyaOOcK3XO/dw597GkHc65U5xz851zW51zHznnRjW6ba5z7lHn3EbnXJVzblqjbJxzrsQ5V+mcm+Gc690o88658c65z1P3+5BzzqWygc65t5xz1c65cufcc6l/n5ca/pFzrsY59yPn3Cjn3PrU890k6VHn3BXOubcPeE3/WqlzzrVzzv1f59ya1GO87ZxrJ2n//W9N3f/Jqdtf5Zxbmnp9rzjnihvd73edc8tS9/OgJJeODtKBHpPfIx0mv0OJHpUBPdJh8juU6FEZ0CMdJr9DiR6VAT3SYfI7lOhRR6pH732L/yepVNI/JRVKKpBUIelMNSwKfTf1dbfUbV+S9JykHElZkk5N/fu3JZVLOkFStqQ/SJrX6DG8pJmSukoqkrRF0hmp7BlJv0g9XltJpxwwbmCjr0dJ2ivpntTjtJN0haS3D3hN/xon6SFJc1OvrZWkb6TG9k3drnWjcedJKpE0VFJrSf9L0vxUli9pu6QLU6/9ptRzGZuOHuiRHukw+R3SY2b0SIfJ75AeM6NHOkx+h/SYGT3SYfI7pMcj12M6y7sq9d8/l/TEAfkrki6X1EvSPkk5B7mPRyT9ttHXHSXtkdS30ZvZuJS/S7o19d+PS/qLpD4Hud+DlVcnqW2jf4ssL7VB7JJ07EHu+2DlzZZ0daOvj5K0U1KxpDGS3muUOUnrD7W8L2kS0mOCe6TD5HdIj5nRIx0mv0N6zIwe6TD5HdJjZvRIh8nvkB6PXI/p/Js261L/XyzpotSPMm11zm2VdIoaiiuUVOm9rzrI+N6S1uz/wntfo4aVuoJGt9nU6L93qqFgSZqghjdigXNuiXPuqsBz3eK9r23ay1K+GlbxVjbx9sWS7m/02itTz61ADa9x//sk39DguoPdyRFEjw2S3CMdNkhyhxI97pfkHumwQZI7lOhxvyT3SIcNktyhRI/7JblHOmyQ5A4letzvsPWYzj/G41P/v04NK27jDryBc66XpFznXFfv/dYD4o1qeOH7b9tBUp6kDcEH9n6TpHGpcadIet05N897XxJ4rvvtkNS+0WP3bJSVS6qVNEDSR4H7kRpe/53e+6cODJxzg9SwAe//2jX+OibosUGSe6TDBknuUKLH/ZLcIx02SHKHEj3ul+Qe6bBBkjuU6HG/JPdIhw2S3KFEj/sdth6/jEt+PynpHOfcf3XOtXLOtXUNfwSoj/f+CzX8GNEfnXM5zrks59x/SY17RtKVzrnjnHPZku6S9L73vjT0gM65i5xzfVJfVqnhTd2X+nqzpP6Bu/hI0vDUY7eVNHF/4L3fJ+nfJd3nnOudek0np57jltTjNL7/hyX9T+fc8NRz6+KcuyiVvZR6nP/mGv569fWSGm8ocUKPye+RDpPfoUSPmdAjHSa/Q4keM6FHOkx+hxI9ZkKPdJj8DiV6PHw9+vT9btt3Gn39dUlvqeFHhLaknnRRKsuV9Jga3tQqSS80GjdeDT+OVKmGPz7Up1F24O+oTZJ0R+q/f6uGlbma1PhrDrjPLyRtlfRDNfxu2/qDvIZfqGF1bZ2kSxs/nhr+aNHvU49RrYa/Ht0ulf069Rq3Svq31L9dJukTSdtS9/fvjR7nDEkrUvfzYOp9itPvKNJjgnukw+R3SI+Z0SMdJr9DesyMHukw+R3SY2b0SIfJ75Aej1yPLnWHAAAAAAAAiJEv49ejAAAAAAAA0EIs2gAAAAAAAMQQizYAAAAAAAAxxKINAAAAAABADLFoAwAAAAAAEEOtm3PjvLw8X1RUdMgPtmrVKjN3zpl5YWGhma9evToya9eunTm2Z0/7sunZ2dlm/vHHH5t56CpdrVtHV7Fnzx7t3bvXfnOaKD8/v0Udrl271sxDr7OgoMDMS0tLI7NQhz169DDzNm3amPmnn35q5qHXlpWVZeY7duwo9953M2/URPn5+b64uPiQx1dUVJj5zp07zbxXr15mbm0nHTt2NMfm5uaaeeh9XrZsmZmHemzbtm1kVlNTo927d6dlLob2p6H9obW/k8Lbe2i+bNiwITILzcVQh6Hn9vnnn5t5S696uH379rTNxby8PG8dm446yv7eyMqVK828pfu9jRs3RmahHvLz8808NBdb2qM1B3bt2qW6urq0zMXc3Fzfp0+fyNw6PkvS8uXLzTzUUefOnc18+/btkVltba05Ni8vz8xD28C6devMvCUdSlJZWVna5mJOTo63zjGsfbsU3qeG3ssOHTqYudXV7t27zbGhbSS0jVZXV5t5fX29me/Zsycyq6ys1I4dO9IyF1vaYWh7DR2bQvvburq6yKympsYc26VLFzMP7U9DHe7du9fMm3BOkba5mJuba/YY+kwV6jH0Xobm4q5duw4pk6SuXbuaeajHyspKM29JjxUVFaqpqUnbcbElHX7xxRdmHnofQ3PdmouhDkOfQ0L70x07dpi5tb+UwnOxpKTkoHOxWYs2RUVFeuONNyLzVq1ameN/+MMfmnmooHvvvdfML7300sjsmGOOMcf+7Gc/M/NBgwaZeWhBKVSgdTIQWuxqjqKiIs2bN++Qx19//fVmHjqBvPvuu838yiuvjMyOO+44c+yNN95o5qHFqoEDB5p56KSmd+/eZj5//vw15g2aobi4WO+9915kHjqRfvzxx838gw8+MPNf/epXZj5+/PjI7Jvf/KY5dvTo0WYeWjA65ZRTzDx0cmzN9VdeecUc2xxFRUV68803I/PQh6nQ+xTa3kP7vAkTJkRmxx9/vDn2xz/+sZlbH5Al6cwzzzTz0P40tP3PmTMnbXOxsLDQPC6Gjms/+MEPzDx07LrlllvM3JqroePW2LFjzTz0zY5Qj6GTU+vE6Z133jHHNkefPn00c+bMyDz0QW/UqFFmfvPNN5v5GWecYeavvfZaZBZaGLviiivMPDQXb7jhBjMPHRdDi5Z/+MMf0jYXCwoK9MILL0TmAwYMMMeH3qvLL7/czE888UQzX7FiRWQWWrw9/fTTzbx79+5mbm3fkrR161Yz37JlS2R23333mWObo6CgQH//+98j86OPPtocHzoPDB03hw8fbubWNzNC59Znn322mYfObWbPnm3m5eXlZh76jDZ69Oi0zsVp06ZF5n379jXH33TTTWZ+1llnmfnJJ59s5tY3aUPfwD333HPNPHRcfPbZZ8081KO1T73nnnvMsc0R6jC0P73rrrvMPNRhaK5bC3uhH6T41re+Zeahb1i9//77Zm59s0wKL+yde+65B52L/HoUAAAAAABADLFoAwAAAAAAEEMs2gAAAAAAAMQQizYAAAAAAAAxxKINAAAAAABADLnmXDq1W7du3rrSRVlZmTn+sssuM/PQX79/7rnnzNy6skvor3mH/pJzaPz3vvc9M1+6dKmZz58/PzL75z//qe3bt6flEm49e/b0Vg+hS5daV3eSwldQeuyxx8zceh9CV/AIXT4udHm6888/38wXLlxo5qFLTb/00kuLvff25SWaqKCgwFtXaAr1GLpizbBhw8x86tSpZj5lypTILHSpxtDlcUOXjT/11FPN/NVXXzVz61J+M2bMUHl5eVrmYrdu3fwFF1wQmYeuynLhhReaeehKEXPmzDHzuXPnRmb9+vUzx4auIhfq8KSTTjLz0NUVZs2aZeZz5sxJ21zs0aOHt65IEroqyyWXXGLmofcytD1b+6XQlYNCjx26MlDoainr168385dffjkyW7BggbZt25aWuRjqMPQ+hPanoWNH6PzAevwRI0aYY0NXyws9dugKH6FL64auLLRo0aK0zcXs7GxvXYFn37595vjQ9hy6pHPovbYuURu6pHfoErahS9SGLmUdugRuSUmJmXvv0zIXs7OzvXUe2dJLzLf0Ur07d+6MzNq3b2+ODe1HQleMDHUUevxQh5LSOhetHkPnN6Hz9dB7uX37djO3egxd8TE0z0PPPfRZJXTuVlpaaubpmotZWVneurJxaJ8TykMdht5nay6H3sPQY3fq1MnMQ3MttL8NdaiIuchP2gAAAAAAAMQQizYAAAAAAAAxxKINAAAAAABADLFoAwAAAAAAEEMs2gAAAAAAAMQQizYAAAAAAAAxxKINAAAAAABADNkXUT9AbW2tli5dGpkvXrzYHP+jH/3IzEtKSsz8o48+MvM777wzMps1a5Y5trKy0syfeeYZMz/22GPNfPjw4WZ+4on/6XLs/3LrrbeaY5ujpqZG8+fPj8w/+OADc/z5559v5tXV1Wb+ySefmPmECRMis9mzZ5tjq6qqzHzq1KlmPmzYMDM/+uijzfxrX/uamb/00ktm3hzV1dXm/S1YsMAcH3otFRUVZh56L6+88srI7I033jDHbt682cyfffZZM9+zZ4+ZFxUVmXnPnj0jszfffNMc2xw1NTV6++23I/PVq1eb40eMGGHmofcxNJ+uvvrqyCy0LW/dutXMQ9vPDTfcYOY5OTlmfuaZZ5r5nDlzzLw5qqurzePLunXrzPEnnHCCma9Zs8bM33rrLTMfN25cZDZt2jRzbGh/vmjRIjMP9RTKzzjjjMhs+fLl5tjmqKqqMvcr27dvN8eH9qeh9+nDDz80c2suhuZSaC6uWrXKzDt37mzmeXl5Zm6d20jh96a5vPeRWatWrcyxY8aMMfP333/fzNevX2/m5557bmQ2Y8YMc+zu3bvNfNu2bWYe6qFr165mftJJJ0Vmr7zyijm2Obz3qquri8z37t1rjrf2d5LM818pfNy1zm1efPFFc2xtba2Zh/YzQ4YMMXPr3EWSjj/+eDOfPHmymTdHqMfQ9jx69GgzD33e/Pzzz8187Nixkdn06dPNsaEeQ8fNgQMHmnmPHj3M/OSTT47M0jkXJam+vj4y27Vrlzn2qquuMvPQvj+0JnDxxRdHZjNnzjTHhjrcuXOnmRcXF5t5QUGBmR933HFmHnVuxk/aAAAAAAAAxBCLNgAAAAAAADHEog0AAAAAAEAMsWgDAAAAAAAQQyzaAAAAAAAAxBCLNgAAAAAAADHEog0AAAAAAEAMOe99k288cuRIb12/vm3btub4ZcuWmXmnTp3MPHRt+wULFkRmoeve796928wHDBhg5osXL27R/VdWVkZmt99+u1avXu3MO2iiESNG+BdeeCEyz8rKMsevWrXKzNu1a2fmgwYNMvOFCxdGZt27dzfH1tXVmXn//v3NfNGiRWa+d+9eM7c6lKSrr756sff+RPNGTTR8+HD/zDPPROZHHWWvx27evNnMQ+OHDRtm5u+9915klpeXZ46tr6838+LiYjO39gNSeBsvKyuLzO666y6tWbMmLXNx+PDh/umnn47MQ3Np9erVZt6mTRszD+1PP/nkk8gsNzfXHLtjxw4z79evn5kvX77czGtqasy8urrazMeNG5e2uThs2DD/xBNPROYdOnQwxy9ZssTMs7OzQ49v5h9//HFklpOTY47dvn27mQ8ePNjMS0pKzNyaa5Ld829/+1utXbs2bcfFyZMnR+ahDj/88EMz79ixo5n37dvXzDdu3BiZde7c2Rwb6rCoqMjM16xZY+ahY0lof37xxRenbS6OHDnSz5gxIzIP7fs/++wzMw/tk0PnKFu2bInMunXrdshjpfD+3NqGpHCPrVu3jsx+8pOfaMWKFWmZi6EOQ58zQufi7du3N/OWzMXQcTF0jhg6Pw7NxU2bNpm51aEknXXWWWmdi9OmTYvMQ8c167jVlPGh8/3S0tLILD8/3xwb6jF0XGxpj9b5+c0336ySkpLD8nkx1MHSpUvNPLQ9hjpcv359ZBaai1VVVWYe2g9Yjy1J5eXlZt6qVSszj5qL/KQNAAAAAABADLFoAwAAAAAAEEMs2gAAAAAAAMQQizYAAAAAAAAxxKINAAAAAABADLFoAwAAAAAAEEMs2gAAAAAAAMSQ8943/cbObZFkX2AeX4Zi7323dNwRHR5R9Jh8dJgZ6DH56DAz0GPy0WFmoMfko8PMcNAem7VoAwAAAAAAgMODX48CAAAAAACIIRZtAAAAAAAAYohFGwAAAAAAgBhi0QYAAAAAACCGWLQBAAAAAACIIRZtAAAAAAAAYohFGwAAAAAAgBhi0QYAAAAAACCGWLQBAAAAAACIof8HrIijWWFpofQAAAAASUVORK5CYII=",
      "text/plain": [
       "<Figure size 1440x288 with 20 Axes>"
>>>>>>> 075aff81303cbe9c4f16812da7dab24b0c2daffd
      ]
     },
     "metadata": {
      "needs_background": "light"
     },
     "output_type": "display_data"
    }
   ],
   "source": [
    "# encoded_imgs = shallow_encoder(df_test).numpy()\n",
    "# decoded_imgs = shallow_decoder(encoded_imgs).numpy()\n",
<<<<<<< HEAD
    "reconstructed_imgs = shallow_ae.predict(X_test).reshape(-1, *df.columns.levshape)\n",
    "print(reconstructed_imgs[0].shape)\n",
    "n = 3\n",
    "offset=5\n",
    "plt.figure(figsize=(20,10))\n",
    "\n",
    "for i in range(n):\n",
    "  # display original\n",
    "  ax = plt.subplot(2*n, 1, i + 1)\n",
    "  plt.imshow(X_test[i+offset][:][:10])\n",
=======
    "reconstructed_imgs = shallow_ae.predict(df_test).reshape(reshape_shape)\n",
    "n = 10\n",
    "offset=0\n",
    "plt.figure(figsize=(20, 4))\n",
    "\n",
    "for i in range(n):\n",
    "  # display original\n",
    "  ax = plt.subplot(2, n, i + 1)\n",
    "  plt.imshow(x_test[i+offset])\n",
>>>>>>> 075aff81303cbe9c4f16812da7dab24b0c2daffd
    "  plt.title(\"original\")\n",
    "  plt.gray()\n",
    "  ax.get_xaxis().set_visible(False)\n",
    "  ax.get_yaxis().set_visible(False)\n",
    "\n",
    "  # display reconstruction\n",
<<<<<<< HEAD
    "  ax = plt.subplot(2*n, 1, i + 1 + n)\n",
=======
    "  ax = plt.subplot(2, n, i + 1 + n)\n",
>>>>>>> 075aff81303cbe9c4f16812da7dab24b0c2daffd
    "  plt.imshow(reconstructed_imgs[i+offset])\n",
    "  plt.title(\"reconstructed\")\n",
    "  plt.gray()\n",
    "  ax.get_xaxis().set_visible(False)\n",
    "  ax.get_yaxis().set_visible(False)\n",
    "plt.show()\n"
   ]
  },
  {
   "cell_type": "markdown",
   "metadata": {},
   "source": [
    "### Approach from online tutorial:"
   ]
  },
  {
   "cell_type": "code",
<<<<<<< HEAD
   "execution_count": 17,
=======
   "execution_count": 56,
>>>>>>> 075aff81303cbe9c4f16812da7dab24b0c2daffd
   "metadata": {},
   "outputs": [
    {
     "name": "stdout",
     "output_type": "stream",
     "text": [
<<<<<<< HEAD
      "(12280, 4, 117) (3509, 4, 117) (1755, 4, 117)\n"
=======
      "(-1, 4, 12)\n",
      "(12280, 4, 12) (3509, 4, 12) (1755, 4, 12)\n"
>>>>>>> 075aff81303cbe9c4f16812da7dab24b0c2daffd
     ]
    }
   ],
   "source": [
<<<<<<< HEAD
    "print(X_train.shape, X_val.shape, X_test.shape)"
=======
    "reshape_shape = (-1, *import_shape[1:])\n",
    "print(reshape_shape)\n",
    "\n",
    "x_train = df_train.to_numpy().reshape(reshape_shape)\n",
    "x_val = df_val.to_numpy().reshape(reshape_shape)\n",
    "x_test = df_test.to_numpy().reshape(reshape_shape)\n",
    "print(x_train.shape, x_val.shape, x_test.shape)"
>>>>>>> 075aff81303cbe9c4f16812da7dab24b0c2daffd
   ]
  },
  {
   "cell_type": "code",
<<<<<<< HEAD
   "execution_count": 18,
   "metadata": {},
   "outputs": [],
   "source": [
    "latent_dim = 10\n",
=======
   "execution_count": 77,
   "metadata": {},
   "outputs": [],
   "source": [
    "latent_dim = 20\n",
>>>>>>> 075aff81303cbe9c4f16812da7dab24b0c2daffd
    "\n",
    "class Autoencoder(Model):\n",
    "  def __init__(self, latent_dim):\n",
    "    super(Autoencoder, self).__init__()\n",
    "    self.latent_dim = latent_dim   \n",
    "    self.encoder = tf.keras.Sequential([\n",
    "      layers.Flatten(),\n",
    "      layers.Dense(latent_dim*2, activation='tanh'),\n",
    "      layers.Dense(latent_dim, activation='tanh'),\n",
    "    ])\n",
    "    self.decoder = tf.keras.Sequential([\n",
<<<<<<< HEAD
    "      layers.Dense(X_train.shape[1]*X_train.shape[2]/2, activation='tanh'),\n",
    "      layers.Dense(X_train.shape[1]*X_train.shape[2], activation='tanh'),\n",
    "      layers.Reshape((X_train.shape[1], X_train.shape[2]))\n",
=======
    "      layers.Dense(x_train.shape[1]*x_train.shape[2]/2, activation='tanh'),\n",
    "      layers.Dense(x_train.shape[1]*x_train.shape[2], activation='tanh'),\n",
    "      layers.Reshape((x_train.shape[1], x_train.shape[2]))\n",
>>>>>>> 075aff81303cbe9c4f16812da7dab24b0c2daffd
    "    ])\n",
    "\n",
    "  def call(self, x):\n",
    "    encoded = self.encoder(x)\n",
    "    decoded = self.decoder(encoded)\n",
    "    return decoded\n"
   ]
  },
  {
   "cell_type": "code",
<<<<<<< HEAD
   "execution_count": 19,
=======
   "execution_count": 93,
>>>>>>> 075aff81303cbe9c4f16812da7dab24b0c2daffd
   "metadata": {},
   "outputs": [
    {
     "name": "stdout",
     "output_type": "stream",
     "text": [
      "Model: \"autoencoder\"\n",
      "_________________________________________________________________\n",
      " Layer (type)                Output Shape              Param #   \n",
      "=================================================================\n",
<<<<<<< HEAD
      " sequential (Sequential)     (12280, 10)               9590      \n",
      "                                                                 \n",
      " sequential_1 (Sequential)   (12280, 4, 117)           112554    \n",
      "                                                                 \n",
      "=================================================================\n",
      "Total params: 122,144\n",
      "Trainable params: 122,144\n",
=======
      " sequential (Sequential)     (12280, 20)               2780      \n",
      "                                                                 \n",
      " sequential_1 (Sequential)   (12280, 4, 12)            1704      \n",
      "                                                                 \n",
      "=================================================================\n",
      "Total params: 4,484\n",
      "Trainable params: 4,484\n",
>>>>>>> 075aff81303cbe9c4f16812da7dab24b0c2daffd
      "Non-trainable params: 0\n",
      "_________________________________________________________________\n"
     ]
    }
   ],
   "source": [
    "clear_session()\n",
    "optimizer = tf.keras.optimizers.Adam(learning_rate=0.01)\n",
    "autoencoder = Autoencoder(latent_dim)\n",
    "autoencoder.compile(optimizer=optimizer, loss=\"mae\")\n",
<<<<<<< HEAD
    "autoencoder.build(input_shape=X_train.shape)\n",
=======
    "autoencoder.build(input_shape=x_train.shape)\n",
>>>>>>> 075aff81303cbe9c4f16812da7dab24b0c2daffd
    "autoencoder.summary()"
   ]
  },
  {
   "cell_type": "code",
<<<<<<< HEAD
   "execution_count": 21,
=======
   "execution_count": 94,
>>>>>>> 075aff81303cbe9c4f16812da7dab24b0c2daffd
   "metadata": {},
   "outputs": [
    {
     "name": "stdout",
     "output_type": "stream",
     "text": [
      "Epoch 1/20\n",
<<<<<<< HEAD
      "384/384 [==============================] - 1s 3ms/step - loss: 0.3784 - val_loss: 0.3737\n",
      "Epoch 2/20\n",
      "384/384 [==============================] - 1s 3ms/step - loss: 0.3699 - val_loss: 0.3712\n",
      "Epoch 3/20\n",
      "384/384 [==============================] - 1s 3ms/step - loss: 0.3661 - val_loss: 0.3621\n",
      "Epoch 4/20\n",
      "384/384 [==============================] - 1s 3ms/step - loss: 0.3635 - val_loss: 0.3589\n",
      "Epoch 5/20\n",
      "384/384 [==============================] - 1s 3ms/step - loss: 0.3600 - val_loss: 0.3575\n",
      "Epoch 6/20\n",
      "384/384 [==============================] - 1s 3ms/step - loss: 0.3579 - val_loss: 0.3599\n",
      "Epoch 7/20\n",
      "384/384 [==============================] - 1s 3ms/step - loss: 0.3556 - val_loss: 0.3661\n",
      "Epoch 8/20\n",
      "384/384 [==============================] - 1s 3ms/step - loss: 0.3559 - val_loss: 0.3612\n",
      "Epoch 9/20\n",
      "384/384 [==============================] - 1s 3ms/step - loss: 0.3544 - val_loss: 0.3574\n",
      "Epoch 10/20\n",
      "384/384 [==============================] - 1s 3ms/step - loss: 0.3534 - val_loss: 0.3565\n",
      "Epoch 11/20\n",
      "384/384 [==============================] - 1s 3ms/step - loss: 0.3535 - val_loss: 0.3535\n",
      "Epoch 12/20\n",
      "384/384 [==============================] - 1s 3ms/step - loss: 0.3525 - val_loss: 0.3582\n",
      "Epoch 13/20\n",
      "384/384 [==============================] - 1s 3ms/step - loss: 0.3508 - val_loss: 0.3524\n",
      "Epoch 14/20\n",
      "384/384 [==============================] - 1s 3ms/step - loss: 0.3496 - val_loss: 0.3517\n",
      "Epoch 15/20\n",
      "384/384 [==============================] - 1s 3ms/step - loss: 0.3488 - val_loss: 0.3503\n",
      "Epoch 16/20\n",
      "384/384 [==============================] - 1s 3ms/step - loss: 0.3480 - val_loss: 0.3482\n",
      "Epoch 17/20\n",
      "384/384 [==============================] - 1s 4ms/step - loss: 0.3478 - val_loss: 0.3536\n",
      "Epoch 18/20\n",
      "384/384 [==============================] - 1s 3ms/step - loss: 0.3469 - val_loss: 0.3498\n",
      "Epoch 19/20\n",
      "384/384 [==============================] - 1s 3ms/step - loss: 0.3468 - val_loss: 0.3483\n",
      "Epoch 20/20\n",
      "384/384 [==============================] - 1s 3ms/step - loss: 0.3451 - val_loss: 0.3524\n"
=======
      "384/384 [==============================] - 2s 3ms/step - loss: 0.3373 - val_loss: 0.2934\n",
      "Epoch 2/20\n",
      "384/384 [==============================] - 1s 2ms/step - loss: 0.2904 - val_loss: 0.2879\n",
      "Epoch 3/20\n",
      "384/384 [==============================] - 1s 2ms/step - loss: 0.2757 - val_loss: 0.2629\n",
      "Epoch 4/20\n",
      "384/384 [==============================] - 1s 2ms/step - loss: 0.2713 - val_loss: 0.2626\n",
      "Epoch 5/20\n",
      "384/384 [==============================] - 1s 2ms/step - loss: 0.2664 - val_loss: 0.2622\n",
      "Epoch 6/20\n",
      "384/384 [==============================] - 1s 2ms/step - loss: 0.2642 - val_loss: 0.2605\n",
      "Epoch 7/20\n",
      "384/384 [==============================] - 1s 2ms/step - loss: 0.2641 - val_loss: 0.2607\n",
      "Epoch 8/20\n",
      "384/384 [==============================] - 1s 2ms/step - loss: 0.2602 - val_loss: 0.2517\n",
      "Epoch 9/20\n",
      "384/384 [==============================] - 1s 2ms/step - loss: 0.2582 - val_loss: 0.2560\n",
      "Epoch 10/20\n",
      "384/384 [==============================] - 1s 2ms/step - loss: 0.2550 - val_loss: 0.2530\n",
      "Epoch 11/20\n",
      "384/384 [==============================] - 1s 2ms/step - loss: 0.2546 - val_loss: 0.2542\n",
      "Epoch 12/20\n",
      "384/384 [==============================] - 1s 2ms/step - loss: 0.2537 - val_loss: 0.2683\n",
      "Epoch 13/20\n",
      "384/384 [==============================] - 1s 2ms/step - loss: 0.2527 - val_loss: 0.2496\n",
      "Epoch 14/20\n",
      "384/384 [==============================] - 1s 2ms/step - loss: 0.2545 - val_loss: 0.2522\n",
      "Epoch 15/20\n",
      "384/384 [==============================] - 1s 2ms/step - loss: 0.2516 - val_loss: 0.2474\n",
      "Epoch 16/20\n",
      "384/384 [==============================] - 1s 2ms/step - loss: 0.2524 - val_loss: 0.2564\n",
      "Epoch 17/20\n",
      "384/384 [==============================] - 1s 2ms/step - loss: 0.2515 - val_loss: 0.2476\n",
      "Epoch 18/20\n",
      "384/384 [==============================] - 1s 2ms/step - loss: 0.2520 - val_loss: 0.2461\n",
      "Epoch 19/20\n",
      "384/384 [==============================] - 1s 2ms/step - loss: 0.2528 - val_loss: 0.2435\n",
      "Epoch 20/20\n",
      "384/384 [==============================] - 1s 2ms/step - loss: 0.2502 - val_loss: 0.2493\n"
>>>>>>> 075aff81303cbe9c4f16812da7dab24b0c2daffd
     ]
    },
    {
     "data": {
      "text/plain": [
<<<<<<< HEAD
       "<keras.callbacks.History at 0x268300d5ae0>"
      ]
     },
     "execution_count": 21,
=======
       "<keras.callbacks.History at 0x1712a50e440>"
      ]
     },
     "execution_count": 94,
>>>>>>> 075aff81303cbe9c4f16812da7dab24b0c2daffd
     "metadata": {},
     "output_type": "execute_result"
    }
   ],
   "source": [
<<<<<<< HEAD
    "autoencoder.fit(X_train, X_train,\n",
    "                epochs=20,\n",
    "                shuffle=True,\n",
    "                validation_data=(X_val, X_val))"
=======
    "autoencoder.fit(x_train, x_train,\n",
    "                epochs=20,\n",
    "                shuffle=True,\n",
    "                validation_data=(x_val, x_val))"
>>>>>>> 075aff81303cbe9c4f16812da7dab24b0c2daffd
   ]
  },
  {
   "cell_type": "code",
<<<<<<< HEAD
   "execution_count": 22,
=======
   "execution_count": 95,
>>>>>>> 075aff81303cbe9c4f16812da7dab24b0c2daffd
   "metadata": {},
   "outputs": [
    {
     "data": {
<<<<<<< HEAD
      "image/png": "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",
=======
      "image/png": "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",
>>>>>>> 075aff81303cbe9c4f16812da7dab24b0c2daffd
      "text/plain": [
       "<Figure size 1440x288 with 20 Axes>"
      ]
     },
     "metadata": {
      "needs_background": "light"
     },
     "output_type": "display_data"
    }
   ],
   "source": [
<<<<<<< HEAD
    "encoded_imgs = autoencoder.encoder(X_test).numpy()\n",
=======
    "encoded_imgs = autoencoder.encoder(x_test).numpy()\n",
>>>>>>> 075aff81303cbe9c4f16812da7dab24b0c2daffd
    "decoded_imgs = autoencoder.decoder(encoded_imgs).numpy()\n",
    "n = 10\n",
    "offset=0\n",
    "plt.figure(figsize=(20, 4))\n",
    "\n",
    "for i in range(n):\n",
    "  # display original\n",
    "  ax = plt.subplot(2, n, i + 1)\n",
<<<<<<< HEAD
    "  plt.imshow(X_test[i+offset])\n",
=======
    "  plt.imshow(x_test[i+offset])\n",
>>>>>>> 075aff81303cbe9c4f16812da7dab24b0c2daffd
    "  plt.title(\"original\")\n",
    "  plt.gray()\n",
    "  ax.get_xaxis().set_visible(False)\n",
    "  ax.get_yaxis().set_visible(False)\n",
    "\n",
    "  # display reconstruction\n",
    "  ax = plt.subplot(2, n, i + 1 + n)\n",
    "  plt.imshow(decoded_imgs[i+offset])\n",
    "  plt.title(\"reconstructed\")\n",
    "  plt.gray()\n",
    "  ax.get_xaxis().set_visible(False)\n",
    "  ax.get_yaxis().set_visible(False)\n",
    "plt.show()\n"
   ]
<<<<<<< HEAD
=======
  },
  {
   "cell_type": "code",
   "execution_count": null,
   "metadata": {},
   "outputs": [],
   "source": []
>>>>>>> 075aff81303cbe9c4f16812da7dab24b0c2daffd
  }
 ],
 "metadata": {
  "kernelspec": {
   "display_name": "Python 3.10.3 64-bit",
   "language": "python",
   "name": "python3"
  },
  "language_info": {
   "codemirror_mode": {
    "name": "ipython",
    "version": 3
   },
   "file_extension": ".py",
   "mimetype": "text/x-python",
   "name": "python",
   "nbconvert_exporter": "python",
   "pygments_lexer": "ipython3",
   "version": "3.10.3"
  },
  "orig_nbformat": 4,
  "vscode": {
   "interpreter": {
<<<<<<< HEAD
    "hash": "cd88a92e2b28528af5397e2b70e177dd967cd9d93fde7cea7df37493d995dc93"
=======
    "hash": "d630713ab9db2e746235eb46f368dc3844f983da09eaf88b6511e67785f181d0"
>>>>>>> 075aff81303cbe9c4f16812da7dab24b0c2daffd
   }
  }
 },
 "nbformat": 4,
 "nbformat_minor": 2
}
