{
 "cells": [
  {
   "cell_type": "code",
   "execution_count": 1,
   "metadata": {},
   "outputs": [],
   "source": [
    "import matplotlib.pyplot as plt\n",
    "import numpy as np\n",
    "import pandas as pd\n",
    "import tensorflow as tf\n",
    "import seaborn as sns\n",
    "\n",
    "from sklearn.metrics import accuracy_score, precision_score, recall_score\n",
    "from sklearn.model_selection import train_test_split\n",
    "from tensorflow.keras import layers, losses\n",
    "# from tensorflow.keras.datasets import fashion_mnist\n",
    "from tensorflow.keras.models import Model, Sequential\n",
    "from tensorflow.keras.backend import clear_session\n",
    "from tensorflow.keras.layers import Dense, Input"
   ]
  },
  {
   "cell_type": "code",
   "execution_count": 2,
   "metadata": {},
   "outputs": [
    {
     "data": {
      "text/html": [
       "<div>\n",
       "<style scoped>\n",
       "    .dataframe tbody tr th:only-of-type {\n",
       "        vertical-align: middle;\n",
       "    }\n",
       "\n",
       "    .dataframe tbody tr th {\n",
       "        vertical-align: top;\n",
       "    }\n",
       "\n",
       "    .dataframe thead tr th {\n",
       "        text-align: left;\n",
       "    }\n",
       "</style>\n",
       "<table border=\"1\" class=\"dataframe\">\n",
       "  <thead>\n",
       "    <tr>\n",
       "      <th></th>\n",
       "      <th colspan=\"10\" halign=\"left\">temp</th>\n",
       "      <th>...</th>\n",
       "      <th colspan=\"10\" halign=\"left\">sun</th>\n",
       "    </tr>\n",
       "    <tr>\n",
       "      <th></th>\n",
       "      <th>00102</th>\n",
       "      <th>00161</th>\n",
       "      <th>00164</th>\n",
       "      <th>00183</th>\n",
       "      <th>00198</th>\n",
       "      <th>00232</th>\n",
       "      <th>00282</th>\n",
       "      <th>00298</th>\n",
       "      <th>00303</th>\n",
       "      <th>00342</th>\n",
       "      <th>...</th>\n",
       "      <th>04177</th>\n",
       "      <th>04271</th>\n",
       "      <th>04336</th>\n",
       "      <th>04393</th>\n",
       "      <th>04464</th>\n",
       "      <th>04466</th>\n",
       "      <th>04501</th>\n",
       "      <th>04625</th>\n",
       "      <th>04642</th>\n",
       "      <th>04745</th>\n",
       "    </tr>\n",
       "  </thead>\n",
       "  <tbody>\n",
       "    <tr>\n",
       "      <th>2020-01-01 00:00:00+00:00</th>\n",
       "      <td>279.65</td>\n",
       "      <td>272.85</td>\n",
       "      <td>274.85</td>\n",
       "      <td>277.35</td>\n",
       "      <td>271.45</td>\n",
       "      <td>274.85</td>\n",
       "      <td>267.85</td>\n",
       "      <td>275.85</td>\n",
       "      <td>277.15</td>\n",
       "      <td>275.65</td>\n",
       "      <td>...</td>\n",
       "      <td>1027.347777</td>\n",
       "      <td>1040.534392</td>\n",
       "      <td>1048.137931</td>\n",
       "      <td>1021.459521</td>\n",
       "      <td>941.329432</td>\n",
       "      <td>938.997257</td>\n",
       "      <td>812.613654</td>\n",
       "      <td>886.156657</td>\n",
       "      <td>977.988571</td>\n",
       "      <td>839.962897</td>\n",
       "    </tr>\n",
       "    <tr>\n",
       "      <th>2020-01-01 01:00:00+00:00</th>\n",
       "      <td>279.35</td>\n",
       "      <td>272.85</td>\n",
       "      <td>275.35</td>\n",
       "      <td>277.55</td>\n",
       "      <td>271.05</td>\n",
       "      <td>274.35</td>\n",
       "      <td>267.25</td>\n",
       "      <td>276.65</td>\n",
       "      <td>276.55</td>\n",
       "      <td>274.95</td>\n",
       "      <td>...</td>\n",
       "      <td>1027.347777</td>\n",
       "      <td>1040.534392</td>\n",
       "      <td>1048.137931</td>\n",
       "      <td>1021.459521</td>\n",
       "      <td>941.329432</td>\n",
       "      <td>938.997257</td>\n",
       "      <td>812.613654</td>\n",
       "      <td>886.156657</td>\n",
       "      <td>977.988571</td>\n",
       "      <td>839.962897</td>\n",
       "    </tr>\n",
       "    <tr>\n",
       "      <th>2020-01-01 02:00:00+00:00</th>\n",
       "      <td>279.05</td>\n",
       "      <td>271.65</td>\n",
       "      <td>275.35</td>\n",
       "      <td>277.15</td>\n",
       "      <td>270.55</td>\n",
       "      <td>274.75</td>\n",
       "      <td>268.75</td>\n",
       "      <td>276.75</td>\n",
       "      <td>276.75</td>\n",
       "      <td>273.95</td>\n",
       "      <td>...</td>\n",
       "      <td>1027.347777</td>\n",
       "      <td>1040.534392</td>\n",
       "      <td>1048.137931</td>\n",
       "      <td>1021.459521</td>\n",
       "      <td>941.329432</td>\n",
       "      <td>938.997257</td>\n",
       "      <td>812.613654</td>\n",
       "      <td>886.156657</td>\n",
       "      <td>977.988571</td>\n",
       "      <td>839.962897</td>\n",
       "    </tr>\n",
       "    <tr>\n",
       "      <th>2020-01-01 03:00:00+00:00</th>\n",
       "      <td>278.95</td>\n",
       "      <td>272.55</td>\n",
       "      <td>275.25</td>\n",
       "      <td>277.45</td>\n",
       "      <td>269.75</td>\n",
       "      <td>274.65</td>\n",
       "      <td>268.95</td>\n",
       "      <td>276.65</td>\n",
       "      <td>276.35</td>\n",
       "      <td>272.45</td>\n",
       "      <td>...</td>\n",
       "      <td>0.000000</td>\n",
       "      <td>0.000000</td>\n",
       "      <td>0.000000</td>\n",
       "      <td>0.000000</td>\n",
       "      <td>0.000000</td>\n",
       "      <td>0.000000</td>\n",
       "      <td>0.000000</td>\n",
       "      <td>0.000000</td>\n",
       "      <td>0.000000</td>\n",
       "      <td>0.000000</td>\n",
       "    </tr>\n",
       "    <tr>\n",
       "      <th>2020-01-01 04:00:00+00:00</th>\n",
       "      <td>278.15</td>\n",
       "      <td>273.45</td>\n",
       "      <td>275.35</td>\n",
       "      <td>277.45</td>\n",
       "      <td>268.55</td>\n",
       "      <td>274.65</td>\n",
       "      <td>268.85</td>\n",
       "      <td>276.55</td>\n",
       "      <td>276.25</td>\n",
       "      <td>272.05</td>\n",
       "      <td>...</td>\n",
       "      <td>0.000000</td>\n",
       "      <td>0.000000</td>\n",
       "      <td>0.000000</td>\n",
       "      <td>0.000000</td>\n",
       "      <td>0.000000</td>\n",
       "      <td>0.000000</td>\n",
       "      <td>0.000000</td>\n",
       "      <td>0.000000</td>\n",
       "      <td>0.000000</td>\n",
       "      <td>0.000000</td>\n",
       "    </tr>\n",
       "  </tbody>\n",
       "</table>\n",
       "<p>5 rows × 468 columns</p>\n",
       "</div>"
      ],
      "text/plain": [
       "                             temp                                          \\\n",
       "                            00102   00161   00164   00183   00198   00232   \n",
       "2020-01-01 00:00:00+00:00  279.65  272.85  274.85  277.35  271.45  274.85   \n",
       "2020-01-01 01:00:00+00:00  279.35  272.85  275.35  277.55  271.05  274.35   \n",
       "2020-01-01 02:00:00+00:00  279.05  271.65  275.35  277.15  270.55  274.75   \n",
       "2020-01-01 03:00:00+00:00  278.95  272.55  275.25  277.45  269.75  274.65   \n",
       "2020-01-01 04:00:00+00:00  278.15  273.45  275.35  277.45  268.55  274.65   \n",
       "\n",
       "                                                           ...          sun  \\\n",
       "                            00282   00298   00303   00342  ...        04177   \n",
       "2020-01-01 00:00:00+00:00  267.85  275.85  277.15  275.65  ...  1027.347777   \n",
       "2020-01-01 01:00:00+00:00  267.25  276.65  276.55  274.95  ...  1027.347777   \n",
       "2020-01-01 02:00:00+00:00  268.75  276.75  276.75  273.95  ...  1027.347777   \n",
       "2020-01-01 03:00:00+00:00  268.95  276.65  276.35  272.45  ...     0.000000   \n",
       "2020-01-01 04:00:00+00:00  268.85  276.55  276.25  272.05  ...     0.000000   \n",
       "\n",
       "                                                                              \\\n",
       "                                 04271        04336        04393       04464   \n",
       "2020-01-01 00:00:00+00:00  1040.534392  1048.137931  1021.459521  941.329432   \n",
       "2020-01-01 01:00:00+00:00  1040.534392  1048.137931  1021.459521  941.329432   \n",
       "2020-01-01 02:00:00+00:00  1040.534392  1048.137931  1021.459521  941.329432   \n",
       "2020-01-01 03:00:00+00:00     0.000000     0.000000     0.000000    0.000000   \n",
       "2020-01-01 04:00:00+00:00     0.000000     0.000000     0.000000    0.000000   \n",
       "\n",
       "                                                                           \\\n",
       "                                04466       04501       04625       04642   \n",
       "2020-01-01 00:00:00+00:00  938.997257  812.613654  886.156657  977.988571   \n",
       "2020-01-01 01:00:00+00:00  938.997257  812.613654  886.156657  977.988571   \n",
       "2020-01-01 02:00:00+00:00  938.997257  812.613654  886.156657  977.988571   \n",
       "2020-01-01 03:00:00+00:00    0.000000    0.000000    0.000000    0.000000   \n",
       "2020-01-01 04:00:00+00:00    0.000000    0.000000    0.000000    0.000000   \n",
       "\n",
       "                                       \n",
       "                                04745  \n",
       "2020-01-01 00:00:00+00:00  839.962897  \n",
       "2020-01-01 01:00:00+00:00  839.962897  \n",
       "2020-01-01 02:00:00+00:00  839.962897  \n",
       "2020-01-01 03:00:00+00:00    0.000000  \n",
       "2020-01-01 04:00:00+00:00    0.000000  \n",
       "\n",
       "[5 rows x 468 columns]"
      ]
     },
     "execution_count": 2,
     "metadata": {},
     "output_type": "execute_result"
    }
   ],
   "source": [
    "# Features that will be extracted from the EM data and their shorter handle\n",
    "wx_params = {\n",
    "    \"temperature_air_mean_200\": \"temp\",\n",
    "    \"wind_speed\": \"wind\",\n",
    "    \"pressure_air_site\": \"press\",\n",
    "    # \"precipitation_height\": \"precip\",\n",
    "    \"sunshine_duration\": \"sun\"\n",
    "}\n",
    "outlier_columns=[\"01228\", \"02429\", \"04039\", \"00656\", \"00954\", \"03897\", \"03946\", \"00603\"]\n",
    "na_columns = [\"00769\", \"00850\", \"02437\", \"00769\", \"00850\", \"02303\",\t\"02437\", \"02564\", \"03513\", \"04371\"]\n",
    "# Concatenate all weather parameters into one data frame\n",
    "wx_dict = {}\n",
    "for name, handle in wx_params.items():\n",
    "    wx_dict[handle]=(pd.read_pickle(\"../data/weather_all_stations/cleaned/\"+name+\".pkl\")).drop(columns=outlier_columns+na_columns)\n",
    "\n",
    "df = pd.concat(wx_dict.values(), axis=1, ignore_index=False, verify_integrity=True, keys=wx_dict.keys())\n",
    "df.head()"
   ]
  },
  {
   "cell_type": "code",
   "execution_count": 3,
   "metadata": {},
   "outputs": [],
   "source": [
    "# df.clip(upper=df.mean()+5*df.std(), lower=df.mean()-5*df.std(), inplace=True, axis=1)\n",
    "# df.head()"
   ]
  },
  {
   "cell_type": "code",
   "execution_count": 4,
   "metadata": {},
   "outputs": [
    {
     "data": {
      "text/plain": [
       "(4, 117)"
      ]
     },
     "execution_count": 4,
     "metadata": {},
     "output_type": "execute_result"
    }
   ],
   "source": [
    "df.columns.levshape"
   ]
  },
  {
   "cell_type": "code",
   "execution_count": 5,
   "metadata": {},
   "outputs": [],
   "source": [
    "column_indices = {name: i for i, name in enumerate(df.columns)}\n",
    "\n",
    "n = len(df)\n",
    "df_train = df[0:int(n*0.7)]\n",
    "df_val = df[int(n*0.7):int(n*0.9)]\n",
    "df_test = df[int(n*0.9):]\n"
   ]
  },
  {
   "cell_type": "code",
   "execution_count": 6,
   "metadata": {},
   "outputs": [
    {
     "data": {
      "image/png": "[encoded data removed]",
      "text/plain": [
       "<Figure size 864x432 with 1 Axes>"
      ]
     },
     "metadata": {
      "needs_background": "light"
     },
     "output_type": "display_data"
    }
   ],
   "source": [
    "from sklearn.preprocessing import RobustScaler, MinMaxScaler\n",
    "scaler = RobustScaler()\n",
    "\n",
    "scaler.fit(df_train)\n",
    "# scale all sets according to train set, preserve data frames\n",
    "df_train = pd.DataFrame(scaler.transform(df_train),\n",
    "                        columns=df.columns, index=df_train.index).clip(lower=-3)\n",
    "df_val = pd.DataFrame(scaler.transform(df_val),\n",
    "                        columns=df.columns, index=df_val.index)\n",
    "df_test = pd.DataFrame(scaler.transform(df_test),\n",
    "                        columns=df.columns, index=df_test.index)\n",
    "plt.figure(figsize=(12, 6))\n",
    "\n",
    "ax = sns.violinplot(x=\"Parameter\", y=\"Rescaled\", data=df_train.melt(var_name='Parameter', value_name='Rescaled'))\n",
    "# _ = ax.set_xticklabels(df.keys(), rotation=90)"
   ]
  },
  {
   "cell_type": "code",
   "execution_count": 7,
   "metadata": {},
   "outputs": [
    {
     "data": {
      "text/html": [
       "<div>\n",
       "<style scoped>\n",
       "    .dataframe tbody tr th:only-of-type {\n",
       "        vertical-align: middle;\n",
       "    }\n",
       "\n",
       "    .dataframe tbody tr th {\n",
       "        vertical-align: top;\n",
       "    }\n",
       "\n",
       "    .dataframe thead tr th {\n",
       "        text-align: left;\n",
       "    }\n",
       "</style>\n",
       "<table border=\"1\" class=\"dataframe\">\n",
       "  <thead>\n",
       "  </thead>\n",
       "  <tbody>\n",
       "    <tr>\n",
       "      <th>2020-01-01 00:00:00+00:00</th>\n",
       "    </tr>\n",
       "    <tr>\n",
       "      <th>2020-01-01 01:00:00+00:00</th>\n",
       "    </tr>\n",
       "    <tr>\n",
       "      <th>2020-01-01 02:00:00+00:00</th>\n",
       "    </tr>\n",
       "    <tr>\n",
       "      <th>2020-01-01 03:00:00+00:00</th>\n",
       "    </tr>\n",
       "    <tr>\n",
       "      <th>2020-01-01 04:00:00+00:00</th>\n",
       "    </tr>\n",
       "    <tr>\n",
       "      <th>...</th>\n",
       "    </tr>\n",
       "    <tr>\n",
       "      <th>2021-12-31 19:00:00+00:00</th>\n",
       "    </tr>\n",
       "    <tr>\n",
       "      <th>2021-12-31 20:00:00+00:00</th>\n",
       "    </tr>\n",
       "    <tr>\n",
       "      <th>2021-12-31 21:00:00+00:00</th>\n",
       "    </tr>\n",
       "    <tr>\n",
       "      <th>2021-12-31 22:00:00+00:00</th>\n",
       "    </tr>\n",
       "    <tr>\n",
       "      <th>2021-12-31 23:00:00+00:00</th>\n",
       "    </tr>\n",
       "  </tbody>\n",
       "</table>\n",
       "<p>17544 rows × 0 columns</p>\n",
       "</div>"
      ],
      "text/plain": [
       "Empty DataFrame\n",
       "Columns: []\n",
       "Index: [2020-01-01 00:00:00+00:00, 2020-01-01 01:00:00+00:00, 2020-01-01 02:00:00+00:00, 2020-01-01 03:00:00+00:00, 2020-01-01 04:00:00+00:00, 2020-01-01 05:00:00+00:00, 2020-01-01 06:00:00+00:00, 2020-01-01 07:00:00+00:00, 2020-01-01 08:00:00+00:00, 2020-01-01 09:00:00+00:00, 2020-01-01 10:00:00+00:00, 2020-01-01 11:00:00+00:00, 2020-01-01 12:00:00+00:00, 2020-01-01 13:00:00+00:00, 2020-01-01 14:00:00+00:00, 2020-01-01 15:00:00+00:00, 2020-01-01 16:00:00+00:00, 2020-01-01 17:00:00+00:00, 2020-01-01 18:00:00+00:00, 2020-01-01 19:00:00+00:00, 2020-01-01 20:00:00+00:00, 2020-01-01 21:00:00+00:00, 2020-01-01 22:00:00+00:00, 2020-01-01 23:00:00+00:00, 2020-01-02 00:00:00+00:00, 2020-01-02 01:00:00+00:00, 2020-01-02 02:00:00+00:00, 2020-01-02 03:00:00+00:00, 2020-01-02 04:00:00+00:00, 2020-01-02 05:00:00+00:00, 2020-01-02 06:00:00+00:00, 2020-01-02 07:00:00+00:00, 2020-01-02 08:00:00+00:00, 2020-01-02 09:00:00+00:00, 2020-01-02 10:00:00+00:00, 2020-01-02 11:00:00+00:00, 2020-01-02 12:00:00+00:00, 2020-01-02 13:00:00+00:00, 2020-01-02 14:00:00+00:00, 2020-01-02 15:00:00+00:00, 2020-01-02 16:00:00+00:00, 2020-01-02 17:00:00+00:00, 2020-01-02 18:00:00+00:00, 2020-01-02 19:00:00+00:00, 2020-01-02 20:00:00+00:00, 2020-01-02 21:00:00+00:00, 2020-01-02 22:00:00+00:00, 2020-01-02 23:00:00+00:00, 2020-01-03 00:00:00+00:00, 2020-01-03 01:00:00+00:00, 2020-01-03 02:00:00+00:00, 2020-01-03 03:00:00+00:00, 2020-01-03 04:00:00+00:00, 2020-01-03 05:00:00+00:00, 2020-01-03 06:00:00+00:00, 2020-01-03 07:00:00+00:00, 2020-01-03 08:00:00+00:00, 2020-01-03 09:00:00+00:00, 2020-01-03 10:00:00+00:00, 2020-01-03 11:00:00+00:00, 2020-01-03 12:00:00+00:00, 2020-01-03 13:00:00+00:00, 2020-01-03 14:00:00+00:00, 2020-01-03 15:00:00+00:00, 2020-01-03 16:00:00+00:00, 2020-01-03 17:00:00+00:00, 2020-01-03 18:00:00+00:00, 2020-01-03 19:00:00+00:00, 2020-01-03 20:00:00+00:00, 2020-01-03 21:00:00+00:00, 2020-01-03 22:00:00+00:00, 2020-01-03 23:00:00+00:00, 2020-01-04 00:00:00+00:00, 2020-01-04 01:00:00+00:00, 2020-01-04 02:00:00+00:00, 2020-01-04 03:00:00+00:00, 2020-01-04 04:00:00+00:00, 2020-01-04 05:00:00+00:00, 2020-01-04 06:00:00+00:00, 2020-01-04 07:00:00+00:00, 2020-01-04 08:00:00+00:00, 2020-01-04 09:00:00+00:00, 2020-01-04 10:00:00+00:00, 2020-01-04 11:00:00+00:00, 2020-01-04 12:00:00+00:00, 2020-01-04 13:00:00+00:00, 2020-01-04 14:00:00+00:00, 2020-01-04 15:00:00+00:00, 2020-01-04 16:00:00+00:00, 2020-01-04 17:00:00+00:00, 2020-01-04 18:00:00+00:00, 2020-01-04 19:00:00+00:00, 2020-01-04 20:00:00+00:00, 2020-01-04 21:00:00+00:00, 2020-01-04 22:00:00+00:00, 2020-01-04 23:00:00+00:00, 2020-01-05 00:00:00+00:00, 2020-01-05 01:00:00+00:00, 2020-01-05 02:00:00+00:00, 2020-01-05 03:00:00+00:00, ...]\n",
       "\n",
       "[17544 rows x 0 columns]"
      ]
     },
     "execution_count": 7,
     "metadata": {},
     "output_type": "execute_result"
    }
   ],
   "source": [
    "df.loc[:,df.isna().any()]"
   ]
  },
  {
   "cell_type": "code",
   "execution_count": 8,
   "metadata": {},
   "outputs": [],
   "source": [
    "desc=df_train[\"wind\"].describe().transpose() # .drop(columns=[\"01228\", \"02429\", \"04039\", \"00656\", \"00954\", \"03897\", \"03946\", \"00603\"]\n",
    "desc_orig=df[\"sun\"].describe() #"
   ]
  },
  {
   "cell_type": "code",
   "execution_count": 9,
   "metadata": {},
   "outputs": [],
   "source": [
    "outliers=(df_train[\"sun\"].max()>5)"
   ]
  },
  {
   "cell_type": "code",
   "execution_count": 10,
   "metadata": {},
   "outputs": [
    {
     "name": "stdout",
     "output_type": "stream",
     "text": [
      "Series([], dtype: bool)\n"
     ]
    }
   ],
   "source": [
    "print(outliers[outliers==True])"
   ]
  },
  {
   "cell_type": "code",
   "execution_count": 11,
   "metadata": {},
   "outputs": [
    {
     "data": {
      "text/plain": [
       "(4, 117)"
      ]
     },
     "execution_count": 11,
     "metadata": {},
     "output_type": "execute_result"
    }
   ],
   "source": [
    "df.columns.levshape\n",
    "# df.describe()"
   ]
  },
  {
   "cell_type": "code",
   "execution_count": 12,
   "metadata": {},
   "outputs": [
    {
     "name": "stdout",
     "output_type": "stream",
     "text": [
      "(4, 117)\n",
      "(12280, 4, 117)\n",
      "(12280, 468)\n"
     ]
    }
   ],
   "source": [
    "X_train = df_train.to_numpy().reshape(-1, *df.columns.levshape)\n",
    "X_val = df_val.to_numpy().reshape(-1, *df.columns.levshape)\n",
    "X_test = df_test.to_numpy().reshape(-1, *df.columns.levshape)\n",
    "input_dim=X_train.shape[1:]\n",
    "\n",
    "# this fixes the latent space dimension, feel free to play around with\n",
    "# the values for your own experiments, but leave it at 2 for the assignment\n",
    "latent_dim = 20\n",
    "print(input_dim)\n",
    "print(X_train.shape)\n",
    "print(df_train.shape)"
   ]
  },
  {
   "cell_type": "code",
   "execution_count": 13,
   "metadata": {},
   "outputs": [
    {
     "name": "stdout",
     "output_type": "stream",
     "text": [
      "Model: \"sequential\"\n",
      "_________________________________________________________________\n",
      " Layer (type)                Output Shape              Param #   \n",
      "=================================================================\n",
      " dense (Dense)               (None, 4, 20)             2360      \n",
      "                                                                 \n",
      " flatten (Flatten)           (None, 80)                0         \n",
      "                                                                 \n",
      " dense_1 (Dense)             (None, 468)               37908     \n",
      "                                                                 \n",
      " reshape (Reshape)           (None, 4, 117)            0         \n",
      "                                                                 \n",
      "=================================================================\n",
      "Total params: 40,268\n",
      "Trainable params: 40,268\n",
      "Non-trainable params: 0\n",
      "_________________________________________________________________\n"
     ]
    }
   ],
   "source": [
    "from tensorflow.keras.backend import clear_session\n",
    "\n",
    "clear_session()\n",
    "\n",
    "# this is very similar to what we've done before. First, instantiate a\n",
    "# \"Sequential()\" model in a variable called \"shallow_ae\". Then, add a\n",
    "# \"Dense()\" layer to shallow_ae with latent_dim neurons, an appropriate \"input_shape\"\n",
    "# and activation \"relu\". Afterwards, add another Dense layer with an appropriate\n",
    "# number of neurons to be able to construct an MNIST image and \"sigmoid\"\n",
    "# activation.\n",
    "# YOUR CODE HERE\n",
    "shallow_ae=Sequential()\n",
    "shallow_ae.add(Dense(latent_dim, input_shape=input_dim,  activation='tanh'))\n",
    "shallow_ae.add(layers.Flatten())\n",
    "shallow_ae.add(Dense(X_train.shape[1]*X_train.shape[2], activation='tanh'))\n",
    "shallow_ae.add(layers.Reshape(df.columns.levshape))\n",
    "\n",
    "shallow_ae.summary()\n",
    "\n",
    "# plot_model(shallow_ae)"
   ]
  },
  {
   "cell_type": "code",
   "execution_count": 14,
   "metadata": {},
   "outputs": [
    {
     "ename": "ValueError",
     "evalue": "Exception encountered when calling layer \"reshape\" (type Reshape).\n\ntotal size of new array must be unchanged, input_shape = [20], output_shape = [4, 117]\n\nCall arguments received:\n  • inputs=tf.Tensor(shape=(None, 20), dtype=float32)",
     "output_type": "error",
     "traceback": [
      "\u001b[1;31m---------------------------------------------------------------------------\u001b[0m",
      "\u001b[1;31mValueError\u001b[0m                                Traceback (most recent call last)",
      "\u001b[1;32mc:\\Users\\sengu\\Documents\\GitHub\\Electricity-Prediction\\src\\autoenc_weather_all_stations.ipynb Zelle 14\u001b[0m in \u001b[0;36m<cell line: 11>\u001b[1;34m()\u001b[0m\n\u001b[0;32m      <a href='vscode-notebook-cell:/c%3A/Users/sengu/Documents/GitHub/Electricity-Prediction/src/autoenc_weather_all_stations.ipynb#X20sZmlsZQ%3D%3D?line=8'>9</a>\u001b[0m \u001b[39m# make them addressable models\u001b[39;00m\n\u001b[0;32m     <a href='vscode-notebook-cell:/c%3A/Users/sengu/Documents/GitHub/Electricity-Prediction/src/autoenc_weather_all_stations.ipynb#X20sZmlsZQ%3D%3D?line=9'>10</a>\u001b[0m shallow_encoder \u001b[39m=\u001b[39m Model(input_img, encoder_layer(input_img))\n\u001b[1;32m---> <a href='vscode-notebook-cell:/c%3A/Users/sengu/Documents/GitHub/Electricity-Prediction/src/autoenc_weather_all_stations.ipynb#X20sZmlsZQ%3D%3D?line=10'>11</a>\u001b[0m shallow_decoder \u001b[39m=\u001b[39m Model(input_lat, decoder_layer(input_lat))\n\u001b[0;32m     <a href='vscode-notebook-cell:/c%3A/Users/sengu/Documents/GitHub/Electricity-Prediction/src/autoenc_weather_all_stations.ipynb#X20sZmlsZQ%3D%3D?line=12'>13</a>\u001b[0m shallow_encoder\u001b[39m.\u001b[39msummary()\n\u001b[0;32m     <a href='vscode-notebook-cell:/c%3A/Users/sengu/Documents/GitHub/Electricity-Prediction/src/autoenc_weather_all_stations.ipynb#X20sZmlsZQ%3D%3D?line=13'>14</a>\u001b[0m shallow_decoder\u001b[39m.\u001b[39msummary()\n",
      "File \u001b[1;32mc:\\Users\\sengu\\AppData\\Local\\Programs\\Python\\Python310\\lib\\site-packages\\keras\\utils\\traceback_utils.py:67\u001b[0m, in \u001b[0;36mfilter_traceback.<locals>.error_handler\u001b[1;34m(*args, **kwargs)\u001b[0m\n\u001b[0;32m     65\u001b[0m \u001b[39mexcept\u001b[39;00m \u001b[39mException\u001b[39;00m \u001b[39mas\u001b[39;00m e:  \u001b[39m# pylint: disable=broad-except\u001b[39;00m\n\u001b[0;32m     66\u001b[0m   filtered_tb \u001b[39m=\u001b[39m _process_traceback_frames(e\u001b[39m.\u001b[39m__traceback__)\n\u001b[1;32m---> 67\u001b[0m   \u001b[39mraise\u001b[39;00m e\u001b[39m.\u001b[39mwith_traceback(filtered_tb) \u001b[39mfrom\u001b[39;00m \u001b[39mNone\u001b[39m\n\u001b[0;32m     68\u001b[0m \u001b[39mfinally\u001b[39;00m:\n\u001b[0;32m     69\u001b[0m   \u001b[39mdel\u001b[39;00m filtered_tb\n",
      "File \u001b[1;32mc:\\Users\\sengu\\AppData\\Local\\Programs\\Python\\Python310\\lib\\site-packages\\keras\\layers\\core\\reshape.py:110\u001b[0m, in \u001b[0;36mReshape._fix_unknown_dimension\u001b[1;34m(self, input_shape, output_shape)\u001b[0m\n\u001b[0;32m    108\u001b[0m   output_shape[unknown] \u001b[39m=\u001b[39m original \u001b[39m/\u001b[39m\u001b[39m/\u001b[39m known\n\u001b[0;32m    109\u001b[0m \u001b[39melif\u001b[39;00m original \u001b[39m!=\u001b[39m known:\n\u001b[1;32m--> 110\u001b[0m   \u001b[39mraise\u001b[39;00m \u001b[39mValueError\u001b[39;00m(msg)\n\u001b[0;32m    111\u001b[0m \u001b[39mreturn\u001b[39;00m output_shape\n",
      "\u001b[1;31mValueError\u001b[0m: Exception encountered when calling layer \"reshape\" (type Reshape).\n\ntotal size of new array must be unchanged, input_shape = [20], output_shape = [4, 117]\n\nCall arguments received:\n  • inputs=tf.Tensor(shape=(None, 20), dtype=float32)"
     ]
    }
   ],
   "source": [
    "# create an input layer with the appropriate shape\n",
    "input_img = Input(shape=(*input_dim,))\n",
    "input_lat = Input(shape=(latent_dim,))\n",
    "\n",
    "# extract the first shallow_ae layer\n",
    "encoder_layer = shallow_ae.layers[0]\n",
    "decoder_layer = shallow_ae.layers[-1]\n",
    "\n",
    "# make them addressable models\n",
    "shallow_encoder = Model(input_img, encoder_layer(input_img))\n",
    "shallow_decoder = Model(input_lat, decoder_layer(input_lat))\n",
    "\n",
    "shallow_encoder.summary()\n",
    "shallow_decoder.summary()\n",
    "\n",
    "# #plot_model(shallow_encoder)\n",
    "# plot_model(shallow_decoder)"
   ]
  },
  {
   "cell_type": "code",
   "execution_count": 15,
   "metadata": {},
   "outputs": [
    {
     "name": "stdout",
     "output_type": "stream",
     "text": [
      "Epoch 1/15\n",
      "48/48 [==============================] - 1s 9ms/step - loss: 0.6071 - val_loss: 0.4154\n",
      "Epoch 2/15\n",
      "48/48 [==============================] - 0s 4ms/step - loss: 0.3965 - val_loss: 0.3665\n",
      "Epoch 3/15\n",
      "48/48 [==============================] - 0s 8ms/step - loss: 0.3610 - val_loss: 0.3455\n",
      "Epoch 4/15\n",
      "48/48 [==============================] - 0s 5ms/step - loss: 0.3383 - val_loss: 0.3290\n",
      "Epoch 5/15\n",
      "48/48 [==============================] - 0s 4ms/step - loss: 0.3212 - val_loss: 0.3167\n",
      "Epoch 6/15\n",
      "48/48 [==============================] - 0s 4ms/step - loss: 0.3086 - val_loss: 0.3069\n",
      "Epoch 7/15\n",
      "48/48 [==============================] - 0s 4ms/step - loss: 0.2992 - val_loss: 0.2996\n",
      "Epoch 8/15\n",
      "48/48 [==============================] - 0s 5ms/step - loss: 0.2920 - val_loss: 0.2937\n",
      "Epoch 9/15\n",
      "48/48 [==============================] - 0s 5ms/step - loss: 0.2863 - val_loss: 0.2889\n",
      "Epoch 10/15\n",
      "48/48 [==============================] - 0s 4ms/step - loss: 0.2817 - val_loss: 0.2849\n",
      "Epoch 11/15\n",
      "48/48 [==============================] - 0s 4ms/step - loss: 0.2777 - val_loss: 0.2814\n",
      "Epoch 12/15\n",
      "48/48 [==============================] - 0s 4ms/step - loss: 0.2743 - val_loss: 0.2784\n",
      "Epoch 13/15\n",
      "48/48 [==============================] - 0s 4ms/step - loss: 0.2713 - val_loss: 0.2758\n",
      "Epoch 14/15\n",
      "48/48 [==============================] - 0s 5ms/step - loss: 0.2686 - val_loss: 0.2734\n",
      "Epoch 15/15\n",
      "48/48 [==============================] - 0s 4ms/step - loss: 0.2662 - val_loss: 0.2711\n"
     ]
    }
   ],
   "source": [
    "shallow_ae.compile(optimizer=\"adam\", loss=\"mse\")\n",
    "history=shallow_ae.fit(X_train, X_train, epochs=15, batch_size=256, shuffle=True, validation_data=(X_val, X_val))"
   ]
  },
  {
   "cell_type": "code",
   "execution_count": 16,
   "metadata": {},
   "outputs": [
    {
     "name": "stdout",
     "output_type": "stream",
     "text": [
      "(4, 117)\n"
     ]
    },
    {
     "data": {
      "image/png": "[encoded data removed]",
      "text/plain": [
       "<Figure size 1440x720 with 6 Axes>"
      ]
     },
     "metadata": {
      "needs_background": "light"
     },
     "output_type": "display_data"
    }
   ],
   "source": [
    "# encoded_imgs = shallow_encoder(df_test).numpy()\n",
    "# decoded_imgs = shallow_decoder(encoded_imgs).numpy()\n",
    "reconstructed_imgs = shallow_ae.predict(X_test).reshape(-1, *df.columns.levshape)\n",
    "print(reconstructed_imgs[0].shape)\n",
    "n = 3\n",
    "offset=5\n",
    "plt.figure(figsize=(20,10))\n",
    "\n",
    "for i in range(n):\n",
    "  # display original\n",
    "  ax = plt.subplot(2*n, 1, i + 1)\n",
    "  plt.imshow(X_test[i+offset][:][:10])\n",
    "  plt.title(\"original\")\n",
    "  plt.gray()\n",
    "  ax.get_xaxis().set_visible(False)\n",
    "  ax.get_yaxis().set_visible(False)\n",
    "\n",
    "  # display reconstruction\n",
    "  ax = plt.subplot(2*n, 1, i + 1 + n)\n",
    "  plt.imshow(reconstructed_imgs[i+offset])\n",
    "  plt.title(\"reconstructed\")\n",
    "  plt.gray()\n",
    "  ax.get_xaxis().set_visible(False)\n",
    "  ax.get_yaxis().set_visible(False)\n",
    "plt.show()\n"
   ]
  },
  {
   "cell_type": "markdown",
   "metadata": {},
   "source": [
    "### Approach from online tutorial:"
   ]
  },
  {
   "cell_type": "code",
   "execution_count": 17,
   "metadata": {},
   "outputs": [
    {
     "name": "stdout",
     "output_type": "stream",
     "text": [
      "(12280, 4, 117) (3509, 4, 117) (1755, 4, 117)\n"
     ]
    }
   ],
   "source": [
    "print(X_train.shape, X_val.shape, X_test.shape)"
   ]
  },
  {
   "cell_type": "code",
   "execution_count": 18,
   "metadata": {},
   "outputs": [],
   "source": [
    "latent_dim = 10\n",
    "\n",
    "class Autoencoder(Model):\n",
    "  def __init__(self, latent_dim):\n",
    "    super(Autoencoder, self).__init__()\n",
    "    self.latent_dim = latent_dim   \n",
    "    self.encoder = tf.keras.Sequential([\n",
    "      layers.Flatten(),\n",
    "      layers.Dense(latent_dim*2, activation='tanh'),\n",
    "      layers.Dense(latent_dim, activation='tanh'),\n",
    "    ])\n",
    "    self.decoder = tf.keras.Sequential([\n",
    "      layers.Dense(X_train.shape[1]*X_train.shape[2]/2, activation='tanh'),\n",
    "      layers.Dense(X_train.shape[1]*X_train.shape[2], activation='tanh'),\n",
    "      layers.Reshape((X_train.shape[1], X_train.shape[2]))\n",
    "    ])\n",
    "\n",
    "  def call(self, x):\n",
    "    encoded = self.encoder(x)\n",
    "    decoded = self.decoder(encoded)\n",
    "    return decoded\n"
   ]
  },
  {
   "cell_type": "code",
   "execution_count": 19,
   "metadata": {},
   "outputs": [
    {
     "name": "stdout",
     "output_type": "stream",
     "text": [
      "Model: \"autoencoder\"\n",
      "_________________________________________________________________\n",
      " Layer (type)                Output Shape              Param #   \n",
      "=================================================================\n",
      " sequential (Sequential)     (12280, 10)               9590      \n",
      "                                                                 \n",
      " sequential_1 (Sequential)   (12280, 4, 117)           112554    \n",
      "                                                                 \n",
      "=================================================================\n",
      "Total params: 122,144\n",
      "Trainable params: 122,144\n",
      "Non-trainable params: 0\n",
      "_________________________________________________________________\n"
     ]
    }
   ],
   "source": [
    "clear_session()\n",
    "optimizer = tf.keras.optimizers.Adam(learning_rate=0.01)\n",
    "autoencoder = Autoencoder(latent_dim)\n",
    "autoencoder.compile(optimizer=optimizer, loss=\"mae\")\n",
    "autoencoder.build(input_shape=X_train.shape)\n",
    "autoencoder.summary()"
   ]
  },
  {
   "cell_type": "code",
   "execution_count": 21,
   "metadata": {},
   "outputs": [
    {
     "name": "stdout",
     "output_type": "stream",
     "text": [
      "Epoch 1/20\n",
      "384/384 [==============================] - 1s 3ms/step - loss: 0.3784 - val_loss: 0.3737\n",
      "Epoch 2/20\n",
      "384/384 [==============================] - 1s 3ms/step - loss: 0.3699 - val_loss: 0.3712\n",
      "Epoch 3/20\n",
      "384/384 [==============================] - 1s 3ms/step - loss: 0.3661 - val_loss: 0.3621\n",
      "Epoch 4/20\n",
      "384/384 [==============================] - 1s 3ms/step - loss: 0.3635 - val_loss: 0.3589\n",
      "Epoch 5/20\n",
      "384/384 [==============================] - 1s 3ms/step - loss: 0.3600 - val_loss: 0.3575\n",
      "Epoch 6/20\n",
      "384/384 [==============================] - 1s 3ms/step - loss: 0.3579 - val_loss: 0.3599\n",
      "Epoch 7/20\n",
      "384/384 [==============================] - 1s 3ms/step - loss: 0.3556 - val_loss: 0.3661\n",
      "Epoch 8/20\n",
      "384/384 [==============================] - 1s 3ms/step - loss: 0.3559 - val_loss: 0.3612\n",
      "Epoch 9/20\n",
      "384/384 [==============================] - 1s 3ms/step - loss: 0.3544 - val_loss: 0.3574\n",
      "Epoch 10/20\n",
      "384/384 [==============================] - 1s 3ms/step - loss: 0.3534 - val_loss: 0.3565\n",
      "Epoch 11/20\n",
      "384/384 [==============================] - 1s 3ms/step - loss: 0.3535 - val_loss: 0.3535\n",
      "Epoch 12/20\n",
      "384/384 [==============================] - 1s 3ms/step - loss: 0.3525 - val_loss: 0.3582\n",
      "Epoch 13/20\n",
      "384/384 [==============================] - 1s 3ms/step - loss: 0.3508 - val_loss: 0.3524\n",
      "Epoch 14/20\n",
      "384/384 [==============================] - 1s 3ms/step - loss: 0.3496 - val_loss: 0.3517\n",
      "Epoch 15/20\n",
      "384/384 [==============================] - 1s 3ms/step - loss: 0.3488 - val_loss: 0.3503\n",
      "Epoch 16/20\n",
      "384/384 [==============================] - 1s 3ms/step - loss: 0.3480 - val_loss: 0.3482\n",
      "Epoch 17/20\n",
      "384/384 [==============================] - 1s 4ms/step - loss: 0.3478 - val_loss: 0.3536\n",
      "Epoch 18/20\n",
      "384/384 [==============================] - 1s 3ms/step - loss: 0.3469 - val_loss: 0.3498\n",
      "Epoch 19/20\n",
      "384/384 [==============================] - 1s 3ms/step - loss: 0.3468 - val_loss: 0.3483\n",
      "Epoch 20/20\n",
      "384/384 [==============================] - 1s 3ms/step - loss: 0.3451 - val_loss: 0.3524\n"
     ]
    },
    {
     "data": {
      "text/plain": [
       "<keras.callbacks.History at 0x268300d5ae0>"
      ]
     },
     "execution_count": 21,
     "metadata": {},
     "output_type": "execute_result"
    }
   ],
   "source": [
    "autoencoder.fit(X_train, X_train,\n",
    "                epochs=20,\n",
    "                shuffle=True,\n",
    "                validation_data=(X_val, X_val))"
   ]
  },
  {
   "cell_type": "code",
   "execution_count": 22,
   "metadata": {},
   "outputs": [
    {
     "data": {
      "image/png": "[encoded data removed]",
      "text/plain": [
       "<Figure size 1440x288 with 20 Axes>"
      ]
     },
     "metadata": {
      "needs_background": "light"
     },
     "output_type": "display_data"
    }
   ],
   "source": [
    "encoded_imgs = autoencoder.encoder(X_test).numpy()\n",
    "decoded_imgs = autoencoder.decoder(encoded_imgs).numpy()\n",
    "n = 10\n",
    "offset=0\n",
    "plt.figure(figsize=(20, 4))\n",
    "\n",
    "for i in range(n):\n",
    "  # display original\n",
    "  ax = plt.subplot(2, n, i + 1)\n",
    "  plt.imshow(X_test[i+offset])\n",
    "  plt.title(\"original\")\n",
    "  plt.gray()\n",
    "  ax.get_xaxis().set_visible(False)\n",
    "  ax.get_yaxis().set_visible(False)\n",
    "\n",
    "  # display reconstruction\n",
    "  ax = plt.subplot(2, n, i + 1 + n)\n",
    "  plt.imshow(decoded_imgs[i+offset])\n",
    "  plt.title(\"reconstructed\")\n",
    "  plt.gray()\n",
    "  ax.get_xaxis().set_visible(False)\n",
    "  ax.get_yaxis().set_visible(False)\n",
    "plt.show()\n"
   ]
  }
 ],
 "metadata": {
  "kernelspec": {
   "display_name": "Python 3.10.3 64-bit",
   "language": "python",
   "name": "python3"
  },
  "language_info": {
   "codemirror_mode": {
    "name": "ipython",
    "version": 3
   },
   "file_extension": ".py",
   "mimetype": "text/x-python",
   "name": "python",
   "nbconvert_exporter": "python",
   "pygments_lexer": "ipython3",
   "version": "3.10.3"
  },
  "orig_nbformat": 4,
  "vscode": {
   "interpreter": {
    "hash": "cd88a92e2b28528af5397e2b70e177dd967cd9d93fde7cea7df37493d995dc93"
   }
  }
 },
 "nbformat": 4,
 "nbformat_minor": 2
}
