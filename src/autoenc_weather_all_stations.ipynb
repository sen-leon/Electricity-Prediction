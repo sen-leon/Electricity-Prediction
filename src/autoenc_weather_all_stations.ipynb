{
 "cells": [
  {
   "cell_type": "code",
   "execution_count": 3,
   "metadata": {},
   "outputs": [],
   "source": [
    "import matplotlib.pyplot as plt\n",
    "import numpy as np\n",
    "import pandas as pd\n",
    "import tensorflow as tf\n",
    "import seaborn as sns\n",
    "\n",
    "from sklearn.metrics import accuracy_score, precision_score, recall_score\n",
    "from sklearn.model_selection import train_test_split\n",
    "from tensorflow.keras import layers, losses\n",
    "# from tensorflow.keras.datasets import fashion_mnist\n",
    "from tensorflow.keras.models import Model, Sequential\n",
    "from tensorflow.keras.backend import clear_session\n",
    "from tensorflow.keras.layers import Dense, Input"
   ]
  },
  {
   "cell_type": "code",
   "execution_count": 293,
   "metadata": {},
   "outputs": [
    {
     "data": {
      "text/html": [
       "<div>\n",
       "<style scoped>\n",
       "    .dataframe tbody tr th:only-of-type {\n",
       "        vertical-align: middle;\n",
       "    }\n",
       "\n",
       "    .dataframe tbody tr th {\n",
       "        vertical-align: top;\n",
       "    }\n",
       "\n",
       "    .dataframe thead tr th {\n",
       "        text-align: left;\n",
       "    }\n",
       "</style>\n",
       "<table border=\"1\" class=\"dataframe\">\n",
       "  <thead>\n",
       "    <tr>\n",
       "      <th></th>\n",
       "      <th colspan=\"10\" halign=\"left\">temp</th>\n",
       "      <th>...</th>\n",
       "      <th colspan=\"10\" halign=\"left\">sun</th>\n",
       "    </tr>\n",
       "    <tr>\n",
       "      <th></th>\n",
       "      <th>00102</th>\n",
       "      <th>00161</th>\n",
       "      <th>00164</th>\n",
       "      <th>00183</th>\n",
       "      <th>00198</th>\n",
       "      <th>00232</th>\n",
       "      <th>00282</th>\n",
       "      <th>00298</th>\n",
       "      <th>00303</th>\n",
       "      <th>00342</th>\n",
       "      <th>...</th>\n",
       "      <th>04177</th>\n",
       "      <th>04271</th>\n",
       "      <th>04336</th>\n",
       "      <th>04393</th>\n",
       "      <th>04464</th>\n",
       "      <th>04466</th>\n",
       "      <th>04501</th>\n",
       "      <th>04625</th>\n",
       "      <th>04642</th>\n",
       "      <th>04745</th>\n",
       "    </tr>\n",
       "  </thead>\n",
       "  <tbody>\n",
       "    <tr>\n",
       "      <th>2017-01-01 00:00:00+00:00</th>\n",
       "      <td>278.35</td>\n",
       "      <td>268.75</td>\n",
       "      <td>276.65</td>\n",
       "      <td>277.45</td>\n",
       "      <td>270.65</td>\n",
       "      <td>269.45</td>\n",
       "      <td>262.35</td>\n",
       "      <td>277.75</td>\n",
       "      <td>274.75</td>\n",
       "      <td>275.65</td>\n",
       "      <td>...</td>\n",
       "      <td>0.0</td>\n",
       "      <td>0.0</td>\n",
       "      <td>0.0</td>\n",
       "      <td>0.0</td>\n",
       "      <td>0.0</td>\n",
       "      <td>0.0</td>\n",
       "      <td>0.0</td>\n",
       "      <td>0.0</td>\n",
       "      <td>0.0</td>\n",
       "      <td>0.0</td>\n",
       "    </tr>\n",
       "    <tr>\n",
       "      <th>2017-01-01 01:00:00+00:00</th>\n",
       "      <td>278.25</td>\n",
       "      <td>268.85</td>\n",
       "      <td>276.75</td>\n",
       "      <td>277.65</td>\n",
       "      <td>270.25</td>\n",
       "      <td>269.25</td>\n",
       "      <td>262.75</td>\n",
       "      <td>277.75</td>\n",
       "      <td>274.65</td>\n",
       "      <td>275.15</td>\n",
       "      <td>...</td>\n",
       "      <td>0.0</td>\n",
       "      <td>0.0</td>\n",
       "      <td>0.0</td>\n",
       "      <td>0.0</td>\n",
       "      <td>0.0</td>\n",
       "      <td>0.0</td>\n",
       "      <td>0.0</td>\n",
       "      <td>0.0</td>\n",
       "      <td>0.0</td>\n",
       "      <td>0.0</td>\n",
       "    </tr>\n",
       "    <tr>\n",
       "      <th>2017-01-01 02:00:00+00:00</th>\n",
       "      <td>278.25</td>\n",
       "      <td>269.25</td>\n",
       "      <td>277.05</td>\n",
       "      <td>277.85</td>\n",
       "      <td>269.45</td>\n",
       "      <td>269.05</td>\n",
       "      <td>261.35</td>\n",
       "      <td>277.75</td>\n",
       "      <td>274.35</td>\n",
       "      <td>274.65</td>\n",
       "      <td>...</td>\n",
       "      <td>0.0</td>\n",
       "      <td>0.0</td>\n",
       "      <td>0.0</td>\n",
       "      <td>0.0</td>\n",
       "      <td>0.0</td>\n",
       "      <td>0.0</td>\n",
       "      <td>0.0</td>\n",
       "      <td>0.0</td>\n",
       "      <td>0.0</td>\n",
       "      <td>0.0</td>\n",
       "    </tr>\n",
       "    <tr>\n",
       "      <th>2017-01-01 03:00:00+00:00</th>\n",
       "      <td>278.05</td>\n",
       "      <td>269.35</td>\n",
       "      <td>277.15</td>\n",
       "      <td>277.85</td>\n",
       "      <td>269.25</td>\n",
       "      <td>268.55</td>\n",
       "      <td>261.15</td>\n",
       "      <td>277.95</td>\n",
       "      <td>274.55</td>\n",
       "      <td>274.25</td>\n",
       "      <td>...</td>\n",
       "      <td>0.0</td>\n",
       "      <td>0.0</td>\n",
       "      <td>0.0</td>\n",
       "      <td>0.0</td>\n",
       "      <td>0.0</td>\n",
       "      <td>0.0</td>\n",
       "      <td>0.0</td>\n",
       "      <td>0.0</td>\n",
       "      <td>0.0</td>\n",
       "      <td>0.0</td>\n",
       "    </tr>\n",
       "    <tr>\n",
       "      <th>2017-01-01 04:00:00+00:00</th>\n",
       "      <td>278.15</td>\n",
       "      <td>269.45</td>\n",
       "      <td>277.55</td>\n",
       "      <td>277.95</td>\n",
       "      <td>268.85</td>\n",
       "      <td>267.85</td>\n",
       "      <td>261.35</td>\n",
       "      <td>277.85</td>\n",
       "      <td>274.75</td>\n",
       "      <td>274.45</td>\n",
       "      <td>...</td>\n",
       "      <td>0.0</td>\n",
       "      <td>0.0</td>\n",
       "      <td>0.0</td>\n",
       "      <td>0.0</td>\n",
       "      <td>0.0</td>\n",
       "      <td>0.0</td>\n",
       "      <td>0.0</td>\n",
       "      <td>0.0</td>\n",
       "      <td>0.0</td>\n",
       "      <td>0.0</td>\n",
       "    </tr>\n",
       "  </tbody>\n",
       "</table>\n",
       "<p>5 rows × 468 columns</p>\n",
       "</div>"
      ],
      "text/plain": [
       "                             temp                                          \\\n",
       "                            00102   00161   00164   00183   00198   00232   \n",
       "2017-01-01 00:00:00+00:00  278.35  268.75  276.65  277.45  270.65  269.45   \n",
       "2017-01-01 01:00:00+00:00  278.25  268.85  276.75  277.65  270.25  269.25   \n",
       "2017-01-01 02:00:00+00:00  278.25  269.25  277.05  277.85  269.45  269.05   \n",
       "2017-01-01 03:00:00+00:00  278.05  269.35  277.15  277.85  269.25  268.55   \n",
       "2017-01-01 04:00:00+00:00  278.15  269.45  277.55  277.95  268.85  267.85   \n",
       "\n",
       "                                                           ...   sun        \\\n",
       "                            00282   00298   00303   00342  ... 04177 04271   \n",
       "2017-01-01 00:00:00+00:00  262.35  277.75  274.75  275.65  ...   0.0   0.0   \n",
       "2017-01-01 01:00:00+00:00  262.75  277.75  274.65  275.15  ...   0.0   0.0   \n",
       "2017-01-01 02:00:00+00:00  261.35  277.75  274.35  274.65  ...   0.0   0.0   \n",
       "2017-01-01 03:00:00+00:00  261.15  277.95  274.55  274.25  ...   0.0   0.0   \n",
       "2017-01-01 04:00:00+00:00  261.35  277.85  274.75  274.45  ...   0.0   0.0   \n",
       "\n",
       "                                                                           \n",
       "                          04336 04393 04464 04466 04501 04625 04642 04745  \n",
       "2017-01-01 00:00:00+00:00   0.0   0.0   0.0   0.0   0.0   0.0   0.0   0.0  \n",
       "2017-01-01 01:00:00+00:00   0.0   0.0   0.0   0.0   0.0   0.0   0.0   0.0  \n",
       "2017-01-01 02:00:00+00:00   0.0   0.0   0.0   0.0   0.0   0.0   0.0   0.0  \n",
       "2017-01-01 03:00:00+00:00   0.0   0.0   0.0   0.0   0.0   0.0   0.0   0.0  \n",
       "2017-01-01 04:00:00+00:00   0.0   0.0   0.0   0.0   0.0   0.0   0.0   0.0  \n",
       "\n",
       "[5 rows x 468 columns]"
      ]
     },
     "execution_count": 293,
     "metadata": {},
     "output_type": "execute_result"
    }
   ],
   "source": [
    "# Features that will be extracted from the EM data and their shorter handle\n",
    "wx_params = {\n",
    "    \"temperature_air_mean_200\": \"temp\",\n",
    "    \"wind_speed\": \"wind\",\n",
    "    \"pressure_air_site\": \"press\",\n",
    "    # \"precipitation_height\": \"precip\",\n",
    "    \"sunshine_duration\": \"sun\"\n",
    "}\n",
    "outlier_columns=[\"01228\", \"02429\", \"04039\", \"00656\", \"00954\", \"03897\", \"03946\", \"00603\"]\n",
    "na_columns = [\"00769\", \"00850\", \"02437\", \"00769\", \"00850\", \"02303\",\t\"02437\", \"02564\", \"03513\", \"04371\"]\n",
    "# Concatenate all weather parameters into one data frame\n",
    "wx_dict = {}\n",
    "for name, handle in wx_params.items():\n",
    "    wx_dict[handle]=(pd.read_pickle(\"../data/weather_all_stations/long/cleaned/\"+name+\".pkl\")).drop(columns=outlier_columns+na_columns)\n",
    "\n",
    "df = pd.concat(wx_dict.values(), axis=1, ignore_index=False, verify_integrity=True, keys=wx_dict.keys())\n",
    "df.head()"
   ]
  },
  {
   "cell_type": "code",
   "execution_count": 335,
   "metadata": {},
   "outputs": [
    {
     "name": "stdout",
     "output_type": "stream",
     "text": [
      "column shape:  (4, 117)\n",
      "df shape:  (43824, 468)\n"
     ]
    }
   ],
   "source": [
    "print(\"column shape: \", df.columns.levshape)\n",
    "print(\"df shape: \", df.shape)"
   ]
  },
  {
   "cell_type": "code",
   "execution_count": null,
   "metadata": {},
   "outputs": [],
   "source": []
  },
  {
   "cell_type": "code",
   "execution_count": 296,
   "metadata": {},
   "outputs": [],
   "source": [
    "column_indices = {name: i for i, name in enumerate(df.columns)}\n",
    "\n",
    "n = len(df)\n",
    "df_train = df[0:int(n*0.7)]\n",
    "df_val = df[int(n*0.7):int(n*0.9)]\n",
    "df_test = df[int(n*0.9):]\n"
   ]
  },
  {
   "cell_type": "code",
   "execution_count": 352,
   "metadata": {},
   "outputs": [
    {
     "data": {
      "text/plain": [
       "(30676, 468)"
      ]
     },
     "execution_count": 352,
     "metadata": {},
     "output_type": "execute_result"
    }
   ],
   "source": [
    "df_train.shape"
   ]
  },
  {
   "cell_type": "code",
   "execution_count": 323,
   "metadata": {},
   "outputs": [
    {
     "data": {
      "text/plain": [
       "<Figure size 864x432 with 0 Axes>"
      ]
     },
     "execution_count": 323,
     "metadata": {},
     "output_type": "execute_result"
    },
    {
     "data": {
      "text/plain": [
       "<Figure size 864x432 with 0 Axes>"
      ]
     },
     "metadata": {},
     "output_type": "display_data"
    }
   ],
   "source": [
    "from sklearn.preprocessing import RobustScaler, MinMaxScaler\n",
    "scaler = RobustScaler()\n",
    "# scaler = MinMaxScaler()\n",
    "scaler.fit(df_train)\n",
    "# scale all sets according to train set, preserve data frames\n",
    "df_train = pd.DataFrame(scaler.transform(df_train),\n",
    "                        columns=df.columns, index=df_train.index).clip(lower=-3)\n",
    "df_val = pd.DataFrame(scaler.transform(df_val),\n",
    "                        columns=df.columns, index=df_val.index)\n",
    "df_test = pd.DataFrame(scaler.transform(df_test),\n",
    "                        columns=df.columns, index=df_test.index)\n",
    "plt.figure(figsize=(12, 6))\n",
    "\n",
    "# ax = sns.violinplot(x=\"Parameter\", y=\"Rescaled\", data=df_train.melt(var_name='Parameter', value_name='Rescaled'))\n",
    "# _ = ax.set_xticklabels(df.keys(), rotation=90)"
   ]
  },
  {
   "cell_type": "code",
   "execution_count": 336,
   "metadata": {},
   "outputs": [
    {
     "data": {
      "text/plain": [
       "<AxesSubplot:>"
      ]
     },
     "execution_count": 336,
     "metadata": {},
     "output_type": "execute_result"
    },
    {
     "data": {
      "image/png": "[encoded data removed]",
      "text/plain": [
       "<Figure size 432x288 with 1 Axes>"
      ]
     },
     "metadata": {
      "needs_background": "light"
     },
     "output_type": "display_data"
    }
   ],
   "source": [
    "df_train.xs(\"00183\", level=1, axis=1)[\"sun\"].iloc[:31*24].plot()"
   ]
  },
  {
   "cell_type": "code",
   "execution_count": 325,
   "metadata": {},
   "outputs": [],
   "source": [
    "desc=df_train[\"wind\"].describe().transpose() # .drop(columns=[\"01228\", \"02429\", \"04039\", \"00656\", \"00954\", \"03897\", \"03946\", \"00603\"]\n",
    "desc_orig=df[\"sun\"].describe() #"
   ]
  },
  {
   "cell_type": "code",
   "execution_count": 351,
   "metadata": {},
   "outputs": [
    {
     "data": {
      "text/plain": [
       "(4, 117)"
      ]
     },
     "execution_count": 351,
     "metadata": {},
     "output_type": "execute_result"
    }
   ],
   "source": [
    "df.columns.levshape\n",
    "# df.describe()"
   ]
  },
  {
   "cell_type": "code",
   "execution_count": 327,
   "metadata": {},
   "outputs": [
    {
     "name": "stdout",
     "output_type": "stream",
     "text": [
      "(4, 117)\n",
      "(30676, 4, 117)\n",
      "(30676, 468)\n"
     ]
    }
   ],
   "source": [
    "X_train = df_train.to_numpy().reshape(-1, *df.columns.levshape)\n",
    "X_val = df_val.to_numpy().reshape(-1, *df.columns.levshape)\n",
    "X_test = df_test.to_numpy().reshape(-1, *df.columns.levshape)\n",
    "input_dim=X_train.shape[1:]\n",
    "\n",
    "# this fixes the latent space dimension, feel free to play around with\n",
    "# the values for your own experiments, but leave it at 2 for the assignment\n",
    "latent_dim = 50\n",
    "print(input_dim)\n",
    "print(X_train.shape)\n",
    "print(df_train.shape)"
   ]
  },
  {
   "cell_type": "code",
   "execution_count": 328,
   "metadata": {},
   "outputs": [],
   "source": [
    "from tensorflow.keras.backend import clear_session\n",
    "\n",
    "clear_session()\n",
    "\n",
    "# this is very similar to what we've done before. First, instantiate a\n",
    "# \"Sequential()\" model in a variable called \"shallow_ae\". Then, add a\n",
    "# \"Dense()\" layer to shallow_ae with latent_dim neurons, an appropriate \"input_shape\"\n",
    "# and activation \"relu\". Afterwards, add another Dense layer with an appropriate\n",
    "# number of neurons to be able to construct an MNIST image and \"sigmoid\"\n",
    "# activation.\n",
    "# YOUR CODE HERE\n",
    "shallow_ae=Sequential()\n",
    "shallow_ae.add(layers.Flatten())\n",
    "shallow_ae.add(Dense(latent_dim, input_shape=input_dim,  activation='relu'))\n",
    "shallow_ae.add(Dense(X_train.shape[1]*X_train.shape[2], activation=\"linear\"))\n",
    "shallow_ae.add(layers.Reshape(df.columns.levshape))\n",
    "\n",
    "# shallow_ae.summary()\n",
    "\n",
    "# plot_model(shallow_ae)"
   ]
  },
  {
   "cell_type": "code",
   "execution_count": 329,
   "metadata": {},
   "outputs": [
    {
     "name": "stdout",
     "output_type": "stream",
     "text": [
      "Model: \"model\"\n",
      "_________________________________________________________________\n",
      " Layer (type)                Output Shape              Param #   \n",
      "=================================================================\n",
      " input_1 (InputLayer)        [(None, 4, 117)]          0         \n",
      "                                                                 \n",
      " flatten (Flatten)           (None, 468)               0         \n",
      "                                                                 \n",
      " dense (Dense)               (None, 50)                23450     \n",
      "                                                                 \n",
      "=================================================================\n",
      "Total params: 23,450\n",
      "Trainable params: 23,450\n",
      "Non-trainable params: 0\n",
      "_________________________________________________________________\n",
      "Model: \"model_1\"\n",
      "_________________________________________________________________\n",
      " Layer (type)                Output Shape              Param #   \n",
      "=================================================================\n",
      " input_2 (InputLayer)        [(None, 50)]              0         \n",
      "                                                                 \n",
      " dense_1 (Dense)             (None, 468)               23868     \n",
      "                                                                 \n",
      " reshape (Reshape)           (None, 4, 117)            0         \n",
      "                                                                 \n",
      "=================================================================\n",
      "Total params: 23,868\n",
      "Trainable params: 23,868\n",
      "Non-trainable params: 0\n",
      "_________________________________________________________________\n"
     ]
    }
   ],
   "source": [
    "# create an input layer with the appropriate shape\n",
    "input_img = Input(shape=(*input_dim,))\n",
    "input_lat = Input(shape=(latent_dim,))\n",
    "\n",
    "# extract the encoder layers\n",
    "encoder_layer1 = shallow_ae.layers[0](input_img)\n",
    "encoder_layer2 = shallow_ae.layers[1](encoder_layer1)\n",
    "\n",
    "# extract the decoder layers\n",
    "decoder_layer1 = shallow_ae.layers[-2](input_lat)\n",
    "decoder_layer2 = shallow_ae.layers[-1](decoder_layer1)\n",
    "\n",
    "\n",
    "# make them addressable models\n",
    "shallow_encoder = Model(input_img, encoder_layer2)\n",
    "shallow_decoder = Model(input_lat, decoder_layer2)\n",
    "\n",
    "shallow_encoder.summary()\n",
    "shallow_decoder.summary()\n",
    "\n",
    "# #plot_model(shallow_encoder)\n",
    "# plot_model(shallow_decoder)"
   ]
  },
  {
   "cell_type": "code",
   "execution_count": 330,
   "metadata": {},
   "outputs": [
    {
     "name": "stdout",
     "output_type": "stream",
     "text": [
      "Epoch 1/15\n",
      "120/120 [==============================] - 1s 5ms/step - loss: 0.4202 - val_loss: 0.3000\n",
      "Epoch 2/15\n",
      "120/120 [==============================] - 0s 4ms/step - loss: 0.2706 - val_loss: 0.2493\n",
      "Epoch 3/15\n",
      "120/120 [==============================] - 0s 4ms/step - loss: 0.2333 - val_loss: 0.2242\n",
      "Epoch 4/15\n",
      "120/120 [==============================] - 0s 4ms/step - loss: 0.2140 - val_loss: 0.2109\n",
      "Epoch 5/15\n",
      "120/120 [==============================] - 1s 5ms/step - loss: 0.2034 - val_loss: 0.2029\n",
      "Epoch 6/15\n",
      "120/120 [==============================] - 1s 5ms/step - loss: 0.1962 - val_loss: 0.1977\n",
      "Epoch 7/15\n",
      "120/120 [==============================] - 1s 5ms/step - loss: 0.1907 - val_loss: 0.1919\n",
      "Epoch 8/15\n",
      "120/120 [==============================] - 1s 4ms/step - loss: 0.1861 - val_loss: 0.1880\n",
      "Epoch 9/15\n",
      "120/120 [==============================] - 1s 4ms/step - loss: 0.1824 - val_loss: 0.1844\n",
      "Epoch 10/15\n",
      "120/120 [==============================] - 1s 6ms/step - loss: 0.1796 - val_loss: 0.1813\n",
      "Epoch 11/15\n",
      "120/120 [==============================] - 0s 4ms/step - loss: 0.1762 - val_loss: 0.1793\n",
      "Epoch 12/15\n",
      "120/120 [==============================] - 1s 5ms/step - loss: 0.1742 - val_loss: 0.1772\n",
      "Epoch 13/15\n",
      "120/120 [==============================] - 1s 5ms/step - loss: 0.1721 - val_loss: 0.1752\n",
      "Epoch 14/15\n",
      "120/120 [==============================] - 1s 4ms/step - loss: 0.1708 - val_loss: 0.1741\n",
      "Epoch 15/15\n",
      "120/120 [==============================] - 1s 5ms/step - loss: 0.1700 - val_loss: 0.1737\n"
     ]
    }
   ],
   "source": [
    "shallow_ae.compile(optimizer=\"adam\", loss=\"mae\")\n",
    "history=shallow_ae.fit(X_train, X_train, epochs=15, batch_size=256, shuffle=True, validation_data=(X_val, X_val))"
   ]
  },
  {
   "cell_type": "code",
   "execution_count": 349,
   "metadata": {},
   "outputs": [
    {
     "name": "stdout",
     "output_type": "stream",
     "text": [
      "(4383, 4, 117)\n",
      "(4383, 4, 117)\n",
      "(4383, 468)\n"
     ]
    },
    {
     "data": {
      "image/png": "[encoded data removed]",
      "text/plain": [
       "<Figure size 1440x360 with 3 Axes>"
      ]
     },
     "metadata": {
      "needs_background": "light"
     },
     "output_type": "display_data"
    }
   ],
   "source": [
    "encoded_imgs = shallow_encoder(X_test).numpy()\n",
    "decoded_imgs = shallow_decoder(encoded_imgs).numpy()\n",
    "print(shallow_ae.predict(X_test).shape)\n",
    "print(shallow_ae.predict(X_test).reshape(-1, *df.columns.levshape).shape)\n",
    "print(X_test.reshape(df_test.shape).shape)\n",
    "transformed_imgs = scaler.inverse_transform(shallow_ae.predict(X_test).reshape(df_test.shape)).reshape(-1, *X_test.shape[1:])\n",
    "# print(reconstructed_imgs[0].shape)\n",
    "def plot_autoenc(X_test, decoded_imgs, transformed_imgs):\n",
    "  n = 1\n",
    "  offset=5\n",
    "  plt.figure(figsize=(20,5))\n",
    "\n",
    "  for i in range(n):\n",
    "    # display original\n",
    "    ax = plt.subplot(3*n, 1, i + 1)\n",
    "    # plt.imshow(scaler.inverse_transform(X_test.reshape(df_test.shape))[i+offset].reshape(X_test.shape[1:]))\n",
    "    plt.imshow(X_test[i+offset])\n",
    "    plt.title(\"original\")\n",
    "    plt.gray()\n",
    "    ax.get_xaxis().set_visible(False)\n",
    "    ax.get_yaxis().set_visible(False)\n",
    "\n",
    "    # display reconstruction\n",
    "    ax = plt.subplot(3*n, 1, i + 1 + n)\n",
    "    plt.imshow(transformed_imgs[i+offset])\n",
    "    plt.title(\"rescaled to original scale\")\n",
    "    plt.gray()\n",
    "    ax.get_xaxis().set_visible(False)\n",
    "    ax.get_yaxis().set_visible(False)\n",
    "\n",
    "    ax = plt.subplot(3*n, 1, i + 2 + n)\n",
    "    plt.imshow(decoded_imgs[i+offset])\n",
    "    # plt.imshow(test_img)\n",
    "    plt.title(\"decoded\")\n",
    "    # plt.gray()\n",
    "    ax.get_xaxis().set_visible(False)\n",
    "    ax.get_yaxis().set_visible(False)\n",
    "  plt.show()\n",
    "\n",
    "plot_autoenc(X_test, decoded_imgs, transformed_imgs)"
   ]
  },
  {
   "cell_type": "markdown",
   "metadata": {},
   "source": [
    "### Approach from online tutorial:"
   ]
  },
  {
   "cell_type": "code",
   "execution_count": 353,
   "metadata": {},
   "outputs": [
    {
     "name": "stdout",
     "output_type": "stream",
     "text": [
      "(30676, 4, 117) (8765, 4, 117) (4383, 4, 117)\n"
     ]
    }
   ],
   "source": [
    "print(X_train.shape, X_val.shape, X_test.shape)"
   ]
  },
  {
   "cell_type": "code",
   "execution_count": 354,
   "metadata": {},
   "outputs": [],
   "source": [
    "latent_dim = 50\n",
    "\n",
    "class Autoencoder(Model):\n",
    "  def __init__(self, latent_dim):\n",
    "    super(Autoencoder, self).__init__()\n",
    "    self.latent_dim = latent_dim   \n",
    "    self.encoder = tf.keras.Sequential([\n",
    "      layers.Flatten(),\n",
    "      layers.Dense(latent_dim*2, activation='relu'),\n",
    "      layers.Dense(latent_dim, activation='relu'),\n",
    "    ])\n",
    "    self.decoder = tf.keras.Sequential([\n",
    "      layers.Dense(X_train.shape[1]*X_train.shape[2]/2, activation='linear'),\n",
    "      layers.Dense(X_train.shape[1]*X_train.shape[2], activation='linear'),\n",
    "      layers.Reshape((X_train.shape[1], X_train.shape[2]))\n",
    "    ])\n",
    "\n",
    "  def call(self, x):\n",
    "    encoded = self.encoder(x)\n",
    "    decoded = self.decoder(encoded)\n",
    "    return decoded\n"
   ]
  },
  {
   "cell_type": "code",
   "execution_count": 355,
   "metadata": {},
   "outputs": [
    {
     "name": "stdout",
     "output_type": "stream",
     "text": [
      "Model: \"autoencoder\"\n",
      "_________________________________________________________________\n",
      " Layer (type)                Output Shape              Param #   \n",
      "=================================================================\n",
      " sequential (Sequential)     (30676, 50)               51950     \n",
      "                                                                 \n",
      " sequential_1 (Sequential)   (30676, 4, 117)           121914    \n",
      "                                                                 \n",
      "=================================================================\n",
      "Total params: 173,864\n",
      "Trainable params: 173,864\n",
      "Non-trainable params: 0\n",
      "_________________________________________________________________\n"
     ]
    }
   ],
   "source": [
    "clear_session()\n",
    "optimizer = tf.keras.optimizers.Adam()\n",
    "autoencoder = Autoencoder(latent_dim)\n",
    "autoencoder.compile(optimizer=optimizer, loss=\"mae\")\n",
    "autoencoder.build(input_shape=X_train.shape)\n",
    "autoencoder.summary()"
   ]
  },
  {
   "cell_type": "code",
   "execution_count": 356,
   "metadata": {},
   "outputs": [
    {
     "name": "stdout",
     "output_type": "stream",
     "text": [
      "Epoch 1/15\n",
      "120/120 [==============================] - 1s 8ms/step - loss: 0.3580 - val_loss: 0.2682\n",
      "Epoch 2/15\n",
      "120/120 [==============================] - 1s 6ms/step - loss: 0.2427 - val_loss: 0.2310\n",
      "Epoch 3/15\n",
      "120/120 [==============================] - 1s 6ms/step - loss: 0.2202 - val_loss: 0.2158\n",
      "Epoch 4/15\n",
      "120/120 [==============================] - 1s 6ms/step - loss: 0.2075 - val_loss: 0.2060\n",
      "Epoch 5/15\n",
      "120/120 [==============================] - 1s 6ms/step - loss: 0.1995 - val_loss: 0.2005\n",
      "Epoch 6/15\n",
      "120/120 [==============================] - 1s 8ms/step - loss: 0.1947 - val_loss: 0.1972\n",
      "Epoch 7/15\n",
      "120/120 [==============================] - 1s 7ms/step - loss: 0.1908 - val_loss: 0.1928\n",
      "Epoch 8/15\n",
      "120/120 [==============================] - 1s 6ms/step - loss: 0.1881 - val_loss: 0.1904\n",
      "Epoch 9/15\n",
      "120/120 [==============================] - 1s 6ms/step - loss: 0.1859 - val_loss: 0.1906\n",
      "Epoch 10/15\n",
      "120/120 [==============================] - 1s 6ms/step - loss: 0.1847 - val_loss: 0.1873\n",
      "Epoch 11/15\n",
      "120/120 [==============================] - 1s 7ms/step - loss: 0.1833 - val_loss: 0.1864\n",
      "Epoch 12/15\n",
      "120/120 [==============================] - 1s 7ms/step - loss: 0.1820 - val_loss: 0.1856\n",
      "Epoch 13/15\n",
      "120/120 [==============================] - 1s 6ms/step - loss: 0.1813 - val_loss: 0.1845\n",
      "Epoch 14/15\n",
      "120/120 [==============================] - 1s 6ms/step - loss: 0.1810 - val_loss: 0.1839\n",
      "Epoch 15/15\n",
      "120/120 [==============================] - 1s 7ms/step - loss: 0.1807 - val_loss: 0.1852\n"
     ]
    },
    {
     "data": {
      "text/plain": [
       "<keras.callbacks.History at 0x1ee2c11ed40>"
      ]
     },
     "execution_count": 356,
     "metadata": {},
     "output_type": "execute_result"
    }
   ],
   "source": [
    "autoencoder.fit(X_train, X_train,\n",
    "                epochs=15,\n",
    "                batch_size=256,\n",
    "                shuffle=True,\n",
    "                validation_data=(X_val, X_val))"
   ]
  },
  {
   "cell_type": "code",
   "execution_count": 358,
   "metadata": {},
   "outputs": [
    {
     "data": {
      "image/png": "[encoded data removed]",
      "text/plain": [
       "<Figure size 1440x360 with 3 Axes>"
      ]
     },
     "metadata": {
      "needs_background": "light"
     },
     "output_type": "display_data"
    }
   ],
   "source": [
    "encoded_imgs = autoencoder.encoder(X_test).numpy()\n",
    "decoded_imgs = autoencoder.decoder(encoded_imgs).numpy()\n",
    "\n",
    "plot_autoenc(X_test, decoded_imgs, transformed_imgs)"
   ]
  }
 ],
 "metadata": {
  "kernelspec": {
   "display_name": "Python 3.10.3 64-bit",
   "language": "python",
   "name": "python3"
  },
  "language_info": {
   "codemirror_mode": {
    "name": "ipython",
    "version": 3
   },
   "file_extension": ".py",
   "mimetype": "text/x-python",
   "name": "python",
   "nbconvert_exporter": "python",
   "pygments_lexer": "ipython3",
   "version": "3.10.3"
  },
  "orig_nbformat": 4,
  "vscode": {
   "interpreter": {
    "hash": "cd88a92e2b28528af5397e2b70e177dd967cd9d93fde7cea7df37493d995dc93"
   }
  }
 },
 "nbformat": 4,
 "nbformat_minor": 2
}
