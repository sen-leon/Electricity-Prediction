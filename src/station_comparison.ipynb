{
 "cells": [
  {
   "cell_type": "code",
   "execution_count": 188,
   "metadata": {},
   "outputs": [],
   "source": [
    "import pandas as pd\n",
    "import numpy as np\n",
    "from os import listdir\n",
    "import matplotlib.pyplot as plt\n",
    "from mpl_toolkits.basemap import Basemap"
   ]
  },
  {
   "cell_type": "code",
   "execution_count": 62,
   "metadata": {},
   "outputs": [
    {
     "name": "stdout",
     "output_type": "stream",
     "text": [
      "['FF_Stundenwerte_Beschreibung_Stationen.txt', 'N_Stundenwerte_Beschreibung_Stationen.txt', 'P0_Stundenwerte_Beschreibung_Stationen.txt', 'SD_Stundenwerte_Beschreibung_Stationen.txt', 'TU_Stundenwerte_Beschreibung_Stationen.txt']\n",
      "['FF', 'N', 'P0', 'SD', 'TU']\n",
      "['Stations_id', 'von_datum', 'bis_datum', 'Stationshoehe', 'geoBreite', 'geoLaenge', 'Stationsname', 'Bundesland']\n",
      "\n",
      " FF_Stundenwerte_Beschreibung_Stationen.txt\n",
      "\n",
      " N_Stundenwerte_Beschreibung_Stationen.txt\n",
      "\n",
      " P0_Stundenwerte_Beschreibung_Stationen.txt\n",
      "\n",
      " SD_Stundenwerte_Beschreibung_Stationen.txt\n",
      "\n",
      " TU_Stundenwerte_Beschreibung_Stationen.txt\n"
     ]
    }
   ],
   "source": [
    "filenames=listdir(\"../data/Stations\")\n",
    "print(filenames)\n",
    "filenames_short=[f.split(\"_\")[0] for f in filenames]\n",
    "print(filenames_short)\n",
    "columns=pd.read_csv(\"../data/Stations/\"+filenames[0], sep=\"\\t\", encoding='cp1252', skiprows=[1], nrows=0).columns\n",
    "columns=columns[0].split()\n",
    "print(columns)\n",
    "df_dict={}\n",
    "for n, file in enumerate(filenames):\n",
    "    print(\"\\n\",file)\n",
    "    df=pd.read_fwf(\"../data/Stations/\"+file, sep=\"\\t\", encoding='cp1252', skiprows=[0,1], names=columns)\n",
    "    df_dict[filenames_short[n]]=df\n",
    "    # print(df.head())"
   ]
  },
  {
   "cell_type": "code",
   "execution_count": 128,
   "metadata": {},
   "outputs": [
    {
     "name": "stdout",
     "output_type": "stream",
     "text": [
      "['FF', 'N', 'P0', 'SD', 'TU']\n"
     ]
    },
    {
     "data": {
      "text/html": [
       "<div>\n",
       "<style scoped>\n",
       "    .dataframe tbody tr th:only-of-type {\n",
       "        vertical-align: middle;\n",
       "    }\n",
       "\n",
       "    .dataframe tbody tr th {\n",
       "        vertical-align: top;\n",
       "    }\n",
       "\n",
       "    .dataframe thead th {\n",
       "        text-align: right;\n",
       "    }\n",
       "</style>\n",
       "<table border=\"1\" class=\"dataframe\">\n",
       "  <thead>\n",
       "    <tr style=\"text-align: right;\">\n",
       "      <th></th>\n",
       "      <th>FF</th>\n",
       "      <th>N</th>\n",
       "      <th>P0</th>\n",
       "      <th>SD</th>\n",
       "      <th>TU</th>\n",
       "    </tr>\n",
       "  </thead>\n",
       "  <tbody>\n",
       "    <tr>\n",
       "      <th>0</th>\n",
       "      <td>3</td>\n",
       "      <td>3</td>\n",
       "      <td>3</td>\n",
       "      <td>3</td>\n",
       "      <td>3</td>\n",
       "    </tr>\n",
       "    <tr>\n",
       "      <th>1</th>\n",
       "      <td>11</td>\n",
       "      <td>5</td>\n",
       "      <td>5</td>\n",
       "      <td>11</td>\n",
       "      <td>44</td>\n",
       "    </tr>\n",
       "    <tr>\n",
       "      <th>2</th>\n",
       "      <td>44</td>\n",
       "      <td>44</td>\n",
       "      <td>29</td>\n",
       "      <td>44</td>\n",
       "      <td>52</td>\n",
       "    </tr>\n",
       "    <tr>\n",
       "      <th>3</th>\n",
       "      <td>52</td>\n",
       "      <td>71</td>\n",
       "      <td>46</td>\n",
       "      <td>49</td>\n",
       "      <td>71</td>\n",
       "    </tr>\n",
       "    <tr>\n",
       "      <th>4</th>\n",
       "      <td>72</td>\n",
       "      <td>73</td>\n",
       "      <td>47</td>\n",
       "      <td>52</td>\n",
       "      <td>73</td>\n",
       "    </tr>\n",
       "  </tbody>\n",
       "</table>\n",
       "</div>"
      ],
      "text/plain": [
       "   FF   N  P0  SD  TU\n",
       "0   3   3   3   3   3\n",
       "1  11   5   5  11  44\n",
       "2  44  44  29  44  52\n",
       "3  52  71  46  49  71\n",
       "4  72  73  47  52  73"
      ]
     },
     "execution_count": 128,
     "metadata": {},
     "output_type": "execute_result"
    }
   ],
   "source": [
    "filenames_short=[f.split(\"_\")[0] for f in filenames]\n",
    "print(filenames_short)\n",
    "comp_df=pd.DataFrame()\n",
    "station_ids_df=pd.DataFrame()\n",
    "for file in filenames_short:\n",
    "    # print(df_dict[file])\n",
    "    station_ids_df[file]=df_dict[file][\"Stations_id\"]\n",
    "station_ids_df.head()"
   ]
  },
  {
   "cell_type": "code",
   "execution_count": 82,
   "metadata": {},
   "outputs": [
    {
     "data": {
      "text/html": [
       "<div>\n",
       "<style scoped>\n",
       "    .dataframe tbody tr th:only-of-type {\n",
       "        vertical-align: middle;\n",
       "    }\n",
       "\n",
       "    .dataframe tbody tr th {\n",
       "        vertical-align: top;\n",
       "    }\n",
       "\n",
       "    .dataframe thead th {\n",
       "        text-align: right;\n",
       "    }\n",
       "</style>\n",
       "<table border=\"1\" class=\"dataframe\">\n",
       "  <thead>\n",
       "    <tr style=\"text-align: right;\">\n",
       "      <th></th>\n",
       "      <th>FF</th>\n",
       "      <th>N</th>\n",
       "      <th>P0</th>\n",
       "      <th>SD</th>\n",
       "      <th>TU</th>\n",
       "    </tr>\n",
       "  </thead>\n",
       "  <tbody>\n",
       "    <tr>\n",
       "      <th>count</th>\n",
       "      <td>525.000000</td>\n",
       "      <td>525.000000</td>\n",
       "      <td>525.000000</td>\n",
       "      <td>525.000000</td>\n",
       "      <td>525.000000</td>\n",
       "    </tr>\n",
       "    <tr>\n",
       "      <th>mean</th>\n",
       "      <td>3966.729524</td>\n",
       "      <td>2958.773333</td>\n",
       "      <td>3467.832381</td>\n",
       "      <td>2343.500952</td>\n",
       "      <td>2652.441905</td>\n",
       "    </tr>\n",
       "    <tr>\n",
       "      <th>std</th>\n",
       "      <td>3467.821432</td>\n",
       "      <td>1792.094260</td>\n",
       "      <td>2055.076261</td>\n",
       "      <td>1403.539098</td>\n",
       "      <td>1581.396428</td>\n",
       "    </tr>\n",
       "    <tr>\n",
       "      <th>min</th>\n",
       "      <td>3.000000</td>\n",
       "      <td>3.000000</td>\n",
       "      <td>3.000000</td>\n",
       "      <td>3.000000</td>\n",
       "      <td>3.000000</td>\n",
       "    </tr>\n",
       "    <tr>\n",
       "      <th>25%</th>\n",
       "      <td>1572.000000</td>\n",
       "      <td>1332.000000</td>\n",
       "      <td>1587.000000</td>\n",
       "      <td>1078.000000</td>\n",
       "      <td>1270.000000</td>\n",
       "    </tr>\n",
       "    <tr>\n",
       "      <th>50%</th>\n",
       "      <td>3244.000000</td>\n",
       "      <td>3023.000000</td>\n",
       "      <td>3432.000000</td>\n",
       "      <td>2436.000000</td>\n",
       "      <td>2680.000000</td>\n",
       "    </tr>\n",
       "    <tr>\n",
       "      <th>75%</th>\n",
       "      <td>5327.000000</td>\n",
       "      <td>4393.000000</td>\n",
       "      <td>5374.000000</td>\n",
       "      <td>3540.000000</td>\n",
       "      <td>3925.000000</td>\n",
       "    </tr>\n",
       "    <tr>\n",
       "      <th>max</th>\n",
       "      <td>19317.000000</td>\n",
       "      <td>6258.000000</td>\n",
       "      <td>7235.000000</td>\n",
       "      <td>4753.000000</td>\n",
       "      <td>5546.000000</td>\n",
       "    </tr>\n",
       "  </tbody>\n",
       "</table>\n",
       "</div>"
      ],
      "text/plain": [
       "                 FF            N           P0           SD           TU\n",
       "count    525.000000   525.000000   525.000000   525.000000   525.000000\n",
       "mean    3966.729524  2958.773333  3467.832381  2343.500952  2652.441905\n",
       "std     3467.821432  1792.094260  2055.076261  1403.539098  1581.396428\n",
       "min        3.000000     3.000000     3.000000     3.000000     3.000000\n",
       "25%     1572.000000  1332.000000  1587.000000  1078.000000  1270.000000\n",
       "50%     3244.000000  3023.000000  3432.000000  2436.000000  2680.000000\n",
       "75%     5327.000000  4393.000000  5374.000000  3540.000000  3925.000000\n",
       "max    19317.000000  6258.000000  7235.000000  4753.000000  5546.000000"
      ]
     },
     "execution_count": 82,
     "metadata": {},
     "output_type": "execute_result"
    }
   ],
   "source": [
    "station_ids_df.describe()"
   ]
  },
  {
   "cell_type": "code",
   "execution_count": 131,
   "metadata": {},
   "outputs": [
    {
     "name": "stdout",
     "output_type": "stream",
     "text": [
      "[3, 102, 161, 164, 175, 183, 198, 232, 282, 298, 303, 342, 348, 427, 430, 433, 460, 591, 596, 599, 603, 656, 662, 691, 701, 704, 722, 769, 840, 850, 853, 856, 867, 880, 891, 920, 953, 954, 963, 1001, 1048, 1078, 1200, 1219, 1228, 1262, 1270, 1303, 1346, 1358, 1420, 1443, 1468, 1503, 1544, 1550, 1580, 1587, 1605, 1612, 1639, 1684, 1691, 1694, 1757, 1759, 1766, 1832, 1869, 1975, 2014, 2023, 2044, 2115, 2171, 2261, 2290, 2303, 2374, 2429, 2437, 2456, 2483, 2485, 2503, 2522, 2532, 2559, 2564, 2565, 2597, 2601, 2638, 2656, 2667, 2712, 2794, 2812, 2843, 2907, 2925, 2928, 2932, 2961, 2985, 3015, 3023, 3028, 3032, 3085, 3086, 3093, 3098, 3126, 3158, 3166, 3167, 3196, 3231, 3268, 3287, 3362, 3366, 3379, 3390, 3404, 3478, 3513, 3552, 3575, 3631, 3659, 3660, 3668, 3730, 3761, 3791, 3811, 3815, 3821, 3879, 3897, 3946, 3987, 4024, 4039, 4104, 4177, 4271, 4336, 4371, 4393, 4464, 4466, 4501, 4625, 4629, 4642, 4745, 4752]\n",
      "160\n"
     ]
    }
   ],
   "source": [
    "maxval=station_ids_df.max().max()\n",
    "# print(maxval)\n",
    "id_df=pd.DataFrame(columns=filenames_short)\n",
    "ids=[np.int64(i) for i in range(maxval+1)]\n",
    "# print(ids)\n",
    "id_list=[]\n",
    "for id in ids:\n",
    "    temp = True\n",
    "    for file in filenames_short:\n",
    "        # print(id in station_ids_df[col].values)\n",
    "        if id in station_ids_df[file].values:\n",
    "            temp = temp & True\n",
    "            # print(file,id)\n",
    "        else:\n",
    "            temp = temp & False\n",
    "    if temp==True:\n",
    "        id_list.append(id)\n",
    "print(id_list)\n",
    "print(len(id_list))"
   ]
  },
  {
   "cell_type": "code",
   "execution_count": 145,
   "metadata": {},
   "outputs": [
    {
     "name": "stdout",
     "output_type": "stream",
     "text": [
      "Index(['Stations_id', 'von_datum', 'bis_datum', 'Stationshoehe', 'geoBreite',\n",
      "       'geoLaenge', 'Stationsname', 'Bundesland'],\n",
      "      dtype='object')\n",
      "    Stations_id  von_datum  bis_datum  Stationshoehe  geoBreite  geoLaenge  \\\n",
      "0             3   19500401   20110331            202    50.7827     6.0941   \n",
      "8           102   20020101   20220915             32    53.8633     8.1275   \n",
      "16          161   20110901   20220915             75    50.4237     7.4202   \n",
      "17          164   19560101   20220915             54    53.0316    13.9908   \n",
      "19          175   19550101   19751231            413    49.2964    10.5751   \n",
      "\n",
      "             Stationsname           Bundesland  \n",
      "0                  Aachen  Nordrhein-Westfalen  \n",
      "8   Leuchtturm Alte Weser        Niedersachsen  \n",
      "16              Andernach      Rheinland-Pfalz  \n",
      "17             Angermünde          Brandenburg  \n",
      "19                Ansbach               Bayern  \n"
     ]
    }
   ],
   "source": [
    "usable_stations=pd.DataFrame(columns=columns)\n",
    "for n, file in enumerate(filenames):\n",
    "    df=df_dict[filenames_short[n]]\n",
    "    usable_stations=df[df[\"Stations_id\"].isin(id_list)]\n",
    "print(usable_stations.columns)\n",
    "print(usable_stations.head())"
   ]
  },
  {
   "cell_type": "code",
   "execution_count": 198,
   "metadata": {},
   "outputs": [
    {
     "name": "stdout",
     "output_type": "stream",
     "text": [
      "        Stations_id  von_datum  bis_datum  Stationshoehe  geoBreite  \\\n",
      "count          3305       3305       3305           3305   3305.000   \n",
      "unique         1566        810        670            654   1539.000   \n",
      "top               3   19510101   20220915              3     51.296   \n",
      "freq              5        269       1224             35     10.000   \n",
      "\n",
      "        geoLaenge Stationsname Bundesland  \n",
      "count   3305.0000         3305       3305  \n",
      "unique  1538.0000         1579         17  \n",
      "top        7.5906       Aachen     Bayern  \n",
      "freq      10.0000            5        667  \n",
      "        Stations_id  von_datum  bis_datum  Stationshoehe  geoBreite  \\\n",
      "count          1566       1566       1566           1566    1566.00   \n",
      "unique         1566        585        419            654    1539.00   \n",
      "top               3   19510101   20220916              1      49.45   \n",
      "freq              1         82        402             15       3.00   \n",
      "\n",
      "        geoLaenge Stationsname Bundesland  \n",
      "count   1566.0000         1566       1566  \n",
      "unique  1538.0000         1566         17  \n",
      "top        7.6528       Aachen     Bayern  \n",
      "freq       2.0000            1        355  \n"
     ]
    }
   ],
   "source": [
    "all_stations=pd.DataFrame(columns=columns)\n",
    "for n, file in enumerate(filenames):\n",
    "    df=df_dict[filenames_short[n]]\n",
    "    all_stations = pd.concat([all_stations, df], axis=0)\n",
    "print(all_stations.describe())\n",
    "all_stations=all_stations.drop_duplicates(subset=\"Stations_id\")\n",
    "print(all_stations.describe())"
   ]
  },
  {
   "cell_type": "code",
   "execution_count": 154,
   "metadata": {},
   "outputs": [
    {
     "name": "stdout",
     "output_type": "stream",
     "text": [
      "(6.0941, 14.9506, 47.3984, 55.011)\n",
      "51.2047\n"
     ]
    }
   ],
   "source": [
    "BBox = (usable_stations.geoLaenge.min(),   usable_stations.geoLaenge.max(),      \n",
    "         usable_stations.geoBreite.min(), usable_stations.geoBreite.max())\n",
    "print(BBox)\n",
    "print((BBox[2]+BBox[3])/2)"
   ]
  },
  {
   "cell_type": "code",
   "execution_count": 208,
   "metadata": {},
   "outputs": [
    {
     "name": "stdout",
     "output_type": "stream",
     "text": [
      "midpoint:  10.52235 51.2047\n"
     ]
    },
    {
     "data": {
      "image/png": "[encoded data removed]",
      "text/plain": [
       "<Figure size 576x468 with 1 Axes>"
      ]
     },
     "metadata": {},
     "output_type": "display_data"
    }
   ],
   "source": [
    "# import matplotlib.pyplot as plt\n",
    "# from mpl_toolkits.basemap import Basemap\n",
    "\n",
    "# make up some data for scatter plot\n",
    "from cProfile import label\n",
    "\n",
    "\n",
    "lons = usable_stations.geoLaenge.tolist()\n",
    "lats = usable_stations.geoBreite.tolist()\n",
    "lons_all = all_stations.geoLaenge.tolist()\n",
    "lats_all = all_stations.geoBreite.tolist()\n",
    "\n",
    "fig = plt.gcf()\n",
    "fig.set_size_inches(8, 6.5)\n",
    "\n",
    "m = Basemap(projection='merc', \\\n",
    "            # llcrnrlat=BBox[2], urcrnrlat=BBox[3], \\\n",
    "            # llcrnrlon=BBox[0], urcrnrlon=BBox[1], \\\n",
    "            llcrnrlat=46.5, urcrnrlat=55.5, \\\n",
    "            llcrnrlon=5, urcrnrlon=16, \\\n",
    "            lat_ts=(BBox[2]+BBox[3])/2, \\\n",
    "            resolution='i')\n",
    "m.drawcoastlines()\n",
    "m.fillcontinents(lake_color='aqua')\n",
    "m.shadedrelief()\n",
    "# draw parallels and meridians.\n",
    "# m.drawparallels(range(46, 56, 2))\n",
    "# m.drawmeridians(range(5, 15, 2))\n",
    "m.drawmapboundary(fill_color='aqua')\n",
    "m.drawcountries(linewidth=1)\n",
    "print(\"midpoint: \", (BBox[0]+BBox[1])/2, (BBox[2]+BBox[3])/2)\n",
    "x1, y1 =m((BBox[0]+BBox[1])/2, (BBox[2]+BBox[3])/2)\n",
    "x, y =m(lons, lats)\n",
    "x_all, y_all =m(lons_all, lats_all)\n",
    "\n",
    "# plt.scatter(x1, y1)\n",
    "scatter_1 = plt.scatter(x, y, s=10, label=\"usable stations\")\n",
    "scatter_2 = plt.scatter(x_all, y_all, color=\"red\", s=.5, label=\"all stations\")\n",
    "plt.legend(handles=[scatter_1, scatter_2])\n",
    "plt.title(\"Station overview\")\n",
    "plt.show()\n"
   ]
  },
  {
   "cell_type": "code",
   "execution_count": null,
   "metadata": {},
   "outputs": [],
   "source": []
  }
 ],
 "metadata": {
  "kernelspec": {
   "display_name": "Python 3.10.3 64-bit",
   "language": "python",
   "name": "python3"
  },
  "language_info": {
   "codemirror_mode": {
    "name": "ipython",
    "version": 3
   },
   "file_extension": ".py",
   "mimetype": "text/x-python",
   "name": "python",
   "nbconvert_exporter": "python",
   "pygments_lexer": "ipython3",
   "version": "3.10.3"
  },
  "orig_nbformat": 4,
  "vscode": {
   "interpreter": {
    "hash": "cd88a92e2b28528af5397e2b70e177dd967cd9d93fde7cea7df37493d995dc93"
   }
  }
 },
 "nbformat": 4,
 "nbformat_minor": 2
}
