{
 "cells": [
  {
   "cell_type": "code",
   "execution_count": 2,
   "metadata": {},
   "outputs": [],
   "source": [
    "import matplotlib.pyplot as plt\n",
    "import numpy as np\n",
    "import pandas as pd\n",
    "import tensorflow as tf\n",
    "import seaborn as sns\n",
    "\n",
    "from sklearn.metrics import accuracy_score, precision_score, recall_score\n",
    "from sklearn.model_selection import train_test_split\n",
    "from tensorflow.keras import layers, losses\n",
    "# from tensorflow.keras.datasets import fashion_mnist\n",
    "from tensorflow.keras.models import Model, Sequential\n",
    "from tensorflow.keras.backend import clear_session\n",
    "from tensorflow.keras.layers import Dense, Input"
   ]
  },
  {
   "cell_type": "code",
   "execution_count": 96,
   "metadata": {},
   "outputs": [
    {
     "name": "stdout",
     "output_type": "stream",
     "text": [
      "(17544, 528)\n",
      "(17544, 132)\n",
      "(17544, 4, 132)\n"
     ]
    }
   ],
   "source": [
    "parameters = [\"wind_speed\", \"sunshine_duration\",\n",
    "            \"pressure_air_site\", \"temperature_air_mean_200\", \"precipitation_height\"]\n",
    "# parameter=parameters[0]\n",
    "# print(parameter)\n",
    "# path=\"../data/weather/\"+parameters[0]+\"_2021.pkl\"\n",
    "# weather = pd.read_pickle(path)\n",
    "\n",
    "def load_weatherdata(parameters):\n",
    "    # means = pd.DataFrame()\n",
    "    weather = pd.DataFrame()\n",
    "    # weather_array = []\n",
    "    # scaler_dict={}\n",
    "    for parameter in parameters:\n",
    "        path=\"../data/weather_all_stations/cleaned/\"+parameter+\".pkl\"\n",
    "        import_df = pd.read_pickle(path)\n",
    "        index = import_df.index\n",
    "        # columns = import_df.columns\n",
    "        # column_list=columns.tolist()\n",
    "        # scaled = pd.DataFrame(data = scaler.fit_transform(import_df), index=index, columns=columns)\n",
    "        # means[parameter] = scaled.mean(axis=1)\n",
    "        weather = pd.concat([weather, import_df], axis=1)\n",
    "    # print(weather.head())\n",
    "    import_shape=import_df.shape\n",
    "    return weather, import_shape\n",
    "# w2 = weather.melt(var_name='Column', value_name='Rescaled')\n",
    "\n",
    "df, import_shape = load_weatherdata(parameters[:-1])\n",
    "print(df.to_numpy().shape)\n",
    "print(import_shape)\n",
    "import_shape = (df.shape[0], int(df.shape[-1]/import_shape[-1]), import_shape[-1])\n",
    "print(import_shape)"
   ]
  },
  {
   "cell_type": "code",
   "execution_count": 97,
   "metadata": {},
   "outputs": [],
   "source": [
    "column_indices = {name: i for i, name in enumerate(df.columns)}\n",
    "\n",
    "n = len(df)\n",
    "df_train = df[0:int(n*0.7)]\n",
    "df_val = df[int(n*0.7):int(n*0.9)]\n",
    "df_test = df[int(n*0.9):]"
   ]
  },
  {
   "cell_type": "code",
   "execution_count": 98,
   "metadata": {},
   "outputs": [
    {
     "name": "stderr",
     "output_type": "stream",
     "text": [
      "c:\\Users\\Leon1\\AppData\\Local\\Programs\\Python\\Python310\\lib\\site-packages\\numpy\\lib\\nanfunctions.py:1095: RuntimeWarning: All-NaN slice encountered\n",
      "  result = np.apply_along_axis(_nanmedian1d, axis, a, overwrite_input)\n",
      "c:\\Users\\Leon1\\AppData\\Local\\Programs\\Python\\Python310\\lib\\site-packages\\numpy\\lib\\nanfunctions.py:1559: RuntimeWarning: All-NaN slice encountered\n",
      "  r, k = function_base._ureduce(a,\n"
     ]
    },
    {
     "data": {
      "image/png": "[encoded data removed]",
      "text/plain": [
       "<Figure size 864x432 with 1 Axes>"
      ]
     },
     "metadata": {
      "needs_background": "light"
     },
     "output_type": "display_data"
    }
   ],
   "source": [
    "from sklearn.preprocessing import RobustScaler, MinMaxScaler\n",
    "scaler = RobustScaler()\n",
    "\n",
    "scaler.fit(df_train)\n",
    "# scale all sets according to train set, preserve data frames\n",
    "df_train = pd.DataFrame(scaler.transform(df_train),\n",
    "                        columns=df.columns, index=df_train.index).clip(lower=-3)\n",
    "df_val = pd.DataFrame(scaler.transform(df_val),\n",
    "                        columns=df.columns, index=df_val.index)\n",
    "df_test = pd.DataFrame(scaler.transform(df_test),\n",
    "                        columns=df.columns, index=df_test.index)\n",
    "plt.figure(figsize=(12, 6))\n",
    "\n",
    "ax = sns.violinplot(x=\"Parameter\", y=\"Rescaled\", data=df_train.melt(var_name='Parameter', value_name='Rescaled'))\n",
    "# _ = ax.set_xticklabels(df.keys(), rotation=90)"
   ]
  },
  {
   "cell_type": "code",
   "execution_count": 40,
   "metadata": {},
   "outputs": [
    {
     "name": "stdout",
     "output_type": "stream",
     "text": [
      "48\n",
      "(12280, 48)\n",
      "(12280, 48)\n"
     ]
    }
   ],
   "source": [
    "X_train = df_train.to_numpy()\n",
    "input_dim=df_train.shape[1]\n",
    "\n",
    "# this fixes the latent space dimension, feel free to play around with\n",
    "# the values for your own experiments, but leave it at 2 for the assignment\n",
    "latent_dim = 10\n",
    "print(input_dim)\n",
    "print(X_train.shape)\n",
    "print(df_train.shape)"
   ]
  },
  {
   "cell_type": "code",
   "execution_count": 45,
   "metadata": {},
   "outputs": [
    {
     "name": "stdout",
     "output_type": "stream",
     "text": [
      "Model: \"sequential\"\n",
      "_________________________________________________________________\n",
      " Layer (type)                Output Shape              Param #   \n",
      "=================================================================\n",
      " dense (Dense)               (None, 10)                490       \n",
      "                                                                 \n",
      " dense_1 (Dense)             (None, 48)                528       \n",
      "                                                                 \n",
      "=================================================================\n",
      "Total params: 1,018\n",
      "Trainable params: 1,018\n",
      "Non-trainable params: 0\n",
      "_________________________________________________________________\n"
     ]
    }
   ],
   "source": [
    "from tensorflow.keras.backend import clear_session\n",
    "\n",
    "clear_session()\n",
    "\n",
    "# this is very similar to what we've done before. First, instantiate a\n",
    "# \"Sequential()\" model in a variable called \"shallow_ae\". Then, add a\n",
    "# \"Dense()\" layer to shallow_ae with latent_dim neurons, an appropriate \"input_shape\"\n",
    "# and activation \"relu\". Afterwards, add another Dense layer with an appropriate\n",
    "# number of neurons to be able to construct an MNIST image and \"sigmoid\"\n",
    "# activation.\n",
    "# YOUR CODE HERE\n",
    "shallow_ae=Sequential()\n",
    "shallow_ae.add(Dense(latent_dim, input_shape=[input_dim],  activation='tanh'))\n",
    "shallow_ae.add(Dense(X_train.shape[1], activation='tanh'))\n",
    "\n",
    "shallow_ae.summary()\n",
    "\n",
    "# plot_model(shallow_ae)"
   ]
  },
  {
   "cell_type": "code",
   "execution_count": 46,
   "metadata": {},
   "outputs": [
    {
     "name": "stdout",
     "output_type": "stream",
     "text": [
      "Model: \"model\"\n",
      "_________________________________________________________________\n",
      " Layer (type)                Output Shape              Param #   \n",
      "=================================================================\n",
      " input_1 (InputLayer)        [(None, 48)]              0         \n",
      "                                                                 \n",
      " dense (Dense)               (None, 10)                490       \n",
      "                                                                 \n",
      "=================================================================\n",
      "Total params: 490\n",
      "Trainable params: 490\n",
      "Non-trainable params: 0\n",
      "_________________________________________________________________\n",
      "Model: \"model_1\"\n",
      "_________________________________________________________________\n",
      " Layer (type)                Output Shape              Param #   \n",
      "=================================================================\n",
      " input_2 (InputLayer)        [(None, 10)]              0         \n",
      "                                                                 \n",
      " dense_1 (Dense)             (None, 48)                528       \n",
      "                                                                 \n",
      "=================================================================\n",
      "Total params: 528\n",
      "Trainable params: 528\n",
      "Non-trainable params: 0\n",
      "_________________________________________________________________\n"
     ]
    }
   ],
   "source": [
    "# create an input layer with the appropriate shape\n",
    "input_img = Input(shape=(input_dim,))\n",
    "input_lat = Input(shape=(latent_dim,))\n",
    "\n",
    "# extract the first shallow_ae layer\n",
    "encoder_layer = shallow_ae.layers[0]\n",
    "decoder_layer = shallow_ae.layers[-1]\n",
    "\n",
    "# make them addressable models\n",
    "shallow_encoder = Model(input_img, encoder_layer(input_img))\n",
    "shallow_decoder = Model(input_lat, decoder_layer(input_lat))\n",
    "\n",
    "shallow_encoder.summary()\n",
    "shallow_decoder.summary()\n",
    "\n",
    "# #plot_model(shallow_encoder)\n",
    "# plot_model(shallow_decoder)"
   ]
  },
  {
   "cell_type": "code",
   "execution_count": 47,
   "metadata": {},
   "outputs": [
    {
     "name": "stdout",
     "output_type": "stream",
     "text": [
      "Epoch 1/20\n",
      "48/48 [==============================] - 1s 7ms/step - loss: 0.8313 - val_loss: 0.6742\n",
      "Epoch 2/20\n",
      "48/48 [==============================] - 0s 3ms/step - loss: 0.6418 - val_loss: 0.5423\n",
      "Epoch 3/20\n",
      "48/48 [==============================] - 0s 3ms/step - loss: 0.5263 - val_loss: 0.4761\n",
      "Epoch 4/20\n",
      "48/48 [==============================] - 0s 3ms/step - loss: 0.4650 - val_loss: 0.4386\n",
      "Epoch 5/20\n",
      "48/48 [==============================] - 0s 4ms/step - loss: 0.4297 - val_loss: 0.4112\n",
      "Epoch 6/20\n",
      "48/48 [==============================] - 0s 3ms/step - loss: 0.4047 - val_loss: 0.3894\n",
      "Epoch 7/20\n",
      "48/48 [==============================] - 0s 3ms/step - loss: 0.3855 - val_loss: 0.3722\n",
      "Epoch 8/20\n",
      "48/48 [==============================] - 0s 3ms/step - loss: 0.3705 - val_loss: 0.3589\n",
      "Epoch 9/20\n",
      "48/48 [==============================] - 0s 3ms/step - loss: 0.3586 - val_loss: 0.3487\n",
      "Epoch 10/20\n",
      "48/48 [==============================] - 0s 3ms/step - loss: 0.3490 - val_loss: 0.3403\n",
      "Epoch 11/20\n",
      "48/48 [==============================] - 0s 4ms/step - loss: 0.3411 - val_loss: 0.3333\n",
      "Epoch 12/20\n",
      "48/48 [==============================] - 0s 3ms/step - loss: 0.3344 - val_loss: 0.3275\n",
      "Epoch 13/20\n",
      "48/48 [==============================] - 0s 3ms/step - loss: 0.3286 - val_loss: 0.3225\n",
      "Epoch 14/20\n",
      "48/48 [==============================] - 0s 3ms/step - loss: 0.3236 - val_loss: 0.3180\n",
      "Epoch 15/20\n",
      "48/48 [==============================] - 0s 3ms/step - loss: 0.3191 - val_loss: 0.3140\n",
      "Epoch 16/20\n",
      "48/48 [==============================] - 0s 3ms/step - loss: 0.3152 - val_loss: 0.3106\n",
      "Epoch 17/20\n",
      "48/48 [==============================] - 0s 3ms/step - loss: 0.3117 - val_loss: 0.3073\n",
      "Epoch 18/20\n",
      "48/48 [==============================] - 0s 3ms/step - loss: 0.3085 - val_loss: 0.3045\n",
      "Epoch 19/20\n",
      "48/48 [==============================] - 0s 3ms/step - loss: 0.3056 - val_loss: 0.3020\n",
      "Epoch 20/20\n",
      "48/48 [==============================] - 0s 3ms/step - loss: 0.3031 - val_loss: 0.2996\n"
     ]
    }
   ],
   "source": [
    "shallow_ae.compile(optimizer=\"adam\", loss=\"mse\")\n",
    "history=shallow_ae.fit(df_train, df_train, epochs=20, batch_size=256, shuffle=True, validation_data=(df_val, df_val))"
   ]
  },
  {
   "cell_type": "code",
   "execution_count": 48,
   "metadata": {},
   "outputs": [
    {
     "name": "stdout",
     "output_type": "stream",
     "text": [
      "55/55 [==============================] - 0s 1ms/step\n",
      "[[ 0.76473427  0.77863276 -0.04636003 ...  0.50235444  0.4660454\n",
      "   0.3802947 ]\n",
      " [ 0.8033491   0.8059227   0.05471643 ...  0.4730283   0.45214173\n",
      "   0.35928348]\n",
      " [ 0.83455676  0.82647693  0.3353154  ...  0.40764463  0.43276617\n",
      "   0.32077324]\n",
      " ...\n",
      " [ 0.6130189   0.80017143 -0.19364247 ...  0.272279    0.08623426\n",
      "   0.08581538]\n",
      " [ 0.7227117   0.851439    0.6547946  ...  0.16521975  0.22698408\n",
      "   0.20175894]\n",
      " [ 0.7722853   0.8391369   0.69869244 ...  0.11028132  0.2792665\n",
      "   0.23812695]]\n"
     ]
    }
   ],
   "source": [
    "print(shallow_ae.predict(df_test))"
   ]
  },
  {
   "cell_type": "code",
   "execution_count": 55,
   "metadata": {},
   "outputs": [
    {
     "name": "stdout",
     "output_type": "stream",
     "text": [
      "55/55 [==============================] - 0s 1ms/step\n"
     ]
    },
    {
     "data": {
      "image/png": "[encoded data removed]",
      "text/plain": [
       "<Figure size 1440x288 with 20 Axes>"
      ]
     },
     "metadata": {
      "needs_background": "light"
     },
     "output_type": "display_data"
    }
   ],
   "source": [
    "# encoded_imgs = shallow_encoder(df_test).numpy()\n",
    "# decoded_imgs = shallow_decoder(encoded_imgs).numpy()\n",
    "reconstructed_imgs = shallow_ae.predict(df_test).reshape(reshape_shape)\n",
    "n = 10\n",
    "offset=0\n",
    "plt.figure(figsize=(20, 4))\n",
    "\n",
    "for i in range(n):\n",
    "  # display original\n",
    "  ax = plt.subplot(2, n, i + 1)\n",
    "  plt.imshow(x_test[i+offset])\n",
    "  plt.title(\"original\")\n",
    "  plt.gray()\n",
    "  ax.get_xaxis().set_visible(False)\n",
    "  ax.get_yaxis().set_visible(False)\n",
    "\n",
    "  # display reconstruction\n",
    "  ax = plt.subplot(2, n, i + 1 + n)\n",
    "  plt.imshow(reconstructed_imgs[i+offset])\n",
    "  plt.title(\"reconstructed\")\n",
    "  plt.gray()\n",
    "  ax.get_xaxis().set_visible(False)\n",
    "  ax.get_yaxis().set_visible(False)\n",
    "plt.show()\n"
   ]
  },
  {
   "cell_type": "markdown",
   "metadata": {},
   "source": [
    "### Approach from online tutorial:"
   ]
  },
  {
   "cell_type": "code",
   "execution_count": 56,
   "metadata": {},
   "outputs": [
    {
     "name": "stdout",
     "output_type": "stream",
     "text": [
      "(-1, 4, 12)\n",
      "(12280, 4, 12) (3509, 4, 12) (1755, 4, 12)\n"
     ]
    }
   ],
   "source": [
    "reshape_shape = (-1, *import_shape[1:])\n",
    "print(reshape_shape)\n",
    "\n",
    "x_train = df_train.to_numpy().reshape(reshape_shape)\n",
    "x_val = df_val.to_numpy().reshape(reshape_shape)\n",
    "x_test = df_test.to_numpy().reshape(reshape_shape)\n",
    "print(x_train.shape, x_val.shape, x_test.shape)"
   ]
  },
  {
   "cell_type": "code",
   "execution_count": 77,
   "metadata": {},
   "outputs": [],
   "source": [
    "latent_dim = 20\n",
    "\n",
    "class Autoencoder(Model):\n",
    "  def __init__(self, latent_dim):\n",
    "    super(Autoencoder, self).__init__()\n",
    "    self.latent_dim = latent_dim   \n",
    "    self.encoder = tf.keras.Sequential([\n",
    "      layers.Flatten(),\n",
    "      layers.Dense(latent_dim*2, activation='tanh'),\n",
    "      layers.Dense(latent_dim, activation='tanh'),\n",
    "    ])\n",
    "    self.decoder = tf.keras.Sequential([\n",
    "      layers.Dense(x_train.shape[1]*x_train.shape[2]/2, activation='tanh'),\n",
    "      layers.Dense(x_train.shape[1]*x_train.shape[2], activation='tanh'),\n",
    "      layers.Reshape((x_train.shape[1], x_train.shape[2]))\n",
    "    ])\n",
    "\n",
    "  def call(self, x):\n",
    "    encoded = self.encoder(x)\n",
    "    decoded = self.decoder(encoded)\n",
    "    return decoded\n"
   ]
  },
  {
   "cell_type": "code",
   "execution_count": 93,
   "metadata": {},
   "outputs": [
    {
     "name": "stdout",
     "output_type": "stream",
     "text": [
      "Model: \"autoencoder\"\n",
      "_________________________________________________________________\n",
      " Layer (type)                Output Shape              Param #   \n",
      "=================================================================\n",
      " sequential (Sequential)     (12280, 20)               2780      \n",
      "                                                                 \n",
      " sequential_1 (Sequential)   (12280, 4, 12)            1704      \n",
      "                                                                 \n",
      "=================================================================\n",
      "Total params: 4,484\n",
      "Trainable params: 4,484\n",
      "Non-trainable params: 0\n",
      "_________________________________________________________________\n"
     ]
    }
   ],
   "source": [
    "clear_session()\n",
    "optimizer = tf.keras.optimizers.Adam(learning_rate=0.01)\n",
    "autoencoder = Autoencoder(latent_dim)\n",
    "autoencoder.compile(optimizer=optimizer, loss=\"mae\")\n",
    "autoencoder.build(input_shape=x_train.shape)\n",
    "autoencoder.summary()"
   ]
  },
  {
   "cell_type": "code",
   "execution_count": 94,
   "metadata": {},
   "outputs": [
    {
     "name": "stdout",
     "output_type": "stream",
     "text": [
      "Epoch 1/20\n",
      "384/384 [==============================] - 2s 3ms/step - loss: 0.3373 - val_loss: 0.2934\n",
      "Epoch 2/20\n",
      "384/384 [==============================] - 1s 2ms/step - loss: 0.2904 - val_loss: 0.2879\n",
      "Epoch 3/20\n",
      "384/384 [==============================] - 1s 2ms/step - loss: 0.2757 - val_loss: 0.2629\n",
      "Epoch 4/20\n",
      "384/384 [==============================] - 1s 2ms/step - loss: 0.2713 - val_loss: 0.2626\n",
      "Epoch 5/20\n",
      "384/384 [==============================] - 1s 2ms/step - loss: 0.2664 - val_loss: 0.2622\n",
      "Epoch 6/20\n",
      "384/384 [==============================] - 1s 2ms/step - loss: 0.2642 - val_loss: 0.2605\n",
      "Epoch 7/20\n",
      "384/384 [==============================] - 1s 2ms/step - loss: 0.2641 - val_loss: 0.2607\n",
      "Epoch 8/20\n",
      "384/384 [==============================] - 1s 2ms/step - loss: 0.2602 - val_loss: 0.2517\n",
      "Epoch 9/20\n",
      "384/384 [==============================] - 1s 2ms/step - loss: 0.2582 - val_loss: 0.2560\n",
      "Epoch 10/20\n",
      "384/384 [==============================] - 1s 2ms/step - loss: 0.2550 - val_loss: 0.2530\n",
      "Epoch 11/20\n",
      "384/384 [==============================] - 1s 2ms/step - loss: 0.2546 - val_loss: 0.2542\n",
      "Epoch 12/20\n",
      "384/384 [==============================] - 1s 2ms/step - loss: 0.2537 - val_loss: 0.2683\n",
      "Epoch 13/20\n",
      "384/384 [==============================] - 1s 2ms/step - loss: 0.2527 - val_loss: 0.2496\n",
      "Epoch 14/20\n",
      "384/384 [==============================] - 1s 2ms/step - loss: 0.2545 - val_loss: 0.2522\n",
      "Epoch 15/20\n",
      "384/384 [==============================] - 1s 2ms/step - loss: 0.2516 - val_loss: 0.2474\n",
      "Epoch 16/20\n",
      "384/384 [==============================] - 1s 2ms/step - loss: 0.2524 - val_loss: 0.2564\n",
      "Epoch 17/20\n",
      "384/384 [==============================] - 1s 2ms/step - loss: 0.2515 - val_loss: 0.2476\n",
      "Epoch 18/20\n",
      "384/384 [==============================] - 1s 2ms/step - loss: 0.2520 - val_loss: 0.2461\n",
      "Epoch 19/20\n",
      "384/384 [==============================] - 1s 2ms/step - loss: 0.2528 - val_loss: 0.2435\n",
      "Epoch 20/20\n",
      "384/384 [==============================] - 1s 2ms/step - loss: 0.2502 - val_loss: 0.2493\n"
     ]
    },
    {
     "data": {
      "text/plain": [
       "<keras.callbacks.History at 0x1712a50e440>"
      ]
     },
     "execution_count": 94,
     "metadata": {},
     "output_type": "execute_result"
    }
   ],
   "source": [
    "autoencoder.fit(x_train, x_train,\n",
    "                epochs=20,\n",
    "                shuffle=True,\n",
    "                validation_data=(x_val, x_val))"
   ]
  },
  {
   "cell_type": "code",
   "execution_count": 95,
   "metadata": {},
   "outputs": [
    {
     "data": {
      "image/png": "[encoded data removed]",
      "text/plain": [
       "<Figure size 1440x288 with 20 Axes>"
      ]
     },
     "metadata": {
      "needs_background": "light"
     },
     "output_type": "display_data"
    }
   ],
   "source": [
    "encoded_imgs = autoencoder.encoder(x_test).numpy()\n",
    "decoded_imgs = autoencoder.decoder(encoded_imgs).numpy()\n",
    "n = 10\n",
    "offset=0\n",
    "plt.figure(figsize=(20, 4))\n",
    "\n",
    "for i in range(n):\n",
    "  # display original\n",
    "  ax = plt.subplot(2, n, i + 1)\n",
    "  plt.imshow(x_test[i+offset])\n",
    "  plt.title(\"original\")\n",
    "  plt.gray()\n",
    "  ax.get_xaxis().set_visible(False)\n",
    "  ax.get_yaxis().set_visible(False)\n",
    "\n",
    "  # display reconstruction\n",
    "  ax = plt.subplot(2, n, i + 1 + n)\n",
    "  plt.imshow(decoded_imgs[i+offset])\n",
    "  plt.title(\"reconstructed\")\n",
    "  plt.gray()\n",
    "  ax.get_xaxis().set_visible(False)\n",
    "  ax.get_yaxis().set_visible(False)\n",
    "plt.show()\n"
   ]
  },
  {
   "cell_type": "code",
   "execution_count": null,
   "metadata": {},
   "outputs": [],
   "source": []
  }
 ],
 "metadata": {
  "kernelspec": {
   "display_name": "Python 3.10.3 64-bit",
   "language": "python",
   "name": "python3"
  },
  "language_info": {
   "codemirror_mode": {
    "name": "ipython",
    "version": 3
   },
   "file_extension": ".py",
   "mimetype": "text/x-python",
   "name": "python",
   "nbconvert_exporter": "python",
   "pygments_lexer": "ipython3",
   "version": "3.10.3"
  },
  "orig_nbformat": 4,
  "vscode": {
   "interpreter": {
    "hash": "d630713ab9db2e746235eb46f368dc3844f983da09eaf88b6511e67785f181d0"
   }
  }
 },
 "nbformat": 4,
 "nbformat_minor": 2
}
