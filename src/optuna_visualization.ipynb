{
 "cells": [
  {
   "cell_type": "code",
   "execution_count": null,
   "metadata": {},
   "outputs": [],
   "source": [
    "from sklearn.externals import joblib\n",
    "import pandas as pd\n",
    "import numpy as np\n",
    "import matplotlib.pyplot as plt\n",
    "import seaborn as sns\n",
    "import optuna\n",
    "import kaleido\n",
    "\n",
    "pd.options.display.max_columns = 100"
   ]
  },
  {
   "cell_type": "code",
   "execution_count": null,
   "metadata": {},
   "outputs": [],
   "source": [
    "data = joblib.load('study.pkl')\n",
    "\n",
    "df = data.trials_dataframe()\n",
    "df.dropna(inplace=True)\n",
    "df.reset_index(inplace=True)\n",
    "\n",
    "df['time'] = df.datetime_complete - df.datetime_start\n",
    "df['time'] = df.time.astype('int') / (1_000_000_000)\n",
    "df = df[df.time>0]\n",
    "\n",
    "names = []\n",
    "\n",
    "for col in df.columns.values:\n",
    "    if col[1] == '':\n",
    "        names.append(col[0])\n",
    "    else:\n",
    "        names.append(col[1])\n",
    "\n",
    "df.columns = names\n",
    "\n",
    "print('best val:', - round(df.value.min(),4))\n",
    "a = sns.lineplot(x=df.index, y=-df.value.cummin())\n",
    "a.set_xlabel('trial number')\n",
    "sns.scatterplot(x=df.index, y=-df.value, color='red')\n",
    "a.set_ylabel('f1 score')\n",
    "a.legend(['best value', \"trial's value\"]);"
   ]
  },
  {
   "cell_type": "code",
   "execution_count": null,
   "metadata": {},
   "outputs": [],
   "source": [
    "plot_contour(study)\n",
    "plot_contour(study, params=[\"bagging_freq\", \"bagging_fraction\"])"
   ]
  },
  {
   "cell_type": "code",
   "execution_count": null,
   "metadata": {},
   "outputs": [],
   "source": [
    "optuna.visualization.plot_param_importances(\n",
    "    study, target=lambda t: t.duration.total_seconds(), target_name=\"duration\"\n",
    ")"
   ]
  },
  {
   "cell_type": "code",
   "execution_count": null,
   "metadata": {},
   "outputs": [],
   "source": [
    "plot_intermediate_values(study)"
   ]
  }
 ],
 "metadata": {
  "kernelspec": {
   "display_name": "Python 3.10.4 64-bit",
   "language": "python",
   "name": "python3"
  },
  "language_info": {
   "name": "python",
   "version": "3.10.4"
  },
  "orig_nbformat": 4,
  "vscode": {
   "interpreter": {
    "hash": "cb6164d6f6dd98322bde9d26a164e558f160764e692185fac5f2ab12a0b62824"
   }
  }
 },
 "nbformat": 4,
 "nbformat_minor": 2
}
