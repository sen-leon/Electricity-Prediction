{
 "cells": [
  {
   "cell_type": "code",
   "execution_count": null,
   "metadata": {},
   "outputs": [],
   "source": [
    "import pandas as pd\n",
    "import numpy as np\n",
    "import matplotlib.pyplot as plt"
   ]
  },
  {
   "cell_type": "code",
   "execution_count": null,
   "metadata": {},
   "outputs": [],
   "source": [
    "from sklearn.preprocessing import MinMaxScaler\n",
    "\n",
    "df = pd.read_csv(\"..\\data\\ElectricityMap_DE_2021.csv\", sep=\",\")\n",
    "df = df[[\"datetime\",\"power_production_wind_avg\"]]\n",
    "\n",
    "# seperate datetime into hour of day, day of year, and month of year\n",
    "df[\"datetime\"] = pd.to_datetime(df[\"datetime\"])\n",
    "df[\"hour_of_day\"] = df[\"datetime\"].dt.hour\n",
    "df[\"day_of_year\"] = df[\"datetime\"].dt.day_of_year\n",
    "df[\"month_of_year\"] = df[\"datetime\"].dt.month\n",
    "\n",
    "# rescale data (min-max normalization)\n",
    "df_norm = df.drop(\"datetime\", axis=1)\n",
    "df_norm = (df_norm-df_norm.min())/(df_norm.max()-df_norm.min())\n",
    "\n",
    "# add sin time columns (range: 0-1)\n",
    "df_sin = df_norm.drop(\"power_production_wind_avg\", axis=1)\n",
    "df_sin = df_sin.apply(lambda x: np.sin(2*np.pi*x))\n",
    "df_sin = df_sin.add_prefix(\"sin_\")\n",
    "\n",
    "# add cos time columns (range: 0-1)\n",
    "df_cos = df_norm.drop(\"power_production_wind_avg\", axis=1)\n",
    "df_cos = df_cos.apply(lambda x: np.cos(2*np.pi*x))\n",
    "df_cos = df_cos.add_prefix(\"cos_\")\n",
    "\n",
    "# merge columns\n",
    "y = pd.concat([df_norm, df_sin,df_cos], axis=1)\n",
    "\n",
    "y.tail()"
   ]
  }
 ],
 "metadata": {
  "kernelspec": {
   "display_name": "Python 3.10.4 64-bit",
   "language": "python",
   "name": "python3"
  },
  "language_info": {
   "name": "python",
   "version": "3.10.4"
  },
  "orig_nbformat": 4,
  "vscode": {
   "interpreter": {
    "hash": "cb6164d6f6dd98322bde9d26a164e558f160764e692185fac5f2ab12a0b62824"
   }
  }
 },
 "nbformat": 4,
 "nbformat_minor": 2
}
