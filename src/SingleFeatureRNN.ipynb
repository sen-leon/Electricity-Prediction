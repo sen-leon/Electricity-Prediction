{
 "cells": [
  {
   "cell_type": "code",
   "execution_count": 16,
   "metadata": {},
   "outputs": [],
   "source": [
    "import pandas as pd\n",
    "import numpy as np\n",
    "import matplotlib.pyplot as plt "
   ]
  },
  {
   "cell_type": "code",
   "execution_count": 17,
   "metadata": {},
   "outputs": [
    {
     "data": {
      "text/html": [
       "<div>\n",
       "<style scoped>\n",
       "    .dataframe tbody tr th:only-of-type {\n",
       "        vertical-align: middle;\n",
       "    }\n",
       "\n",
       "    .dataframe tbody tr th {\n",
       "        vertical-align: top;\n",
       "    }\n",
       "\n",
       "    .dataframe thead th {\n",
       "        text-align: right;\n",
       "    }\n",
       "</style>\n",
       "<table border=\"1\" class=\"dataframe\">\n",
       "  <thead>\n",
       "    <tr style=\"text-align: right;\">\n",
       "      <th></th>\n",
       "      <th>power_production_wind_avg</th>\n",
       "      <th>hour_of_day</th>\n",
       "      <th>day_of_year</th>\n",
       "      <th>month_of_year</th>\n",
       "      <th>sin_hour_of_day</th>\n",
       "      <th>sin_day_of_year</th>\n",
       "      <th>sin_month_of_year</th>\n",
       "      <th>cos_hour_of_day</th>\n",
       "      <th>cos_day_of_year</th>\n",
       "      <th>cos_month_of_year</th>\n",
       "    </tr>\n",
       "  </thead>\n",
       "  <tbody>\n",
       "    <tr>\n",
       "      <th>8755</th>\n",
       "      <td>0.784235</td>\n",
       "      <td>0.826087</td>\n",
       "      <td>1.0</td>\n",
       "      <td>1.0</td>\n",
       "      <td>-8.878852e-01</td>\n",
       "      <td>-2.449294e-16</td>\n",
       "      <td>-2.449294e-16</td>\n",
       "      <td>0.460065</td>\n",
       "      <td>1.0</td>\n",
       "      <td>1.0</td>\n",
       "    </tr>\n",
       "    <tr>\n",
       "      <th>8756</th>\n",
       "      <td>0.726961</td>\n",
       "      <td>0.869565</td>\n",
       "      <td>1.0</td>\n",
       "      <td>1.0</td>\n",
       "      <td>-7.308360e-01</td>\n",
       "      <td>-2.449294e-16</td>\n",
       "      <td>-2.449294e-16</td>\n",
       "      <td>0.682553</td>\n",
       "      <td>1.0</td>\n",
       "      <td>1.0</td>\n",
       "    </tr>\n",
       "    <tr>\n",
       "      <th>8757</th>\n",
       "      <td>0.703149</td>\n",
       "      <td>0.913043</td>\n",
       "      <td>1.0</td>\n",
       "      <td>1.0</td>\n",
       "      <td>-5.195840e-01</td>\n",
       "      <td>-2.449294e-16</td>\n",
       "      <td>-2.449294e-16</td>\n",
       "      <td>0.854419</td>\n",
       "      <td>1.0</td>\n",
       "      <td>1.0</td>\n",
       "    </tr>\n",
       "    <tr>\n",
       "      <th>8758</th>\n",
       "      <td>0.680967</td>\n",
       "      <td>0.956522</td>\n",
       "      <td>1.0</td>\n",
       "      <td>1.0</td>\n",
       "      <td>-2.697968e-01</td>\n",
       "      <td>-2.449294e-16</td>\n",
       "      <td>-2.449294e-16</td>\n",
       "      <td>0.962917</td>\n",
       "      <td>1.0</td>\n",
       "      <td>1.0</td>\n",
       "    </tr>\n",
       "    <tr>\n",
       "      <th>8759</th>\n",
       "      <td>0.666316</td>\n",
       "      <td>1.000000</td>\n",
       "      <td>1.0</td>\n",
       "      <td>1.0</td>\n",
       "      <td>-2.449294e-16</td>\n",
       "      <td>-2.449294e-16</td>\n",
       "      <td>-2.449294e-16</td>\n",
       "      <td>1.000000</td>\n",
       "      <td>1.0</td>\n",
       "      <td>1.0</td>\n",
       "    </tr>\n",
       "  </tbody>\n",
       "</table>\n",
       "</div>"
      ],
      "text/plain": [
       "      power_production_wind_avg  hour_of_day  day_of_year  month_of_year  \\\n",
       "8755                   0.784235     0.826087          1.0            1.0   \n",
       "8756                   0.726961     0.869565          1.0            1.0   \n",
       "8757                   0.703149     0.913043          1.0            1.0   \n",
       "8758                   0.680967     0.956522          1.0            1.0   \n",
       "8759                   0.666316     1.000000          1.0            1.0   \n",
       "\n",
       "      sin_hour_of_day  sin_day_of_year  sin_month_of_year  cos_hour_of_day  \\\n",
       "8755    -8.878852e-01    -2.449294e-16      -2.449294e-16         0.460065   \n",
       "8756    -7.308360e-01    -2.449294e-16      -2.449294e-16         0.682553   \n",
       "8757    -5.195840e-01    -2.449294e-16      -2.449294e-16         0.854419   \n",
       "8758    -2.697968e-01    -2.449294e-16      -2.449294e-16         0.962917   \n",
       "8759    -2.449294e-16    -2.449294e-16      -2.449294e-16         1.000000   \n",
       "\n",
       "      cos_day_of_year  cos_month_of_year  \n",
       "8755              1.0                1.0  \n",
       "8756              1.0                1.0  \n",
       "8757              1.0                1.0  \n",
       "8758              1.0                1.0  \n",
       "8759              1.0                1.0  "
      ]
     },
     "execution_count": 17,
     "metadata": {},
     "output_type": "execute_result"
    }
   ],
   "source": [
    "from sklearn.preprocessing import MinMaxScaler\n",
    "\n",
    "df = pd.read_csv(\"..\\data\\ElectricityMap_DE_2021.csv\", sep=\",\")\n",
    "df = df[[\"datetime\",\"power_production_wind_avg\"]]\n",
    "\n",
    "# seperate datetime into hour of day, day of year, and month of year\n",
    "df[\"datetime\"] = pd.to_datetime(df[\"datetime\"])\n",
    "df[\"hour_of_day\"] = df[\"datetime\"].dt.hour\n",
    "df[\"day_of_year\"] = df[\"datetime\"].dt.day_of_year\n",
    "df[\"month_of_year\"] = df[\"datetime\"].dt.month\n",
    "\n",
    "# rescale data (min-max normalization)\n",
    "df_norm = df.drop(\"datetime\", axis=1)\n",
    "df_norm = (df_norm-df_norm.min())/(df_norm.max()-df_norm.min())\n",
    "\n",
    "# add sin time columns (range: 0-1)\n",
    "df_sin = df_norm.drop(\"power_production_wind_avg\", axis=1)\n",
    "df_sin = df_sin.apply(lambda x: np.sin(2*np.pi*x))\n",
    "df_sin = df_sin.add_prefix(\"sin_\")\n",
    "\n",
    "# add cos time columns (range: 0-1)\n",
    "df_cos = df_norm.drop(\"power_production_wind_avg\", axis=1)\n",
    "df_cos = df_cos.apply(lambda x: np.cos(2*np.pi*x))\n",
    "df_cos = df_cos.add_prefix(\"cos_\")\n",
    "\n",
    "# merge columns\n",
    "y = pd.concat([df_norm, df_sin,df_cos], axis=1)\n",
    "\n",
    "y.tail()\n"
   ]
  },
  {
   "cell_type": "code",
   "execution_count": 18,
   "metadata": {},
   "outputs": [
    {
     "name": "stdout",
     "output_type": "stream",
     "text": [
      "(8760, 5)\n"
     ]
    }
   ],
   "source": [
    "print(df.shape)"
   ]
  },
  {
   "cell_type": "code",
   "execution_count": 19,
   "metadata": {},
   "outputs": [],
   "source": [
    "def multivariate_data(dataset, target, start_index, end_index, history_size,\n",
    "                      target_size, step, single_step=False):\n",
    "    data = []\n",
    "    labels = []\n",
    "\n",
    "    start_index = start_index + history_size\n",
    "    if end_index is None:\n",
    "        end_index = len(dataset) - target_size\n",
    "\n",
    "    for i in range(start_index, end_index):\n",
    "        indices = range(i-history_size, i, step)\n",
    "        data.append(dataset[indices])\n",
    "\n",
    "        if single_step:\n",
    "            labels.append(target[i+target_size])\n",
    "        else:\n",
    "            labels.append(target[i:i+target_size])\n",
    "\n",
    "    return np.array(data), np.array(labels)"
   ]
  },
  {
   "cell_type": "code",
   "execution_count": 20,
   "metadata": {},
   "outputs": [
    {
     "name": "stdout",
     "output_type": "stream",
     "text": [
      "7008\n"
     ]
    }
   ],
   "source": [
    "# choose input and output parameters\n",
    "x_single = y[[\"power_production_wind_avg\", \"sin_hour_of_day\",\n",
    "              \"sin_day_of_year\", \"sin_month_of_year\",\"cos_hour_of_day\",\n",
    "              \"cos_day_of_year\", \"cos_month_of_year\"]].to_numpy()\n",
    "y_single = y[[\"power_production_wind_avg\"]].to_numpy()\n",
    "\n",
    "# testplit as usual, so we get untouched data for later evaluation\n",
    "testsplit = int(0.8 * y.shape[0])\n",
    "print(testsplit)\n",
    "\n",
    "# how many \"x\" inputs to provide in the RNN\n",
    "past_history = 24*7\n",
    "\n",
    "# how many \"yhat\" outputs to make/how many timesteps into the future to predict\n",
    "future_target = 24\n",
    "\n",
    "# this can be set to 1. If you have extremely large datasets where values\n",
    "# don't change a lot during single time steps, this can be set to a higher\n",
    "# value such that, e.g., only every 6th time step is used\n",
    "step = 1\n",
    "\n",
    "# prepare the data\n",
    "# inputs here are y and y, since we're only going to predict a single feature (power production wind) at first\n",
    "# \"single_step\" needs to be set to \"True\" if only the next timestep should be predicted\n",
    "x_train_single, y_train_single = multivariate_data(x_single, y_single, 0, testsplit,\n",
    "                                                   past_history, future_target, step,\n",
    "                                                   single_step=False)\n",
    "x_test_single, y_test_single = multivariate_data(x_single, y_single, testsplit, None,\n",
    "                                                 past_history, future_target, step,\n",
    "                                                 single_step=False)\n",
    "\n",
    "# the network later expects arrays with 3 dimensions, so we have to reshape\n",
    "# the x_... arrays to reflect that they contain a single feature\n",
    "\n",
    "x_train_single = x_train_single.reshape(*x_train_single.shape, 1)\n",
    "x_test_single = x_test_single.reshape(*x_test_single.shape, 1)\n",
    "\n",
    "# print shapes\n",
    "# print(\"shape of y:\", y.shape)\n",
    "# print(\"shapes of x_train and y_train: \",\n",
    "#       x_train_single.shape, y_train_single.shape)\n",
    "# print(\"shapes of x_test and y_test: \", x_test_single.shape, y_test_single.shape)\n",
    "\n",
    "# print a few values\n",
    "# print(\"\")\n",
    "# print(x_train_single[:3, :3])\n",
    "\n",
    "# print()\n",
    "# print(\"x_train[300]: \", *x_train_single[300][:3], \"...\")\n",
    "# print(\"y_train[0] :  \", y_train_single[0][:3], \"...\")\n"
   ]
  },
  {
   "cell_type": "code",
   "execution_count": 21,
   "metadata": {},
   "outputs": [
    {
     "name": "stdout",
     "output_type": "stream",
     "text": [
      "(6840, 168, 7, 1)\n"
     ]
    }
   ],
   "source": [
    "print(x_train_single.shape)"
   ]
  },
  {
   "cell_type": "code",
   "execution_count": 22,
   "metadata": {},
   "outputs": [
    {
     "name": "stdout",
     "output_type": "stream",
     "text": [
      "Model: \"sequential\"\n",
      "_________________________________________________________________\n",
      " Layer (type)                Output Shape              Param #   \n",
      "=================================================================\n",
      " lstm (LSTM)                 (None, 128)               69632     \n",
      "                                                                 \n",
      " dense (Dense)               (None, 24)                3096      \n",
      "                                                                 \n",
      "=================================================================\n",
      "Total params: 72,728\n",
      "Trainable params: 72,728\n",
      "Non-trainable params: 0\n",
      "_________________________________________________________________\n"
     ]
    }
   ],
   "source": [
    "import tensorflow.keras as keras\n",
    "from tensorflow.keras.models import Sequential\n",
    "from tensorflow.keras.layers import Dense, LSTM\n",
    "from tensorflow.keras import backend as K\n",
    "from tensorflow.keras.backend import clear_session\n",
    "# clear_session() deletes stale model, so that when this cell is executed again,\n",
    "# no older model reside in memory\n",
    "clear_session()\n",
    "\n",
    "# r2_score defined manually, since it's not implemented in keras\n",
    "def r2_score(y_true, y_pred):\n",
    "    SS_res =  K.sum(K.square( y_true-y_pred ))\n",
    "    SS_tot = K.sum(K.square( y_true - K.mean(y_true) ) )\n",
    "    return ( 1 - SS_res/(SS_tot + K.epsilon()) )\n",
    "\n",
    "# below, create a sequential model like before called \"single_feature_model\"\n",
    "# \n",
    "# then, add an LSTM layer (the class is already imported) with 128 hidden\n",
    "# vector components. As a second argument you have to provide the\n",
    "# \"input_shape=\", that has to be a tuple of the second and third dimension\n",
    "# of x_train_single, like (20, 30). You can use x_train_single.shape for example to get them\n",
    "# \n",
    "# lastly, add a \"Dense\" layer like in the lessons before, with as many neurons as\n",
    "# there are future predictions. That number is saved in the variable \"future_target\".\n",
    "# choose an appropriate activation function here. Which ones make sense?\n",
    "single_feature_model = Sequential()\n",
    "single_feature_model.add(LSTM(128, input_shape=x_train_single.shape[1:3]))\n",
    "single_feature_model.add(Dense(future_target, activation='selu'))\n",
    "\n",
    "# compile the model with the optimizer 'adam', an appropriate loss function, and \n",
    "# the \"r2_score\" defined above as a metric\n",
    "single_feature_model.compile(optimizer=\"adam\", loss=\"mse\", metrics=r2_score)\n",
    "\n",
    "# check what the model looks like\n",
    "single_feature_model.summary()"
   ]
  },
  {
   "cell_type": "code",
   "execution_count": 27,
   "metadata": {},
   "outputs": [
    {
     "name": "stdout",
     "output_type": "stream",
     "text": [
      "Epoch 1/5\n",
      "161/161 [==============================] - 14s 86ms/step - loss: 0.0167 - r2_score: 0.6005 - val_loss: 0.0515 - val_r2_score: -17.9166\n",
      "Epoch 2/5\n",
      "161/161 [==============================] - 13s 82ms/step - loss: 0.0163 - r2_score: 0.6107 - val_loss: 0.0504 - val_r2_score: -17.4836\n",
      "Epoch 3/5\n",
      "161/161 [==============================] - 13s 83ms/step - loss: 0.0161 - r2_score: 0.6169 - val_loss: 0.0226 - val_r2_score: -5.3400\n",
      "Epoch 4/5\n",
      "161/161 [==============================] - 13s 82ms/step - loss: 0.0160 - r2_score: 0.6110 - val_loss: 0.0280 - val_r2_score: -7.5630\n",
      "Epoch 5/5\n",
      "161/161 [==============================] - 14s 84ms/step - loss: 0.0158 - r2_score: 0.6247 - val_loss: 0.0303 - val_r2_score: -8.1375\n"
     ]
    }
   ],
   "source": [
    "single_feature_history = single_feature_model.fit(x_train_single, y_train_single, epochs=5, validation_split=0.25)"
   ]
  },
  {
   "cell_type": "code",
   "execution_count": 24,
   "metadata": {},
   "outputs": [
    {
     "name": "stdout",
     "output_type": "stream",
     "text": [
      "dict_keys(['loss', 'r2_score', 'val_loss', 'val_r2_score'])\n"
     ]
    },
    {
     "data": {
      "image/png": "[encoded data removed]",
      "text/plain": [
       "<Figure size 640x480 with 1 Axes>"
      ]
     },
     "metadata": {},
     "output_type": "display_data"
    }
   ],
   "source": [
    "print(single_feature_history.history.keys())\n",
    "\n",
    "def plot_train_history(history, title):\n",
    "    loss = history.history['loss']\n",
    "    val_loss = history.history['val_loss']\n",
    "    val_r2_score = history.history['val_r2_score']\n",
    "\n",
    "    epochs = range(len(loss))\n",
    "\n",
    "    plt.figure()\n",
    "\n",
    "    plt.plot(epochs, loss, lw=4, label='Training loss')\n",
    "    plt.plot(epochs, val_loss, lw=4, label='Validation loss')\n",
    "    plt.plot(epochs, val_r2_score, lw=4, label='Validation R² score')\n",
    "    plt.title(title)\n",
    "    plt.legend()\n",
    "    plt.ylim([0,0.05])\n",
    "\n",
    "    plt.show()\n",
    "    \n",
    "plot_train_history(single_feature_history, 'Single Feature Training and Validation Loss')"
   ]
  },
  {
   "cell_type": "code",
   "execution_count": 25,
   "metadata": {},
   "outputs": [
    {
     "name": "stdout",
     "output_type": "stream",
     "text": [
      "49/49 [==============================] - 2s 25ms/step\n"
     ]
    }
   ],
   "source": [
    "y_hat = single_feature_model.predict(x_test_single)"
   ]
  },
  {
   "cell_type": "code",
   "execution_count": 29,
   "metadata": {},
   "outputs": [
    {
     "data": {
      "image/png": "[encoded data removed]",
      "text/plain": [
       "<Figure size 640x480 with 1 Axes>"
      ]
     },
     "metadata": {},
     "output_type": "display_data"
    }
   ],
   "source": [
    "# prediction starting point.\n",
    "predctStartPt = 950\n",
    "\n",
    "t = np.arange(y.shape[0])\n",
    "\n",
    "predctPt = predctStartPt-past_history\n",
    "\n",
    "\n",
    "plt.figure()\n",
    "\n",
    "plt.plot(t[predctPt:past_history+predctPt], x_test_single[predctPt,:,0], lw=3, label=\"Input Sequence\")\n",
    "plt.plot(t[past_history+predctPt:past_history+predctPt+future_target], y_test_single[predctPt], lw=3, label=\"Ground Truth\")\n",
    "plt.plot(t[past_history+predctPt:past_history+predctPt+future_target], y_hat[predctPt], label=\"Prediction\")\n",
    "plt.legend(loc='upper left')\n",
    "#plt.xlim([850, 980])\n",
    "plt.ylim([0,1])\n",
    "\n",
    "plt.show()"
   ]
  },
  {
   "cell_type": "code",
   "execution_count": null,
   "metadata": {},
   "outputs": [],
   "source": []
  }
 ],
 "metadata": {
  "kernelspec": {
   "display_name": "Python 3.10.4 64-bit",
   "language": "python",
   "name": "python3"
  },
  "language_info": {
   "codemirror_mode": {
    "name": "ipython",
    "version": 3
   },
   "file_extension": ".py",
   "mimetype": "text/x-python",
   "name": "python",
   "nbconvert_exporter": "python",
   "pygments_lexer": "ipython3",
   "version": "3.10.4"
  },
  "orig_nbformat": 4,
  "vscode": {
   "interpreter": {
    "hash": "cb6164d6f6dd98322bde9d26a164e558f160764e692185fac5f2ab12a0b62824"
   }
  }
 },
 "nbformat": 4,
 "nbformat_minor": 2
}
