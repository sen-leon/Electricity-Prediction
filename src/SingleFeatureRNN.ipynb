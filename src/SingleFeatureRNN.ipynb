{
 "cells": [
  {
   "cell_type": "code",
   "execution_count": 280,
   "metadata": {},
   "outputs": [],
   "source": [
    "import pandas as pd\n",
    "import numpy as np\n",
    "import matplotlib.pyplot as plt "
   ]
  },
  {
   "cell_type": "code",
   "execution_count": 315,
   "metadata": {},
   "outputs": [
    {
     "data": {
      "text/html": [
       "<div>\n",
       "<style scoped>\n",
       "    .dataframe tbody tr th:only-of-type {\n",
       "        vertical-align: middle;\n",
       "    }\n",
       "\n",
       "    .dataframe tbody tr th {\n",
       "        vertical-align: top;\n",
       "    }\n",
       "\n",
       "    .dataframe thead th {\n",
       "        text-align: right;\n",
       "    }\n",
       "</style>\n",
       "<table border=\"1\" class=\"dataframe\">\n",
       "  <thead>\n",
       "    <tr style=\"text-align: right;\">\n",
       "      <th></th>\n",
       "      <th>power_production_solar_avg</th>\n",
       "      <th>carbon_intensity_avg</th>\n",
       "      <th>carbon_intensity_direct_avg</th>\n",
       "      <th>carbon_intensity_production_avg</th>\n",
       "      <th>total_production_avg</th>\n",
       "      <th>total_storage_avg</th>\n",
       "      <th>total_discharge_avg</th>\n",
       "      <th>total_import_avg</th>\n",
       "      <th>total_export_avg</th>\n",
       "      <th>total_consumption_avg</th>\n",
       "      <th>...</th>\n",
       "      <th>latest_forecasted_power_net_import_DK-DK1_avg</th>\n",
       "      <th>latest_forecasted_power_net_import_DK-DK2_avg</th>\n",
       "      <th>latest_forecasted_power_net_import_FR_avg</th>\n",
       "      <th>latest_forecasted_power_net_import_LU_avg</th>\n",
       "      <th>latest_forecasted_power_net_import_NL_avg</th>\n",
       "      <th>latest_forecasted_power_net_import_PL_avg</th>\n",
       "      <th>sin_hour_of_day</th>\n",
       "      <th>cos_hour_of_day</th>\n",
       "      <th>sin_day_of_year</th>\n",
       "      <th>cos_day_of_year</th>\n",
       "    </tr>\n",
       "  </thead>\n",
       "  <tbody>\n",
       "    <tr>\n",
       "      <th>0</th>\n",
       "      <td>-0.650176</td>\n",
       "      <td>0.767006</td>\n",
       "      <td>0.692965</td>\n",
       "      <td>0.769890</td>\n",
       "      <td>-1.647307</td>\n",
       "      <td>-0.732936</td>\n",
       "      <td>-0.647887</td>\n",
       "      <td>0.836618</td>\n",
       "      <td>0.290902</td>\n",
       "      <td>-1.789827</td>\n",
       "      <td>...</td>\n",
       "      <td>1.375512</td>\n",
       "      <td>0.490429</td>\n",
       "      <td>-0.734942</td>\n",
       "      <td>1.213750</td>\n",
       "      <td>-1.478606</td>\n",
       "      <td>-0.311255</td>\n",
       "      <td>-8.536150e-12</td>\n",
       "      <td>1.414133</td>\n",
       "      <td>0.015389</td>\n",
       "      <td>1.415459</td>\n",
       "    </tr>\n",
       "    <tr>\n",
       "      <th>1</th>\n",
       "      <td>-0.650176</td>\n",
       "      <td>0.815057</td>\n",
       "      <td>0.740076</td>\n",
       "      <td>0.835387</td>\n",
       "      <td>-1.684726</td>\n",
       "      <td>-0.555183</td>\n",
       "      <td>-0.666773</td>\n",
       "      <td>0.750381</td>\n",
       "      <td>0.496602</td>\n",
       "      <td>-1.960283</td>\n",
       "      <td>...</td>\n",
       "      <td>0.977863</td>\n",
       "      <td>0.954582</td>\n",
       "      <td>-1.186401</td>\n",
       "      <td>1.289913</td>\n",
       "      <td>-1.393684</td>\n",
       "      <td>-0.309705</td>\n",
       "      <td>3.660045e-01</td>\n",
       "      <td>1.365947</td>\n",
       "      <td>0.016403</td>\n",
       "      <td>1.415448</td>\n",
       "    </tr>\n",
       "    <tr>\n",
       "      <th>2</th>\n",
       "      <td>-0.650176</td>\n",
       "      <td>0.895364</td>\n",
       "      <td>0.822608</td>\n",
       "      <td>0.915193</td>\n",
       "      <td>-1.709237</td>\n",
       "      <td>1.475695</td>\n",
       "      <td>-0.666773</td>\n",
       "      <td>0.818344</td>\n",
       "      <td>-0.004817</td>\n",
       "      <td>-2.085230</td>\n",
       "      <td>...</td>\n",
       "      <td>0.947059</td>\n",
       "      <td>0.981323</td>\n",
       "      <td>-0.478989</td>\n",
       "      <td>1.302607</td>\n",
       "      <td>-1.436145</td>\n",
       "      <td>-0.311255</td>\n",
       "      <td>7.070664e-01</td>\n",
       "      <td>1.224675</td>\n",
       "      <td>0.017416</td>\n",
       "      <td>1.415436</td>\n",
       "    </tr>\n",
       "    <tr>\n",
       "      <th>3</th>\n",
       "      <td>-0.650176</td>\n",
       "      <td>0.899341</td>\n",
       "      <td>0.827021</td>\n",
       "      <td>0.945422</td>\n",
       "      <td>-1.763585</td>\n",
       "      <td>2.154916</td>\n",
       "      <td>-0.666773</td>\n",
       "      <td>0.950739</td>\n",
       "      <td>-0.395155</td>\n",
       "      <td>-2.070439</td>\n",
       "      <td>...</td>\n",
       "      <td>0.840647</td>\n",
       "      <td>0.983233</td>\n",
       "      <td>0.245896</td>\n",
       "      <td>1.289913</td>\n",
       "      <td>-1.379531</td>\n",
       "      <td>-0.311255</td>\n",
       "      <td>9.999429e-01</td>\n",
       "      <td>0.999943</td>\n",
       "      <td>0.018429</td>\n",
       "      <td>1.415423</td>\n",
       "    </tr>\n",
       "    <tr>\n",
       "      <th>4</th>\n",
       "      <td>-0.650176</td>\n",
       "      <td>0.988042</td>\n",
       "      <td>0.913132</td>\n",
       "      <td>1.003463</td>\n",
       "      <td>-1.745832</td>\n",
       "      <td>1.484031</td>\n",
       "      <td>-0.666773</td>\n",
       "      <td>0.779513</td>\n",
       "      <td>0.002750</td>\n",
       "      <td>-2.142514</td>\n",
       "      <td>...</td>\n",
       "      <td>0.844380</td>\n",
       "      <td>0.979413</td>\n",
       "      <td>-0.304261</td>\n",
       "      <td>1.239138</td>\n",
       "      <td>-1.642945</td>\n",
       "      <td>-0.311255</td>\n",
       "      <td>1.224675e+00</td>\n",
       "      <td>0.707066</td>\n",
       "      <td>0.019442</td>\n",
       "      <td>1.415410</td>\n",
       "    </tr>\n",
       "  </tbody>\n",
       "</table>\n",
       "<p>5 rows × 62 columns</p>\n",
       "</div>"
      ],
      "text/plain": [
       "   power_production_solar_avg  carbon_intensity_avg  \\\n",
       "0                   -0.650176              0.767006   \n",
       "1                   -0.650176              0.815057   \n",
       "2                   -0.650176              0.895364   \n",
       "3                   -0.650176              0.899341   \n",
       "4                   -0.650176              0.988042   \n",
       "\n",
       "   carbon_intensity_direct_avg  carbon_intensity_production_avg  \\\n",
       "0                     0.692965                         0.769890   \n",
       "1                     0.740076                         0.835387   \n",
       "2                     0.822608                         0.915193   \n",
       "3                     0.827021                         0.945422   \n",
       "4                     0.913132                         1.003463   \n",
       "\n",
       "   total_production_avg  total_storage_avg  total_discharge_avg  \\\n",
       "0             -1.647307          -0.732936            -0.647887   \n",
       "1             -1.684726          -0.555183            -0.666773   \n",
       "2             -1.709237           1.475695            -0.666773   \n",
       "3             -1.763585           2.154916            -0.666773   \n",
       "4             -1.745832           1.484031            -0.666773   \n",
       "\n",
       "   total_import_avg  total_export_avg  total_consumption_avg  ...  \\\n",
       "0          0.836618          0.290902              -1.789827  ...   \n",
       "1          0.750381          0.496602              -1.960283  ...   \n",
       "2          0.818344         -0.004817              -2.085230  ...   \n",
       "3          0.950739         -0.395155              -2.070439  ...   \n",
       "4          0.779513          0.002750              -2.142514  ...   \n",
       "\n",
       "   latest_forecasted_power_net_import_DK-DK1_avg  \\\n",
       "0                                       1.375512   \n",
       "1                                       0.977863   \n",
       "2                                       0.947059   \n",
       "3                                       0.840647   \n",
       "4                                       0.844380   \n",
       "\n",
       "   latest_forecasted_power_net_import_DK-DK2_avg  \\\n",
       "0                                       0.490429   \n",
       "1                                       0.954582   \n",
       "2                                       0.981323   \n",
       "3                                       0.983233   \n",
       "4                                       0.979413   \n",
       "\n",
       "   latest_forecasted_power_net_import_FR_avg  \\\n",
       "0                                  -0.734942   \n",
       "1                                  -1.186401   \n",
       "2                                  -0.478989   \n",
       "3                                   0.245896   \n",
       "4                                  -0.304261   \n",
       "\n",
       "   latest_forecasted_power_net_import_LU_avg  \\\n",
       "0                                   1.213750   \n",
       "1                                   1.289913   \n",
       "2                                   1.302607   \n",
       "3                                   1.289913   \n",
       "4                                   1.239138   \n",
       "\n",
       "   latest_forecasted_power_net_import_NL_avg  \\\n",
       "0                                  -1.478606   \n",
       "1                                  -1.393684   \n",
       "2                                  -1.436145   \n",
       "3                                  -1.379531   \n",
       "4                                  -1.642945   \n",
       "\n",
       "   latest_forecasted_power_net_import_PL_avg  sin_hour_of_day  \\\n",
       "0                                  -0.311255    -8.536150e-12   \n",
       "1                                  -0.309705     3.660045e-01   \n",
       "2                                  -0.311255     7.070664e-01   \n",
       "3                                  -0.311255     9.999429e-01   \n",
       "4                                  -0.311255     1.224675e+00   \n",
       "\n",
       "   cos_hour_of_day  sin_day_of_year  cos_day_of_year  \n",
       "0         1.414133         0.015389         1.415459  \n",
       "1         1.365947         0.016403         1.415448  \n",
       "2         1.224675         0.017416         1.415436  \n",
       "3         0.999943         0.018429         1.415423  \n",
       "4         0.707066         0.019442         1.415410  \n",
       "\n",
       "[5 rows x 62 columns]"
      ]
     },
     "execution_count": 315,
     "metadata": {},
     "output_type": "execute_result"
    }
   ],
   "source": [
    "from sklearn.preprocessing import MinMaxScaler\n",
    "\n",
    "df = pd.read_csv(\"..\\data\\ElectricityMap_DE_2021.csv\", sep=\",\")\n",
    "#df = df[[\"datetime\",\"power_production_wind_avg\",\"power_production_solar_avg\",\"timestamp\"]]\n",
    "# shift column 'power_production_wind_avg' to first position\n",
    "first_column = df.pop(\"power_production_solar_avg\")\n",
    "df.insert(0, \"power_production_solar_avg\", first_column)\n",
    "\n",
    "day = 24*60*60\n",
    "year = (365.2425)*day\n",
    "\n",
    "df['sin_hour_of_day'] = np.sin(df[\"timestamp\"] * (2 * np.pi / day))\n",
    "df['cos_hour_of_day'] = np.cos(df[\"timestamp\"] * (2 * np.pi / day))\n",
    "df['sin_day_of_year'] = np.sin(df[\"timestamp\"] * (2 * np.pi / year))\n",
    "df['cos_day_of_year'] = np.cos(df[\"timestamp\"] * (2 * np.pi / year))\n",
    "\n",
    "#df=df.dropna(axis=1)\n",
    "y=df.drop([\"datetime\",\"timestamp\",\"created_at\",\"updated_at\",\"zone_name\",\"production_sources\"],axis=1)\n",
    "#y=df.drop([\"datetime\",\"timestamp\"],axis=1)\n",
    "#y=(y-y.min())/(y.max()-y.min())\n",
    "y=(y-y.mean())/y.std()\n",
    "y=y.dropna(axis=1)\n",
    "y.head()\n",
    " \n"
   ]
  },
  {
   "cell_type": "code",
   "execution_count": null,
   "metadata": {},
   "outputs": [],
   "source": []
  },
  {
   "cell_type": "code",
   "execution_count": 316,
   "metadata": {},
   "outputs": [
    {
     "name": "stdout",
     "output_type": "stream",
     "text": [
      "(8760, 62)\n"
     ]
    }
   ],
   "source": [
    "print(y.shape)"
   ]
  },
  {
   "cell_type": "code",
   "execution_count": 318,
   "metadata": {},
   "outputs": [],
   "source": [
    "def multivariate_data(dataset, target, start_index, end_index, history_size,\n",
    "                      target_size, step, single_step=False):\n",
    "    data = []\n",
    "    labels = []\n",
    "\n",
    "    start_index = start_index + history_size\n",
    "    if end_index is None:\n",
    "        end_index = len(dataset) - target_size\n",
    "\n",
    "    for i in range(start_index, end_index):\n",
    "        indices = range(i-history_size, i, step)\n",
    "        data.append(dataset[indices])\n",
    "\n",
    "        if single_step:\n",
    "            labels.append(target[i+target_size])\n",
    "        else:\n",
    "            labels.append(target[i:i+target_size])\n",
    "\n",
    "    return np.array(data), np.array(labels)"
   ]
  },
  {
   "cell_type": "code",
   "execution_count": 319,
   "metadata": {},
   "outputs": [
    {
     "name": "stdout",
     "output_type": "stream",
     "text": [
      "7008\n"
     ]
    }
   ],
   "source": [
    "# choose input and output parameters\n",
    "# x_single = y[[\"power_production_wind_avg\", \"sin_hour_of_day\",\n",
    "            #   \"sin_day_of_year\",\"cos_hour_of_day\",\n",
    "            #   \"cos_day_of_year\"]].to_numpy()\n",
    "x_single = y.to_numpy()\n",
    "y_single = y[[\"power_production_solar_avg\"]].to_numpy()\n",
    "\n",
    "# testplit as usual, so we get untouched data for later evaluation\n",
    "testsplit = int(0.8 * y.shape[0])\n",
    "print(testsplit)\n",
    "\n",
    "# how many \"x\" inputs to provide in the RNN\n",
    "past_history = 24*7\n",
    "\n",
    "# how many \"yhat\" outputs to make/how many timesteps into the future to predict\n",
    "future_target = 24\n",
    "\n",
    "# this can be set to 1. If you have extremely large datasets where values\n",
    "# don't change a lot during single time steps, this can be set to a higher\n",
    "# value such that, e.g., only every 6th time step is used\n",
    "step = 1\n",
    "\n",
    "# prepare the data\n",
    "# inputs here are y and y, since we're only going to predict a single feature (power production wind) at first\n",
    "# \"single_step\" needs to be set to \"True\" if only the next timestep should be predicted\n",
    "x_train_single, y_train_single = multivariate_data(x_single, y_single, 0, testsplit,\n",
    "                                                   past_history, future_target, step,\n",
    "                                                   single_step=False)\n",
    "x_test_single, y_test_single = multivariate_data(x_single, y_single, testsplit, None,\n",
    "                                                 past_history, future_target, step,\n",
    "                                                 single_step=False)\n",
    "\n",
    "# the network later expects arrays with 3 dimensions, so we have to reshape\n",
    "# the x_... arrays to reflect that they contain a single feature\n",
    "\n",
    "x_train_single = x_train_single.reshape(*x_train_single.shape, 1)\n",
    "x_test_single = x_test_single.reshape(*x_test_single.shape, 1)\n",
    "\n"
   ]
  },
  {
   "cell_type": "code",
   "execution_count": 320,
   "metadata": {},
   "outputs": [
    {
     "name": "stdout",
     "output_type": "stream",
     "text": [
      "(6840, 168, 62, 1)\n"
     ]
    }
   ],
   "source": [
    "print(x_train_single.shape)"
   ]
  },
  {
   "cell_type": "code",
   "execution_count": 321,
   "metadata": {},
   "outputs": [
    {
     "name": "stdout",
     "output_type": "stream",
     "text": [
      "Model: \"sequential\"\n",
      "_________________________________________________________________\n",
      " Layer (type)                Output Shape              Param #   \n",
      "=================================================================\n",
      " lstm (LSTM)                 (None, 128)               97792     \n",
      "                                                                 \n",
      " dense (Dense)               (None, 24)                3096      \n",
      "                                                                 \n",
      "=================================================================\n",
      "Total params: 100,888\n",
      "Trainable params: 100,888\n",
      "Non-trainable params: 0\n",
      "_________________________________________________________________\n"
     ]
    }
   ],
   "source": [
    "import tensorflow.keras as keras\n",
    "from tensorflow.keras.models import Sequential\n",
    "from tensorflow.keras.layers import Dense, LSTM\n",
    "from tensorflow.keras import backend as K\n",
    "from tensorflow.keras.backend import clear_session\n",
    "# clear_session() deletes stale model, so that when this cell is executed again,\n",
    "# no older model reside in memory\n",
    "clear_session()\n",
    "\n",
    "# r2_score defined manually, since it's not implemented in keras\n",
    "def r2_score(y_true, y_pred):\n",
    "    SS_res =  K.sum(K.square( y_true-y_pred ))\n",
    "    SS_tot = K.sum(K.square( y_true - K.mean(y_true) ) )\n",
    "    return ( 1 - SS_res/(SS_tot + K.epsilon()) )\n",
    "\n",
    "# below, create a sequential model like before called \"single_feature_model\"\n",
    "# \n",
    "# then, add an LSTM layer (the class is already imported) with 128 hidden\n",
    "# vector components. As a second argument you have to provide the\n",
    "# \"input_shape=\", that has to be a tuple of the second and third dimension\n",
    "# of x_train_single, like (20, 30). You can use x_train_single.shape for example to get them\n",
    "# \n",
    "# lastly, add a \"Dense\" layer like in the lessons before, with as many neurons as\n",
    "# there are future predictions. That number is saved in the variable \"future_target\".\n",
    "# choose an appropriate activation function here. Which ones make sense?\n",
    "single_feature_model = Sequential()\n",
    "f=single_feature_model.add(LSTM(128, input_shape=x_train_single.shape[1:3]))\n",
    "#single_feature_model.add(LSTM(128, input_shape=x_train_single.shape[1:3]))\n",
    "single_feature_model.add(Dense(future_target, activation='selu'))\n",
    "\n",
    "# compile the model with the optimizer 'adam', an appropriate loss function, and \n",
    "# the \"r2_score\" defined above as a metric\n",
    "single_feature_model.compile(optimizer=\"adam\", loss=\"mse\", metrics=r2_score)\n",
    "\n",
    "# check what the model looks like\n",
    "single_feature_model.summary()"
   ]
  },
  {
   "cell_type": "code",
   "execution_count": 328,
   "metadata": {},
   "outputs": [
    {
     "name": "stdout",
     "output_type": "stream",
     "text": [
      "Epoch 1/7\n",
      "161/161 [==============================] - 21s 129ms/step - loss: 0.0343 - r2_score: 0.9705 - val_loss: 0.2061 - val_r2_score: 0.6853\n",
      "Epoch 2/7\n",
      "161/161 [==============================] - 18s 112ms/step - loss: 0.0244 - r2_score: 0.9790 - val_loss: 0.2092 - val_r2_score: 0.6899\n",
      "Epoch 3/7\n",
      "161/161 [==============================] - 20s 124ms/step - loss: 0.0179 - r2_score: 0.9847 - val_loss: 0.2144 - val_r2_score: 0.6854\n",
      "Epoch 4/7\n",
      "161/161 [==============================] - 21s 128ms/step - loss: 0.0149 - r2_score: 0.9873 - val_loss: 0.2045 - val_r2_score: 0.6904\n",
      "Epoch 5/7\n",
      "161/161 [==============================] - 21s 129ms/step - loss: 0.0127 - r2_score: 0.9892 - val_loss: 0.2023 - val_r2_score: 0.6965\n",
      "Epoch 6/7\n",
      "161/161 [==============================] - 19s 116ms/step - loss: 0.0108 - r2_score: 0.9907 - val_loss: 0.2000 - val_r2_score: 0.6993\n",
      "Epoch 7/7\n",
      "161/161 [==============================] - 17s 105ms/step - loss: 0.0091 - r2_score: 0.9922 - val_loss: 0.1976 - val_r2_score: 0.7038\n"
     ]
    }
   ],
   "source": [
    "single_feature_history = single_feature_model.fit(x_train_single, y_train_single, epochs=7, validation_split=0.25)"
   ]
  },
  {
   "cell_type": "code",
   "execution_count": 329,
   "metadata": {},
   "outputs": [
    {
     "name": "stdout",
     "output_type": "stream",
     "text": [
      "dict_keys(['loss', 'r2_score', 'val_loss', 'val_r2_score'])\n"
     ]
    },
    {
     "data": {
      "image/png": "[encoded data removed]",
      "text/plain": [
       "<Figure size 640x480 with 1 Axes>"
      ]
     },
     "metadata": {},
     "output_type": "display_data"
    }
   ],
   "source": [
    "print(single_feature_history.history.keys())\n",
    "\n",
    "def plot_train_history(history, title):\n",
    "    loss = history.history['loss']\n",
    "    val_loss = history.history['val_loss']\n",
    "    val_r2_score = history.history['val_r2_score']\n",
    "\n",
    "    epochs = range(len(loss))\n",
    "\n",
    "    plt.figure()\n",
    "\n",
    "    plt.plot(epochs, loss, lw=4, label='Training loss')\n",
    "    plt.plot(epochs, val_loss, lw=4, label='Validation loss')\n",
    "    plt.plot(epochs, val_r2_score, lw=4, label='Validation R² score')\n",
    "    plt.title(title)\n",
    "    plt.legend()\n",
    "    #plt.ylim([0,0.05])\n",
    "\n",
    "    plt.show()\n",
    "    \n",
    "plot_train_history(single_feature_history, 'Single Feature Training and Validation Loss')"
   ]
  },
  {
   "cell_type": "code",
   "execution_count": 330,
   "metadata": {},
   "outputs": [
    {
     "name": "stdout",
     "output_type": "stream",
     "text": [
      "49/49 [==============================] - 2s 46ms/step\n"
     ]
    }
   ],
   "source": [
    "y_hat = single_feature_model.predict(x_test_single)"
   ]
  },
  {
   "cell_type": "code",
   "execution_count": 339,
   "metadata": {},
   "outputs": [
    {
     "data": {
      "image/png": "[encoded data removed]",
      "text/plain": [
       "<Figure size 640x480 with 1 Axes>"
      ]
     },
     "metadata": {},
     "output_type": "display_data"
    }
   ],
   "source": [
    "# prediction starting point.\n",
    "predctStartPt = 1550\n",
    "\n",
    "t = np.arange(y.shape[0])\n",
    "\n",
    "predctPt = predctStartPt-past_history\n",
    "#predctPt = 0\n",
    "\n",
    "plt.figure()\n",
    "\n",
    "plt.plot(t[predctPt:past_history+predctPt], x_test_single[predctPt,:,0], lw=3, label=\"Input Sequence\")\n",
    "plt.plot(t[past_history+predctPt:past_history+predctPt+future_target], y_test_single[predctPt], lw=3, label=\"Ground Truth\")\n",
    "plt.plot(t[past_history+predctPt:past_history+predctPt+future_target], y_hat[predctPt], label=\"Prediction\")\n",
    "plt.legend(loc='upper left')\n",
    "#plt.xlim([850, 980])\n",
    "#plt.ylim([0,1])\n",
    "\n",
    "plt.show()"
   ]
  },
  {
   "cell_type": "code",
   "execution_count": 352,
   "metadata": {},
   "outputs": [
    {
     "name": "stdout",
     "output_type": "stream",
     "text": [
      "62\n"
     ]
    }
   ],
   "source": [
    "import tensorflow as tf\n",
    "def gradient_importance(seq, model):\n",
    "    seq = tf.Variable(seq[np.newaxis,:,:], dtype=tf.float32)\n",
    "    with tf.GradientTape() as tape:\n",
    "        predictions = model(seq)\n",
    "    grads = tape.gradient(predictions, seq)\n",
    "    grads = tf.reduce_mean(grads, axis=1).numpy()[0]\n",
    "      \n",
    "    return grads\n",
    "\n",
    "grads = gradient_importance(x_train_single[0,:,:,0],single_feature_model)\n",
    "print(grads.size)"
   ]
  },
  {
   "cell_type": "code",
   "execution_count": 333,
   "metadata": {},
   "outputs": [
    {
     "ename": "ValueError",
     "evalue": "max_evals=500 is too low for the Permutation explainer, it must be at least 2 * num_features + 1 = 20833!",
     "output_type": "error",
     "traceback": [
      "\u001b[1;31m---------------------------------------------------------------------------\u001b[0m",
      "\u001b[1;31mValueError\u001b[0m                                Traceback (most recent call last)",
      "\u001b[1;32mc:\\Users\\Dilara\\Electricity-Prediction\\src\\SingleFeatureRNN.ipynb Zelle 14\u001b[0m in \u001b[0;36m<cell line: 6>\u001b[1;34m()\u001b[0m\n\u001b[0;32m      <a href='vscode-notebook-cell:/c%3A/Users/Dilara/Electricity-Prediction/src/SingleFeatureRNN.ipynb#X15sZmlsZQ%3D%3D?line=3'>4</a>\u001b[0m explainer \u001b[39m=\u001b[39m shap\u001b[39m.\u001b[39mexplainers\u001b[39m.\u001b[39mPermutation(single_feature_model,x_train_single)\n\u001b[0;32m      <a href='vscode-notebook-cell:/c%3A/Users/Dilara/Electricity-Prediction/src/SingleFeatureRNN.ipynb#X15sZmlsZQ%3D%3D?line=4'>5</a>\u001b[0m explainer \u001b[39m=\u001b[39m shap\u001b[39m.\u001b[39mExplainer(single_feature_model)\n\u001b[1;32m----> <a href='vscode-notebook-cell:/c%3A/Users/Dilara/Electricity-Prediction/src/SingleFeatureRNN.ipynb#X15sZmlsZQ%3D%3D?line=5'>6</a>\u001b[0m shap_values \u001b[39m=\u001b[39m explainer(x_test_single)\n",
      "File \u001b[1;32mc:\\Users\\Dilara\\AppData\\Local\\Programs\\Python\\Python310\\lib\\site-packages\\shap\\explainers\\_permutation.py:82\u001b[0m, in \u001b[0;36mPermutation.__call__\u001b[1;34m(self, max_evals, main_effects, error_bounds, batch_size, outputs, silent, *args)\u001b[0m\n\u001b[0;32m     78\u001b[0m \u001b[39mdef\u001b[39;00m \u001b[39m__call__\u001b[39m(\u001b[39mself\u001b[39m, \u001b[39m*\u001b[39margs, max_evals\u001b[39m=\u001b[39m\u001b[39m500\u001b[39m, main_effects\u001b[39m=\u001b[39m\u001b[39mFalse\u001b[39;00m, error_bounds\u001b[39m=\u001b[39m\u001b[39mFalse\u001b[39;00m, batch_size\u001b[39m=\u001b[39m\u001b[39m\"\u001b[39m\u001b[39mauto\u001b[39m\u001b[39m\"\u001b[39m,\n\u001b[0;32m     79\u001b[0m              outputs\u001b[39m=\u001b[39m\u001b[39mNone\u001b[39;00m, silent\u001b[39m=\u001b[39m\u001b[39mFalse\u001b[39;00m):\n\u001b[0;32m     80\u001b[0m     \u001b[39m\"\"\" Explain the output of the model on the given arguments.\u001b[39;00m\n\u001b[0;32m     81\u001b[0m \u001b[39m    \"\"\"\u001b[39;00m\n\u001b[1;32m---> 82\u001b[0m     \u001b[39mreturn\u001b[39;00m \u001b[39msuper\u001b[39;49m()\u001b[39m.\u001b[39;49m\u001b[39m__call__\u001b[39;49m(\n\u001b[0;32m     83\u001b[0m         \u001b[39m*\u001b[39;49margs, max_evals\u001b[39m=\u001b[39;49mmax_evals, main_effects\u001b[39m=\u001b[39;49mmain_effects, error_bounds\u001b[39m=\u001b[39;49merror_bounds, batch_size\u001b[39m=\u001b[39;49mbatch_size,\n\u001b[0;32m     84\u001b[0m         outputs\u001b[39m=\u001b[39;49moutputs, silent\u001b[39m=\u001b[39;49msilent\n\u001b[0;32m     85\u001b[0m     )\n",
      "File \u001b[1;32mc:\\Users\\Dilara\\AppData\\Local\\Programs\\Python\\Python310\\lib\\site-packages\\shap\\explainers\\_explainer.py:266\u001b[0m, in \u001b[0;36mExplainer.__call__\u001b[1;34m(self, max_evals, main_effects, error_bounds, batch_size, outputs, silent, *args, **kwargs)\u001b[0m\n\u001b[0;32m    264\u001b[0m     feature_names \u001b[39m=\u001b[39m [[] \u001b[39mfor\u001b[39;00m _ \u001b[39min\u001b[39;00m \u001b[39mrange\u001b[39m(\u001b[39mlen\u001b[39m(args))]\n\u001b[0;32m    265\u001b[0m \u001b[39mfor\u001b[39;00m row_args \u001b[39min\u001b[39;00m show_progress(\u001b[39mzip\u001b[39m(\u001b[39m*\u001b[39margs), num_rows, \u001b[39mself\u001b[39m\u001b[39m.\u001b[39m\u001b[39m__class__\u001b[39m\u001b[39m.\u001b[39m\u001b[39m__name__\u001b[39m\u001b[39m+\u001b[39m\u001b[39m\"\u001b[39m\u001b[39m explainer\u001b[39m\u001b[39m\"\u001b[39m, silent):\n\u001b[1;32m--> 266\u001b[0m     row_result \u001b[39m=\u001b[39m \u001b[39mself\u001b[39m\u001b[39m.\u001b[39mexplain_row(\n\u001b[0;32m    267\u001b[0m         \u001b[39m*\u001b[39mrow_args, max_evals\u001b[39m=\u001b[39mmax_evals, main_effects\u001b[39m=\u001b[39mmain_effects, error_bounds\u001b[39m=\u001b[39merror_bounds,\n\u001b[0;32m    268\u001b[0m         batch_size\u001b[39m=\u001b[39mbatch_size, outputs\u001b[39m=\u001b[39moutputs, silent\u001b[39m=\u001b[39msilent, \u001b[39m*\u001b[39m\u001b[39m*\u001b[39mkwargs\n\u001b[0;32m    269\u001b[0m     )\n\u001b[0;32m    270\u001b[0m     values\u001b[39m.\u001b[39mappend(row_result\u001b[39m.\u001b[39mget(\u001b[39m\"\u001b[39m\u001b[39mvalues\u001b[39m\u001b[39m\"\u001b[39m, \u001b[39mNone\u001b[39;00m))\n\u001b[0;32m    271\u001b[0m     output_indices\u001b[39m.\u001b[39mappend(row_result\u001b[39m.\u001b[39mget(\u001b[39m\"\u001b[39m\u001b[39moutput_indices\u001b[39m\u001b[39m\"\u001b[39m, \u001b[39mNone\u001b[39;00m))\n",
      "File \u001b[1;32mc:\\Users\\Dilara\\AppData\\Local\\Programs\\Python\\Python310\\lib\\site-packages\\shap\\explainers\\_permutation.py:164\u001b[0m, in \u001b[0;36mPermutation.explain_row\u001b[1;34m(self, max_evals, main_effects, error_bounds, batch_size, outputs, silent, *row_args)\u001b[0m\n\u001b[0;32m    161\u001b[0m     history_pos \u001b[39m+\u001b[39m\u001b[39m=\u001b[39m \u001b[39m1\u001b[39m\n\u001b[0;32m    163\u001b[0m \u001b[39mif\u001b[39;00m npermutations \u001b[39m==\u001b[39m \u001b[39m0\u001b[39m:\n\u001b[1;32m--> 164\u001b[0m     \u001b[39mraise\u001b[39;00m \u001b[39mValueError\u001b[39;00m(\u001b[39mf\u001b[39m\u001b[39m\"\u001b[39m\u001b[39mmax_evals=\u001b[39m\u001b[39m{\u001b[39;00mmax_evals\u001b[39m}\u001b[39;00m\u001b[39m is too low for the Permutation explainer, it must be at least 2 * num_features + 1 = \u001b[39m\u001b[39m{\u001b[39;00m\u001b[39m2\u001b[39m \u001b[39m*\u001b[39m \u001b[39mlen\u001b[39m(inds) \u001b[39m+\u001b[39m \u001b[39m1\u001b[39m\u001b[39m}\u001b[39;00m\u001b[39m!\u001b[39m\u001b[39m\"\u001b[39m)\n\u001b[0;32m    166\u001b[0m expected_value \u001b[39m=\u001b[39m outputs[\u001b[39m0\u001b[39m]\n\u001b[0;32m    168\u001b[0m \u001b[39m# compute the main effects if we need to\u001b[39;00m\n",
      "\u001b[1;31mValueError\u001b[0m: max_evals=500 is too low for the Permutation explainer, it must be at least 2 * num_features + 1 = 20833!"
     ]
    }
   ],
   "source": [
    "import shap\n",
    "\n",
    "# https://shap.readthedocs.io/en/latest/search.html?q=shap_values&check_keywords=yes&area=default\n",
    "explainer = shap.explainers.Permutation(single_feature_model,x_train_single)\n",
    "explainer = shap.Explainer(single_feature_model)\n",
    "shap_values = explainer(x_test_single)"
   ]
  }
 ],
 "metadata": {
  "kernelspec": {
   "display_name": "Python 3.10.4 64-bit",
   "language": "python",
   "name": "python3"
  },
  "language_info": {
   "codemirror_mode": {
    "name": "ipython",
    "version": 3
   },
   "file_extension": ".py",
   "mimetype": "text/x-python",
   "name": "python",
   "nbconvert_exporter": "python",
   "pygments_lexer": "ipython3",
   "version": "3.10.4"
  },
  "orig_nbformat": 4,
  "vscode": {
   "interpreter": {
    "hash": "cb6164d6f6dd98322bde9d26a164e558f160764e692185fac5f2ab12a0b62824"
   }
  }
 },
 "nbformat": 4,
 "nbformat_minor": 2
}
