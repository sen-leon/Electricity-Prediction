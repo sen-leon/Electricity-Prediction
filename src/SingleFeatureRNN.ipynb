{
 "cells": [
  {
   "cell_type": "code",
   "execution_count": 78,
   "metadata": {},
   "outputs": [],
   "source": [
    "import pandas as pd\n",
    "import numpy as np\n",
    "import matplotlib.pyplot as plt "
   ]
  },
  {
   "cell_type": "code",
   "execution_count": 158,
   "metadata": {},
   "outputs": [
    {
     "data": {
      "text/html": [
       "<div>\n",
       "<style scoped>\n",
       "    .dataframe tbody tr th:only-of-type {\n",
       "        vertical-align: middle;\n",
       "    }\n",
       "\n",
       "    .dataframe tbody tr th {\n",
       "        vertical-align: top;\n",
       "    }\n",
       "\n",
       "    .dataframe thead th {\n",
       "        text-align: right;\n",
       "    }\n",
       "</style>\n",
       "<table border=\"1\" class=\"dataframe\">\n",
       "  <thead>\n",
       "    <tr style=\"text-align: right;\">\n",
       "      <th></th>\n",
       "      <th>carbon_intensity_avg</th>\n",
       "      <th>carbon_intensity_direct_avg</th>\n",
       "      <th>carbon_intensity_production_avg</th>\n",
       "      <th>total_production_avg</th>\n",
       "      <th>total_storage_avg</th>\n",
       "      <th>total_discharge_avg</th>\n",
       "      <th>total_import_avg</th>\n",
       "      <th>total_export_avg</th>\n",
       "      <th>total_consumption_avg</th>\n",
       "      <th>power_origin_percent_fossil_avg</th>\n",
       "      <th>...</th>\n",
       "      <th>latest_forecasted_power_net_import_DK-DK1_avg</th>\n",
       "      <th>latest_forecasted_power_net_import_DK-DK2_avg</th>\n",
       "      <th>latest_forecasted_power_net_import_FR_avg</th>\n",
       "      <th>latest_forecasted_power_net_import_LU_avg</th>\n",
       "      <th>latest_forecasted_power_net_import_NL_avg</th>\n",
       "      <th>latest_forecasted_power_net_import_PL_avg</th>\n",
       "      <th>sin_hour_of_day</th>\n",
       "      <th>cos_hour_of_day</th>\n",
       "      <th>sin_day_of_year</th>\n",
       "      <th>cos_day_of_year</th>\n",
       "    </tr>\n",
       "  </thead>\n",
       "  <tbody>\n",
       "    <tr>\n",
       "      <th>8755</th>\n",
       "      <td>-2.066921</td>\n",
       "      <td>-2.005447</td>\n",
       "      <td>-2.040033</td>\n",
       "      <td>0.189875</td>\n",
       "      <td>-0.055072</td>\n",
       "      <td>-0.666773</td>\n",
       "      <td>-1.404303</td>\n",
       "      <td>1.324138</td>\n",
       "      <td>-0.725136</td>\n",
       "      <td>-1.952249</td>\n",
       "      <td>...</td>\n",
       "      <td>-1.091588</td>\n",
       "      <td>-2.074825</td>\n",
       "      <td>-0.001084</td>\n",
       "      <td>1.036034</td>\n",
       "      <td>-0.121433</td>\n",
       "      <td>-0.291098</td>\n",
       "      <td>-1.365947</td>\n",
       "      <td>0.366005</td>\n",
       "      <td>0.004426</td>\n",
       "      <td>1.415536</td>\n",
       "    </tr>\n",
       "    <tr>\n",
       "      <th>8756</th>\n",
       "      <td>-1.992358</td>\n",
       "      <td>-1.944741</td>\n",
       "      <td>-1.962545</td>\n",
       "      <td>-0.130963</td>\n",
       "      <td>0.119386</td>\n",
       "      <td>-0.666773</td>\n",
       "      <td>-1.234072</td>\n",
       "      <td>1.090204</td>\n",
       "      <td>-0.994799</td>\n",
       "      <td>-1.887445</td>\n",
       "      <td>...</td>\n",
       "      <td>-1.121459</td>\n",
       "      <td>-2.290666</td>\n",
       "      <td>0.314370</td>\n",
       "      <td>1.289913</td>\n",
       "      <td>-0.200065</td>\n",
       "      <td>-0.311255</td>\n",
       "      <td>-1.224675</td>\n",
       "      <td>0.707066</td>\n",
       "      <td>0.005439</td>\n",
       "      <td>1.415533</td>\n",
       "    </tr>\n",
       "    <tr>\n",
       "      <th>8757</th>\n",
       "      <td>-1.902331</td>\n",
       "      <td>-1.857676</td>\n",
       "      <td>-1.912565</td>\n",
       "      <td>-0.332591</td>\n",
       "      <td>-0.732936</td>\n",
       "      <td>-0.064832</td>\n",
       "      <td>-1.532081</td>\n",
       "      <td>1.268586</td>\n",
       "      <td>-1.166702</td>\n",
       "      <td>-1.848721</td>\n",
       "      <td>...</td>\n",
       "      <td>-0.973974</td>\n",
       "      <td>-2.281115</td>\n",
       "      <td>-0.580992</td>\n",
       "      <td>0.871012</td>\n",
       "      <td>-0.253534</td>\n",
       "      <td>-0.311255</td>\n",
       "      <td>-0.999943</td>\n",
       "      <td>0.999943</td>\n",
       "      <td>0.006452</td>\n",
       "      <td>1.415529</td>\n",
       "    </tr>\n",
       "    <tr>\n",
       "      <th>8758</th>\n",
       "      <td>-1.885872</td>\n",
       "      <td>-1.861612</td>\n",
       "      <td>-1.881228</td>\n",
       "      <td>-0.536327</td>\n",
       "      <td>-0.732936</td>\n",
       "      <td>-0.653714</td>\n",
       "      <td>-1.562405</td>\n",
       "      <td>0.841919</td>\n",
       "      <td>-1.341282</td>\n",
       "      <td>-1.802094</td>\n",
       "      <td>...</td>\n",
       "      <td>-1.072919</td>\n",
       "      <td>-1.135060</td>\n",
       "      <td>-0.692913</td>\n",
       "      <td>1.036034</td>\n",
       "      <td>-0.200065</td>\n",
       "      <td>-0.249234</td>\n",
       "      <td>-0.707066</td>\n",
       "      <td>1.224675</td>\n",
       "      <td>0.007466</td>\n",
       "      <td>1.415524</td>\n",
       "    </tr>\n",
       "    <tr>\n",
       "      <th>8759</th>\n",
       "      <td>-1.847431</td>\n",
       "      <td>-1.826786</td>\n",
       "      <td>-1.877298</td>\n",
       "      <td>-0.601962</td>\n",
       "      <td>0.196923</td>\n",
       "      <td>-0.666773</td>\n",
       "      <td>-1.364744</td>\n",
       "      <td>0.865196</td>\n",
       "      <td>-1.510671</td>\n",
       "      <td>-1.754676</td>\n",
       "      <td>...</td>\n",
       "      <td>-1.244674</td>\n",
       "      <td>-1.845614</td>\n",
       "      <td>-1.100926</td>\n",
       "      <td>1.378771</td>\n",
       "      <td>-0.450898</td>\n",
       "      <td>-0.111237</td>\n",
       "      <td>-0.366005</td>\n",
       "      <td>1.365947</td>\n",
       "      <td>0.008479</td>\n",
       "      <td>1.415518</td>\n",
       "    </tr>\n",
       "  </tbody>\n",
       "</table>\n",
       "<p>5 rows × 62 columns</p>\n",
       "</div>"
      ],
      "text/plain": [
       "      carbon_intensity_avg  carbon_intensity_direct_avg  \\\n",
       "8755             -2.066921                    -2.005447   \n",
       "8756             -1.992358                    -1.944741   \n",
       "8757             -1.902331                    -1.857676   \n",
       "8758             -1.885872                    -1.861612   \n",
       "8759             -1.847431                    -1.826786   \n",
       "\n",
       "      carbon_intensity_production_avg  total_production_avg  \\\n",
       "8755                        -2.040033              0.189875   \n",
       "8756                        -1.962545             -0.130963   \n",
       "8757                        -1.912565             -0.332591   \n",
       "8758                        -1.881228             -0.536327   \n",
       "8759                        -1.877298             -0.601962   \n",
       "\n",
       "      total_storage_avg  total_discharge_avg  total_import_avg  \\\n",
       "8755          -0.055072            -0.666773         -1.404303   \n",
       "8756           0.119386            -0.666773         -1.234072   \n",
       "8757          -0.732936            -0.064832         -1.532081   \n",
       "8758          -0.732936            -0.653714         -1.562405   \n",
       "8759           0.196923            -0.666773         -1.364744   \n",
       "\n",
       "      total_export_avg  total_consumption_avg  \\\n",
       "8755          1.324138              -0.725136   \n",
       "8756          1.090204              -0.994799   \n",
       "8757          1.268586              -1.166702   \n",
       "8758          0.841919              -1.341282   \n",
       "8759          0.865196              -1.510671   \n",
       "\n",
       "      power_origin_percent_fossil_avg  ...  \\\n",
       "8755                        -1.952249  ...   \n",
       "8756                        -1.887445  ...   \n",
       "8757                        -1.848721  ...   \n",
       "8758                        -1.802094  ...   \n",
       "8759                        -1.754676  ...   \n",
       "\n",
       "      latest_forecasted_power_net_import_DK-DK1_avg  \\\n",
       "8755                                      -1.091588   \n",
       "8756                                      -1.121459   \n",
       "8757                                      -0.973974   \n",
       "8758                                      -1.072919   \n",
       "8759                                      -1.244674   \n",
       "\n",
       "      latest_forecasted_power_net_import_DK-DK2_avg  \\\n",
       "8755                                      -2.074825   \n",
       "8756                                      -2.290666   \n",
       "8757                                      -2.281115   \n",
       "8758                                      -1.135060   \n",
       "8759                                      -1.845614   \n",
       "\n",
       "      latest_forecasted_power_net_import_FR_avg  \\\n",
       "8755                                  -0.001084   \n",
       "8756                                   0.314370   \n",
       "8757                                  -0.580992   \n",
       "8758                                  -0.692913   \n",
       "8759                                  -1.100926   \n",
       "\n",
       "      latest_forecasted_power_net_import_LU_avg  \\\n",
       "8755                                   1.036034   \n",
       "8756                                   1.289913   \n",
       "8757                                   0.871012   \n",
       "8758                                   1.036034   \n",
       "8759                                   1.378771   \n",
       "\n",
       "      latest_forecasted_power_net_import_NL_avg  \\\n",
       "8755                                  -0.121433   \n",
       "8756                                  -0.200065   \n",
       "8757                                  -0.253534   \n",
       "8758                                  -0.200065   \n",
       "8759                                  -0.450898   \n",
       "\n",
       "      latest_forecasted_power_net_import_PL_avg  sin_hour_of_day  \\\n",
       "8755                                  -0.291098        -1.365947   \n",
       "8756                                  -0.311255        -1.224675   \n",
       "8757                                  -0.311255        -0.999943   \n",
       "8758                                  -0.249234        -0.707066   \n",
       "8759                                  -0.111237        -0.366005   \n",
       "\n",
       "      cos_hour_of_day  sin_day_of_year  cos_day_of_year  \n",
       "8755         0.366005         0.004426         1.415536  \n",
       "8756         0.707066         0.005439         1.415533  \n",
       "8757         0.999943         0.006452         1.415529  \n",
       "8758         1.224675         0.007466         1.415524  \n",
       "8759         1.365947         0.008479         1.415518  \n",
       "\n",
       "[5 rows x 62 columns]"
      ]
     },
     "execution_count": 158,
     "metadata": {},
     "output_type": "execute_result"
    }
   ],
   "source": [
    "from sklearn.preprocessing import MinMaxScaler\n",
    "\n",
    "df = pd.read_csv(\"..\\data\\ElectricityMap_DE_2021.csv\", sep=\",\")\n",
    "# df = df[[\"datetime\",\"power_production_wind_avg\"]]\n",
    "# shift column 'power_production_wind_avg' to first position\n",
    "first_column = df.pop('power_production_wind_avg')\n",
    "df.insert(0, 'power_production_wind_avg', first_column)\n",
    "\n",
    "day = 24*60*60\n",
    "year = (365.2425)*day\n",
    "\n",
    "df['sin_hour_of_day'] = np.sin(df[\"timestamp\"] * (2 * np.pi / day))\n",
    "df['cos_hour_of_day'] = np.cos(df[\"timestamp\"] * (2 * np.pi / day))\n",
    "df['sin_day_of_year'] = np.sin(df[\"timestamp\"] * (2 * np.pi / year))\n",
    "df['cos_day_of_year'] = np.cos(df[\"timestamp\"] * (2 * np.pi / year))\n",
    "\n",
    "df=df.dropna(axis=1)\n",
    "y=df.drop([\"datetime\",\"timestamp\",\"created_at\",\"updated_at\",\"zone_name\",\"production_sources\"],axis=1)\n",
    "\n",
    "#y=(y-y.min())/(y.max()-y.min())\n",
    "y=(y-y.mean())/y.std()\n",
    "y=y.dropna(axis=1)\n",
    "y.tail()\n",
    " \n"
   ]
  },
  {
   "cell_type": "code",
   "execution_count": 165,
   "metadata": {},
   "outputs": [
    {
     "name": "stdout",
     "output_type": "stream",
     "text": [
      "(8760, 62)\n"
     ]
    }
   ],
   "source": [
    "print(y.shape)"
   ]
  },
  {
   "cell_type": "code",
   "execution_count": 160,
   "metadata": {},
   "outputs": [],
   "source": [
    "def multivariate_data(dataset, target, start_index, end_index, history_size,\n",
    "                      target_size, step, single_step=False):\n",
    "    data = []\n",
    "    labels = []\n",
    "\n",
    "    start_index = start_index + history_size\n",
    "    if end_index is None:\n",
    "        end_index = len(dataset) - target_size\n",
    "\n",
    "    for i in range(start_index, end_index):\n",
    "        indices = range(i-history_size, i, step)\n",
    "        data.append(dataset[indices])\n",
    "\n",
    "        if single_step:\n",
    "            labels.append(target[i+target_size])\n",
    "        else:\n",
    "            labels.append(target[i:i+target_size])\n",
    "\n",
    "    return np.array(data), np.array(labels)"
   ]
  },
  {
   "cell_type": "code",
   "execution_count": 161,
   "metadata": {},
   "outputs": [
    {
     "name": "stdout",
     "output_type": "stream",
     "text": [
      "7008\n"
     ]
    }
   ],
   "source": [
    "# choose input and output parameters\n",
    "# x_single = y[[\"power_production_wind_avg\", \"sin_hour_of_day\",\n",
    "            #   \"sin_day_of_year\",\"cos_hour_of_day\",\n",
    "            #   \"cos_day_of_year\"]].to_numpy()\n",
    "x_single = y.to_numpy()\n",
    "y_single = y[[\"power_production_wind_avg\"]].to_numpy()\n",
    "\n",
    "# testplit as usual, so we get untouched data for later evaluation\n",
    "testsplit = int(0.8 * y.shape[0])\n",
    "print(testsplit)\n",
    "\n",
    "# how many \"x\" inputs to provide in the RNN\n",
    "past_history = 24*7\n",
    "\n",
    "# how many \"yhat\" outputs to make/how many timesteps into the future to predict\n",
    "future_target = 24\n",
    "\n",
    "# this can be set to 1. If you have extremely large datasets where values\n",
    "# don't change a lot during single time steps, this can be set to a higher\n",
    "# value such that, e.g., only every 6th time step is used\n",
    "step = 1\n",
    "\n",
    "# prepare the data\n",
    "# inputs here are y and y, since we're only going to predict a single feature (power production wind) at first\n",
    "# \"single_step\" needs to be set to \"True\" if only the next timestep should be predicted\n",
    "x_train_single, y_train_single = multivariate_data(x_single, y_single, 0, testsplit,\n",
    "                                                   past_history, future_target, step,\n",
    "                                                   single_step=False)\n",
    "x_test_single, y_test_single = multivariate_data(x_single, y_single, testsplit, None,\n",
    "                                                 past_history, future_target, step,\n",
    "                                                 single_step=False)\n",
    "\n",
    "# the network later expects arrays with 3 dimensions, so we have to reshape\n",
    "# the x_... arrays to reflect that they contain a single feature\n",
    "\n",
    "x_train_single = x_train_single.reshape(*x_train_single.shape, 1)\n",
    "x_test_single = x_test_single.reshape(*x_test_single.shape, 1)\n",
    "\n"
   ]
  },
  {
   "cell_type": "code",
   "execution_count": 162,
   "metadata": {},
   "outputs": [
    {
     "name": "stdout",
     "output_type": "stream",
     "text": [
      "(6840, 168, 62, 1)\n"
     ]
    }
   ],
   "source": [
    "print(x_train_single.shape)"
   ]
  },
  {
   "cell_type": "code",
   "execution_count": 163,
   "metadata": {},
   "outputs": [
    {
     "name": "stdout",
     "output_type": "stream",
     "text": [
      "Model: \"sequential\"\n",
      "_________________________________________________________________\n",
      " Layer (type)                Output Shape              Param #   \n",
      "=================================================================\n",
      " lstm (LSTM)                 (None, 128)               97792     \n",
      "                                                                 \n",
      " dense (Dense)               (None, 24)                3096      \n",
      "                                                                 \n",
      "=================================================================\n",
      "Total params: 100,888\n",
      "Trainable params: 100,888\n",
      "Non-trainable params: 0\n",
      "_________________________________________________________________\n"
     ]
    }
   ],
   "source": [
    "import tensorflow.keras as keras\n",
    "from tensorflow.keras.models import Sequential\n",
    "from tensorflow.keras.layers import Dense, LSTM\n",
    "from tensorflow.keras import backend as K\n",
    "from tensorflow.keras.backend import clear_session\n",
    "# clear_session() deletes stale model, so that when this cell is executed again,\n",
    "# no older model reside in memory\n",
    "clear_session()\n",
    "\n",
    "# r2_score defined manually, since it's not implemented in keras\n",
    "def r2_score(y_true, y_pred):\n",
    "    SS_res =  K.sum(K.square( y_true-y_pred ))\n",
    "    SS_tot = K.sum(K.square( y_true - K.mean(y_true) ) )\n",
    "    return ( 1 - SS_res/(SS_tot + K.epsilon()) )\n",
    "\n",
    "# below, create a sequential model like before called \"single_feature_model\"\n",
    "# \n",
    "# then, add an LSTM layer (the class is already imported) with 128 hidden\n",
    "# vector components. As a second argument you have to provide the\n",
    "# \"input_shape=\", that has to be a tuple of the second and third dimension\n",
    "# of x_train_single, like (20, 30). You can use x_train_single.shape for example to get them\n",
    "# \n",
    "# lastly, add a \"Dense\" layer like in the lessons before, with as many neurons as\n",
    "# there are future predictions. That number is saved in the variable \"future_target\".\n",
    "# choose an appropriate activation function here. Which ones make sense?\n",
    "single_feature_model = Sequential()\n",
    "f=single_feature_model.add(LSTM(128, input_shape=x_train_single.shape[1:3]))\n",
    "#single_feature_model.add(LSTM(128, input_shape=x_train_single.shape[1:3]))\n",
    "single_feature_model.add(Dense(future_target, activation='selu'))\n",
    "\n",
    "# compile the model with the optimizer 'adam', an appropriate loss function, and \n",
    "# the \"r2_score\" defined above as a metric\n",
    "single_feature_model.compile(optimizer=\"adam\", loss=\"mse\", metrics=r2_score)\n",
    "\n",
    "# check what the model looks like\n",
    "single_feature_model.summary()"
   ]
  },
  {
   "cell_type": "code",
   "execution_count": 164,
   "metadata": {},
   "outputs": [
    {
     "name": "stdout",
     "output_type": "stream",
     "text": [
      "Epoch 1/2\n",
      "161/161 [==============================] - 25s 149ms/step - loss: 0.3755 - r2_score: 0.6009 - val_loss: 0.3976 - val_r2_score: -3.2089\n",
      "Epoch 2/2\n",
      "161/161 [==============================] - 27s 165ms/step - loss: 0.1490 - r2_score: 0.8410 - val_loss: 0.4972 - val_r2_score: -4.3032\n"
     ]
    }
   ],
   "source": [
    "single_feature_history = single_feature_model.fit(x_train_single, y_train_single, epochs=2, validation_split=0.25)"
   ]
  },
  {
   "cell_type": "code",
   "execution_count": 167,
   "metadata": {},
   "outputs": [
    {
     "name": "stdout",
     "output_type": "stream",
     "text": [
      "dict_keys(['loss', 'r2_score', 'val_loss', 'val_r2_score'])\n"
     ]
    },
    {
     "data": {
      "image/png": "[encoded data removed]",
      "text/plain": [
       "<Figure size 640x480 with 1 Axes>"
      ]
     },
     "metadata": {},
     "output_type": "display_data"
    }
   ],
   "source": [
    "print(single_feature_history.history.keys())\n",
    "\n",
    "def plot_train_history(history, title):\n",
    "    loss = history.history['loss']\n",
    "    val_loss = history.history['val_loss']\n",
    "    val_r2_score = history.history['val_r2_score']\n",
    "\n",
    "    epochs = range(len(loss))\n",
    "\n",
    "    plt.figure()\n",
    "\n",
    "    plt.plot(epochs, loss, lw=4, label='Training loss')\n",
    "    plt.plot(epochs, val_loss, lw=4, label='Validation loss')\n",
    "    plt.plot(epochs, val_r2_score, lw=4, label='Validation R² score')\n",
    "    plt.title(title)\n",
    "    plt.legend()\n",
    "    #plt.ylim([0,0.05])\n",
    "\n",
    "    plt.show()\n",
    "    \n",
    "plot_train_history(single_feature_history, 'Single Feature Training and Validation Loss')"
   ]
  },
  {
   "cell_type": "code",
   "execution_count": 168,
   "metadata": {},
   "outputs": [
    {
     "name": "stdout",
     "output_type": "stream",
     "text": [
      "49/49 [==============================] - 4s 74ms/step\n"
     ]
    }
   ],
   "source": [
    "y_hat = single_feature_model.predict(x_test_single)"
   ]
  },
  {
   "cell_type": "code",
   "execution_count": 188,
   "metadata": {},
   "outputs": [
    {
     "data": {
      "image/png": "[encoded data removed]",
      "text/plain": [
       "<Figure size 640x480 with 1 Axes>"
      ]
     },
     "metadata": {},
     "output_type": "display_data"
    }
   ],
   "source": [
    "# prediction starting point.\n",
    "predctStartPt = 830\n",
    "\n",
    "t = np.arange(y.shape[0])\n",
    "\n",
    "predctPt = predctStartPt-past_history\n",
    "#predctPt = 0\n",
    "\n",
    "plt.figure()\n",
    "\n",
    "plt.plot(t[predctPt:past_history+predctPt], x_test_single[predctPt,:,11], lw=3, label=\"Input Sequence\")\n",
    "plt.plot(t[past_history+predctPt:past_history+predctPt+future_target], y_test_single[predctPt], lw=3, label=\"Ground Truth\")\n",
    "plt.plot(t[past_history+predctPt:past_history+predctPt+future_target], y_hat[predctPt], label=\"Prediction\")\n",
    "plt.legend(loc='upper left')\n",
    "#plt.xlim([850, 980])\n",
    "#plt.ylim([0,1])\n",
    "\n",
    "plt.show()"
   ]
  },
  {
   "cell_type": "code",
   "execution_count": null,
   "metadata": {},
   "outputs": [],
   "source": []
  }
 ],
 "metadata": {
  "kernelspec": {
   "display_name": "Python 3.10.4 64-bit",
   "language": "python",
   "name": "python3"
  },
  "language_info": {
   "codemirror_mode": {
    "name": "ipython",
    "version": 3
   },
   "file_extension": ".py",
   "mimetype": "text/x-python",
   "name": "python",
   "nbconvert_exporter": "python",
   "pygments_lexer": "ipython3",
   "version": "3.10.4"
  },
  "orig_nbformat": 4,
  "vscode": {
   "interpreter": {
    "hash": "cb6164d6f6dd98322bde9d26a164e558f160764e692185fac5f2ab12a0b62824"
   }
  }
 },
 "nbformat": 4,
 "nbformat_minor": 2
}
