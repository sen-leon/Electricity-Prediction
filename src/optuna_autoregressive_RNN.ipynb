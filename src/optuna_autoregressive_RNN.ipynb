{
 "cells": [
  {
   "cell_type": "markdown",
   "metadata": {},
   "source": [
    "# Optimize the Autoregressive RNN with continuous input\n",
    "- This model is autoregressive, which means that the prediction of the last time step is the input of the current time step. This way the model can predict a varying number of steps into the future without retraining\n",
    "- Some features, like time and weather, are fed into the model from outside even during prediction phase so the model does not have to predict those by itself\n",
    "\n",
    "Based on: https://www.tensorflow.org/tutorials/structured_data/time_series"
   ]
  },
  {
   "cell_type": "code",
   "execution_count": 52,
   "metadata": {},
   "outputs": [],
   "source": [
    "import os\n",
    "import datetime\n",
    "\n",
    "import numpy as np\n",
    "import pandas as pd\n",
    "import seaborn as sns\n",
    "import matplotlib as mpl\n",
    "import matplotlib.pyplot as plt\n",
    "import tensorflow as tf\n",
    "import IPython\n",
    "import IPython.display\n",
    "\n",
    "plt.rcParams['figure.dpi'] = 150\n",
    "plt.rcParams['savefig.dpi'] = 150\n",
    "\n",
    "sns.set_theme()"
   ]
  },
  {
   "cell_type": "markdown",
   "metadata": {},
   "source": [
    "### Import data"
   ]
  },
  {
   "cell_type": "code",
   "execution_count": 53,
   "metadata": {},
   "outputs": [
    {
     "data": {
      "text/html": [
       "<div>\n",
       "<style scoped>\n",
       "    .dataframe tbody tr th:only-of-type {\n",
       "        vertical-align: middle;\n",
       "    }\n",
       "\n",
       "    .dataframe tbody tr th {\n",
       "        vertical-align: top;\n",
       "    }\n",
       "\n",
       "    .dataframe thead th {\n",
       "        text-align: right;\n",
       "    }\n",
       "</style>\n",
       "<table border=\"1\" class=\"dataframe\">\n",
       "  <thead>\n",
       "    <tr style=\"text-align: right;\">\n",
       "      <th></th>\n",
       "      <th>prod_wind</th>\n",
       "      <th>prod_solar</th>\n",
       "      <th>day_sin</th>\n",
       "      <th>day_cos</th>\n",
       "      <th>year_sin</th>\n",
       "      <th>year_cos</th>\n",
       "      <th>solar_el</th>\n",
       "      <th>solar_el_clip</th>\n",
       "    </tr>\n",
       "    <tr>\n",
       "      <th>datetime</th>\n",
       "      <th></th>\n",
       "      <th></th>\n",
       "      <th></th>\n",
       "      <th></th>\n",
       "      <th></th>\n",
       "      <th></th>\n",
       "      <th></th>\n",
       "      <th></th>\n",
       "    </tr>\n",
       "  </thead>\n",
       "  <tbody>\n",
       "    <tr>\n",
       "      <th>2017-01-01 00:00:00+00:00</th>\n",
       "      <td>15498.0</td>\n",
       "      <td>0.0</td>\n",
       "      <td>2.504006e-13</td>\n",
       "      <td>1.000000</td>\n",
       "      <td>0.010364</td>\n",
       "      <td>0.999946</td>\n",
       "      <td>-60.908284</td>\n",
       "      <td>0.0</td>\n",
       "    </tr>\n",
       "    <tr>\n",
       "      <th>2017-01-01 01:00:00+00:00</th>\n",
       "      <td>15406.9</td>\n",
       "      <td>0.0</td>\n",
       "      <td>2.588190e-01</td>\n",
       "      <td>0.965926</td>\n",
       "      <td>0.011081</td>\n",
       "      <td>0.999939</td>\n",
       "      <td>-56.058615</td>\n",
       "      <td>0.0</td>\n",
       "    </tr>\n",
       "    <tr>\n",
       "      <th>2017-01-01 02:00:00+00:00</th>\n",
       "      <td>14922.3</td>\n",
       "      <td>0.0</td>\n",
       "      <td>5.000000e-01</td>\n",
       "      <td>0.866025</td>\n",
       "      <td>0.011798</td>\n",
       "      <td>0.999930</td>\n",
       "      <td>-48.554986</td>\n",
       "      <td>0.0</td>\n",
       "    </tr>\n",
       "    <tr>\n",
       "      <th>2017-01-01 03:00:00+00:00</th>\n",
       "      <td>15022.0</td>\n",
       "      <td>0.0</td>\n",
       "      <td>7.071068e-01</td>\n",
       "      <td>0.707107</td>\n",
       "      <td>0.012515</td>\n",
       "      <td>0.999922</td>\n",
       "      <td>-39.734647</td>\n",
       "      <td>0.0</td>\n",
       "    </tr>\n",
       "    <tr>\n",
       "      <th>2017-01-01 04:00:00+00:00</th>\n",
       "      <td>15234.0</td>\n",
       "      <td>0.0</td>\n",
       "      <td>8.660254e-01</td>\n",
       "      <td>0.500000</td>\n",
       "      <td>0.013231</td>\n",
       "      <td>0.999912</td>\n",
       "      <td>-30.400744</td>\n",
       "      <td>0.0</td>\n",
       "    </tr>\n",
       "  </tbody>\n",
       "</table>\n",
       "</div>"
      ],
      "text/plain": [
       "                           prod_wind  prod_solar       day_sin   day_cos  \\\n",
       "datetime                                                                   \n",
       "2017-01-01 00:00:00+00:00    15498.0         0.0  2.504006e-13  1.000000   \n",
       "2017-01-01 01:00:00+00:00    15406.9         0.0  2.588190e-01  0.965926   \n",
       "2017-01-01 02:00:00+00:00    14922.3         0.0  5.000000e-01  0.866025   \n",
       "2017-01-01 03:00:00+00:00    15022.0         0.0  7.071068e-01  0.707107   \n",
       "2017-01-01 04:00:00+00:00    15234.0         0.0  8.660254e-01  0.500000   \n",
       "\n",
       "                           year_sin  year_cos   solar_el  solar_el_clip  \n",
       "datetime                                                                 \n",
       "2017-01-01 00:00:00+00:00  0.010364  0.999946 -60.908284            0.0  \n",
       "2017-01-01 01:00:00+00:00  0.011081  0.999939 -56.058615            0.0  \n",
       "2017-01-01 02:00:00+00:00  0.011798  0.999930 -48.554986            0.0  \n",
       "2017-01-01 03:00:00+00:00  0.012515  0.999922 -39.734647            0.0  \n",
       "2017-01-01 04:00:00+00:00  0.013231  0.999912 -30.400744            0.0  "
      ]
     },
     "execution_count": 53,
     "metadata": {},
     "output_type": "execute_result"
    }
   ],
   "source": [
    "# df = pd.read_pickle(\"..\\data\\data_prepared.pkl\")\n",
    "el = pd.read_pickle(\"..\\data\\prepared\\electricity+time_2017-2021.pkl\")\n",
    "el.head()"
   ]
  },
  {
   "cell_type": "code",
   "execution_count": 54,
   "metadata": {},
   "outputs": [
    {
     "data": {
      "text/html": [
       "<div>\n",
       "<style scoped>\n",
       "    .dataframe tbody tr th:only-of-type {\n",
       "        vertical-align: middle;\n",
       "    }\n",
       "\n",
       "    .dataframe tbody tr th {\n",
       "        vertical-align: top;\n",
       "    }\n",
       "\n",
       "    .dataframe thead th {\n",
       "        text-align: right;\n",
       "    }\n",
       "</style>\n",
       "<table border=\"1\" class=\"dataframe\">\n",
       "  <thead>\n",
       "    <tr style=\"text-align: right;\">\n",
       "      <th></th>\n",
       "      <th>temp_00183</th>\n",
       "      <th>temp_00701</th>\n",
       "      <th>temp_00856</th>\n",
       "      <th>temp_00953</th>\n",
       "      <th>temp_00963</th>\n",
       "      <th>temp_01443</th>\n",
       "      <th>temp_01605</th>\n",
       "      <th>temp_01694</th>\n",
       "      <th>temp_03032</th>\n",
       "      <th>temp_03231</th>\n",
       "      <th>...</th>\n",
       "      <th>sun_00856</th>\n",
       "      <th>sun_00953</th>\n",
       "      <th>sun_00963</th>\n",
       "      <th>sun_01443</th>\n",
       "      <th>sun_01605</th>\n",
       "      <th>sun_01694</th>\n",
       "      <th>sun_03032</th>\n",
       "      <th>sun_03231</th>\n",
       "      <th>sun_04104</th>\n",
       "      <th>sun_04177</th>\n",
       "    </tr>\n",
       "  </thead>\n",
       "  <tbody>\n",
       "    <tr>\n",
       "      <th>2017-01-01 00:00:00+00:00</th>\n",
       "      <td>277.45</td>\n",
       "      <td>276.95</td>\n",
       "      <td>269.15</td>\n",
       "      <td>266.15</td>\n",
       "      <td>275.95</td>\n",
       "      <td>268.65</td>\n",
       "      <td>276.75</td>\n",
       "      <td>275.95</td>\n",
       "      <td>280.85</td>\n",
       "      <td>268.15</td>\n",
       "      <td>...</td>\n",
       "      <td>0.0</td>\n",
       "      <td>0.0</td>\n",
       "      <td>0.0</td>\n",
       "      <td>0.0</td>\n",
       "      <td>0.0</td>\n",
       "      <td>0.0</td>\n",
       "      <td>0.0</td>\n",
       "      <td>0.0</td>\n",
       "      <td>0.0</td>\n",
       "      <td>0.0</td>\n",
       "    </tr>\n",
       "    <tr>\n",
       "      <th>2017-01-01 01:00:00+00:00</th>\n",
       "      <td>277.65</td>\n",
       "      <td>277.05</td>\n",
       "      <td>268.85</td>\n",
       "      <td>265.45</td>\n",
       "      <td>276.15</td>\n",
       "      <td>268.25</td>\n",
       "      <td>276.45</td>\n",
       "      <td>276.15</td>\n",
       "      <td>280.95</td>\n",
       "      <td>267.95</td>\n",
       "      <td>...</td>\n",
       "      <td>0.0</td>\n",
       "      <td>0.0</td>\n",
       "      <td>0.0</td>\n",
       "      <td>0.0</td>\n",
       "      <td>0.0</td>\n",
       "      <td>0.0</td>\n",
       "      <td>0.0</td>\n",
       "      <td>0.0</td>\n",
       "      <td>0.0</td>\n",
       "      <td>0.0</td>\n",
       "    </tr>\n",
       "    <tr>\n",
       "      <th>2017-01-01 02:00:00+00:00</th>\n",
       "      <td>277.85</td>\n",
       "      <td>277.15</td>\n",
       "      <td>269.95</td>\n",
       "      <td>266.95</td>\n",
       "      <td>275.65</td>\n",
       "      <td>268.65</td>\n",
       "      <td>275.95</td>\n",
       "      <td>276.25</td>\n",
       "      <td>281.05</td>\n",
       "      <td>267.35</td>\n",
       "      <td>...</td>\n",
       "      <td>0.0</td>\n",
       "      <td>0.0</td>\n",
       "      <td>0.0</td>\n",
       "      <td>0.0</td>\n",
       "      <td>0.0</td>\n",
       "      <td>0.0</td>\n",
       "      <td>0.0</td>\n",
       "      <td>0.0</td>\n",
       "      <td>0.0</td>\n",
       "      <td>0.0</td>\n",
       "    </tr>\n",
       "    <tr>\n",
       "      <th>2017-01-01 03:00:00+00:00</th>\n",
       "      <td>277.85</td>\n",
       "      <td>277.25</td>\n",
       "      <td>269.25</td>\n",
       "      <td>266.35</td>\n",
       "      <td>274.55</td>\n",
       "      <td>268.55</td>\n",
       "      <td>276.45</td>\n",
       "      <td>276.35</td>\n",
       "      <td>281.05</td>\n",
       "      <td>266.95</td>\n",
       "      <td>...</td>\n",
       "      <td>0.0</td>\n",
       "      <td>0.0</td>\n",
       "      <td>0.0</td>\n",
       "      <td>0.0</td>\n",
       "      <td>0.0</td>\n",
       "      <td>0.0</td>\n",
       "      <td>0.0</td>\n",
       "      <td>0.0</td>\n",
       "      <td>0.0</td>\n",
       "      <td>0.0</td>\n",
       "    </tr>\n",
       "    <tr>\n",
       "      <th>2017-01-01 04:00:00+00:00</th>\n",
       "      <td>277.95</td>\n",
       "      <td>277.25</td>\n",
       "      <td>268.85</td>\n",
       "      <td>266.35</td>\n",
       "      <td>275.15</td>\n",
       "      <td>268.05</td>\n",
       "      <td>276.75</td>\n",
       "      <td>276.55</td>\n",
       "      <td>280.75</td>\n",
       "      <td>266.75</td>\n",
       "      <td>...</td>\n",
       "      <td>0.0</td>\n",
       "      <td>0.0</td>\n",
       "      <td>0.0</td>\n",
       "      <td>0.0</td>\n",
       "      <td>0.0</td>\n",
       "      <td>0.0</td>\n",
       "      <td>0.0</td>\n",
       "      <td>0.0</td>\n",
       "      <td>0.0</td>\n",
       "      <td>0.0</td>\n",
       "    </tr>\n",
       "  </tbody>\n",
       "</table>\n",
       "<p>5 rows × 60 columns</p>\n",
       "</div>"
      ],
      "text/plain": [
       "                           temp_00183  temp_00701  temp_00856  temp_00953  \\\n",
       "2017-01-01 00:00:00+00:00      277.45      276.95      269.15      266.15   \n",
       "2017-01-01 01:00:00+00:00      277.65      277.05      268.85      265.45   \n",
       "2017-01-01 02:00:00+00:00      277.85      277.15      269.95      266.95   \n",
       "2017-01-01 03:00:00+00:00      277.85      277.25      269.25      266.35   \n",
       "2017-01-01 04:00:00+00:00      277.95      277.25      268.85      266.35   \n",
       "\n",
       "                           temp_00963  temp_01443  temp_01605  temp_01694  \\\n",
       "2017-01-01 00:00:00+00:00      275.95      268.65      276.75      275.95   \n",
       "2017-01-01 01:00:00+00:00      276.15      268.25      276.45      276.15   \n",
       "2017-01-01 02:00:00+00:00      275.65      268.65      275.95      276.25   \n",
       "2017-01-01 03:00:00+00:00      274.55      268.55      276.45      276.35   \n",
       "2017-01-01 04:00:00+00:00      275.15      268.05      276.75      276.55   \n",
       "\n",
       "                           temp_03032  temp_03231  ...  sun_00856  sun_00953  \\\n",
       "2017-01-01 00:00:00+00:00      280.85      268.15  ...        0.0        0.0   \n",
       "2017-01-01 01:00:00+00:00      280.95      267.95  ...        0.0        0.0   \n",
       "2017-01-01 02:00:00+00:00      281.05      267.35  ...        0.0        0.0   \n",
       "2017-01-01 03:00:00+00:00      281.05      266.95  ...        0.0        0.0   \n",
       "2017-01-01 04:00:00+00:00      280.75      266.75  ...        0.0        0.0   \n",
       "\n",
       "                           sun_00963  sun_01443  sun_01605  sun_01694  \\\n",
       "2017-01-01 00:00:00+00:00        0.0        0.0        0.0        0.0   \n",
       "2017-01-01 01:00:00+00:00        0.0        0.0        0.0        0.0   \n",
       "2017-01-01 02:00:00+00:00        0.0        0.0        0.0        0.0   \n",
       "2017-01-01 03:00:00+00:00        0.0        0.0        0.0        0.0   \n",
       "2017-01-01 04:00:00+00:00        0.0        0.0        0.0        0.0   \n",
       "\n",
       "                           sun_03032  sun_03231  sun_04104  sun_04177  \n",
       "2017-01-01 00:00:00+00:00        0.0        0.0        0.0        0.0  \n",
       "2017-01-01 01:00:00+00:00        0.0        0.0        0.0        0.0  \n",
       "2017-01-01 02:00:00+00:00        0.0        0.0        0.0        0.0  \n",
       "2017-01-01 03:00:00+00:00        0.0        0.0        0.0        0.0  \n",
       "2017-01-01 04:00:00+00:00        0.0        0.0        0.0        0.0  \n",
       "\n",
       "[5 rows x 60 columns]"
      ]
     },
     "execution_count": 54,
     "metadata": {},
     "output_type": "execute_result"
    }
   ],
   "source": [
    "# Features that will be extracted from the weather data and their shorter handle\n",
    "wx_params = {\n",
    "    \"temperature_air_mean_200\": \"temp\",\n",
    "    \"wind_speed\": \"wind\",\n",
    "    \"pressure_air_site\": \"press\",\n",
    "    \"precipitation_height\": \"precip\",\n",
    "    \"sunshine_duration\": \"sun\"\n",
    "}\n",
    "\n",
    "# Concatenate all weather parameters into one data frame\n",
    "wx_list = []\n",
    "for name, handle in wx_params.items():\n",
    "    wx_list.append(pd.read_pickle(\"../data/weather/cleaned/\"+name+\".pkl\").add_prefix(handle+\"_\"))\n",
    "\n",
    "wx = pd.concat(wx_list, axis=1, ignore_index=False, verify_integrity=True)\n",
    "wx.head()\n"
   ]
  },
  {
   "cell_type": "markdown",
   "metadata": {},
   "source": [
    "### Split the data\n",
    "- 70% training\n",
    "- 20% validation\n",
    "- 10% test"
   ]
  },
  {
   "cell_type": "code",
   "execution_count": 55,
   "metadata": {},
   "outputs": [
    {
     "data": {
      "text/plain": [
       "68"
      ]
     },
     "execution_count": 55,
     "metadata": {},
     "output_type": "execute_result"
    }
   ],
   "source": [
    "from sklearn.preprocessing import RobustScaler, MinMaxScaler\n",
    "\n",
    "df = pd.concat([el, wx], axis=1, ignore_index=False, verify_integrity=True)\n",
    "\n",
    "n = len(df)\n",
    "df_train = df[0:int(n*0.7)]\n",
    "df_val = df[int(n*0.7):int(n*0.9)]\n",
    "df_test = df[int(n*0.9):]\n",
    "\n",
    "scaler = MinMaxScaler()\n",
    "# fit scaler to training data\n",
    "scaler.fit(df_train)\n",
    "# scale all sets according to train set, preserve data frames\n",
    "df_train = pd.DataFrame(scaler.transform(df_train),\n",
    "                        columns=df.columns, index=df_train.index)\n",
    "df_val = pd.DataFrame(scaler.transform(df_val),\n",
    "                        columns=df.columns, index=df_val.index)\n",
    "df_test = pd.DataFrame(scaler.transform(df_test),\n",
    "                        columns=df.columns, index=df_test.index)\n",
    "\n",
    "len(df_train.columns)"
   ]
  },
  {
   "cell_type": "markdown",
   "metadata": {},
   "source": [
    "### Normalize the data"
   ]
  },
  {
   "cell_type": "markdown",
   "metadata": {},
   "source": [
    "### Data Windowing\n",
    "#### 1. Indexes and offsets\n",
    "\n",
    "- Windows Generator that can create multiple inputs, one for the inputs that are only known in the past (power production) and one for inputs that are also known in the future (time and weather)"
   ]
  },
  {
   "cell_type": "code",
   "execution_count": 56,
   "metadata": {},
   "outputs": [],
   "source": [
    "class WindowGenerator():\n",
    "    def __init__(self, past_width, future_width,\n",
    "                 label_columns, precise_columns=None, forecast_columns=None,\n",
    "                 train_df=df_train, val_df=df_val, test_df=df_test):\n",
    "\n",
    "        # Store the raw data.\n",
    "        self.train_df = train_df\n",
    "        self.val_df = val_df\n",
    "        self.test_df = test_df\n",
    "\n",
    "        # Check if length of provided features match with data frame\n",
    "        num_columns = 0\n",
    "        num_columns += len(label_columns)\n",
    "        if precise_columns is not None:\n",
    "            num_columns += len(precise_columns)\n",
    "        if forecast_columns is not None:\n",
    "            num_columns += len(forecast_columns)\n",
    "        assert num_columns == len(train_df.columns), \\\n",
    "            \"Length of provided label, precise, and forecast features do not match data frame\"\n",
    "\n",
    "        # Work out the column indices\n",
    "        self.columns_indices = {name: i for i, name in\n",
    "                                enumerate(train_df.columns)}\n",
    "        self.label_columns = label_columns\n",
    "        self.label_columns_indices = {name: i for i, name in\n",
    "                                      enumerate(label_columns)}\n",
    "        self.precise_columns = precise_columns\n",
    "        self.forecast_columns = forecast_columns\n",
    "\n",
    "        # Work out the window parameters.\n",
    "        self.past_width = past_width\n",
    "        self.future_width = future_width\n",
    "\n",
    "        self.total_window_size = past_width + future_width\n",
    "\n",
    "        self.input_past_slice = slice(0, past_width)\n",
    "        self.input_past_indices = np.arange(self.total_window_size)[\n",
    "            self.input_past_slice]\n",
    "\n",
    "        self.input_future_slice = slice(self.past_width, -1)\n",
    "        self.input_future_indices = np.arange(self.total_window_size)[\n",
    "            self.input_future_slice]\n",
    "\n",
    "        self.label_slice = slice(self.past_width, None)\n",
    "        self.label_indices = np.arange(self.total_window_size)[\n",
    "            self.label_slice]\n",
    "\n",
    "    def __repr__(self):\n",
    "        return '\\n'.join([\n",
    "            f'Total window size:    {self.total_window_size}',\n",
    "            f'Input past indices:   {self.input_past_indices}',\n",
    "            f'Input future indices: {self.input_future_indices}',\n",
    "            f'Label indices:        {self.label_indices}',\n",
    "            f'Label column name(s): {self.label_columns}'])\n",
    "        # f'Precise column name(s):  {self.precise_columns}',\n",
    "        # f'Forecast column name(s): {self.forecast_columns}'])\n"
   ]
  },
  {
   "cell_type": "markdown",
   "metadata": {},
   "source": [
    "#### 2. Split"
   ]
  },
  {
   "cell_type": "code",
   "execution_count": 57,
   "metadata": {},
   "outputs": [],
   "source": [
    "def split_window(self, features):\n",
    "    # Past: All inputs are known\n",
    "    inputs_past = features[:, self.input_past_slice, :]\n",
    "\n",
    "    # Future: Only precise and forecast inputs are known\n",
    "    if self.precise_columns is None:\n",
    "        self.precise_columns = []\n",
    "    if self.forecast_columns is None:\n",
    "        self.forecast_columns = []\n",
    "    self.input_future_columns = self.precise_columns + self.forecast_columns\n",
    "\n",
    "    inputs_future = tf.stack(\n",
    "        [features[:, self.input_future_slice, self.columns_indices[name]]\n",
    "            for name in self.input_future_columns],\n",
    "        axis=-1)\n",
    "\n",
    "    labels = tf.stack(\n",
    "        [features[:, self.label_slice, self.columns_indices[name]]\n",
    "            for name in self.label_columns],\n",
    "        axis=-1)\n",
    "\n",
    "    # Slicing doesn't preserve static shape information, so set the shapes\n",
    "    # manually. This way the `tf.data.Datasets` are easier to inspect.\n",
    "    inputs_past.set_shape([None, self.past_width, None])\n",
    "    inputs_future.set_shape([None, self.future_width-1, None])\n",
    "    labels.set_shape([None, self.future_width, None])\n",
    "\n",
    "    # Return inputs and labels\n",
    "    # The past and future input tuple will be unpacked in the model.call() method\n",
    "    return (inputs_past, inputs_future), labels\n",
    "\n",
    "\n",
    "WindowGenerator.split_window = split_window\n"
   ]
  },
  {
   "cell_type": "markdown",
   "metadata": {},
   "source": [
    "#### 3. Plot"
   ]
  },
  {
   "cell_type": "code",
   "execution_count": 58,
   "metadata": {},
   "outputs": [],
   "source": [
    "def plot(self, model=None, plot_col=\"prod_solar\", max_subplots=3):\n",
    "    inputs, labels = self.example\n",
    "    (inputs_past, inputs_future) = inputs\n",
    "    plt.figure(figsize=(12, 8))\n",
    "    plot_col_index = self.columns_indices[plot_col]\n",
    "    max_n = min(max_subplots, len(inputs_past))\n",
    "    for n in range(max_n):\n",
    "        plt.subplot(max_n, 1, n+1)\n",
    "\n",
    "        # Plot past inputs\n",
    "        plt.plot(self.input_past_indices, inputs_past[n, :, plot_col_index],\n",
    "                 label='Inputs', marker='.', zorder=3)\n",
    "\n",
    "        label_col_index = self.label_columns_indices.get(plot_col, None)\n",
    "\n",
    "        # Add last point of past array to future arrays to connect lines\n",
    "        label_indices_plot = np.insert(\n",
    "            self.label_indices, 0, self.input_past_indices[-1])\n",
    "        labels_plot = np.insert(\n",
    "            labels[n, :, label_col_index], 0, inputs_past[n, :, plot_col_index][-1])\n",
    "\n",
    "        # Plot labels\n",
    "        plt.plot(label_indices_plot, labels_plot,\n",
    "                 'C2', label='Labels', marker='.', zorder=1)\n",
    "\n",
    "        # Plot prediction\n",
    "        if model is not None:\n",
    "            predictions_plot = (model(inputs))[n, :, label_col_index]\n",
    "            predictions_plot = np.insert(\n",
    "                predictions_plot, 0, inputs_past[n, :, plot_col_index][-1])\n",
    "            plt.plot(label_indices_plot, predictions_plot,\n",
    "                     'C1', label='Predictions', marker='.', zorder=2)\n",
    "\n",
    "        # x Ticks every 6 hours\n",
    "        plt.xticks(np.arange(self.input_past_indices[0], self.label_indices[-1]+2, 6))\n",
    "\n",
    "        plt.ylabel(f'{plot_col} [normed]')\n",
    "        if n == 0:\n",
    "            plt.legend()\n",
    "\n",
    "    plt.xlabel('Time [h]')\n",
    "\n",
    "\n",
    "WindowGenerator.plot = plot\n"
   ]
  },
  {
   "cell_type": "markdown",
   "metadata": {},
   "source": [
    "#### 4. Create `tf.data.Datasets`"
   ]
  },
  {
   "cell_type": "code",
   "execution_count": 59,
   "metadata": {},
   "outputs": [],
   "source": [
    "def make_dataset(self, data, shuffle=True):\n",
    "    data = np.array(data, dtype=np.float32)\n",
    "    ds = tf.keras.utils.timeseries_dataset_from_array(\n",
    "        data=data,\n",
    "        targets=None,\n",
    "        sequence_length=self.total_window_size,\n",
    "        sequence_stride=1,\n",
    "        shuffle=shuffle,\n",
    "        batch_size=32,)\n",
    "\n",
    "    ds = ds.map(self.split_window)\n",
    "\n",
    "    return ds\n",
    "\n",
    "\n",
    "WindowGenerator.make_dataset = make_dataset\n"
   ]
  },
  {
   "cell_type": "code",
   "execution_count": 60,
   "metadata": {},
   "outputs": [],
   "source": [
    "@property\n",
    "def train(self):\n",
    "    self._train = self.make_dataset(self.train_df)\n",
    "    return self._train\n",
    "\n",
    "# @train.setter\n",
    "# def train(self, value):\n",
    "#     self._train = value\n",
    "\n",
    "\n",
    "@property\n",
    "def val(self):\n",
    "    self._val = self.make_dataset(self.val_df)\n",
    "    return self._val\n",
    "\n",
    "# @val.setter\n",
    "# def val(self, value):\n",
    "#     self._val = value\n",
    "\n",
    "\n",
    "@property\n",
    "def test(self):\n",
    "    self._test = self.make_dataset(self.test_df)\n",
    "    return self._test\n",
    "\n",
    "# Setting of test property not allowed\n",
    "\n",
    "\n",
    "@property\n",
    "def example(self):\n",
    "    \"\"\"Get and cache an example batch of `inputs, labels` for plotting.\"\"\"\n",
    "    result = getattr(self, '_example', None)\n",
    "    if result is None:\n",
    "        # No example batch was found, so get one from the `.test` dataset\n",
    "        result = next(iter(self.test))\n",
    "        # And cache it for next time\n",
    "        self._example = result\n",
    "    return result\n",
    "\n",
    "WindowGenerator.train = train\n",
    "WindowGenerator.val = val\n",
    "WindowGenerator.test = test\n",
    "WindowGenerator.example = example\n"
   ]
  },
  {
   "cell_type": "markdown",
   "metadata": {},
   "source": [
    "## Window creation"
   ]
  },
  {
   "cell_type": "code",
   "execution_count": 61,
   "metadata": {},
   "outputs": [
    {
     "data": {
      "text/plain": [
       "Total window size:    36\n",
       "Input past indices:   [ 0  1  2  3  4  5  6  7  8  9 10 11 12 13 14 15 16 17 18 19 20 21 22 23]\n",
       "Input future indices: [24 25 26 27 28 29 30 31 32 33 34]\n",
       "Label indices:        [24 25 26 27 28 29 30 31 32 33 34 35]\n",
       "Label column name(s): ['prod_wind', 'prod_solar']"
      ]
     },
     "execution_count": 61,
     "metadata": {},
     "output_type": "execute_result"
    }
   ],
   "source": [
    "# Choose which features are only known for the past. These features will be predicted.\n",
    "prediction_features = ['prod_wind', 'prod_solar']\n",
    "num_predictions = len(prediction_features)\n",
    "\n",
    "# Choose which features are precisely known to the model at all time steps\n",
    "precise_features = ['day_sin', 'day_cos', 'year_sin',\n",
    "                    'year_cos', 'solar_el', 'solar_el_clip']\n",
    "\n",
    "# Choose which features are only imprecisely known to the model at future time steps\n",
    "# NOISE NOT YET IMPLEMENTED\n",
    "forecast_features = list(wx.columns)\n",
    "\n",
    "PAST_STEPS = 24\n",
    "PREDICTION_STEPS = 12\n",
    "\n",
    "window = WindowGenerator(\n",
    "    past_width=PAST_STEPS, future_width=PREDICTION_STEPS,\n",
    "    label_columns=prediction_features,\n",
    "    precise_columns=precise_features,\n",
    "    forecast_columns=forecast_features\n",
    ")\n",
    "\n",
    "window\n"
   ]
  },
  {
   "cell_type": "markdown",
   "metadata": {},
   "source": [
    "Now, the `WindowGenerator` object gives access to the tf.data.Dataset objects, to easily iterate over the data.\n",
    "\n",
    "The `Dataset.element_spec` property tells the structure, data types, and shapes of the dataset elements."
   ]
  },
  {
   "cell_type": "code",
   "execution_count": 62,
   "metadata": {},
   "outputs": [],
   "source": [
    "# window.train.element_spec"
   ]
  },
  {
   "cell_type": "markdown",
   "metadata": {},
   "source": [
    "Iterating over a `Dataset` yields concrete batches:"
   ]
  },
  {
   "cell_type": "code",
   "execution_count": 63,
   "metadata": {},
   "outputs": [
    {
     "name": "stdout",
     "output_type": "stream",
     "text": [
      "Inputs past shape (batch, time, features): (32, 24, 68)\n",
      "Inputs fut. shape (batch, time, features): (32, 11, 66)\n",
      "Labels shape      (batch, time, features): (32, 12, 2)\n"
     ]
    }
   ],
   "source": [
    "for (example_inputs_past, example_inputs_future), example_labels in window.train.take(1):\n",
    "  print(f'Inputs past shape (batch, time, features): {example_inputs_past.shape}')\n",
    "  print(f'Inputs fut. shape (batch, time, features): {example_inputs_future.shape}')\n",
    "  print(f'Labels shape      (batch, time, features): {example_labels.shape}')"
   ]
  },
  {
   "cell_type": "markdown",
   "metadata": {},
   "source": [
    "Plot an example window:"
   ]
  },
  {
   "cell_type": "code",
   "execution_count": 64,
   "metadata": {},
   "outputs": [
    {
     "data": {
      "image/png": "[encoded data removed]",
      "text/plain": [
       "<Figure size 1800x1200 with 3 Axes>"
      ]
     },
     "metadata": {},
     "output_type": "display_data"
    }
   ],
   "source": [
    "window.plot(plot_col=\"prod_solar\")\n",
    "# multi_window.plot(plot_col=\"prod_wind\")"
   ]
  },
  {
   "cell_type": "markdown",
   "metadata": {},
   "source": [
    "## Autoregressive LSTM\n",
    "The model predicts individual time steps that are fed back into itself, so that the model can produce output with a varying length.\n",
    "This is implemented in the custom model class `AutoRegressiveRNN`."
   ]
  },
  {
   "cell_type": "code",
   "execution_count": 65,
   "metadata": {},
   "outputs": [],
   "source": [
    "class AutoRegressiveRNN(tf.keras.Model):\n",
    "    def __init__(self, units: list, out_steps: int, rnn_type=\"LSTM\"):\n",
    "        super().__init__()\n",
    "        self.out_steps = out_steps\n",
    "        self.units = units\n",
    "        self.type = rnn_type\n",
    "        self.rnn_cells = []\n",
    "        self.rnn_layers = []\n",
    "        match rnn_type:\n",
    "            case \"LSTM\":\n",
    "                for unit in self.units:\n",
    "                    self.rnn_cells.append(tf.keras.layers.LSTMCell(unit))\n",
    "            case \"GRU\":\n",
    "                for unit in self.units:\n",
    "                    self.rnn_cells.append(tf.keras.layers.GRUCell(unit))\n",
    "            case other:\n",
    "                raise AssertionError(\"Unknown type\")\n",
    "        # Wrap the cells in an RNN to simplify the `warmup` method.\n",
    "        for i, rnn_cell in enumerate(self.rnn_cells):\n",
    "            # If last layer: Do not return sequences\n",
    "            if i == len(self.rnn_cells)-1:\n",
    "                self.rnn_layers.append(tf.keras.layers.RNN(\n",
    "                    rnn_cell, return_sequences=False, return_state=True))\n",
    "            else:\n",
    "                self.rnn_layers.append(tf.keras.layers.RNN(\n",
    "                    rnn_cell, return_sequences=True, return_state=True))\n",
    "        self.dense = tf.keras.layers.Dense(num_predictions)\n"
   ]
  },
  {
   "cell_type": "code",
   "execution_count": 66,
   "metadata": {},
   "outputs": [],
   "source": [
    "arlstm_model = AutoRegressiveRNN(units=[32], out_steps=PREDICTION_STEPS, rnn_type=\"LSTM\")"
   ]
  },
  {
   "cell_type": "markdown",
   "metadata": {},
   "source": [
    "#### Model warmup\n",
    "The warmup method initializes the model's internal state based on the full input from the past (power data, time and weather)"
   ]
  },
  {
   "cell_type": "code",
   "execution_count": 67,
   "metadata": {},
   "outputs": [],
   "source": [
    "def warmup(self, x):\n",
    "    # inputs.shape => (batch, time, features)\n",
    "    # x.shape => (batch, lstm_units)\n",
    "    states = []\n",
    "    for rnn_layer in self.rnn_layers:\n",
    "        x, *state = rnn_layer(x)\n",
    "        states.append(state)\n",
    "    # predictions.shape => (batch, features)\n",
    "    prediction = self.dense(x)\n",
    "    return prediction, states\n",
    "\n",
    "\n",
    "AutoRegressiveRNN.warmup = warmup\n"
   ]
  },
  {
   "cell_type": "markdown",
   "metadata": {},
   "source": [
    "#### Model call\n",
    "A custom call is used to feed the model the full input from the past during warmup and then only the time and weather forecast during the prediction phase, where the model takes the prediction from the last time step to substitute the missing input."
   ]
  },
  {
   "cell_type": "code",
   "execution_count": 69,
   "metadata": {},
   "outputs": [],
   "source": [
    "def call(self, inputs, training=None):\n",
    "    # unpack the past and future inputs\n",
    "    inputs_past, inputs_future = inputs\n",
    "    # Use a TensorArray to capture dynamically unrolled outputs.\n",
    "    predictions = []\n",
    "    # Past phase: Initialize the RNN state\n",
    "    prediction, states = self.warmup(inputs_past)\n",
    "    # Insert the first prediction.\n",
    "    predictions.append(prediction)\n",
    "\n",
    "    # Future phase: Run the rest of the prediction steps\n",
    "    for n in range(self.out_steps-1):\n",
    "        # Select the known input at the current time step\n",
    "        input_future = inputs_future[:, n, :]\n",
    "        # Use the last prediction as unknown input and combine it with the known input\n",
    "        # x.shape => (batch, features)\n",
    "        x = tf.concat([prediction, input_future], axis=1)\n",
    "        # Execute one RNN step.\n",
    "        for i, rnn_cell in enumerate(self.rnn_cells):\n",
    "            x, states[i] = rnn_cell(x, states=states[i],\n",
    "                                    training=training)\n",
    "        # Convert the RNN output to a prediction.\n",
    "        prediction = self.dense(x)\n",
    "        # Add the prediction to the output.\n",
    "        predictions.append(prediction)\n",
    "\n",
    "    # predictions.shape => (time, batch, features)\n",
    "    predictions = tf.stack(predictions)\n",
    "    # predictions.shape => (batch, time, features)\n",
    "    predictions = tf.transpose(predictions, [1, 0, 2])\n",
    "    return predictions\n",
    "\n",
    "\n",
    "AutoRegressiveRNN.call = call\n"
   ]
  },
  {
   "cell_type": "markdown",
   "metadata": {},
   "source": [
    "#### Training procedure"
   ]
  },
  {
   "cell_type": "code",
   "execution_count": 89,
   "metadata": {},
   "outputs": [],
   "source": [
    "from tensorflow_addons.metrics.r_square import RSquare\n",
    "import os\n",
    "\n",
    "\n",
    "def check_for_weights(model, checkpoint_dir):\n",
    "    # Restore latest model weights, if available\n",
    "    checkpoints = [checkpoint_dir + \"/\" +\n",
    "                   name for name in os.listdir(checkpoint_dir)]\n",
    "    if checkpoints:\n",
    "        latest_checkpoint = max(checkpoints, key=os.path.getctime)\n",
    "        print(\"Restoring weights from\", latest_checkpoint)\n",
    "        model.load_weights(latest_checkpoint)\n",
    "        return\n",
    "    print(\"No saved weights found\")\n",
    "    return\n",
    "\n",
    "\n",
    "def compile_and_fit(model, window, learning_rate, epochs=25, save=False, stop_early=True, model_name=None, patience=10, verbose='auto'):\n",
    "    callbacks = []\n",
    "    if save:\n",
    "        assert model_name is not None, \"No model name provided\"\n",
    "        # Prepare directory to save model\n",
    "        checkpoint_dir = '../models/'+model_name\n",
    "        if not os.path.exists(checkpoint_dir):\n",
    "            os.makedirs(checkpoint_dir)\n",
    "        # Load weights\n",
    "        check_for_weights(model, checkpoint_dir)\n",
    "        model_checkpoint = tf.keras.callbacks.ModelCheckpoint(\n",
    "            filepath=checkpoint_dir + '/' + model_name + '_weights.h5',\n",
    "            save_weights_only=True,\n",
    "            monitor='val_loss',\n",
    "            mode='min',\n",
    "            save_best_only=True)\n",
    "        callbacks.append(model_checkpoint)\n",
    "\n",
    "    if stop_early:\n",
    "        early_stopping = tf.keras.callbacks.EarlyStopping(monitor='val_loss',\n",
    "                                                          patience=patience,\n",
    "                                                          mode='min',\n",
    "                                                          verbose=1,\n",
    "                                                          restore_best_weights=True)\n",
    "        callbacks.append(early_stopping)\n",
    "\n",
    "    model.compile(loss='mse', optimizer=tf.keras.optimizers.Adam(\n",
    "        learning_rate=learning_rate), metrics=['mae', tf.keras.metrics.RootMeanSquaredError(name='rmse'), RSquare()])\n",
    "\n",
    "    history = model.fit(window.train, epochs=epochs,\n",
    "                        validation_data=window.val,\n",
    "                        callbacks=callbacks,\n",
    "                        verbose=verbose)\n",
    "    return history\n",
    "\n",
    "\n",
    "val_performance = {}\n",
    "test_performance = {}\n",
    "history = {}\n"
   ]
  },
  {
   "cell_type": "code",
   "execution_count": 90,
   "metadata": {},
   "outputs": [],
   "source": [
    "def model_loss(history):\n",
    "    plt.figure(figsize=(8, 4))\n",
    "    plt.plot(history.history['loss'], label='Training loss (MSE)')\n",
    "    plt.plot(history.history['val_loss'], label='Validation loss (MSE)')\n",
    "    # plt.plot(history.history['val_mae'], label='Validation MAE')\n",
    "    plt.xlabel('epochs')\n",
    "    plt.legend(loc='upper right')\n"
   ]
  },
  {
   "cell_type": "code",
   "execution_count": 91,
   "metadata": {},
   "outputs": [],
   "source": [
    "def model_loss(history):\n",
    "    plt.figure(figsize=(8, 4))\n",
    "    plt.plot(history.history['loss'], label='Training loss (MSE)')\n",
    "    plt.plot(history.history['val_loss'], label='Validation loss (MSE)')\n",
    "    # plt.plot(history.history['val_mae'], label='Validation MAE')\n",
    "    plt.xlabel('epochs')\n",
    "    plt.legend(loc='upper right')\n"
   ]
  },
  {
   "cell_type": "code",
   "execution_count": 76,
   "metadata": {},
   "outputs": [],
   "source": [
    "# model_loss(history['ARLSTM 32'])"
   ]
  },
  {
   "cell_type": "markdown",
   "metadata": {},
   "source": [
    "## Hyperparameter optimization with optuna"
   ]
  },
  {
   "cell_type": "code",
   "execution_count": 96,
   "metadata": {},
   "outputs": [],
   "source": [
    "import optuna as optuna\n",
    "def objective(trial):\n",
    "\n",
    "    params = {\n",
    "            'past_steps': trial.suggest_int(\"past_steps\",4,128),\n",
    "              'learning_rate': trial.suggest_float('learning_rate', 1e-5, 1e-1),\n",
    "              # number of layers\n",
    "              'n_layers': trial.suggest_int(\"n_layers\", 1, 5)\n",
    "              #'optimizer': trial.suggest_categorical(\"optimizer\", [\"Adam\", \"RMSprop\", \"SGD\"]),\n",
    "              }\n",
    "    \n",
    "    # vary number of past_steps\n",
    "    window = WindowGenerator(\n",
    "        past_width=params['past_steps'], future_width=PREDICTION_STEPS,\n",
    "        label_columns=prediction_features,\n",
    "        precise_columns=precise_features,\n",
    "        forecast_columns=forecast_features\n",
    "    )\n",
    "\n",
    "    # enable sampling of layers and units in each layer\n",
    "    units_list=[None] * params['n_layers']\n",
    "\n",
    "    for i in range(params['n_layers']):\n",
    "        # Suggest the number of units in each layer\n",
    "        n_units = trial.suggest_int(\"n_units_l{}\".format(i), 4, 64)\n",
    "        units_list[i-1]=n_units\n",
    "        \n",
    "        \n",
    "    # build model with giiven parametres\n",
    "    arlstm_model = AutoRegressiveRNN(units=units_list, out_steps=PREDICTION_STEPS, rnn_type=\"LSTM\")\n",
    "    history[model_name] = compile_and_fit(arlstm_model, window, verbose=2)\n",
    "    \n",
    "    # get test performance as study criterion\n",
    "    test_performance = arlstm_model.evaluate(window.test, verbose=1)\n",
    "    \n",
    "            \n",
    "    # return the test_performance loss which is the first element\n",
    "    return test_performance[0]"
   ]
  },
  {
   "cell_type": "code",
   "execution_count": 87,
   "metadata": {},
   "outputs": [
    {
     "name": "stderr",
     "output_type": "stream",
     "text": [
      "\u001b[32m[I 2022-10-12 23:11:34,629]\u001b[0m A new study created in memory with name: no-name-a9c304c7-e30e-4633-ba74-6170d858a802\u001b[0m\n",
      "C:\\Users\\Dilara\\AppData\\Local\\Temp\\ipykernel_22664\\553482182.py:6: FutureWarning: suggest_loguniform has been deprecated in v3.0.0. This feature will be removed in v6.0.0. See https://github.com/optuna/optuna/releases/tag/v3.0.0. Use :func:`~optuna.trial.Trial.suggest_float` instead.\n",
      "  'learning_rate': trial.suggest_loguniform('learning_rate', 1e-5, 1e-1),\n"
     ]
    },
    {
     "name": "stdout",
     "output_type": "stream",
     "text": [
      "Epoch 1/25\n",
      "959/959 - 18s - loss: 0.0078 - mae: 0.0623 - rmse: 0.0886 - r_square: 0.8292 - val_loss: 0.0055 - val_mae: 0.0554 - val_rmse: 0.0744 - val_r_square: 0.8839 - 18s/epoch - 19ms/step\n",
      "Epoch 2/25\n",
      "959/959 - 14s - loss: 0.0030 - mae: 0.0395 - rmse: 0.0550 - r_square: 0.9340 - val_loss: 0.0036 - val_mae: 0.0427 - val_rmse: 0.0597 - val_r_square: 0.9271 - 14s/epoch - 14ms/step\n",
      "Epoch 3/25\n",
      "959/959 - 14s - loss: 0.0025 - mae: 0.0352 - rmse: 0.0496 - r_square: 0.9463 - val_loss: 0.0037 - val_mae: 0.0416 - val_rmse: 0.0605 - val_r_square: 0.9248 - 14s/epoch - 14ms/step\n",
      "Epoch 4/25\n",
      "959/959 - 13s - loss: 0.0021 - mae: 0.0326 - rmse: 0.0462 - r_square: 0.9533 - val_loss: 0.0033 - val_mae: 0.0408 - val_rmse: 0.0573 - val_r_square: 0.9318 - 13s/epoch - 14ms/step\n",
      "Epoch 5/25\n",
      "959/959 - 13s - loss: 0.0020 - mae: 0.0312 - rmse: 0.0446 - r_square: 0.9566 - val_loss: 0.0061 - val_mae: 0.0537 - val_rmse: 0.0784 - val_r_square: 0.8715 - 13s/epoch - 14ms/step\n",
      "Epoch 6/25\n",
      "959/959 - 14s - loss: 0.0019 - mae: 0.0301 - rmse: 0.0431 - r_square: 0.9594 - val_loss: 0.0029 - val_mae: 0.0374 - val_rmse: 0.0539 - val_r_square: 0.9402 - 14s/epoch - 14ms/step\n",
      "Epoch 7/25\n",
      "959/959 - 14s - loss: 0.0017 - mae: 0.0291 - rmse: 0.0417 - r_square: 0.9620 - val_loss: 0.0032 - val_mae: 0.0400 - val_rmse: 0.0569 - val_r_square: 0.9335 - 14s/epoch - 14ms/step\n",
      "Epoch 8/25\n",
      "959/959 - 14s - loss: 0.0017 - mae: 0.0284 - rmse: 0.0408 - r_square: 0.9636 - val_loss: 0.0034 - val_mae: 0.0406 - val_rmse: 0.0584 - val_r_square: 0.9305 - 14s/epoch - 14ms/step\n",
      "Epoch 9/25\n",
      "959/959 - 13s - loss: 0.0016 - mae: 0.0275 - rmse: 0.0395 - r_square: 0.9659 - val_loss: 0.0038 - val_mae: 0.0417 - val_rmse: 0.0618 - val_r_square: 0.9216 - 13s/epoch - 14ms/step\n",
      "Epoch 10/25\n",
      "959/959 - 13s - loss: 0.0015 - mae: 0.0268 - rmse: 0.0386 - r_square: 0.9674 - val_loss: 0.0029 - val_mae: 0.0363 - val_rmse: 0.0536 - val_r_square: 0.9413 - 13s/epoch - 14ms/step\n",
      "Epoch 11/25\n",
      "959/959 - 13s - loss: 0.0014 - mae: 0.0261 - rmse: 0.0376 - r_square: 0.9691 - val_loss: 0.0030 - val_mae: 0.0376 - val_rmse: 0.0546 - val_r_square: 0.9397 - 13s/epoch - 14ms/step\n",
      "Epoch 12/25\n",
      "959/959 - 13s - loss: 0.0014 - mae: 0.0257 - rmse: 0.0370 - r_square: 0.9700 - val_loss: 0.0027 - val_mae: 0.0358 - val_rmse: 0.0523 - val_r_square: 0.9436 - 13s/epoch - 14ms/step\n",
      "Epoch 13/25\n",
      "959/959 - 13s - loss: 0.0013 - mae: 0.0250 - rmse: 0.0361 - r_square: 0.9715 - val_loss: 0.0025 - val_mae: 0.0335 - val_rmse: 0.0495 - val_r_square: 0.9495 - 13s/epoch - 14ms/step\n",
      "Epoch 14/25\n",
      "959/959 - 13s - loss: 0.0012 - mae: 0.0244 - rmse: 0.0352 - r_square: 0.9730 - val_loss: 0.0027 - val_mae: 0.0354 - val_rmse: 0.0522 - val_r_square: 0.9448 - 13s/epoch - 14ms/step\n",
      "Epoch 15/25\n",
      "959/959 - 13s - loss: 0.0012 - mae: 0.0238 - rmse: 0.0344 - r_square: 0.9742 - val_loss: 0.0028 - val_mae: 0.0353 - val_rmse: 0.0528 - val_r_square: 0.9435 - 13s/epoch - 14ms/step\n",
      "Epoch 16/25\n",
      "959/959 - 13s - loss: 0.0011 - mae: 0.0231 - rmse: 0.0333 - r_square: 0.9757 - val_loss: 0.0042 - val_mae: 0.0429 - val_rmse: 0.0648 - val_r_square: 0.9130 - 13s/epoch - 14ms/step\n",
      "Epoch 17/25\n",
      "959/959 - 13s - loss: 0.0011 - mae: 0.0229 - rmse: 0.0330 - r_square: 0.9762 - val_loss: 0.0029 - val_mae: 0.0359 - val_rmse: 0.0537 - val_r_square: 0.9419 - 13s/epoch - 14ms/step\n",
      "Epoch 18/25\n",
      "959/959 - 14s - loss: 0.0010 - mae: 0.0222 - rmse: 0.0320 - r_square: 0.9776 - val_loss: 0.0037 - val_mae: 0.0398 - val_rmse: 0.0607 - val_r_square: 0.9238 - 14s/epoch - 15ms/step\n",
      "Epoch 19/25\n",
      "959/959 - 13s - loss: 9.7539e-04 - mae: 0.0217 - rmse: 0.0312 - r_square: 0.9787 - val_loss: 0.0029 - val_mae: 0.0364 - val_rmse: 0.0541 - val_r_square: 0.9396 - 13s/epoch - 14ms/step\n",
      "Epoch 20/25\n",
      "959/959 - 14s - loss: 9.3890e-04 - mae: 0.0213 - rmse: 0.0306 - r_square: 0.9795 - val_loss: 0.0028 - val_mae: 0.0349 - val_rmse: 0.0531 - val_r_square: 0.9428 - 14s/epoch - 14ms/step\n",
      "Epoch 21/25\n",
      "959/959 - 13s - loss: 9.0947e-04 - mae: 0.0210 - rmse: 0.0302 - r_square: 0.9801 - val_loss: 0.0032 - val_mae: 0.0372 - val_rmse: 0.0562 - val_r_square: 0.9361 - 13s/epoch - 14ms/step\n",
      "Epoch 22/25\n",
      "959/959 - 13s - loss: 8.6599e-04 - mae: 0.0204 - rmse: 0.0294 - r_square: 0.9811 - val_loss: 0.0027 - val_mae: 0.0342 - val_rmse: 0.0517 - val_r_square: 0.9450 - 13s/epoch - 14ms/step\n",
      "Epoch 23/25\n",
      "Restoring model weights from the end of the best epoch: 13.\n",
      "959/959 - 13s - loss: 8.4120e-04 - mae: 0.0202 - rmse: 0.0290 - r_square: 0.9816 - val_loss: 0.0028 - val_mae: 0.0347 - val_rmse: 0.0531 - val_r_square: 0.9419 - 13s/epoch - 14ms/step\n",
      "Epoch 23: early stopping\n",
      "137/137 [==============================] - 1s 4ms/step - loss: 0.0028 - mae: 0.0350 - rmse: 0.0531 - r_square: 0.9368\n"
     ]
    },
    {
     "name": "stderr",
     "output_type": "stream",
     "text": [
      "\u001b[32m[I 2022-10-12 23:16:51,747]\u001b[0m Trial 0 finished with value: 0.0028203760739415884 and parameters: {'past_steps': 7, 'learning_rate': 0.001137005492041753, 'n_layers': 2, 'n_units_l0': 4, 'n_units_l1': 83}. Best is trial 0 with value: 0.0028203760739415884.\u001b[0m\n"
     ]
    },
    {
     "name": "stdout",
     "output_type": "stream",
     "text": [
      "Epoch 1/25\n",
      "957/957 - 151s - loss: 0.0074 - mae: 0.0594 - rmse: 0.0858 - r_square: 0.8397 - val_loss: 0.0043 - val_mae: 0.0466 - val_rmse: 0.0656 - val_r_square: 0.9118 - 151s/epoch - 158ms/step\n",
      "Epoch 2/25\n",
      "957/957 - 138s - loss: 0.0027 - mae: 0.0365 - rmse: 0.0522 - r_square: 0.9405 - val_loss: 0.0046 - val_mae: 0.0450 - val_rmse: 0.0679 - val_r_square: 0.9051 - 138s/epoch - 144ms/step\n",
      "Epoch 3/25\n",
      "957/957 - 136s - loss: 0.0021 - mae: 0.0314 - rmse: 0.0453 - r_square: 0.9552 - val_loss: 0.0031 - val_mae: 0.0377 - val_rmse: 0.0558 - val_r_square: 0.9364 - 136s/epoch - 142ms/step\n",
      "Epoch 4/25\n"
     ]
    },
    {
     "name": "stderr",
     "output_type": "stream",
     "text": [
      "\u001b[33m[W 2022-10-12 23:24:30,829]\u001b[0m Trial 1 failed because of the following error: KeyboardInterrupt()\u001b[0m\n",
      "Traceback (most recent call last):\n",
      "  File \"c:\\Users\\Dilara\\AppData\\Local\\Programs\\Python\\Python310\\lib\\site-packages\\optuna\\study\\_optimize.py\", line 196, in _run_trial\n",
      "    value_or_values = func(trial)\n",
      "  File \"C:\\Users\\Dilara\\AppData\\Local\\Temp\\ipykernel_22664\\553482182.py\", line 29, in objective\n",
      "    history[model_name] = compile_and_fit(arlstm_model, window, verbose=2)\n",
      "  File \"C:\\Users\\Dilara\\AppData\\Local\\Temp\\ipykernel_22664\\1749550557.py\", line 47, in compile_and_fit\n",
      "    history = model.fit(window.train, epochs=epochs,\n",
      "  File \"c:\\Users\\Dilara\\AppData\\Local\\Programs\\Python\\Python310\\lib\\site-packages\\keras\\utils\\traceback_utils.py\", line 64, in error_handler\n",
      "    return fn(*args, **kwargs)\n",
      "  File \"c:\\Users\\Dilara\\AppData\\Local\\Programs\\Python\\Python310\\lib\\site-packages\\keras\\engine\\training.py\", line 1409, in fit\n",
      "    tmp_logs = self.train_function(iterator)\n",
      "  File \"c:\\Users\\Dilara\\AppData\\Local\\Programs\\Python\\Python310\\lib\\site-packages\\tensorflow\\python\\util\\traceback_utils.py\", line 150, in error_handler\n",
      "    return fn(*args, **kwargs)\n",
      "  File \"c:\\Users\\Dilara\\AppData\\Local\\Programs\\Python\\Python310\\lib\\site-packages\\tensorflow\\python\\eager\\def_function.py\", line 915, in __call__\n",
      "    result = self._call(*args, **kwds)\n",
      "  File \"c:\\Users\\Dilara\\AppData\\Local\\Programs\\Python\\Python310\\lib\\site-packages\\tensorflow\\python\\eager\\def_function.py\", line 947, in _call\n",
      "    return self._stateless_fn(*args, **kwds)  # pylint: disable=not-callable\n",
      "  File \"c:\\Users\\Dilara\\AppData\\Local\\Programs\\Python\\Python310\\lib\\site-packages\\tensorflow\\python\\eager\\function.py\", line 2453, in __call__\n",
      "    return graph_function._call_flat(\n",
      "  File \"c:\\Users\\Dilara\\AppData\\Local\\Programs\\Python\\Python310\\lib\\site-packages\\tensorflow\\python\\eager\\function.py\", line 1860, in _call_flat\n",
      "    return self._build_call_outputs(self._inference_function.call(\n",
      "  File \"c:\\Users\\Dilara\\AppData\\Local\\Programs\\Python\\Python310\\lib\\site-packages\\tensorflow\\python\\eager\\function.py\", line 497, in call\n",
      "    outputs = execute.execute(\n",
      "  File \"c:\\Users\\Dilara\\AppData\\Local\\Programs\\Python\\Python310\\lib\\site-packages\\tensorflow\\python\\eager\\execute.py\", line 54, in quick_execute\n",
      "    tensors = pywrap_tfe.TFE_Py_Execute(ctx._handle, device_name, op_name,\n",
      "KeyboardInterrupt\n"
     ]
    },
    {
     "ename": "KeyboardInterrupt",
     "evalue": "",
     "output_type": "error",
     "traceback": [
      "\u001b[1;31m---------------------------------------------------------------------------\u001b[0m",
      "\u001b[1;31mKeyboardInterrupt\u001b[0m                         Traceback (most recent call last)",
      "\u001b[1;32mc:\\Users\\Dilara\\Electricity-Prediction\\src\\optimize_autoregressive_RNN.ipynb Zelle 43\u001b[0m in \u001b[0;36m<cell line: 2>\u001b[1;34m()\u001b[0m\n\u001b[0;32m      <a href='vscode-notebook-cell:/c%3A/Users/Dilara/Electricity-Prediction/src/optimize_autoregressive_RNN.ipynb#X64sZmlsZQ%3D%3D?line=0'>1</a>\u001b[0m study \u001b[39m=\u001b[39m optuna\u001b[39m.\u001b[39mcreate_study(direction\u001b[39m=\u001b[39m\u001b[39m\"\u001b[39m\u001b[39mminimize\u001b[39m\u001b[39m\"\u001b[39m, sampler\u001b[39m=\u001b[39moptuna\u001b[39m.\u001b[39msamplers\u001b[39m.\u001b[39mTPESampler())\n\u001b[1;32m----> <a href='vscode-notebook-cell:/c%3A/Users/Dilara/Electricity-Prediction/src/optimize_autoregressive_RNN.ipynb#X64sZmlsZQ%3D%3D?line=1'>2</a>\u001b[0m study\u001b[39m.\u001b[39;49moptimize(objective, n_trials\u001b[39m=\u001b[39;49m\u001b[39m30\u001b[39;49m)\n",
      "File \u001b[1;32mc:\\Users\\Dilara\\AppData\\Local\\Programs\\Python\\Python310\\lib\\site-packages\\optuna\\study\\study.py:419\u001b[0m, in \u001b[0;36mStudy.optimize\u001b[1;34m(self, func, n_trials, timeout, n_jobs, catch, callbacks, gc_after_trial, show_progress_bar)\u001b[0m\n\u001b[0;32m    315\u001b[0m \u001b[39mdef\u001b[39;00m \u001b[39moptimize\u001b[39m(\n\u001b[0;32m    316\u001b[0m     \u001b[39mself\u001b[39m,\n\u001b[0;32m    317\u001b[0m     func: ObjectiveFuncType,\n\u001b[1;32m   (...)\u001b[0m\n\u001b[0;32m    324\u001b[0m     show_progress_bar: \u001b[39mbool\u001b[39m \u001b[39m=\u001b[39m \u001b[39mFalse\u001b[39;00m,\n\u001b[0;32m    325\u001b[0m ) \u001b[39m-\u001b[39m\u001b[39m>\u001b[39m \u001b[39mNone\u001b[39;00m:\n\u001b[0;32m    326\u001b[0m     \u001b[39m\"\"\"Optimize an objective function.\u001b[39;00m\n\u001b[0;32m    327\u001b[0m \n\u001b[0;32m    328\u001b[0m \u001b[39m    Optimization is done by choosing a suitable set of hyperparameter values from a given\u001b[39;00m\n\u001b[1;32m   (...)\u001b[0m\n\u001b[0;32m    416\u001b[0m \u001b[39m            If nested invocation of this method occurs.\u001b[39;00m\n\u001b[0;32m    417\u001b[0m \u001b[39m    \"\"\"\u001b[39;00m\n\u001b[1;32m--> 419\u001b[0m     _optimize(\n\u001b[0;32m    420\u001b[0m         study\u001b[39m=\u001b[39;49m\u001b[39mself\u001b[39;49m,\n\u001b[0;32m    421\u001b[0m         func\u001b[39m=\u001b[39;49mfunc,\n\u001b[0;32m    422\u001b[0m         n_trials\u001b[39m=\u001b[39;49mn_trials,\n\u001b[0;32m    423\u001b[0m         timeout\u001b[39m=\u001b[39;49mtimeout,\n\u001b[0;32m    424\u001b[0m         n_jobs\u001b[39m=\u001b[39;49mn_jobs,\n\u001b[0;32m    425\u001b[0m         catch\u001b[39m=\u001b[39;49mcatch,\n\u001b[0;32m    426\u001b[0m         callbacks\u001b[39m=\u001b[39;49mcallbacks,\n\u001b[0;32m    427\u001b[0m         gc_after_trial\u001b[39m=\u001b[39;49mgc_after_trial,\n\u001b[0;32m    428\u001b[0m         show_progress_bar\u001b[39m=\u001b[39;49mshow_progress_bar,\n\u001b[0;32m    429\u001b[0m     )\n",
      "File \u001b[1;32mc:\\Users\\Dilara\\AppData\\Local\\Programs\\Python\\Python310\\lib\\site-packages\\optuna\\study\\_optimize.py:66\u001b[0m, in \u001b[0;36m_optimize\u001b[1;34m(study, func, n_trials, timeout, n_jobs, catch, callbacks, gc_after_trial, show_progress_bar)\u001b[0m\n\u001b[0;32m     64\u001b[0m \u001b[39mtry\u001b[39;00m:\n\u001b[0;32m     65\u001b[0m     \u001b[39mif\u001b[39;00m n_jobs \u001b[39m==\u001b[39m \u001b[39m1\u001b[39m:\n\u001b[1;32m---> 66\u001b[0m         _optimize_sequential(\n\u001b[0;32m     67\u001b[0m             study,\n\u001b[0;32m     68\u001b[0m             func,\n\u001b[0;32m     69\u001b[0m             n_trials,\n\u001b[0;32m     70\u001b[0m             timeout,\n\u001b[0;32m     71\u001b[0m             catch,\n\u001b[0;32m     72\u001b[0m             callbacks,\n\u001b[0;32m     73\u001b[0m             gc_after_trial,\n\u001b[0;32m     74\u001b[0m             reseed_sampler_rng\u001b[39m=\u001b[39;49m\u001b[39mFalse\u001b[39;49;00m,\n\u001b[0;32m     75\u001b[0m             time_start\u001b[39m=\u001b[39;49m\u001b[39mNone\u001b[39;49;00m,\n\u001b[0;32m     76\u001b[0m             progress_bar\u001b[39m=\u001b[39;49mprogress_bar,\n\u001b[0;32m     77\u001b[0m         )\n\u001b[0;32m     78\u001b[0m     \u001b[39melse\u001b[39;00m:\n\u001b[0;32m     79\u001b[0m         \u001b[39mif\u001b[39;00m n_jobs \u001b[39m==\u001b[39m \u001b[39m-\u001b[39m\u001b[39m1\u001b[39m:\n",
      "File \u001b[1;32mc:\\Users\\Dilara\\AppData\\Local\\Programs\\Python\\Python310\\lib\\site-packages\\optuna\\study\\_optimize.py:160\u001b[0m, in \u001b[0;36m_optimize_sequential\u001b[1;34m(study, func, n_trials, timeout, catch, callbacks, gc_after_trial, reseed_sampler_rng, time_start, progress_bar)\u001b[0m\n\u001b[0;32m    157\u001b[0m         \u001b[39mbreak\u001b[39;00m\n\u001b[0;32m    159\u001b[0m \u001b[39mtry\u001b[39;00m:\n\u001b[1;32m--> 160\u001b[0m     frozen_trial \u001b[39m=\u001b[39m _run_trial(study, func, catch)\n\u001b[0;32m    161\u001b[0m \u001b[39mfinally\u001b[39;00m:\n\u001b[0;32m    162\u001b[0m     \u001b[39m# The following line mitigates memory problems that can be occurred in some\u001b[39;00m\n\u001b[0;32m    163\u001b[0m     \u001b[39m# environments (e.g., services that use computing containers such as CircleCI).\u001b[39;00m\n\u001b[0;32m    164\u001b[0m     \u001b[39m# Please refer to the following PR for further details:\u001b[39;00m\n\u001b[0;32m    165\u001b[0m     \u001b[39m# https://github.com/optuna/optuna/pull/325.\u001b[39;00m\n\u001b[0;32m    166\u001b[0m     \u001b[39mif\u001b[39;00m gc_after_trial:\n",
      "File \u001b[1;32mc:\\Users\\Dilara\\AppData\\Local\\Programs\\Python\\Python310\\lib\\site-packages\\optuna\\study\\_optimize.py:234\u001b[0m, in \u001b[0;36m_run_trial\u001b[1;34m(study, func, catch)\u001b[0m\n\u001b[0;32m    227\u001b[0m         \u001b[39massert\u001b[39;00m \u001b[39mFalse\u001b[39;00m, \u001b[39m\"\u001b[39m\u001b[39mShould not reach.\u001b[39m\u001b[39m\"\u001b[39m\n\u001b[0;32m    229\u001b[0m \u001b[39mif\u001b[39;00m (\n\u001b[0;32m    230\u001b[0m     frozen_trial\u001b[39m.\u001b[39mstate \u001b[39m==\u001b[39m TrialState\u001b[39m.\u001b[39mFAIL\n\u001b[0;32m    231\u001b[0m     \u001b[39mand\u001b[39;00m func_err \u001b[39mis\u001b[39;00m \u001b[39mnot\u001b[39;00m \u001b[39mNone\u001b[39;00m\n\u001b[0;32m    232\u001b[0m     \u001b[39mand\u001b[39;00m \u001b[39mnot\u001b[39;00m \u001b[39misinstance\u001b[39m(func_err, catch)\n\u001b[0;32m    233\u001b[0m ):\n\u001b[1;32m--> 234\u001b[0m     \u001b[39mraise\u001b[39;00m func_err\n\u001b[0;32m    235\u001b[0m \u001b[39mreturn\u001b[39;00m frozen_trial\n",
      "File \u001b[1;32mc:\\Users\\Dilara\\AppData\\Local\\Programs\\Python\\Python310\\lib\\site-packages\\optuna\\study\\_optimize.py:196\u001b[0m, in \u001b[0;36m_run_trial\u001b[1;34m(study, func, catch)\u001b[0m\n\u001b[0;32m    194\u001b[0m \u001b[39mwith\u001b[39;00m get_heartbeat_thread(trial\u001b[39m.\u001b[39m_trial_id, study\u001b[39m.\u001b[39m_storage):\n\u001b[0;32m    195\u001b[0m     \u001b[39mtry\u001b[39;00m:\n\u001b[1;32m--> 196\u001b[0m         value_or_values \u001b[39m=\u001b[39m func(trial)\n\u001b[0;32m    197\u001b[0m     \u001b[39mexcept\u001b[39;00m exceptions\u001b[39m.\u001b[39mTrialPruned \u001b[39mas\u001b[39;00m e:\n\u001b[0;32m    198\u001b[0m         \u001b[39m# TODO(mamu): Handle multi-objective cases.\u001b[39;00m\n\u001b[0;32m    199\u001b[0m         state \u001b[39m=\u001b[39m TrialState\u001b[39m.\u001b[39mPRUNED\n",
      "\u001b[1;32mc:\\Users\\Dilara\\Electricity-Prediction\\src\\optimize_autoregressive_RNN.ipynb Zelle 43\u001b[0m in \u001b[0;36mobjective\u001b[1;34m(trial)\u001b[0m\n\u001b[0;32m     <a href='vscode-notebook-cell:/c%3A/Users/Dilara/Electricity-Prediction/src/optimize_autoregressive_RNN.ipynb#X64sZmlsZQ%3D%3D?line=23'>24</a>\u001b[0m     units_list[i\u001b[39m-\u001b[39m\u001b[39m1\u001b[39m]\u001b[39m=\u001b[39mn_units\n\u001b[0;32m     <a href='vscode-notebook-cell:/c%3A/Users/Dilara/Electricity-Prediction/src/optimize_autoregressive_RNN.ipynb#X64sZmlsZQ%3D%3D?line=27'>28</a>\u001b[0m arlstm_model \u001b[39m=\u001b[39m AutoRegressiveRNN(units\u001b[39m=\u001b[39munits_list, out_steps\u001b[39m=\u001b[39mPREDICTION_STEPS, rnn_type\u001b[39m=\u001b[39m\u001b[39m\"\u001b[39m\u001b[39mLSTM\u001b[39m\u001b[39m\"\u001b[39m)\n\u001b[1;32m---> <a href='vscode-notebook-cell:/c%3A/Users/Dilara/Electricity-Prediction/src/optimize_autoregressive_RNN.ipynb#X64sZmlsZQ%3D%3D?line=28'>29</a>\u001b[0m history[model_name] \u001b[39m=\u001b[39m compile_and_fit(arlstm_model, window, verbose\u001b[39m=\u001b[39;49m\u001b[39m2\u001b[39;49m)\n\u001b[0;32m     <a href='vscode-notebook-cell:/c%3A/Users/Dilara/Electricity-Prediction/src/optimize_autoregressive_RNN.ipynb#X64sZmlsZQ%3D%3D?line=30'>31</a>\u001b[0m test_performance \u001b[39m=\u001b[39m arlstm_model\u001b[39m.\u001b[39mevaluate(window\u001b[39m.\u001b[39mtest, verbose\u001b[39m=\u001b[39m\u001b[39m1\u001b[39m)\n\u001b[0;32m     <a href='vscode-notebook-cell:/c%3A/Users/Dilara/Electricity-Prediction/src/optimize_autoregressive_RNN.ipynb#X64sZmlsZQ%3D%3D?line=33'>34</a>\u001b[0m \u001b[39m# return the test_performance loss which is the first element\u001b[39;00m\n",
      "\u001b[1;32mc:\\Users\\Dilara\\Electricity-Prediction\\src\\optimize_autoregressive_RNN.ipynb Zelle 43\u001b[0m in \u001b[0;36mcompile_and_fit\u001b[1;34m(model, window, epochs, save, stop_early, model_name, patience, verbose)\u001b[0m\n\u001b[0;32m     <a href='vscode-notebook-cell:/c%3A/Users/Dilara/Electricity-Prediction/src/optimize_autoregressive_RNN.ipynb#X64sZmlsZQ%3D%3D?line=41'>42</a>\u001b[0m     callbacks\u001b[39m.\u001b[39mappend(early_stopping)\n\u001b[0;32m     <a href='vscode-notebook-cell:/c%3A/Users/Dilara/Electricity-Prediction/src/optimize_autoregressive_RNN.ipynb#X64sZmlsZQ%3D%3D?line=43'>44</a>\u001b[0m model\u001b[39m.\u001b[39mcompile(loss\u001b[39m=\u001b[39m\u001b[39m'\u001b[39m\u001b[39mmse\u001b[39m\u001b[39m'\u001b[39m, optimizer\u001b[39m=\u001b[39mtf\u001b[39m.\u001b[39mkeras\u001b[39m.\u001b[39moptimizers\u001b[39m.\u001b[39mAdam(\n\u001b[0;32m     <a href='vscode-notebook-cell:/c%3A/Users/Dilara/Electricity-Prediction/src/optimize_autoregressive_RNN.ipynb#X64sZmlsZQ%3D%3D?line=44'>45</a>\u001b[0m     learning_rate\u001b[39m=\u001b[39m\u001b[39m5e-4\u001b[39m), metrics\u001b[39m=\u001b[39m[\u001b[39m'\u001b[39m\u001b[39mmae\u001b[39m\u001b[39m'\u001b[39m, tf\u001b[39m.\u001b[39mkeras\u001b[39m.\u001b[39mmetrics\u001b[39m.\u001b[39mRootMeanSquaredError(name\u001b[39m=\u001b[39m\u001b[39m'\u001b[39m\u001b[39mrmse\u001b[39m\u001b[39m'\u001b[39m), RSquare()])\n\u001b[1;32m---> <a href='vscode-notebook-cell:/c%3A/Users/Dilara/Electricity-Prediction/src/optimize_autoregressive_RNN.ipynb#X64sZmlsZQ%3D%3D?line=46'>47</a>\u001b[0m history \u001b[39m=\u001b[39m model\u001b[39m.\u001b[39;49mfit(window\u001b[39m.\u001b[39;49mtrain, epochs\u001b[39m=\u001b[39;49mepochs,\n\u001b[0;32m     <a href='vscode-notebook-cell:/c%3A/Users/Dilara/Electricity-Prediction/src/optimize_autoregressive_RNN.ipynb#X64sZmlsZQ%3D%3D?line=47'>48</a>\u001b[0m                     validation_data\u001b[39m=\u001b[39;49mwindow\u001b[39m.\u001b[39;49mval,\n\u001b[0;32m     <a href='vscode-notebook-cell:/c%3A/Users/Dilara/Electricity-Prediction/src/optimize_autoregressive_RNN.ipynb#X64sZmlsZQ%3D%3D?line=48'>49</a>\u001b[0m                     callbacks\u001b[39m=\u001b[39;49mcallbacks,\n\u001b[0;32m     <a href='vscode-notebook-cell:/c%3A/Users/Dilara/Electricity-Prediction/src/optimize_autoregressive_RNN.ipynb#X64sZmlsZQ%3D%3D?line=49'>50</a>\u001b[0m                     verbose\u001b[39m=\u001b[39;49mverbose)\n\u001b[0;32m     <a href='vscode-notebook-cell:/c%3A/Users/Dilara/Electricity-Prediction/src/optimize_autoregressive_RNN.ipynb#X64sZmlsZQ%3D%3D?line=50'>51</a>\u001b[0m \u001b[39mreturn\u001b[39;00m history\n",
      "File \u001b[1;32mc:\\Users\\Dilara\\AppData\\Local\\Programs\\Python\\Python310\\lib\\site-packages\\keras\\utils\\traceback_utils.py:64\u001b[0m, in \u001b[0;36mfilter_traceback.<locals>.error_handler\u001b[1;34m(*args, **kwargs)\u001b[0m\n\u001b[0;32m     62\u001b[0m filtered_tb \u001b[39m=\u001b[39m \u001b[39mNone\u001b[39;00m\n\u001b[0;32m     63\u001b[0m \u001b[39mtry\u001b[39;00m:\n\u001b[1;32m---> 64\u001b[0m   \u001b[39mreturn\u001b[39;00m fn(\u001b[39m*\u001b[39margs, \u001b[39m*\u001b[39m\u001b[39m*\u001b[39mkwargs)\n\u001b[0;32m     65\u001b[0m \u001b[39mexcept\u001b[39;00m \u001b[39mException\u001b[39;00m \u001b[39mas\u001b[39;00m e:  \u001b[39m# pylint: disable=broad-except\u001b[39;00m\n\u001b[0;32m     66\u001b[0m   filtered_tb \u001b[39m=\u001b[39m _process_traceback_frames(e\u001b[39m.\u001b[39m__traceback__)\n",
      "File \u001b[1;32mc:\\Users\\Dilara\\AppData\\Local\\Programs\\Python\\Python310\\lib\\site-packages\\keras\\engine\\training.py:1409\u001b[0m, in \u001b[0;36mModel.fit\u001b[1;34m(self, x, y, batch_size, epochs, verbose, callbacks, validation_split, validation_data, shuffle, class_weight, sample_weight, initial_epoch, steps_per_epoch, validation_steps, validation_batch_size, validation_freq, max_queue_size, workers, use_multiprocessing)\u001b[0m\n\u001b[0;32m   1402\u001b[0m \u001b[39mwith\u001b[39;00m tf\u001b[39m.\u001b[39mprofiler\u001b[39m.\u001b[39mexperimental\u001b[39m.\u001b[39mTrace(\n\u001b[0;32m   1403\u001b[0m     \u001b[39m'\u001b[39m\u001b[39mtrain\u001b[39m\u001b[39m'\u001b[39m,\n\u001b[0;32m   1404\u001b[0m     epoch_num\u001b[39m=\u001b[39mepoch,\n\u001b[0;32m   1405\u001b[0m     step_num\u001b[39m=\u001b[39mstep,\n\u001b[0;32m   1406\u001b[0m     batch_size\u001b[39m=\u001b[39mbatch_size,\n\u001b[0;32m   1407\u001b[0m     _r\u001b[39m=\u001b[39m\u001b[39m1\u001b[39m):\n\u001b[0;32m   1408\u001b[0m   callbacks\u001b[39m.\u001b[39mon_train_batch_begin(step)\n\u001b[1;32m-> 1409\u001b[0m   tmp_logs \u001b[39m=\u001b[39m \u001b[39mself\u001b[39;49m\u001b[39m.\u001b[39;49mtrain_function(iterator)\n\u001b[0;32m   1410\u001b[0m   \u001b[39mif\u001b[39;00m data_handler\u001b[39m.\u001b[39mshould_sync:\n\u001b[0;32m   1411\u001b[0m     context\u001b[39m.\u001b[39masync_wait()\n",
      "File \u001b[1;32mc:\\Users\\Dilara\\AppData\\Local\\Programs\\Python\\Python310\\lib\\site-packages\\tensorflow\\python\\util\\traceback_utils.py:150\u001b[0m, in \u001b[0;36mfilter_traceback.<locals>.error_handler\u001b[1;34m(*args, **kwargs)\u001b[0m\n\u001b[0;32m    148\u001b[0m filtered_tb \u001b[39m=\u001b[39m \u001b[39mNone\u001b[39;00m\n\u001b[0;32m    149\u001b[0m \u001b[39mtry\u001b[39;00m:\n\u001b[1;32m--> 150\u001b[0m   \u001b[39mreturn\u001b[39;00m fn(\u001b[39m*\u001b[39margs, \u001b[39m*\u001b[39m\u001b[39m*\u001b[39mkwargs)\n\u001b[0;32m    151\u001b[0m \u001b[39mexcept\u001b[39;00m \u001b[39mException\u001b[39;00m \u001b[39mas\u001b[39;00m e:\n\u001b[0;32m    152\u001b[0m   filtered_tb \u001b[39m=\u001b[39m _process_traceback_frames(e\u001b[39m.\u001b[39m__traceback__)\n",
      "File \u001b[1;32mc:\\Users\\Dilara\\AppData\\Local\\Programs\\Python\\Python310\\lib\\site-packages\\tensorflow\\python\\eager\\def_function.py:915\u001b[0m, in \u001b[0;36mFunction.__call__\u001b[1;34m(self, *args, **kwds)\u001b[0m\n\u001b[0;32m    912\u001b[0m compiler \u001b[39m=\u001b[39m \u001b[39m\"\u001b[39m\u001b[39mxla\u001b[39m\u001b[39m\"\u001b[39m \u001b[39mif\u001b[39;00m \u001b[39mself\u001b[39m\u001b[39m.\u001b[39m_jit_compile \u001b[39melse\u001b[39;00m \u001b[39m\"\u001b[39m\u001b[39mnonXla\u001b[39m\u001b[39m\"\u001b[39m\n\u001b[0;32m    914\u001b[0m \u001b[39mwith\u001b[39;00m OptionalXlaContext(\u001b[39mself\u001b[39m\u001b[39m.\u001b[39m_jit_compile):\n\u001b[1;32m--> 915\u001b[0m   result \u001b[39m=\u001b[39m \u001b[39mself\u001b[39m\u001b[39m.\u001b[39m_call(\u001b[39m*\u001b[39margs, \u001b[39m*\u001b[39m\u001b[39m*\u001b[39mkwds)\n\u001b[0;32m    917\u001b[0m new_tracing_count \u001b[39m=\u001b[39m \u001b[39mself\u001b[39m\u001b[39m.\u001b[39mexperimental_get_tracing_count()\n\u001b[0;32m    918\u001b[0m without_tracing \u001b[39m=\u001b[39m (tracing_count \u001b[39m==\u001b[39m new_tracing_count)\n",
      "File \u001b[1;32mc:\\Users\\Dilara\\AppData\\Local\\Programs\\Python\\Python310\\lib\\site-packages\\tensorflow\\python\\eager\\def_function.py:947\u001b[0m, in \u001b[0;36mFunction._call\u001b[1;34m(self, *args, **kwds)\u001b[0m\n\u001b[0;32m    944\u001b[0m   \u001b[39mself\u001b[39m\u001b[39m.\u001b[39m_lock\u001b[39m.\u001b[39mrelease()\n\u001b[0;32m    945\u001b[0m   \u001b[39m# In this case we have created variables on the first call, so we run the\u001b[39;00m\n\u001b[0;32m    946\u001b[0m   \u001b[39m# defunned version which is guaranteed to never create variables.\u001b[39;00m\n\u001b[1;32m--> 947\u001b[0m   \u001b[39mreturn\u001b[39;00m \u001b[39mself\u001b[39m\u001b[39m.\u001b[39m_stateless_fn(\u001b[39m*\u001b[39margs, \u001b[39m*\u001b[39m\u001b[39m*\u001b[39mkwds)  \u001b[39m# pylint: disable=not-callable\u001b[39;00m\n\u001b[0;32m    948\u001b[0m \u001b[39melif\u001b[39;00m \u001b[39mself\u001b[39m\u001b[39m.\u001b[39m_stateful_fn \u001b[39mis\u001b[39;00m \u001b[39mnot\u001b[39;00m \u001b[39mNone\u001b[39;00m:\n\u001b[0;32m    949\u001b[0m   \u001b[39m# Release the lock early so that multiple threads can perform the call\u001b[39;00m\n\u001b[0;32m    950\u001b[0m   \u001b[39m# in parallel.\u001b[39;00m\n\u001b[0;32m    951\u001b[0m   \u001b[39mself\u001b[39m\u001b[39m.\u001b[39m_lock\u001b[39m.\u001b[39mrelease()\n",
      "File \u001b[1;32mc:\\Users\\Dilara\\AppData\\Local\\Programs\\Python\\Python310\\lib\\site-packages\\tensorflow\\python\\eager\\function.py:2453\u001b[0m, in \u001b[0;36mFunction.__call__\u001b[1;34m(self, *args, **kwargs)\u001b[0m\n\u001b[0;32m   2450\u001b[0m \u001b[39mwith\u001b[39;00m \u001b[39mself\u001b[39m\u001b[39m.\u001b[39m_lock:\n\u001b[0;32m   2451\u001b[0m   (graph_function,\n\u001b[0;32m   2452\u001b[0m    filtered_flat_args) \u001b[39m=\u001b[39m \u001b[39mself\u001b[39m\u001b[39m.\u001b[39m_maybe_define_function(args, kwargs)\n\u001b[1;32m-> 2453\u001b[0m \u001b[39mreturn\u001b[39;00m graph_function\u001b[39m.\u001b[39;49m_call_flat(\n\u001b[0;32m   2454\u001b[0m     filtered_flat_args, captured_inputs\u001b[39m=\u001b[39;49mgraph_function\u001b[39m.\u001b[39;49mcaptured_inputs)\n",
      "File \u001b[1;32mc:\\Users\\Dilara\\AppData\\Local\\Programs\\Python\\Python310\\lib\\site-packages\\tensorflow\\python\\eager\\function.py:1860\u001b[0m, in \u001b[0;36mConcreteFunction._call_flat\u001b[1;34m(self, args, captured_inputs, cancellation_manager)\u001b[0m\n\u001b[0;32m   1856\u001b[0m possible_gradient_type \u001b[39m=\u001b[39m gradients_util\u001b[39m.\u001b[39mPossibleTapeGradientTypes(args)\n\u001b[0;32m   1857\u001b[0m \u001b[39mif\u001b[39;00m (possible_gradient_type \u001b[39m==\u001b[39m gradients_util\u001b[39m.\u001b[39mPOSSIBLE_GRADIENT_TYPES_NONE\n\u001b[0;32m   1858\u001b[0m     \u001b[39mand\u001b[39;00m executing_eagerly):\n\u001b[0;32m   1859\u001b[0m   \u001b[39m# No tape is watching; skip to running the function.\u001b[39;00m\n\u001b[1;32m-> 1860\u001b[0m   \u001b[39mreturn\u001b[39;00m \u001b[39mself\u001b[39m\u001b[39m.\u001b[39m_build_call_outputs(\u001b[39mself\u001b[39;49m\u001b[39m.\u001b[39;49m_inference_function\u001b[39m.\u001b[39;49mcall(\n\u001b[0;32m   1861\u001b[0m       ctx, args, cancellation_manager\u001b[39m=\u001b[39;49mcancellation_manager))\n\u001b[0;32m   1862\u001b[0m forward_backward \u001b[39m=\u001b[39m \u001b[39mself\u001b[39m\u001b[39m.\u001b[39m_select_forward_and_backward_functions(\n\u001b[0;32m   1863\u001b[0m     args,\n\u001b[0;32m   1864\u001b[0m     possible_gradient_type,\n\u001b[0;32m   1865\u001b[0m     executing_eagerly)\n\u001b[0;32m   1866\u001b[0m forward_function, args_with_tangents \u001b[39m=\u001b[39m forward_backward\u001b[39m.\u001b[39mforward()\n",
      "File \u001b[1;32mc:\\Users\\Dilara\\AppData\\Local\\Programs\\Python\\Python310\\lib\\site-packages\\tensorflow\\python\\eager\\function.py:497\u001b[0m, in \u001b[0;36m_EagerDefinedFunction.call\u001b[1;34m(self, ctx, args, cancellation_manager)\u001b[0m\n\u001b[0;32m    495\u001b[0m \u001b[39mwith\u001b[39;00m _InterpolateFunctionError(\u001b[39mself\u001b[39m):\n\u001b[0;32m    496\u001b[0m   \u001b[39mif\u001b[39;00m cancellation_manager \u001b[39mis\u001b[39;00m \u001b[39mNone\u001b[39;00m:\n\u001b[1;32m--> 497\u001b[0m     outputs \u001b[39m=\u001b[39m execute\u001b[39m.\u001b[39;49mexecute(\n\u001b[0;32m    498\u001b[0m         \u001b[39mstr\u001b[39;49m(\u001b[39mself\u001b[39;49m\u001b[39m.\u001b[39;49msignature\u001b[39m.\u001b[39;49mname),\n\u001b[0;32m    499\u001b[0m         num_outputs\u001b[39m=\u001b[39;49m\u001b[39mself\u001b[39;49m\u001b[39m.\u001b[39;49m_num_outputs,\n\u001b[0;32m    500\u001b[0m         inputs\u001b[39m=\u001b[39;49margs,\n\u001b[0;32m    501\u001b[0m         attrs\u001b[39m=\u001b[39;49mattrs,\n\u001b[0;32m    502\u001b[0m         ctx\u001b[39m=\u001b[39;49mctx)\n\u001b[0;32m    503\u001b[0m   \u001b[39melse\u001b[39;00m:\n\u001b[0;32m    504\u001b[0m     outputs \u001b[39m=\u001b[39m execute\u001b[39m.\u001b[39mexecute_with_cancellation(\n\u001b[0;32m    505\u001b[0m         \u001b[39mstr\u001b[39m(\u001b[39mself\u001b[39m\u001b[39m.\u001b[39msignature\u001b[39m.\u001b[39mname),\n\u001b[0;32m    506\u001b[0m         num_outputs\u001b[39m=\u001b[39m\u001b[39mself\u001b[39m\u001b[39m.\u001b[39m_num_outputs,\n\u001b[1;32m   (...)\u001b[0m\n\u001b[0;32m    509\u001b[0m         ctx\u001b[39m=\u001b[39mctx,\n\u001b[0;32m    510\u001b[0m         cancellation_manager\u001b[39m=\u001b[39mcancellation_manager)\n",
      "File \u001b[1;32mc:\\Users\\Dilara\\AppData\\Local\\Programs\\Python\\Python310\\lib\\site-packages\\tensorflow\\python\\eager\\execute.py:54\u001b[0m, in \u001b[0;36mquick_execute\u001b[1;34m(op_name, num_outputs, inputs, attrs, ctx, name)\u001b[0m\n\u001b[0;32m     52\u001b[0m \u001b[39mtry\u001b[39;00m:\n\u001b[0;32m     53\u001b[0m   ctx\u001b[39m.\u001b[39mensure_initialized()\n\u001b[1;32m---> 54\u001b[0m   tensors \u001b[39m=\u001b[39m pywrap_tfe\u001b[39m.\u001b[39;49mTFE_Py_Execute(ctx\u001b[39m.\u001b[39;49m_handle, device_name, op_name,\n\u001b[0;32m     55\u001b[0m                                       inputs, attrs, num_outputs)\n\u001b[0;32m     56\u001b[0m \u001b[39mexcept\u001b[39;00m core\u001b[39m.\u001b[39m_NotOkStatusException \u001b[39mas\u001b[39;00m e:\n\u001b[0;32m     57\u001b[0m   \u001b[39mif\u001b[39;00m name \u001b[39mis\u001b[39;00m \u001b[39mnot\u001b[39;00m \u001b[39mNone\u001b[39;00m:\n",
      "\u001b[1;31mKeyboardInterrupt\u001b[0m: "
     ]
    }
   ],
   "source": [
    "# study hyperparameters\n",
    "study = optuna.create_study(direction=\"minimize\", sampler=optuna.samplers.TPESampler())\n",
    "study.optimize(objective, n_trials=200)"
   ]
  },
  {
   "cell_type": "code",
   "execution_count": 95,
   "metadata": {},
   "outputs": [
    {
     "name": "stdout",
     "output_type": "stream",
     "text": [
      "best_value: 0.0028203760739415884\n"
     ]
    }
   ],
   "source": [
    "# save study and best values\n",
    "import joblib\n",
    "joblib.dump(study, '../optuna/study_arlstm_model.pkl')\n",
    "\n",
    "print('best_value:', study.best_value)\n",
    "with open('../optuna/best_trial_arlstm_model.txt', 'w') as f:\n",
    "    print(study.best_trial, file=f)"
   ]
  },
  {
   "cell_type": "code",
   "execution_count": 103,
   "metadata": {},
   "outputs": [
    {
     "ename": "ValueError",
     "evalue": "\nImage export using the \"kaleido\" engine requires the kaleido package,\nwhich can be installed using pip:\n    $ pip install -U kaleido\n",
     "output_type": "error",
     "traceback": [
      "\u001b[1;31m---------------------------------------------------------------------------\u001b[0m",
      "\u001b[1;31mValueError\u001b[0m                                Traceback (most recent call last)",
      "\u001b[1;32mc:\\Users\\Dilara\\Electricity-Prediction\\src\\optimize_autoregressive_RNN.ipynb Zelle 44\u001b[0m in \u001b[0;36m<cell line: 11>\u001b[1;34m()\u001b[0m\n\u001b[0;32m      <a href='vscode-notebook-cell:/c%3A/Users/Dilara/Electricity-Prediction/src/optimize_autoregressive_RNN.ipynb#Y100sZmlsZQ%3D%3D?line=2'>3</a>\u001b[0m fig \u001b[39m=\u001b[39m optuna\u001b[39m.\u001b[39mvisualization\u001b[39m.\u001b[39mplot_parallel_coordinate(study, \n\u001b[0;32m      <a href='vscode-notebook-cell:/c%3A/Users/Dilara/Electricity-Prediction/src/optimize_autoregressive_RNN.ipynb#Y100sZmlsZQ%3D%3D?line=3'>4</a>\u001b[0m     params\u001b[39m=\u001b[39m[\u001b[39m'\u001b[39m\u001b[39mlearning_rate\u001b[39m\u001b[39m'\u001b[39m, \u001b[39m'\u001b[39m\u001b[39mn_layers\u001b[39m\u001b[39m'\u001b[39m, \u001b[39m'\u001b[39m\u001b[39mpast_steps\u001b[39m\u001b[39m'\u001b[39m]) \n\u001b[0;32m      <a href='vscode-notebook-cell:/c%3A/Users/Dilara/Electricity-Prediction/src/optimize_autoregressive_RNN.ipynb#Y100sZmlsZQ%3D%3D?line=4'>5</a>\u001b[0m fig\u001b[39m.\u001b[39mupdate_layout(\n\u001b[0;32m      <a href='vscode-notebook-cell:/c%3A/Users/Dilara/Electricity-Prediction/src/optimize_autoregressive_RNN.ipynb#Y100sZmlsZQ%3D%3D?line=5'>6</a>\u001b[0m     title\u001b[39m=\u001b[39m\u001b[39mNone\u001b[39;00m,\n\u001b[0;32m      <a href='vscode-notebook-cell:/c%3A/Users/Dilara/Electricity-Prediction/src/optimize_autoregressive_RNN.ipynb#Y100sZmlsZQ%3D%3D?line=6'>7</a>\u001b[0m     font\u001b[39m=\u001b[39m\u001b[39mdict\u001b[39m(\n\u001b[0;32m      <a href='vscode-notebook-cell:/c%3A/Users/Dilara/Electricity-Prediction/src/optimize_autoregressive_RNN.ipynb#Y100sZmlsZQ%3D%3D?line=7'>8</a>\u001b[0m         family\u001b[39m=\u001b[39m\u001b[39m'\u001b[39m\u001b[39mserif\u001b[39m\u001b[39m'\u001b[39m,\n\u001b[0;32m      <a href='vscode-notebook-cell:/c%3A/Users/Dilara/Electricity-Prediction/src/optimize_autoregressive_RNN.ipynb#Y100sZmlsZQ%3D%3D?line=8'>9</a>\u001b[0m         size\u001b[39m=\u001b[39m\u001b[39m10\u001b[39m,\n\u001b[0;32m     <a href='vscode-notebook-cell:/c%3A/Users/Dilara/Electricity-Prediction/src/optimize_autoregressive_RNN.ipynb#Y100sZmlsZQ%3D%3D?line=9'>10</a>\u001b[0m     ))\n\u001b[1;32m---> <a href='vscode-notebook-cell:/c%3A/Users/Dilara/Electricity-Prediction/src/optimize_autoregressive_RNN.ipynb#Y100sZmlsZQ%3D%3D?line=10'>11</a>\u001b[0m fig\u001b[39m.\u001b[39;49mwrite_image(\u001b[39m'\u001b[39;49m\u001b[39m../reports/optuna_parallel_coordinates_Adam.jpg\u001b[39;49m\u001b[39m'\u001b[39;49m)\n\u001b[0;32m     <a href='vscode-notebook-cell:/c%3A/Users/Dilara/Electricity-Prediction/src/optimize_autoregressive_RNN.ipynb#Y100sZmlsZQ%3D%3D?line=11'>12</a>\u001b[0m fig\u001b[39m.\u001b[39mshow()\n",
      "File \u001b[1;32mc:\\Users\\Dilara\\AppData\\Local\\Programs\\Python\\Python310\\lib\\site-packages\\plotly\\basedatatypes.py:3829\u001b[0m, in \u001b[0;36mBaseFigure.write_image\u001b[1;34m(self, *args, **kwargs)\u001b[0m\n\u001b[0;32m   3769\u001b[0m \u001b[39m\"\"\"\u001b[39;00m\n\u001b[0;32m   3770\u001b[0m \u001b[39mConvert a figure to a static image and write it to a file or writeable\u001b[39;00m\n\u001b[0;32m   3771\u001b[0m \u001b[39mobject\u001b[39;00m\n\u001b[1;32m   (...)\u001b[0m\n\u001b[0;32m   3825\u001b[0m \u001b[39mNone\u001b[39;00m\n\u001b[0;32m   3826\u001b[0m \u001b[39m\"\"\"\u001b[39;00m\n\u001b[0;32m   3827\u001b[0m \u001b[39mimport\u001b[39;00m \u001b[39mplotly\u001b[39;00m\u001b[39m.\u001b[39;00m\u001b[39mio\u001b[39;00m \u001b[39mas\u001b[39;00m \u001b[39mpio\u001b[39;00m\n\u001b[1;32m-> 3829\u001b[0m \u001b[39mreturn\u001b[39;00m pio\u001b[39m.\u001b[39mwrite_image(\u001b[39mself\u001b[39m, \u001b[39m*\u001b[39margs, \u001b[39m*\u001b[39m\u001b[39m*\u001b[39mkwargs)\n",
      "File \u001b[1;32mc:\\Users\\Dilara\\AppData\\Local\\Programs\\Python\\Python310\\lib\\site-packages\\plotly\\io\\_kaleido.py:267\u001b[0m, in \u001b[0;36mwrite_image\u001b[1;34m(fig, file, format, scale, width, height, validate, engine)\u001b[0m\n\u001b[0;32m    251\u001b[0m             \u001b[39mraise\u001b[39;00m \u001b[39mValueError\u001b[39;00m(\n\u001b[0;32m    252\u001b[0m                 \u001b[39m\"\"\"\u001b[39;00m\n\u001b[0;32m    253\u001b[0m \u001b[39mCannot infer image type from output path '{file}'.\u001b[39;00m\n\u001b[1;32m   (...)\u001b[0m\n\u001b[0;32m    261\u001b[0m                 )\n\u001b[0;32m    262\u001b[0m             )\n\u001b[0;32m    264\u001b[0m     \u001b[39m# Request image\u001b[39;00m\n\u001b[0;32m    265\u001b[0m     \u001b[39m# -------------\u001b[39;00m\n\u001b[0;32m    266\u001b[0m     \u001b[39m# Do this first so we don't create a file if image conversion fails\u001b[39;00m\n\u001b[1;32m--> 267\u001b[0m     img_data \u001b[39m=\u001b[39m to_image(\n\u001b[0;32m    268\u001b[0m         fig,\n\u001b[0;32m    269\u001b[0m         \u001b[39mformat\u001b[39;49m\u001b[39m=\u001b[39;49m\u001b[39mformat\u001b[39;49m,\n\u001b[0;32m    270\u001b[0m         scale\u001b[39m=\u001b[39;49mscale,\n\u001b[0;32m    271\u001b[0m         width\u001b[39m=\u001b[39;49mwidth,\n\u001b[0;32m    272\u001b[0m         height\u001b[39m=\u001b[39;49mheight,\n\u001b[0;32m    273\u001b[0m         validate\u001b[39m=\u001b[39;49mvalidate,\n\u001b[0;32m    274\u001b[0m         engine\u001b[39m=\u001b[39;49mengine,\n\u001b[0;32m    275\u001b[0m     )\n\u001b[0;32m    277\u001b[0m     \u001b[39m# Open file\u001b[39;00m\n\u001b[0;32m    278\u001b[0m     \u001b[39m# ---------\u001b[39;00m\n\u001b[0;32m    279\u001b[0m     \u001b[39mif\u001b[39;00m path \u001b[39mis\u001b[39;00m \u001b[39mNone\u001b[39;00m:\n\u001b[0;32m    280\u001b[0m         \u001b[39m# We previously failed to make sense of `file` as a pathlib object.\u001b[39;00m\n\u001b[0;32m    281\u001b[0m         \u001b[39m# Attempt to write to `file` as an open file descriptor.\u001b[39;00m\n",
      "File \u001b[1;32mc:\\Users\\Dilara\\AppData\\Local\\Programs\\Python\\Python310\\lib\\site-packages\\plotly\\io\\_kaleido.py:133\u001b[0m, in \u001b[0;36mto_image\u001b[1;34m(fig, format, width, height, scale, validate, engine)\u001b[0m\n\u001b[0;32m    131\u001b[0m     \u001b[39m# Raise informative error message if Kaleido is not installed\u001b[39;00m\n\u001b[0;32m    132\u001b[0m     \u001b[39mif\u001b[39;00m scope \u001b[39mis\u001b[39;00m \u001b[39mNone\u001b[39;00m:\n\u001b[1;32m--> 133\u001b[0m         \u001b[39mraise\u001b[39;00m \u001b[39mValueError\u001b[39;00m(\n\u001b[0;32m    134\u001b[0m             \u001b[39m\"\"\"\u001b[39;00m\n\u001b[0;32m    135\u001b[0m \u001b[39mImage export using the \"kaleido\" engine requires the kaleido package,\u001b[39;00m\n\u001b[0;32m    136\u001b[0m \u001b[39mwhich can be installed using pip:\u001b[39;00m\n\u001b[0;32m    137\u001b[0m \u001b[39m    $ pip install -U kaleido\u001b[39;00m\n\u001b[0;32m    138\u001b[0m \u001b[39m\"\"\"\u001b[39;00m\n\u001b[0;32m    139\u001b[0m         )\n\u001b[0;32m    141\u001b[0m     \u001b[39m# Validate figure\u001b[39;00m\n\u001b[0;32m    142\u001b[0m     \u001b[39m# ---------------\u001b[39;00m\n\u001b[0;32m    143\u001b[0m     fig_dict \u001b[39m=\u001b[39m validate_coerce_fig_to_dict(fig, validate)\n",
      "\u001b[1;31mValueError\u001b[0m: \nImage export using the \"kaleido\" engine requires the kaleido package,\nwhich can be installed using pip:\n    $ pip install -U kaleido\n"
     ]
    }
   ],
   "source": [
    "# Visualization of hyperparameter optimization\n",
    "import kaleido\n",
    "\n",
    "fig = optuna.visualization.plot_parallel_coordinate(study, \n",
    "    params=['learning_rate', 'n_layers', 'past_steps']) \n",
    "fig.update_layout(\n",
    "    title=None,\n",
    "    font=dict(\n",
    "        family='serif',\n",
    "        size=10,\n",
    "    ))\n",
    "# save image\n",
    "fig.write_image('../reports/optuna_parallel_coordinates.jpg')\n",
    "fig.show()"
   ]
  },
  {
   "cell_type": "markdown",
   "metadata": {},
   "source": [
    "#### Build NN with optimized parameters"
   ]
  },
  {
   "cell_type": "code",
   "execution_count": 72,
   "metadata": {},
   "outputs": [],
   "source": [
    "# study = joblib.load('./optuna/study_Adam.pkl')\n",
    "\n",
    "# hyperparams['lr'] = study.best_params['learning rate']\n",
    "# hyperparams['betas'] = (study.best_params['beta1'], study.best_params['beta2']) # Adam\n",
    "# hyperparams['eps'] = study.best_params['epsilon']                               # Adam\n",
    "# # hyperparams['momentum'] = study.best_params['momentum']                         # SGD                               \n",
    "# hyperparams['weight_decay'] = study.best_params['weight decay']\n",
    "\n",
    "# # model_name = 'ARLSTM 32'\n",
    "# # history[model_name] = compile_and_fit(arlstm_model, window, model_name='ARLSTM32', verbose=2)\n",
    "# # # IPython.display.clear_output()\n",
    "\n",
    "# # val_performance[model_name] = arlstm_model.evaluate(window.val, verbose=0)\n",
    "# # test_performance[model_name] = arlstm_model.evaluate(window.test, verbose=1)\n",
    "\n",
    "# # window.plot(arlstm_model, plot_col=\"prod_wind\")"
   ]
  },
  {
   "cell_type": "markdown",
   "metadata": {},
   "source": [
    "## Autoregressive LSTM with Weather Data\n",
    "- RNN with one LSTM layer with 32 units\n",
    "\n",
    "Import weather data and add to data frame. Each pickle contains one weather parameter measured at multiple stations."
   ]
  },
  {
   "cell_type": "markdown",
   "metadata": {},
   "source": [
    "Build model:"
   ]
  },
  {
   "cell_type": "code",
   "execution_count": null,
   "metadata": {},
   "outputs": [
    {
     "name": "stdout",
     "output_type": "stream",
     "text": [
      "Output shape (batch, time, features):  (32, 12, 2)\n"
     ]
    }
   ],
   "source": [
    "arrnn_model = AutoRegressiveRNN(units=[32], out_steps=PREDICTION_STEPS, rnn_type=\"LSTM\")\n",
    "\n",
    "# Run on example input\n",
    "print('Output shape (batch, time, features): ',\n",
    "      arrnn_model(window.example[0]).shape)"
   ]
  },
  {
   "cell_type": "markdown",
   "metadata": {},
   "source": [
    "Train the model:"
   ]
  },
  {
   "cell_type": "code",
   "execution_count": null,
   "metadata": {},
   "outputs": [
    {
     "name": "stdout",
     "output_type": "stream",
     "text": [
      "Epoch 1/5\n",
      "958/958 - 11s - loss: 0.0092 - mae: 0.0666 - rmse: 0.0959 - r_square: 0.7998 - val_loss: 0.0060 - val_mae: 0.0554 - val_rmse: 0.0776 - val_r_square: 0.8762 - 11s/epoch - 11ms/step\n",
      "Epoch 2/5\n",
      "958/958 - 8s - loss: 0.0033 - mae: 0.0415 - rmse: 0.0572 - r_square: 0.9285 - val_loss: 0.0044 - val_mae: 0.0473 - val_rmse: 0.0662 - val_r_square: 0.9110 - 8s/epoch - 8ms/step\n",
      "Epoch 3/5\n",
      "958/958 - 8s - loss: 0.0027 - mae: 0.0374 - rmse: 0.0522 - r_square: 0.9405 - val_loss: 0.0039 - val_mae: 0.0440 - val_rmse: 0.0627 - val_r_square: 0.9194 - 8s/epoch - 8ms/step\n",
      "Epoch 4/5\n",
      "958/958 - 8s - loss: 0.0024 - mae: 0.0351 - rmse: 0.0493 - r_square: 0.9470 - val_loss: 0.0041 - val_mae: 0.0450 - val_rmse: 0.0641 - val_r_square: 0.9174 - 8s/epoch - 8ms/step\n",
      "Epoch 5/5\n",
      "958/958 - 8s - loss: 0.0022 - mae: 0.0336 - rmse: 0.0472 - r_square: 0.9513 - val_loss: 0.0035 - val_mae: 0.0411 - val_rmse: 0.0592 - val_r_square: 0.9279 - 8s/epoch - 8ms/step\n"
     ]
    },
    {
     "ename": "NameError",
     "evalue": "name 'weather_window' is not defined",
     "output_type": "error",
     "traceback": [
      "\u001b[1;31m---------------------------------------------------------------------------\u001b[0m",
      "\u001b[1;31mNameError\u001b[0m                                 Traceback (most recent call last)",
      "\u001b[1;32mc:\\Users\\Dilara\\Electricity-Prediction\\src\\optimize_autoregressive_RNN.ipynb Zelle 39\u001b[0m in \u001b[0;36m<cell line: 7>\u001b[1;34m()\u001b[0m\n\u001b[0;32m      <a href='vscode-notebook-cell:/c%3A/Users/Dilara/Electricity-Prediction/src/optimize_autoregressive_RNN.ipynb#X53sZmlsZQ%3D%3D?line=2'>3</a>\u001b[0m history[model_name] \u001b[39m=\u001b[39m compile_and_fit(arrnn_model, window,\n\u001b[0;32m      <a href='vscode-notebook-cell:/c%3A/Users/Dilara/Electricity-Prediction/src/optimize_autoregressive_RNN.ipynb#X53sZmlsZQ%3D%3D?line=3'>4</a>\u001b[0m                                       save\u001b[39m=\u001b[39m\u001b[39mFalse\u001b[39;00m, verbose\u001b[39m=\u001b[39m\u001b[39m2\u001b[39m)\n\u001b[0;32m      <a href='vscode-notebook-cell:/c%3A/Users/Dilara/Electricity-Prediction/src/optimize_autoregressive_RNN.ipynb#X53sZmlsZQ%3D%3D?line=4'>5</a>\u001b[0m \u001b[39m# IPython.display.clear_output()\u001b[39;00m\n\u001b[0;32m      <a href='vscode-notebook-cell:/c%3A/Users/Dilara/Electricity-Prediction/src/optimize_autoregressive_RNN.ipynb#X53sZmlsZQ%3D%3D?line=6'>7</a>\u001b[0m val_performance[model_name] \u001b[39m=\u001b[39m arrnn_model\u001b[39m.\u001b[39mevaluate(\n\u001b[1;32m----> <a href='vscode-notebook-cell:/c%3A/Users/Dilara/Electricity-Prediction/src/optimize_autoregressive_RNN.ipynb#X53sZmlsZQ%3D%3D?line=7'>8</a>\u001b[0m     weather_window\u001b[39m.\u001b[39mval, verbose\u001b[39m=\u001b[39m\u001b[39m0\u001b[39m)\n\u001b[0;32m      <a href='vscode-notebook-cell:/c%3A/Users/Dilara/Electricity-Prediction/src/optimize_autoregressive_RNN.ipynb#X53sZmlsZQ%3D%3D?line=8'>9</a>\u001b[0m test_performance[model_name] \u001b[39m=\u001b[39m arrnn_model\u001b[39m.\u001b[39mevaluate(\n\u001b[0;32m     <a href='vscode-notebook-cell:/c%3A/Users/Dilara/Electricity-Prediction/src/optimize_autoregressive_RNN.ipynb#X53sZmlsZQ%3D%3D?line=9'>10</a>\u001b[0m     weather_window\u001b[39m.\u001b[39mtest, verbose\u001b[39m=\u001b[39m\u001b[39m1\u001b[39m)\n\u001b[0;32m     <a href='vscode-notebook-cell:/c%3A/Users/Dilara/Electricity-Prediction/src/optimize_autoregressive_RNN.ipynb#X53sZmlsZQ%3D%3D?line=11'>12</a>\u001b[0m model_loss(history[model_name])\n",
      "\u001b[1;31mNameError\u001b[0m: name 'weather_window' is not defined"
     ]
    }
   ],
   "source": [
    "model_name = 'ARLSTM 32 + wx'\n",
    "\n",
    "history[model_name] = compile_and_fit(arrnn_model, window,\n",
    "                                      save=False, verbose=2)\n",
    "# IPython.display.clear_output()\n",
    "\n",
    "val_performance[model_name] = arrnn_model.evaluate(\n",
    "    weather_window.val, verbose=0)\n",
    "test_performance[model_name] = arrnn_model.evaluate(\n",
    "    weather_window.test, verbose=1)\n",
    "\n",
    "model_loss(history[model_name])\n"
   ]
  }
 ],
 "metadata": {
  "kernelspec": {
   "display_name": "Python 3.10.4 64-bit",
   "language": "python",
   "name": "python3"
  },
  "language_info": {
   "codemirror_mode": {
    "name": "ipython",
    "version": 3
   },
   "file_extension": ".py",
   "mimetype": "text/x-python",
   "name": "python",
   "nbconvert_exporter": "python",
   "pygments_lexer": "ipython3",
   "version": "3.10.4"
  },
  "orig_nbformat": 4,
  "vscode": {
   "interpreter": {
    "hash": "cb6164d6f6dd98322bde9d26a164e558f160764e692185fac5f2ab12a0b62824"
   }
  }
 },
 "nbformat": 4,
 "nbformat_minor": 2
}
