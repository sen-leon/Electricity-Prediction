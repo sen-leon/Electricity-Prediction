{
 "cells": [
  {
   "cell_type": "code",
   "execution_count": 2,
   "metadata": {},
   "outputs": [],
   "source": [
    "import matplotlib.pyplot as plt\n",
    "import numpy as np\n",
    "import pandas as pd\n",
    "import tensorflow as tf\n",
    "import seaborn as sns\n",
    "\n",
    "from sklearn.metrics import accuracy_score, precision_score, recall_score\n",
    "from sklearn.model_selection import train_test_split\n",
    "from tensorflow.keras import layers, losses\n",
    "# from tensorflow.keras.datasets import fashion_mnist\n",
    "from tensorflow.keras.models import Model, Sequential\n",
    "from tensorflow.keras.backend import clear_session\n",
    "from tensorflow.keras.layers import Dense, Input"
   ]
  },
  {
   "cell_type": "code",
   "execution_count": 24,
   "metadata": {},
   "outputs": [
    {
     "name": "stdout",
     "output_type": "stream",
     "text": [
      "(17544, 528)\n",
      "(17544, 132)\n",
      "(17544, 4, 132)\n"
     ]
    }
   ],
   "source": [
    "parameters = [\"wind_speed\", \"sunshine_duration\",\n",
    "            \"pressure_air_site\", \"temperature_air_mean_200\", \"precipitation_height\"]\n",
    "# parameter=parameters[0]\n",
    "# print(parameter)\n",
    "# path=\"../data/weather/\"+parameters[0]+\"_2021.pkl\"\n",
    "# weather = pd.read_pickle(path)\n",
    "\n",
    "def load_weatherdata(parameters):\n",
    "    # means = pd.DataFrame()\n",
    "    weather = pd.DataFrame()\n",
    "    # weather_array = []\n",
    "    # scaler_dict={}\n",
    "    for parameter in parameters:\n",
    "        path=\"../data/weather_all_stations/cleaned/\"+parameter+\".pkl\"\n",
    "        import_df = pd.read_pickle(path)\n",
    "        index = import_df.index\n",
    "        # columns = import_df.columns\n",
    "        # column_list=columns.tolist()\n",
    "        # scaled = pd.DataFrame(data = scaler.fit_transform(import_df), index=index, columns=columns)\n",
    "        # means[parameter] = scaled.mean(axis=1)\n",
    "        weather = pd.concat([weather, import_df], axis=1)\n",
    "    # print(weather.head())\n",
    "    import_shape=import_df.shape\n",
    "    return weather, import_shape\n",
    "# w2 = weather.melt(var_name='Column', value_name='Rescaled')\n",
    "\n",
    "df, import_shape = load_weatherdata(parameters[:-1])\n",
    "print(df.to_numpy().shape)\n",
    "print(import_shape)\n",
    "import_shape = (df.shape[0], int(df.shape[-1]/import_shape[-1]), import_shape[-1])\n",
    "print(import_shape)\n",
    "reshape_shape=(-1, *import_shape[1:])"
   ]
  },
  {
   "cell_type": "code",
   "execution_count": 207,
   "metadata": {},
   "outputs": [
    {
     "data": {
      "text/html": [
       "<div>\n",
       "<style scoped>\n",
       "    .dataframe tbody tr th:only-of-type {\n",
       "        vertical-align: middle;\n",
       "    }\n",
       "\n",
       "    .dataframe tbody tr th {\n",
       "        vertical-align: top;\n",
       "    }\n",
       "\n",
       "    .dataframe thead tr th {\n",
       "        text-align: left;\n",
       "    }\n",
       "\n",
       "    .dataframe thead tr:last-of-type th {\n",
       "        text-align: right;\n",
       "    }\n",
       "</style>\n",
       "<table border=\"1\" class=\"dataframe\">\n",
       "  <thead>\n",
       "    <tr>\n",
       "      <th></th>\n",
       "      <th colspan=\"10\" halign=\"left\">temp</th>\n",
       "      <th>...</th>\n",
       "      <th colspan=\"10\" halign=\"left\">sun</th>\n",
       "    </tr>\n",
       "    <tr>\n",
       "      <th></th>\n",
       "      <th>00183</th>\n",
       "      <th>00701</th>\n",
       "      <th>00856</th>\n",
       "      <th>00953</th>\n",
       "      <th>00963</th>\n",
       "      <th>01443</th>\n",
       "      <th>01605</th>\n",
       "      <th>01694</th>\n",
       "      <th>03032</th>\n",
       "      <th>03231</th>\n",
       "      <th>...</th>\n",
       "      <th>00856</th>\n",
       "      <th>00953</th>\n",
       "      <th>00963</th>\n",
       "      <th>01443</th>\n",
       "      <th>01605</th>\n",
       "      <th>01694</th>\n",
       "      <th>03032</th>\n",
       "      <th>03231</th>\n",
       "      <th>04104</th>\n",
       "      <th>04177</th>\n",
       "    </tr>\n",
       "    <tr>\n",
       "      <th>date</th>\n",
       "      <th></th>\n",
       "      <th></th>\n",
       "      <th></th>\n",
       "      <th></th>\n",
       "      <th></th>\n",
       "      <th></th>\n",
       "      <th></th>\n",
       "      <th></th>\n",
       "      <th></th>\n",
       "      <th></th>\n",
       "      <th></th>\n",
       "      <th></th>\n",
       "      <th></th>\n",
       "      <th></th>\n",
       "      <th></th>\n",
       "      <th></th>\n",
       "      <th></th>\n",
       "      <th></th>\n",
       "      <th></th>\n",
       "      <th></th>\n",
       "      <th></th>\n",
       "    </tr>\n",
       "  </thead>\n",
       "  <tbody>\n",
       "    <tr>\n",
       "      <th>2020-01-01 00:00:00+00:00</th>\n",
       "      <td>277.35</td>\n",
       "      <td>276.75</td>\n",
       "      <td>270.95</td>\n",
       "      <td>273.55</td>\n",
       "      <td>271.95</td>\n",
       "      <td>271.45</td>\n",
       "      <td>275.45</td>\n",
       "      <td>274.65</td>\n",
       "      <td>279.25</td>\n",
       "      <td>271.25</td>\n",
       "      <td>...</td>\n",
       "      <td>1083.274729</td>\n",
       "      <td>940.243235</td>\n",
       "      <td>862.78691</td>\n",
       "      <td>1049.052342</td>\n",
       "      <td>924.726291</td>\n",
       "      <td>970.492656</td>\n",
       "      <td>945.035348</td>\n",
       "      <td>874.640783</td>\n",
       "      <td>921.721343</td>\n",
       "      <td>1027.347777</td>\n",
       "    </tr>\n",
       "    <tr>\n",
       "      <th>2020-01-01 01:00:00+00:00</th>\n",
       "      <td>277.55</td>\n",
       "      <td>277.15</td>\n",
       "      <td>270.75</td>\n",
       "      <td>273.75</td>\n",
       "      <td>272.35</td>\n",
       "      <td>271.65</td>\n",
       "      <td>274.15</td>\n",
       "      <td>274.25</td>\n",
       "      <td>279.05</td>\n",
       "      <td>269.95</td>\n",
       "      <td>...</td>\n",
       "      <td>1083.274729</td>\n",
       "      <td>940.243235</td>\n",
       "      <td>862.78691</td>\n",
       "      <td>1049.052342</td>\n",
       "      <td>924.726291</td>\n",
       "      <td>970.492656</td>\n",
       "      <td>945.035348</td>\n",
       "      <td>874.640783</td>\n",
       "      <td>921.721343</td>\n",
       "      <td>1027.347777</td>\n",
       "    </tr>\n",
       "    <tr>\n",
       "      <th>2020-01-01 02:00:00+00:00</th>\n",
       "      <td>277.15</td>\n",
       "      <td>275.55</td>\n",
       "      <td>269.75</td>\n",
       "      <td>272.65</td>\n",
       "      <td>272.95</td>\n",
       "      <td>271.75</td>\n",
       "      <td>274.45</td>\n",
       "      <td>273.15</td>\n",
       "      <td>279.15</td>\n",
       "      <td>270.15</td>\n",
       "      <td>...</td>\n",
       "      <td>1083.274729</td>\n",
       "      <td>940.243235</td>\n",
       "      <td>862.78691</td>\n",
       "      <td>1049.052342</td>\n",
       "      <td>924.726291</td>\n",
       "      <td>970.492656</td>\n",
       "      <td>945.035348</td>\n",
       "      <td>874.640783</td>\n",
       "      <td>921.721343</td>\n",
       "      <td>1027.347777</td>\n",
       "    </tr>\n",
       "    <tr>\n",
       "      <th>2020-01-01 03:00:00+00:00</th>\n",
       "      <td>277.45</td>\n",
       "      <td>274.85</td>\n",
       "      <td>271.55</td>\n",
       "      <td>272.05</td>\n",
       "      <td>272.75</td>\n",
       "      <td>271.35</td>\n",
       "      <td>273.85</td>\n",
       "      <td>273.35</td>\n",
       "      <td>279.35</td>\n",
       "      <td>269.45</td>\n",
       "      <td>...</td>\n",
       "      <td>0.000000</td>\n",
       "      <td>0.000000</td>\n",
       "      <td>0.00000</td>\n",
       "      <td>0.000000</td>\n",
       "      <td>0.000000</td>\n",
       "      <td>0.000000</td>\n",
       "      <td>0.000000</td>\n",
       "      <td>0.000000</td>\n",
       "      <td>0.000000</td>\n",
       "      <td>0.000000</td>\n",
       "    </tr>\n",
       "    <tr>\n",
       "      <th>2020-01-01 04:00:00+00:00</th>\n",
       "      <td>277.45</td>\n",
       "      <td>274.25</td>\n",
       "      <td>270.85</td>\n",
       "      <td>272.65</td>\n",
       "      <td>272.15</td>\n",
       "      <td>271.35</td>\n",
       "      <td>275.05</td>\n",
       "      <td>273.35</td>\n",
       "      <td>279.35</td>\n",
       "      <td>269.25</td>\n",
       "      <td>...</td>\n",
       "      <td>0.000000</td>\n",
       "      <td>0.000000</td>\n",
       "      <td>0.00000</td>\n",
       "      <td>0.000000</td>\n",
       "      <td>0.000000</td>\n",
       "      <td>0.000000</td>\n",
       "      <td>0.000000</td>\n",
       "      <td>0.000000</td>\n",
       "      <td>0.000000</td>\n",
       "      <td>0.000000</td>\n",
       "    </tr>\n",
       "  </tbody>\n",
       "</table>\n",
       "<p>5 rows × 48 columns</p>\n",
       "</div>"
      ],
      "text/plain": [
       "                             temp                                          \\\n",
       "                            00183   00701   00856   00953   00963   01443   \n",
       "date                                                                        \n",
       "2020-01-01 00:00:00+00:00  277.35  276.75  270.95  273.55  271.95  271.45   \n",
       "2020-01-01 01:00:00+00:00  277.55  277.15  270.75  273.75  272.35  271.65   \n",
       "2020-01-01 02:00:00+00:00  277.15  275.55  269.75  272.65  272.95  271.75   \n",
       "2020-01-01 03:00:00+00:00  277.45  274.85  271.55  272.05  272.75  271.35   \n",
       "2020-01-01 04:00:00+00:00  277.45  274.25  270.85  272.65  272.15  271.35   \n",
       "\n",
       "                                                           ...          sun  \\\n",
       "                            01605   01694   03032   03231  ...        00856   \n",
       "date                                                       ...                \n",
       "2020-01-01 00:00:00+00:00  275.45  274.65  279.25  271.25  ...  1083.274729   \n",
       "2020-01-01 01:00:00+00:00  274.15  274.25  279.05  269.95  ...  1083.274729   \n",
       "2020-01-01 02:00:00+00:00  274.45  273.15  279.15  270.15  ...  1083.274729   \n",
       "2020-01-01 03:00:00+00:00  273.85  273.35  279.35  269.45  ...     0.000000   \n",
       "2020-01-01 04:00:00+00:00  275.05  273.35  279.35  269.25  ...     0.000000   \n",
       "\n",
       "                                                                           \\\n",
       "                                00953      00963        01443       01605   \n",
       "date                                                                        \n",
       "2020-01-01 00:00:00+00:00  940.243235  862.78691  1049.052342  924.726291   \n",
       "2020-01-01 01:00:00+00:00  940.243235  862.78691  1049.052342  924.726291   \n",
       "2020-01-01 02:00:00+00:00  940.243235  862.78691  1049.052342  924.726291   \n",
       "2020-01-01 03:00:00+00:00    0.000000    0.00000     0.000000    0.000000   \n",
       "2020-01-01 04:00:00+00:00    0.000000    0.00000     0.000000    0.000000   \n",
       "\n",
       "                                                                           \\\n",
       "                                01694       03032       03231       04104   \n",
       "date                                                                        \n",
       "2020-01-01 00:00:00+00:00  970.492656  945.035348  874.640783  921.721343   \n",
       "2020-01-01 01:00:00+00:00  970.492656  945.035348  874.640783  921.721343   \n",
       "2020-01-01 02:00:00+00:00  970.492656  945.035348  874.640783  921.721343   \n",
       "2020-01-01 03:00:00+00:00    0.000000    0.000000    0.000000    0.000000   \n",
       "2020-01-01 04:00:00+00:00    0.000000    0.000000    0.000000    0.000000   \n",
       "\n",
       "                                        \n",
       "                                 04177  \n",
       "date                                    \n",
       "2020-01-01 00:00:00+00:00  1027.347777  \n",
       "2020-01-01 01:00:00+00:00  1027.347777  \n",
       "2020-01-01 02:00:00+00:00  1027.347777  \n",
       "2020-01-01 03:00:00+00:00     0.000000  \n",
       "2020-01-01 04:00:00+00:00     0.000000  \n",
       "\n",
       "[5 rows x 48 columns]"
      ]
     },
     "execution_count": 207,
     "metadata": {},
     "output_type": "execute_result"
    }
   ],
   "source": [
    "# Features that will be extracted from the EM data and their shorter handle\n",
    "wx_params = {\n",
    "    \"temperature_air_mean_200\": \"temp\",\n",
    "    \"wind_speed\": \"wind\",\n",
    "    \"pressure_air_site\": \"press\",\n",
    "    # \"precipitation_height\": \"precip\",\n",
    "    \"sunshine_duration\": \"sun\"\n",
    "}\n",
    "\n",
    "# Concatenate all weather parameters into one data frame\n",
    "wx_dict = {}\n",
    "for name, handle in wx_params.items():\n",
    "    wx_dict[handle]=(pd.read_pickle(\"../data/weather/cleaned/\"+name+\".pkl\"))\n",
    "\n",
    "df = pd.concat(wx_dict.values(), axis=1, ignore_index=False, verify_integrity=True, keys=wx_dict.keys())\n",
    "df.head()"
   ]
  },
  {
   "cell_type": "code",
   "execution_count": 208,
   "metadata": {},
   "outputs": [
    {
     "data": {
      "text/plain": [
       "(4, 12)"
      ]
     },
     "execution_count": 208,
     "metadata": {},
     "output_type": "execute_result"
    }
   ],
   "source": [
    "df.columns.levshape"
   ]
  },
  {
   "cell_type": "code",
   "execution_count": 209,
   "metadata": {},
   "outputs": [],
   "source": [
    "column_indices = {name: i for i, name in enumerate(df.columns)}\n",
    "\n",
    "n = len(df)\n",
    "df_train = df[0:int(n*0.7)]\n",
    "df_val = df[int(n*0.7):int(n*0.9)]\n",
    "df_test = df[int(n*0.9):]\n"
   ]
  },
  {
   "cell_type": "code",
   "execution_count": 210,
   "metadata": {},
   "outputs": [
    {
     "data": {
      "image/png": "[encoded data removed]",
      "text/plain": [
       "<Figure size 864x432 with 1 Axes>"
      ]
     },
     "metadata": {
      "needs_background": "light"
     },
     "output_type": "display_data"
    }
   ],
   "source": [
    "from sklearn.preprocessing import RobustScaler, MinMaxScaler\n",
    "scaler = RobustScaler()\n",
    "\n",
    "scaler.fit(df_train)\n",
    "# scale all sets according to train set, preserve data frames\n",
    "df_train = pd.DataFrame(scaler.transform(df_train),\n",
    "                        columns=df.columns, index=df_train.index).clip(lower=-3)\n",
    "df_val = pd.DataFrame(scaler.transform(df_val),\n",
    "                        columns=df.columns, index=df_val.index)\n",
    "df_test = pd.DataFrame(scaler.transform(df_test),\n",
    "                        columns=df.columns, index=df_test.index)\n",
    "plt.figure(figsize=(12, 6))\n",
    "\n",
    "ax = sns.violinplot(x=\"Parameter\", y=\"Rescaled\", data=df_val.melt(var_name='Parameter', value_name='Rescaled'))\n",
    "# _ = ax.set_xticklabels(df.keys(), rotation=90)"
   ]
  },
  {
   "cell_type": "code",
   "execution_count": 212,
   "metadata": {},
   "outputs": [
    {
     "name": "stdout",
     "output_type": "stream",
     "text": [
      "(4, 12)\n",
      "(12280, 4, 12)\n",
      "(12280, 48)\n"
     ]
    }
   ],
   "source": [
    "X_train = df_train.to_numpy().reshape(-1, *df.columns.levshape)\n",
    "X_val = df_val.to_numpy().reshape(-1, *df.columns.levshape)\n",
    "X_test = df_test.to_numpy().reshape(-1, *df.columns.levshape)\n",
    "input_dim=X_train.shape[1:]\n",
    "\n",
    "# this fixes the latent space dimension, feel free to play around with\n",
    "# the values for your own experiments, but leave it at 2 for the assignment\n",
    "latent_dim = 10\n",
    "print(input_dim)\n",
    "print(X_train.shape)\n",
    "print(df_train.shape)"
   ]
  },
  {
   "cell_type": "code",
   "execution_count": 213,
   "metadata": {},
   "outputs": [
    {
     "name": "stdout",
     "output_type": "stream",
     "text": [
      "Model: \"sequential\"\n",
      "_________________________________________________________________\n",
      " Layer (type)                Output Shape              Param #   \n",
      "=================================================================\n",
      " dense (Dense)               (None, 4, 10)             130       \n",
      "                                                                 \n",
      " flatten (Flatten)           (None, 40)                0         \n",
      "                                                                 \n",
      " dense_1 (Dense)             (None, 48)                1968      \n",
      "                                                                 \n",
      " reshape (Reshape)           (None, 4, 12)             0         \n",
      "                                                                 \n",
      "=================================================================\n",
      "Total params: 2,098\n",
      "Trainable params: 2,098\n",
      "Non-trainable params: 0\n",
      "_________________________________________________________________\n"
     ]
    }
   ],
   "source": [
    "from tensorflow.keras.backend import clear_session\n",
    "\n",
    "clear_session()\n",
    "\n",
    "# this is very similar to what we've done before. First, instantiate a\n",
    "# \"Sequential()\" model in a variable called \"shallow_ae\". Then, add a\n",
    "# \"Dense()\" layer to shallow_ae with latent_dim neurons, an appropriate \"input_shape\"\n",
    "# and activation \"relu\". Afterwards, add another Dense layer with an appropriate\n",
    "# number of neurons to be able to construct an MNIST image and \"sigmoid\"\n",
    "# activation.\n",
    "# YOUR CODE HERE\n",
    "shallow_ae=Sequential()\n",
    "shallow_ae.add(Dense(latent_dim, input_shape=input_dim,  activation='tanh'))\n",
    "shallow_ae.add(layers.Flatten())\n",
    "shallow_ae.add(Dense(X_train.shape[1]*X_train.shape[2], activation='tanh'))\n",
    "shallow_ae.add(layers.Reshape(df.columns.levshape))\n",
    "\n",
    "shallow_ae.summary()\n",
    "\n",
    "# plot_model(shallow_ae)"
   ]
  },
  {
   "cell_type": "code",
   "execution_count": 214,
   "metadata": {},
   "outputs": [
    {
     "ename": "ValueError",
     "evalue": "Exception encountered when calling layer \"reshape\" (type Reshape).\n\ntotal size of new array must be unchanged, input_shape = [10], output_shape = [4, 12]\n\nCall arguments received:\n  • inputs=tf.Tensor(shape=(None, 10), dtype=float32)",
     "output_type": "error",
     "traceback": [
      "\u001b[1;31m---------------------------------------------------------------------------\u001b[0m",
      "\u001b[1;31mValueError\u001b[0m                                Traceback (most recent call last)",
      "\u001b[1;32mc:\\Users\\sengu\\Documents\\GitHub\\Electricity-Prediction\\src\\autoenc_weather.ipynb Zelle 9\u001b[0m in \u001b[0;36m<cell line: 11>\u001b[1;34m()\u001b[0m\n\u001b[0;32m      <a href='vscode-notebook-cell:/c%3A/Users/sengu/Documents/GitHub/Electricity-Prediction/src/autoenc_weather.ipynb#X63sZmlsZQ%3D%3D?line=8'>9</a>\u001b[0m \u001b[39m# make them addressable models\u001b[39;00m\n\u001b[0;32m     <a href='vscode-notebook-cell:/c%3A/Users/sengu/Documents/GitHub/Electricity-Prediction/src/autoenc_weather.ipynb#X63sZmlsZQ%3D%3D?line=9'>10</a>\u001b[0m shallow_encoder \u001b[39m=\u001b[39m Model(input_img, encoder_layer(input_img))\n\u001b[1;32m---> <a href='vscode-notebook-cell:/c%3A/Users/sengu/Documents/GitHub/Electricity-Prediction/src/autoenc_weather.ipynb#X63sZmlsZQ%3D%3D?line=10'>11</a>\u001b[0m shallow_decoder \u001b[39m=\u001b[39m Model(input_lat, decoder_layer(input_lat))\n\u001b[0;32m     <a href='vscode-notebook-cell:/c%3A/Users/sengu/Documents/GitHub/Electricity-Prediction/src/autoenc_weather.ipynb#X63sZmlsZQ%3D%3D?line=12'>13</a>\u001b[0m shallow_encoder\u001b[39m.\u001b[39msummary()\n\u001b[0;32m     <a href='vscode-notebook-cell:/c%3A/Users/sengu/Documents/GitHub/Electricity-Prediction/src/autoenc_weather.ipynb#X63sZmlsZQ%3D%3D?line=13'>14</a>\u001b[0m shallow_decoder\u001b[39m.\u001b[39msummary()\n",
      "File \u001b[1;32mc:\\Users\\sengu\\AppData\\Local\\Programs\\Python\\Python310\\lib\\site-packages\\keras\\utils\\traceback_utils.py:67\u001b[0m, in \u001b[0;36mfilter_traceback.<locals>.error_handler\u001b[1;34m(*args, **kwargs)\u001b[0m\n\u001b[0;32m     65\u001b[0m \u001b[39mexcept\u001b[39;00m \u001b[39mException\u001b[39;00m \u001b[39mas\u001b[39;00m e:  \u001b[39m# pylint: disable=broad-except\u001b[39;00m\n\u001b[0;32m     66\u001b[0m   filtered_tb \u001b[39m=\u001b[39m _process_traceback_frames(e\u001b[39m.\u001b[39m__traceback__)\n\u001b[1;32m---> 67\u001b[0m   \u001b[39mraise\u001b[39;00m e\u001b[39m.\u001b[39mwith_traceback(filtered_tb) \u001b[39mfrom\u001b[39;00m \u001b[39mNone\u001b[39m\n\u001b[0;32m     68\u001b[0m \u001b[39mfinally\u001b[39;00m:\n\u001b[0;32m     69\u001b[0m   \u001b[39mdel\u001b[39;00m filtered_tb\n",
      "File \u001b[1;32mc:\\Users\\sengu\\AppData\\Local\\Programs\\Python\\Python310\\lib\\site-packages\\keras\\layers\\core\\reshape.py:110\u001b[0m, in \u001b[0;36mReshape._fix_unknown_dimension\u001b[1;34m(self, input_shape, output_shape)\u001b[0m\n\u001b[0;32m    108\u001b[0m   output_shape[unknown] \u001b[39m=\u001b[39m original \u001b[39m/\u001b[39m\u001b[39m/\u001b[39m known\n\u001b[0;32m    109\u001b[0m \u001b[39melif\u001b[39;00m original \u001b[39m!=\u001b[39m known:\n\u001b[1;32m--> 110\u001b[0m   \u001b[39mraise\u001b[39;00m \u001b[39mValueError\u001b[39;00m(msg)\n\u001b[0;32m    111\u001b[0m \u001b[39mreturn\u001b[39;00m output_shape\n",
      "\u001b[1;31mValueError\u001b[0m: Exception encountered when calling layer \"reshape\" (type Reshape).\n\ntotal size of new array must be unchanged, input_shape = [10], output_shape = [4, 12]\n\nCall arguments received:\n  • inputs=tf.Tensor(shape=(None, 10), dtype=float32)"
     ]
    }
   ],
   "source": [
    "# create an input layer with the appropriate shape\n",
    "input_img = Input(shape=(*input_dim,))\n",
    "input_lat = Input(shape=(latent_dim,))\n",
    "\n",
    "# extract the first shallow_ae layer\n",
    "encoder_layer = shallow_ae.layers[0]\n",
    "decoder_layer = shallow_ae.layers[-1]\n",
    "\n",
    "# make them addressable models\n",
    "shallow_encoder = Model(input_img, encoder_layer(input_img))\n",
    "shallow_decoder = Model(input_lat, decoder_layer(input_lat))\n",
    "\n",
    "shallow_encoder.summary()\n",
    "shallow_decoder.summary()\n",
    "\n",
    "# #plot_model(shallow_encoder)\n",
    "# plot_model(shallow_decoder)"
   ]
  },
  {
   "cell_type": "code",
   "execution_count": 215,
   "metadata": {},
   "outputs": [
    {
     "name": "stdout",
     "output_type": "stream",
     "text": [
      "Epoch 1/15\n",
      "48/48 [==============================] - 1s 6ms/step - loss: 0.8391 - val_loss: 0.6443\n",
      "Epoch 2/15\n",
      "48/48 [==============================] - 0s 3ms/step - loss: 0.5598 - val_loss: 0.4691\n",
      "Epoch 3/15\n",
      "48/48 [==============================] - 0s 3ms/step - loss: 0.4364 - val_loss: 0.3985\n",
      "Epoch 4/15\n",
      "48/48 [==============================] - 0s 5ms/step - loss: 0.3870 - val_loss: 0.3701\n",
      "Epoch 5/15\n",
      "48/48 [==============================] - 0s 5ms/step - loss: 0.3638 - val_loss: 0.3538\n",
      "Epoch 6/15\n",
      "48/48 [==============================] - 0s 3ms/step - loss: 0.3481 - val_loss: 0.3408\n",
      "Epoch 7/15\n",
      "48/48 [==============================] - 0s 3ms/step - loss: 0.3350 - val_loss: 0.3291\n",
      "Epoch 8/15\n",
      "48/48 [==============================] - 0s 4ms/step - loss: 0.3234 - val_loss: 0.3188\n",
      "Epoch 9/15\n",
      "48/48 [==============================] - 0s 3ms/step - loss: 0.3132 - val_loss: 0.3094\n",
      "Epoch 10/15\n",
      "48/48 [==============================] - 0s 3ms/step - loss: 0.3041 - val_loss: 0.3009\n",
      "Epoch 11/15\n",
      "48/48 [==============================] - 0s 3ms/step - loss: 0.2958 - val_loss: 0.2932\n",
      "Epoch 12/15\n",
      "48/48 [==============================] - 0s 3ms/step - loss: 0.2884 - val_loss: 0.2861\n",
      "Epoch 13/15\n",
      "48/48 [==============================] - 0s 4ms/step - loss: 0.2815 - val_loss: 0.2795\n",
      "Epoch 14/15\n",
      "48/48 [==============================] - 0s 3ms/step - loss: 0.2753 - val_loss: 0.2734\n",
      "Epoch 15/15\n",
      "48/48 [==============================] - 0s 4ms/step - loss: 0.2695 - val_loss: 0.2680\n"
     ]
    }
   ],
   "source": [
    "shallow_ae.compile(optimizer=\"adam\", loss=\"mse\")\n",
    "history=shallow_ae.fit(X_train, X_train, epochs=15, batch_size=256, shuffle=True, validation_data=(X_val, X_val))"
   ]
  },
  {
   "cell_type": "code",
   "execution_count": 216,
   "metadata": {},
   "outputs": [
    {
     "data": {
      "image/png": "[encoded data removed]",
      "text/plain": [
       "<Figure size 1440x288 with 20 Axes>"
      ]
     },
     "metadata": {
      "needs_background": "light"
     },
     "output_type": "display_data"
    }
   ],
   "source": [
    "# encoded_imgs = shallow_encoder(df_test).numpy()\n",
    "# decoded_imgs = shallow_decoder(encoded_imgs).numpy()\n",
    "reconstructed_imgs = shallow_ae.predict(X_test).reshape(-1, *df.columns.levshape)\n",
    "n = 10\n",
    "offset=0\n",
    "plt.figure(figsize=(20, 4))\n",
    "\n",
    "for i in range(n):\n",
    "  # display original\n",
    "  ax = plt.subplot(2, n, i + 1)\n",
    "  plt.imshow(X_test[i+offset])\n",
    "  plt.title(\"original\")\n",
    "  plt.gray()\n",
    "  ax.get_xaxis().set_visible(False)\n",
    "  ax.get_yaxis().set_visible(False)\n",
    "\n",
    "  # display reconstruction\n",
    "  ax = plt.subplot(2, n, i + 1 + n)\n",
    "  plt.imshow(reconstructed_imgs[i+offset])\n",
    "  plt.title(\"reconstructed\")\n",
    "  plt.gray()\n",
    "  ax.get_xaxis().set_visible(False)\n",
    "  ax.get_yaxis().set_visible(False)\n",
    "plt.show()\n"
   ]
  },
  {
   "cell_type": "code",
   "execution_count": 221,
   "metadata": {},
   "outputs": [
    {
     "name": "stdout",
     "output_type": "stream",
     "text": [
      "You must install pydot (`pip install pydot`) and install graphviz (see instructions at https://graphviz.gitlab.io/download/) for plot_model/model_to_dot to work.\n"
     ]
    }
   ],
   "source": [
    "from tensorflow.keras.utils import plot_model\n",
    "plot_model(shallow_ae, to_file='../models/shallow_ae.png')\n"
   ]
  },
  {
   "cell_type": "code",
   "execution_count": 222,
   "metadata": {},
   "outputs": [
    {
     "name": "stdout",
     "output_type": "stream",
     "text": [
      "INFO:tensorflow:Assets written to: ../models/autoencoder\\assets\n"
     ]
    }
   ],
   "source": [
    "shallow_ae.save(\"../models/autoencoder\")"
   ]
  },
  {
   "cell_type": "code",
   "execution_count": 224,
   "metadata": {},
   "outputs": [],
   "source": [
    "loaded_model = tf.keras.models.load_model(\"../models/autoencoder\")"
   ]
  },
  {
   "cell_type": "code",
   "execution_count": 225,
   "metadata": {},
   "outputs": [
    {
     "data": {
      "image/png": "[encoded data removed]",
      "text/plain": [
       "<Figure size 1440x288 with 20 Axes>"
      ]
     },
     "metadata": {
      "needs_background": "light"
     },
     "output_type": "display_data"
    }
   ],
   "source": [
    "# encoded_imgs = shallow_encoder(df_test).numpy()\n",
    "# decoded_imgs = shallow_decoder(encoded_imgs).numpy()\n",
    "reconstructed_imgs = loaded_model.predict(X_test).reshape(-1, *df.columns.levshape)\n",
    "n = 10\n",
    "offset=0\n",
    "plt.figure(figsize=(20, 4))\n",
    "\n",
    "for i in range(n):\n",
    "  # display original\n",
    "  ax = plt.subplot(2, n, i + 1)\n",
    "  plt.imshow(X_test[i+offset])\n",
    "  plt.title(\"original\")\n",
    "  plt.gray()\n",
    "  ax.get_xaxis().set_visible(False)\n",
    "  ax.get_yaxis().set_visible(False)\n",
    "\n",
    "  # display reconstruction\n",
    "  ax = plt.subplot(2, n, i + 1 + n)\n",
    "  plt.imshow(reconstructed_imgs[i+offset])\n",
    "  plt.title(\"reconstructed\")\n",
    "  plt.gray()\n",
    "  ax.get_xaxis().set_visible(False)\n",
    "  ax.get_yaxis().set_visible(False)\n",
    "plt.show()"
   ]
  },
  {
   "cell_type": "markdown",
   "metadata": {},
   "source": [
    "### Approach from online tutorial:"
   ]
  },
  {
   "cell_type": "code",
   "execution_count": 114,
   "metadata": {},
   "outputs": [
    {
     "name": "stdout",
     "output_type": "stream",
     "text": [
      "(12280, 4, 12) (3509, 4, 12) (1755, 4, 12)\n"
     ]
    }
   ],
   "source": [
    "print(X_train.shape, X_val.shape, X_test.shape)"
   ]
  },
  {
   "cell_type": "code",
   "execution_count": 121,
   "metadata": {},
   "outputs": [],
   "source": [
    "latent_dim = 10\n",
    "\n",
    "class Autoencoder(Model):\n",
    "  def __init__(self, latent_dim):\n",
    "    super(Autoencoder, self).__init__()\n",
    "    self.latent_dim = latent_dim   \n",
    "    self.encoder = tf.keras.Sequential([\n",
    "      layers.Flatten(),\n",
    "      layers.Dense(latent_dim*2, activation='tanh'),\n",
    "      layers.Dense(latent_dim, activation='tanh'),\n",
    "    ])\n",
    "    self.decoder = tf.keras.Sequential([\n",
    "      layers.Dense(X_train.shape[1]*X_train.shape[2]/2, activation='tanh'),\n",
    "      layers.Dense(X_train.shape[1]*X_train.shape[2], activation='tanh'),\n",
    "      layers.Reshape((X_train.shape[1], X_train.shape[2]))\n",
    "    ])\n",
    "\n",
    "  def call(self, x):\n",
    "    encoded = self.encoder(x)\n",
    "    decoded = self.decoder(encoded)\n",
    "    return decoded\n"
   ]
  },
  {
   "cell_type": "code",
   "execution_count": 122,
   "metadata": {},
   "outputs": [
    {
     "name": "stdout",
     "output_type": "stream",
     "text": [
      "Model: \"autoencoder\"\n",
      "_________________________________________________________________\n",
      " Layer (type)                Output Shape              Param #   \n",
      "=================================================================\n",
      " sequential (Sequential)     (12280, 10)               1190      \n",
      "                                                                 \n",
      " sequential_1 (Sequential)   (12280, 4, 12)            1464      \n",
      "                                                                 \n",
      "=================================================================\n",
      "Total params: 2,654\n",
      "Trainable params: 2,654\n",
      "Non-trainable params: 0\n",
      "_________________________________________________________________\n"
     ]
    }
   ],
   "source": [
    "clear_session()\n",
    "optimizer = tf.keras.optimizers.Adam(learning_rate=0.01)\n",
    "autoencoder = Autoencoder(latent_dim)\n",
    "autoencoder.compile(optimizer=optimizer, loss=\"mae\")\n",
    "autoencoder.build(input_shape=X_train.shape)\n",
    "autoencoder.summary()"
   ]
  },
  {
   "cell_type": "code",
   "execution_count": 123,
   "metadata": {},
   "outputs": [
    {
     "name": "stdout",
     "output_type": "stream",
     "text": [
      "Epoch 1/20\n",
      "384/384 [==============================] - 1s 2ms/step - loss: 0.3593 - val_loss: 0.3207\n",
      "Epoch 2/20\n",
      "384/384 [==============================] - 1s 2ms/step - loss: 0.3124 - val_loss: 0.3065\n",
      "Epoch 3/20\n",
      "384/384 [==============================] - 1s 2ms/step - loss: 0.3065 - val_loss: 0.3067\n",
      "Epoch 4/20\n",
      "384/384 [==============================] - 1s 2ms/step - loss: 0.3031 - val_loss: 0.3132\n",
      "Epoch 5/20\n",
      "384/384 [==============================] - 1s 2ms/step - loss: 0.3020 - val_loss: 0.3041\n",
      "Epoch 6/20\n",
      "384/384 [==============================] - 1s 2ms/step - loss: 0.3012 - val_loss: 0.2927\n",
      "Epoch 7/20\n",
      "384/384 [==============================] - 1s 2ms/step - loss: 0.2990 - val_loss: 0.2973\n",
      "Epoch 8/20\n",
      "384/384 [==============================] - 1s 2ms/step - loss: 0.2963 - val_loss: 0.2958\n",
      "Epoch 9/20\n",
      "384/384 [==============================] - 1s 2ms/step - loss: 0.2946 - val_loss: 0.2894\n",
      "Epoch 10/20\n",
      "384/384 [==============================] - 1s 2ms/step - loss: 0.2922 - val_loss: 0.2877\n",
      "Epoch 11/20\n",
      "384/384 [==============================] - 1s 2ms/step - loss: 0.2916 - val_loss: 0.2874\n",
      "Epoch 12/20\n",
      "384/384 [==============================] - 1s 2ms/step - loss: 0.2898 - val_loss: 0.2872\n",
      "Epoch 13/20\n",
      "384/384 [==============================] - 1s 2ms/step - loss: 0.2895 - val_loss: 0.2869\n",
      "Epoch 14/20\n",
      "384/384 [==============================] - 1s 2ms/step - loss: 0.2891 - val_loss: 0.2877\n",
      "Epoch 15/20\n",
      "384/384 [==============================] - 1s 3ms/step - loss: 0.2896 - val_loss: 0.2896\n",
      "Epoch 16/20\n",
      "384/384 [==============================] - 1s 3ms/step - loss: 0.2884 - val_loss: 0.2880\n",
      "Epoch 17/20\n",
      "384/384 [==============================] - 1s 2ms/step - loss: 0.2877 - val_loss: 0.2846\n",
      "Epoch 18/20\n",
      "384/384 [==============================] - 1s 2ms/step - loss: 0.2871 - val_loss: 0.2853\n",
      "Epoch 19/20\n",
      "384/384 [==============================] - 1s 2ms/step - loss: 0.2875 - val_loss: 0.2836\n",
      "Epoch 20/20\n",
      "384/384 [==============================] - 1s 2ms/step - loss: 0.2871 - val_loss: 0.2941\n"
     ]
    },
    {
     "data": {
      "text/plain": [
       "<keras.callbacks.History at 0x14392b48ee0>"
      ]
     },
     "execution_count": 123,
     "metadata": {},
     "output_type": "execute_result"
    }
   ],
   "source": [
    "autoencoder.fit(X_train, X_train,\n",
    "                epochs=20,\n",
    "                shuffle=True,\n",
    "                validation_data=(X_val, X_val))"
   ]
  },
  {
   "cell_type": "code",
   "execution_count": 124,
   "metadata": {},
   "outputs": [
    {
     "data": {
      "image/png": "[encoded data removed]",
      "text/plain": [
       "<Figure size 1440x288 with 20 Axes>"
      ]
     },
     "metadata": {
      "needs_background": "light"
     },
     "output_type": "display_data"
    }
   ],
   "source": [
    "encoded_imgs = autoencoder.encoder(X_test).numpy()\n",
    "decoded_imgs = autoencoder.decoder(encoded_imgs).numpy()\n",
    "n = 10\n",
    "offset=0\n",
    "plt.figure(figsize=(20, 4))\n",
    "\n",
    "for i in range(n):\n",
    "  # display original\n",
    "  ax = plt.subplot(2, n, i + 1)\n",
    "  plt.imshow(X_test[i+offset])\n",
    "  plt.title(\"original\")\n",
    "  plt.gray()\n",
    "  ax.get_xaxis().set_visible(False)\n",
    "  ax.get_yaxis().set_visible(False)\n",
    "\n",
    "  # display reconstruction\n",
    "  ax = plt.subplot(2, n, i + 1 + n)\n",
    "  plt.imshow(decoded_imgs[i+offset])\n",
    "  plt.title(\"reconstructed\")\n",
    "  plt.gray()\n",
    "  ax.get_xaxis().set_visible(False)\n",
    "  ax.get_yaxis().set_visible(False)\n",
    "plt.show()\n"
   ]
  },
  {
   "cell_type": "code",
   "execution_count": null,
   "metadata": {},
   "outputs": [],
   "source": []
  }
 ],
 "metadata": {
  "kernelspec": {
   "display_name": "Python 3.10.3 64-bit",
   "language": "python",
   "name": "python3"
  },
  "language_info": {
   "codemirror_mode": {
    "name": "ipython",
    "version": 3
   },
   "file_extension": ".py",
   "mimetype": "text/x-python",
   "name": "python",
   "nbconvert_exporter": "python",
   "pygments_lexer": "ipython3",
   "version": "3.10.3"
  },
  "orig_nbformat": 4,
  "vscode": {
   "interpreter": {
    "hash": "cd88a92e2b28528af5397e2b70e177dd967cd9d93fde7cea7df37493d995dc93"
   }
  }
 },
 "nbformat": 4,
 "nbformat_minor": 2
}
